{
 "cells": [
  {
   "cell_type": "markdown",
   "id": "f788314a",
   "metadata": {},
   "source": [
    "# 1-To check whether a given string is a palindrome.\n",
    "\n"
   ]
  },
  {
   "cell_type": "code",
   "execution_count": 60,
   "id": "aa69cf2a",
   "metadata": {},
   "outputs": [
    {
     "name": "stdout",
     "output_type": "stream",
     "text": [
      "its not palindrome\n"
     ]
    }
   ],
   "source": [
    "a=\"malyalam\"\n",
    "x=a[0::]\n",
    "x=b[::-1]\n",
    "if a==b and b==a:\n",
    "    print(\"its palindrome\")\n",
    "else:\n",
    "    print(\"its not palindrome\")"
   ]
  },
  {
   "cell_type": "code",
   "execution_count": 9,
   "id": "2810b45b",
   "metadata": {},
   "outputs": [
    {
     "name": "stdout",
     "output_type": "stream",
     "text": [
      "Hello world\n"
     ]
    }
   ],
   "source": [
    "#  capitalize the first character in a given sentence.\n",
    "a=\"hello world\"\n",
    "x=a.capitalize()\n",
    "print(x)\n"
   ]
  },
  {
   "cell_type": "code",
   "execution_count": 13,
   "id": "58e39f89",
   "metadata": {},
   "outputs": [
    {
     "name": "stdout",
     "output_type": "stream",
     "text": [
      "['t', 'h', 'i', 's', ' ', 'i', 's', ' ', 'm', 'y', ' ', 'c', 'a', 'r']\n"
     ]
    }
   ],
   "source": [
    "#Program to convert String to a List.\n",
    "a=\"this is my car\"\n",
    "x=list(a)\n",
    "print(x)"
   ]
  },
  {
   "cell_type": "code",
   "execution_count": 30,
   "id": "784ed407",
   "metadata": {},
   "outputs": [
    {
     "name": "stdout",
     "output_type": "stream",
     "text": [
      "['a', 'b', 'f', 'h', 'h', 'j', 'm', 'm', 'n', 'u', 'v']\n"
     ]
    }
   ],
   "source": [
    "#To sort alphabetically the words in a given sentence.\n",
    "a=\"mumnabjhvfh\"\n",
    "x=sorted(a)\n",
    "print(x)"
   ]
  },
  {
   "cell_type": "code",
   "execution_count": 31,
   "id": "16f5744d",
   "metadata": {},
   "outputs": [
    {
     "name": "stdout",
     "output_type": "stream",
     "text": [
      "['hello', 'world']\n"
     ]
    }
   ],
   "source": [
    "# To demonstrate any 10 function(method) of string class.\n",
    "a=\"hello world\"\n",
    "x=a.split()\n",
    "print(x)"
   ]
  },
  {
   "cell_type": "code",
   "execution_count": 34,
   "id": "f366e5e5",
   "metadata": {},
   "outputs": [
    {
     "name": "stdout",
     "output_type": "stream",
     "text": [
      "HELLO WORLD\n"
     ]
    }
   ],
   "source": [
    "a=\"hello world\"\n",
    "x=a.upper()\n",
    "print(x)"
   ]
  },
  {
   "cell_type": "code",
   "execution_count": 35,
   "id": "3cf79680",
   "metadata": {},
   "outputs": [
    {
     "name": "stdout",
     "output_type": "stream",
     "text": [
      "hello world\n"
     ]
    }
   ],
   "source": [
    "a=\"hello world\"\n",
    "x=a.lower()\n",
    "print(x)"
   ]
  },
  {
   "cell_type": "code",
   "execution_count": 36,
   "id": "4e42615f",
   "metadata": {},
   "outputs": [
    {
     "name": "stdout",
     "output_type": "stream",
     "text": [
      "Hello World\n"
     ]
    }
   ],
   "source": [
    "a=\"hello world\"\n",
    "x=a.title()\n",
    "print(x)"
   ]
  },
  {
   "cell_type": "code",
   "execution_count": 41,
   "id": "e9be40af",
   "metadata": {},
   "outputs": [
    {
     "name": "stdout",
     "output_type": "stream",
     "text": [
      "my name is shahnawaz\n"
     ]
    }
   ],
   "source": [
    "a=\"shahnawaz\"\n",
    "x=a.strip()\n",
    "print(\"my name is\",x)"
   ]
  },
  {
   "cell_type": "code",
   "execution_count": 42,
   "id": "16d812d1",
   "metadata": {},
   "outputs": [
    {
     "name": "stdout",
     "output_type": "stream",
     "text": [
      "world\n"
     ]
    }
   ],
   "source": [
    "a='hello'\n",
    "x=a.replace(\"hello\",\"world\")\n",
    "print(x)"
   ]
  },
  {
   "cell_type": "code",
   "execution_count": 44,
   "id": "badcb0f1",
   "metadata": {},
   "outputs": [
    {
     "name": "stdout",
     "output_type": "stream",
     "text": [
      "    hello world     \n"
     ]
    }
   ],
   "source": [
    "a=\"hello world\"\n",
    "x=a.center(20)\n",
    "print(x)"
   ]
  },
  {
   "cell_type": "code",
   "execution_count": 49,
   "id": "af1480df",
   "metadata": {},
   "outputs": [
    {
     "name": "stdout",
     "output_type": "stream",
     "text": [
      "7\n"
     ]
    }
   ],
   "source": [
    "a=\"hello, world\"\n",
    "x=a.index(\"w\")\n",
    "print(x)"
   ]
  },
  {
   "cell_type": "code",
   "execution_count": 51,
   "id": "4b760e0b",
   "metadata": {},
   "outputs": [
    {
     "name": "stdout",
     "output_type": "stream",
     "text": [
      "llo\n"
     ]
    }
   ],
   "source": [
    "# to demonstrate string slice\n",
    "a=\"hello world\"\n",
    "print(a[2:5])"
   ]
  },
  {
   "cell_type": "code",
   "execution_count": 52,
   "id": "05980ae6",
   "metadata": {},
   "outputs": [
    {
     "name": "stdout",
     "output_type": "stream",
     "text": [
      "substring is present\n"
     ]
    }
   ],
   "source": [
    "# To check substring is Present in a Given String\n",
    "a=\"my name is ,'shahnawaz'quadri\"\n",
    "b= \"shahnawaz\"\n",
    "if b in a :\n",
    "    print(\"substring is present\")\n",
    "    "
   ]
  },
  {
   "cell_type": "code",
   "execution_count": 72,
   "id": "10c59795",
   "metadata": {},
   "outputs": [
    {
     "name": "stdout",
     "output_type": "stream",
     "text": [
      "its not a palindrome\n"
     ]
    }
   ],
   "source": [
    "a=\"malya\"\n",
    "x=a[-1::-1]  "
   ]
  },
  {
   "cell_type": "code",
   "execution_count": 3,
   "id": "63fe63d8",
   "metadata": {},
   "outputs": [
    {
     "name": "stdout",
     "output_type": "stream",
     "text": [
      "its palindrome\n"
     ]
    }
   ],
   "source": [
    "x= \"racecar\"\n",
    "a=x[-1::-1]\n",
    "if a==x and x==a:\n",
    "    print(\"its palindrome\")\n",
    "else:\n",
    "    print(\"its not palindrome\")"
   ]
  },
  {
   "cell_type": "code",
   "execution_count": 3,
   "id": "7298eb52",
   "metadata": {},
   "outputs": [
    {
     "name": "stdout",
     "output_type": "stream",
     "text": [
      "\n"
     ]
    }
   ],
   "source": [
    "x=\"malayalam\"\n",
    "b=x[2:1]\n",
    "print(b)"
   ]
  },
  {
   "cell_type": "code",
   "execution_count": 8,
   "id": "196af497",
   "metadata": {},
   "outputs": [
    {
     "name": "stdout",
     "output_type": "stream",
     "text": [
      "m\n"
     ]
    }
   ],
   "source": [
    "x=\"malayalam\"\n",
    "b=x[-1:]\n",
    "print(b)"
   ]
  },
  {
   "cell_type": "code",
   "execution_count": null,
   "id": "ec2ba69a",
   "metadata": {},
   "outputs": [],
   "source": []
  }
 ],
 "metadata": {
  "kernelspec": {
   "display_name": "Python 3 (ipykernel)",
   "language": "python",
   "name": "python3"
  },
  "language_info": {
   "codemirror_mode": {
    "name": "ipython",
    "version": 3
   },
   "file_extension": ".py",
   "mimetype": "text/x-python",
   "name": "python",
   "nbconvert_exporter": "python",
   "pygments_lexer": "ipython3",
   "version": "3.10.4"
  }
 },
 "nbformat": 4,
 "nbformat_minor": 5
}
