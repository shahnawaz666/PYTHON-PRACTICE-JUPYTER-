{
 "cells": [
  {
   "cell_type": "markdown",
   "id": "cab5abce",
   "metadata": {},
   "source": [
    "# To create a tuple having a number from 1-20. Print the half of its \n",
    "- value in 1 line and other half in next line .\n",
    "- b. To create a tuple consisting of 20 number from a user. Create \n",
    "- another tuple whose values are even number in the first tuple.\n",
    "- c. To concatenate two tuples .\n",
    "- d. To check whether a given element is present in tuple or not .\n",
    "- e. To use the following methods on a tuple in the program: \n",
    "- cmp(t1,t2)/t1==t2 ,len(t1) , zip(t1,t2) , max(t) , min(t) , tuple()"
   ]
  },
  {
   "cell_type": "code",
   "execution_count": 2,
   "id": "61cdbcaf",
   "metadata": {},
   "outputs": [
    {
     "name": "stdout",
     "output_type": "stream",
     "text": [
      "helloworld\n"
     ]
    }
   ],
   "source": [
    "# c. To concatenate two tuples . \n",
    "a=(\"hello\")\n",
    "b=(\"world\")\n",
    "c=a+b\n",
    "print(c)"
   ]
  },
  {
   "cell_type": "code",
   "execution_count": 4,
   "id": "8097ff85",
   "metadata": {},
   "outputs": [
    {
     "name": "stdout",
     "output_type": "stream",
     "text": [
      "yes, fruit is present in a\n"
     ]
    }
   ],
   "source": [
    "# d. To check whether a given element is present in tuple or not .\n",
    "a=(\"this fruit is very fresh\")\n",
    "if \"fruit\" in a:\n",
    "    print(\"yes, fruit is present in a\")"
   ]
  },
  {
   "cell_type": "code",
   "execution_count": 7,
   "id": "0decb199",
   "metadata": {},
   "outputs": [
    {
     "name": "stdout",
     "output_type": "stream",
     "text": [
      "(1, 2, 3, 4, 5, 6, 7, 8, 9, 10)\n",
      "(11, 12, 13, 14, 15, 16, 17, 18, 19, 20)\n"
     ]
    }
   ],
   "source": [
    "# value in 1 line and other half in next line .\n",
    "a=(1,2,3,4,5,6,7,8,9,10,11,12,13,14,15,16,17,18,19,20)\n",
    "a1=a[:10]\n",
    "a2=a[5:]\n",
    "print(a1)\n",
    "print(a2)"
   ]
  },
  {
   "cell_type": "markdown",
   "id": "ea45d536",
   "metadata": {},
   "source": [
    "# To create a tuple consisting of 20 number from a user. Create\n",
    "# another tuple whose values are even number in the first tuple.\n",
    "x = input('Enter the tuple : ')\n",
    "x = tuple(int(a) for a in x.split(\"10,20\"))\n",
    "print(x)\n"
   ]
  },
  {
   "cell_type": "code",
   "execution_count": 12,
   "id": "58f6aa78",
   "metadata": {},
   "outputs": [
    {
     "name": "stdout",
     "output_type": "stream",
     "text": [
      "enter the tuple:20\n",
      "(1,)\n"
     ]
    }
   ],
   "source": [
    "b=[]\n",
    "a=input(\"enter the tuple:\")\n",
    "a=tuple(int(x)for x in a.split(\"10,20\"))\n",
    "print(x)b"
   ]
  },
  {
   "cell_type": "code",
   "execution_count": 2,
   "id": "ceffe38e",
   "metadata": {},
   "outputs": [
    {
     "name": "stdout",
     "output_type": "stream",
     "text": [
      "1\n",
      "2\n",
      "3\n",
      "4\n",
      "5\n",
      "6\n",
      "7\n",
      "8\n",
      "9\n",
      "10\n",
      "[1, 2, 3, 4, 5, 6, 7, 8, 9, 10]\n",
      "(2, 4, 6, 8, 10)\n"
     ]
    }
   ],
   "source": [
    "\n",
    "a=[]\n",
    "for i in range(0,10):\n",
    "    user=int(input())\n",
    "    a.append(user)\n",
    "print(a)\n",
    "\n",
    "b=[]\n",
    "for j in a:\n",
    "    if j%2== 0:\n",
    "        b.append(j)\n",
    "print(tuple(b))\n",
    "       \n"
   ]
  },
  {
   "cell_type": "code",
   "execution_count": null,
   "id": "f7b3da64",
   "metadata": {},
   "outputs": [],
   "source": []
  },
  {
   "cell_type": "code",
   "execution_count": 7,
   "id": "429137ec",
   "metadata": {},
   "outputs": [
    {
     "ename": "NameError",
     "evalue": "name 'printcmp' is not defined",
     "output_type": "error",
     "traceback": [
      "\u001b[1;31m---------------------------------------------------------------------------\u001b[0m",
      "\u001b[1;31mNameError\u001b[0m                                 Traceback (most recent call last)",
      "Input \u001b[1;32mIn [7]\u001b[0m, in \u001b[0;36m<cell line: 3>\u001b[1;34m()\u001b[0m\n\u001b[0;32m      1\u001b[0m a\u001b[38;5;241m=\u001b[39m\u001b[38;5;241m2\u001b[39m\n\u001b[0;32m      2\u001b[0m b\u001b[38;5;241m=\u001b[39m\u001b[38;5;241m3\u001b[39m\n\u001b[1;32m----> 3\u001b[0m \u001b[43mprintcmp\u001b[49m(a,b\n\u001b[0;32m      4\u001b[0m     )\n",
      "\u001b[1;31mNameError\u001b[0m: name 'printcmp' is not defined"
     ]
    }
   ],
   "source": [
    "a=2\n",
    "b=3\n",
    "printcmp(a,b\n",
    "    )"
   ]
  },
  {
   "cell_type": "code",
   "execution_count": null,
   "id": "5f776643",
   "metadata": {},
   "outputs": [],
   "source": []
  }
 ],
 "metadata": {
  "kernelspec": {
   "display_name": "Python 3 (ipykernel)",
   "language": "python",
   "name": "python3"
  },
  "language_info": {
   "codemirror_mode": {
    "name": "ipython",
    "version": 3
   },
   "file_extension": ".py",
   "mimetype": "text/x-python",
   "name": "python",
   "nbconvert_exporter": "python",
   "pygments_lexer": "ipython3",
   "version": "3.10.4"
  }
 },
 "nbformat": 4,
 "nbformat_minor": 5
}
