{
 "cells": [
  {
   "cell_type": "code",
   "execution_count": 5,
   "id": "b7a9ad64",
   "metadata": {},
   "outputs": [
    {
     "name": "stdout",
     "output_type": "stream",
     "text": [
      "[1, 2, 3, 4, 5, 6, 10]\n",
      "6\n"
     ]
    }
   ],
   "source": [
    "q=[6,5,4,10,3,2,1]\n",
    "for i in range(len(q)):\n",
    "    for j in range(i+1,len(q)):\n",
    "        if q[i]>q[j]:\n",
    "            q[i],q[j]=q[j],q[i]\n",
    "            x=q[-2]\n",
    "print(q)\n",
    "print(x)"
   ]
  },
  {
   "cell_type": "code",
   "execution_count": 2,
   "id": "a0af7a8e",
   "metadata": {},
   "outputs": [
    {
     "name": "stdout",
     "output_type": "stream",
     "text": [
      "[4, 1, 2, 3, 6, 1]\n"
     ]
    }
   ],
   "source": [
    "c=[1,4,3,2,1,6]\n",
    "for i in range(0,len(c),2):\n",
    "    c[i],c[i+1]=c[i+1],c[i]\n",
    "print(c)"
   ]
  },
  {
   "cell_type": "code",
   "execution_count": 6,
   "id": "f15fea19",
   "metadata": {},
   "outputs": [
    {
     "ename": "AttributeError",
     "evalue": "'frozenset' object has no attribute 'remove'",
     "output_type": "error",
     "traceback": [
      "\u001b[1;31m---------------------------------------------------------------------------\u001b[0m",
      "\u001b[1;31mAttributeError\u001b[0m                            Traceback (most recent call last)",
      "Input \u001b[1;32mIn [6]\u001b[0m, in \u001b[0;36m<cell line: 2>\u001b[1;34m()\u001b[0m\n\u001b[0;32m      1\u001b[0m a\u001b[38;5;241m=\u001b[39m\u001b[38;5;28mfrozenset\u001b[39m({\u001b[38;5;241m1\u001b[39m,\u001b[38;5;241m2\u001b[39m,\u001b[38;5;241m3\u001b[39m,\u001b[38;5;241m4\u001b[39m,\u001b[38;5;241m5\u001b[39m})\n\u001b[1;32m----> 2\u001b[0m \u001b[43ma\u001b[49m\u001b[38;5;241;43m.\u001b[39;49m\u001b[43mremove\u001b[49m(\u001b[38;5;241m1\u001b[39m)\n\u001b[0;32m      3\u001b[0m \u001b[38;5;28mprint\u001b[39m(a)\n",
      "\u001b[1;31mAttributeError\u001b[0m: 'frozenset' object has no attribute 'remove'"
     ]
    }
   ],
   "source": [
    "a=frozenset({1,2,3,4,5})\n",
    "a.remove(1)\n",
    "print(a)"
   ]
  },
  {
   "cell_type": "code",
   "execution_count": 8,
   "id": "b6ac4f3c",
   "metadata": {},
   "outputs": [
    {
     "name": "stdout",
     "output_type": "stream",
     "text": [
      "{1, 2, 3}\n"
     ]
    }
   ],
   "source": [
    "b={1,2,3,4}\n",
    "b.remove(4)\n",
    "print(b)"
   ]
  },
  {
   "cell_type": "code",
   "execution_count": 25,
   "id": "c77d1a59",
   "metadata": {},
   "outputs": [
    {
     "name": "stdout",
     "output_type": "stream",
     "text": [
      "[1, 2, [7, 9], 5, 6, 1]\n",
      "[1, 2, [7, 9], 5, 6]\n"
     ]
    }
   ],
   "source": [
    "from copy import copy\n",
    "list=[1,2,[7,8],5,6]\n",
    "list2=copy(list)\n",
    "list2[2][1]=9\n",
    "list2.append(1)\n",
    "print(list2)\n",
    "print(list)"
   ]
  },
  {
   "cell_type": "code",
   "execution_count": 3,
   "id": "717b8752",
   "metadata": {},
   "outputs": [
    {
     "name": "stdout",
     "output_type": "stream",
     "text": [
      "[1, 2, [3, 8], 5, 6]\n",
      "[1, 2, [3, 4], 5]\n"
     ]
    }
   ],
   "source": [
    "from copy import deepcopy\n",
    "a=[1,2,[3,4],5]\n",
    "b=deepcopy(a)\n",
    "b.append(6)\n",
    "b[2][1]=8\n",
    "print(b)\n",
    "print(a)"
   ]
  },
  {
   "cell_type": "code",
   "execution_count": 2,
   "id": "1d417e81",
   "metadata": {},
   "outputs": [
    {
     "name": "stdout",
     "output_type": "stream",
     "text": [
      "1\n"
     ]
    }
   ],
   "source": [
    "a=[1,2,3,4]\n",
    "b=iter(a)\n",
    "print(next(b))"
   ]
  },
  {
   "cell_type": "code",
   "execution_count": 6,
   "id": "9625f8cb",
   "metadata": {},
   "outputs": [
    {
     "name": "stdout",
     "output_type": "stream",
     "text": [
      "0\n",
      "1\n",
      "8\n",
      "27\n",
      "64\n",
      "125\n"
     ]
    },
    {
     "ename": "StopIteration",
     "evalue": "",
     "output_type": "error",
     "traceback": [
      "\u001b[1;31m---------------------------------------------------------------------------\u001b[0m",
      "\u001b[1;31mStopIteration\u001b[0m                             Traceback (most recent call last)",
      "Input \u001b[1;32mIn [6]\u001b[0m, in \u001b[0;36m<cell line: 26>\u001b[1;34m()\u001b[0m\n\u001b[0;32m     24\u001b[0m \u001b[38;5;28mprint\u001b[39m(\u001b[38;5;28mnext\u001b[39m(a))\n\u001b[0;32m     25\u001b[0m \u001b[38;5;28mprint\u001b[39m(\u001b[38;5;28mnext\u001b[39m(a))\n\u001b[1;32m---> 26\u001b[0m \u001b[38;5;28mprint\u001b[39m(\u001b[38;5;28;43mnext\u001b[39;49m\u001b[43m(\u001b[49m\u001b[43ma\u001b[49m\u001b[43m)\u001b[49m)\n",
      "Input \u001b[1;32mIn [6]\u001b[0m, in \u001b[0;36mlst.__next__\u001b[1;34m(self)\u001b[0m\n\u001b[0;32m     14\u001b[0m     \u001b[38;5;28;01mreturn\u001b[39;00m result\n\u001b[0;32m     15\u001b[0m \u001b[38;5;28;01melse\u001b[39;00m:\n\u001b[1;32m---> 16\u001b[0m     \u001b[38;5;28;01mraise\u001b[39;00m \u001b[38;5;167;01mStopIteration\u001b[39;00m\n",
      "\u001b[1;31mStopIteration\u001b[0m: "
     ]
    }
   ],
   "source": [
    " class lst():\n",
    "        def __init__(self,max=0):\n",
    "            self.max=max\n",
    "            \n",
    "            \n",
    "        def __iter__(self):\n",
    "            self.n=0\n",
    "            return self\n",
    "        \n",
    "        def __next__(self):\n",
    "            if self.n <= self.max:\n",
    "                result=self.n**3\n",
    "                self.n+=1\n",
    "                return result\n",
    "            else:\n",
    "                raise StopIteration\n",
    "\n",
    "obj=lst(5)\n",
    "a=iter(obj)\n",
    "print(next(a))\n",
    "print(next(a))\n",
    "print(next(a))\n",
    "print(next(a))\n",
    "print(next(a))\n",
    "print(next(a))\n",
    "print(next(a))"
   ]
  },
  {
   "cell_type": "code",
   "execution_count": 22,
   "id": "8b8df4d0",
   "metadata": {},
   "outputs": [
    {
     "data": {
      "text/plain": [
       "1"
      ]
     },
     "execution_count": 22,
     "metadata": {},
     "output_type": "execute_result"
    }
   ],
   "source": [
    "2**0"
   ]
  },
  {
   "cell_type": "code",
   "execution_count": 4,
   "id": "18a3eaea",
   "metadata": {},
   "outputs": [
    {
     "data": {
      "text/plain": [
       "4"
      ]
     },
     "execution_count": 4,
     "metadata": {},
     "output_type": "execute_result"
    }
   ],
   "source": [
    "# how many times object and refrence variable will be there at end line 11\n",
    "class Table:\n",
    "    def __init__(self):\n",
    "        self.no_of_legs=4\n",
    "        self.glass_top=None\n",
    "        self.wooden_top=None\n",
    "dining_table=Table()\n",
    "back_table=Table()\n",
    "front_table=back_table\n",
    "back_table=dining_table\n",
    "dining_table=front_table\n",
    "front_table=back_table \n",
    "# dining_table.no_of_legs\n",
    "# back_table.no_of_legs\n",
    "front_table.no_of_legs"
   ]
  },
  {
   "cell_type": "code",
   "execution_count": 9,
   "id": "a22c4ee6",
   "metadata": {},
   "outputs": [
    {
     "name": "stdout",
     "output_type": "stream",
     "text": [
      "{'Talha': 78}\n"
     ]
    }
   ],
   "source": [
    "student = {\"Umar\":{\"score\": 67}, \"Talha\":{\"score\": 78}, \"Shadab\":{\"score\": 17}}\n",
    "b=0\n",
    "a=''\n",
    "for i in student:\n",
    "    score=student.get(i)['score']\n",
    "    if score>b:\n",
    "        b=score\n",
    "        a=i\n",
    "print({a:b})"
   ]
  },
  {
   "cell_type": "code",
   "execution_count": 11,
   "id": "de62fa23",
   "metadata": {},
   "outputs": [
    {
     "name": "stdout",
     "output_type": "stream",
     "text": [
      "['odd', 'even', 'odd', 'even', 'odd', 'even', 'odd']\n"
     ]
    }
   ],
   "source": [
    "a=[1,2,3,4,5,6,7]\n",
    "a=[(lambda i:\"even\" if i%2==0 else \"odd\") (i) for i in a]\n",
    "print(a)"
   ]
  },
  {
   "cell_type": "code",
   "execution_count": 25,
   "id": "db5e686e",
   "metadata": {},
   "outputs": [
    {
     "name": "stdout",
     "output_type": "stream",
     "text": [
      "[1, 8, 27, 64, 125, 216]\n",
      "<class 'list'>\n"
     ]
    }
   ],
   "source": [
    "b=[1,2,3,4,5,6]\n",
    "b=list(map(lambda x:x**3,b))\n",
    "print(b)\n",
    "print(type(b))"
   ]
  },
  {
   "cell_type": "code",
   "execution_count": 21,
   "id": "565a3ceb",
   "metadata": {},
   "outputs": [
    {
     "name": "stdout",
     "output_type": "stream",
     "text": [
      "8\n",
      "1\n",
      "27\n",
      "64\n",
      "125\n"
     ]
    }
   ],
   "source": [
    "b=[2,1,3,4,5]\n",
    "for i in b:\n",
    "    i=i**3\n",
    "    print(i)"
   ]
  },
  {
   "cell_type": "code",
   "execution_count": 18,
   "id": "260731e8",
   "metadata": {},
   "outputs": [
    {
     "name": "stdout",
     "output_type": "stream",
     "text": [
      "[(56, 'apple'), ('water', 'case'), (1, 'groot'), ('dell', 'ipad'), ('teams', 'ml'), ('zoo', 'peanuts')]\n"
     ]
    }
   ],
   "source": [
    "a= [(\"zoo\", \"peanuts\"),(1, 'groot'), (\"teams\",\"ml\"),('dell', 'ipad'), ('water', 'case'), (56,\"apple\")]\n",
    "a.sort(key=lambda x:x[1])\n",
    "print(a)"
   ]
  },
  {
   "cell_type": "code",
   "execution_count": 21,
   "id": "5792c616",
   "metadata": {},
   "outputs": [
    {
     "name": "stdout",
     "output_type": "stream",
     "text": [
      "1\n",
      "22\n",
      "22\n",
      "22\n",
      "445\n"
     ]
    }
   ],
   "source": [
    "# find thw highest without in built fucntions\n",
    "b=[1,22,3,4,445]\n",
    "c=0\n",
    "for i in b:\n",
    "    if i>c:\n",
    "        c=i\n",
    "    print(c)"
   ]
  },
  {
   "cell_type": "code",
   "execution_count": 20,
   "id": "6a188eb6",
   "metadata": {},
   "outputs": [
    {
     "name": "stdout",
     "output_type": "stream",
     "text": [
      "10\n",
      "3\n",
      "1\n",
      "1\n",
      "1\n"
     ]
    }
   ],
   "source": [
    "# find the lowest without inbuilt functions\n",
    "b=[10,3,1,4,445]\n",
    "c=b[0]\n",
    "for i in b:\n",
    "    if i<c:\n",
    "        c=i\n",
    "    print(c)"
   ]
  },
  {
   "cell_type": "code",
   "execution_count": 15,
   "id": "4db2df65",
   "metadata": {},
   "outputs": [
    {
     "name": "stdout",
     "output_type": "stream",
     "text": [
      "4444\n",
      "12\n"
     ]
    }
   ],
   "source": [
    "w=[12,33,4444]\n",
    "print(max(w))\n",
    "print(min(w))"
   ]
  },
  {
   "cell_type": "code",
   "execution_count": 18,
   "id": "c1bd11a4",
   "metadata": {},
   "outputs": [
    {
     "name": "stdout",
     "output_type": "stream",
     "text": [
      "5\n"
     ]
    }
   ],
   "source": [
    "a=[1,2,3,4,5]\n",
    "c=0\n",
    "for i in a:\n",
    "    if i==a:\n",
    "        c=i\n",
    "print(i)"
   ]
  },
  {
   "cell_type": "code",
   "execution_count": 29,
   "id": "4cf50f54",
   "metadata": {},
   "outputs": [
    {
     "name": "stdout",
     "output_type": "stream",
     "text": [
      "15\n"
     ]
    }
   ],
   "source": [
    "d=[1,2,3,4,5]\n",
    "# e=[]\n",
    "for i in range(1,5):\n",
    "    d[i]+=d[i-1]\n",
    "    x=d[-1]\n",
    "print(x)"
   ]
  },
  {
   "cell_type": "code",
   "execution_count": 39,
   "id": "2dfbd794",
   "metadata": {},
   "outputs": [
    {
     "name": "stdout",
     "output_type": "stream",
     "text": [
      "{2, 3, 4, 7}\n"
     ]
    }
   ],
   "source": [
    "a={1,2,3,4}\n",
    "a.pop()\n",
    "a.add(7)\n",
    "print(a)"
   ]
  },
  {
   "cell_type": "code",
   "execution_count": 52,
   "id": "c9d93961",
   "metadata": {},
   "outputs": [
    {
     "name": "stdout",
     "output_type": "stream",
     "text": [
      "[3, 23, 5]\n"
     ]
    }
   ],
   "source": [
    "b=[1,2,3,4]\n",
    "b.pop(1)\n",
    "b.remove(1)\n",
    "b.append(5)\n",
    "b[1]=23\n",
    "print(b)"
   ]
  },
  {
   "cell_type": "code",
   "execution_count": 50,
   "id": "dacc6d2d",
   "metadata": {},
   "outputs": [
    {
     "name": "stdout",
     "output_type": "stream",
     "text": [
      "2\n",
      "3\n"
     ]
    }
   ],
   "source": [
    "a=(1,\"2\",3,3)\n",
    "b=a.count(3)\n",
    "\n",
    "print(b)\n",
    "print(a[3])"
   ]
  },
  {
   "cell_type": "code",
   "execution_count": 61,
   "id": "246a3f35",
   "metadata": {},
   "outputs": [
    {
     "name": "stdout",
     "output_type": "stream",
     "text": [
      "[1, 2, 3, 4, 5, 6, 7, 8, 9]\n"
     ]
    }
   ],
   "source": [
    "a=[]\n",
    "for i in range(1,10):\n",
    "    a.append(i)\n",
    "print(a)"
   ]
  },
  {
   "cell_type": "markdown",
   "id": "7ff9e76f",
   "metadata": {},
   "source": [
    " "
   ]
  },
  {
   "cell_type": "code",
   "execution_count": null,
   "id": "59957c0b",
   "metadata": {},
   "outputs": [],
   "source": []
  },
  {
   "cell_type": "code",
   "execution_count": 64,
   "id": "16ffc838",
   "metadata": {},
   "outputs": [
    {
     "name": "stdout",
     "output_type": "stream",
     "text": [
      "[1, 3, 5]\n"
     ]
    }
   ],
   "source": [
    "a=[1,2,3,4,5,6]\n",
    "a=list(filter(lambda x:x%2==1,a))\n",
    "print(a)"
   ]
  },
  {
   "cell_type": "code",
   "execution_count": 30,
   "id": "2af821ab",
   "metadata": {},
   "outputs": [
    {
     "name": "stdout",
     "output_type": "stream",
     "text": [
      "['odd', 'even', 'odd', 'even', 'odd']\n"
     ]
    }
   ],
   "source": [
    "b=[1,2,3,4,5]\n",
    "b=list(map(lambda i:\"even\" if i%2==0 else \"odd\",b))\n",
    "print(b)"
   ]
  },
  {
   "cell_type": "code",
   "execution_count": 89,
   "id": "3c0c32eb",
   "metadata": {},
   "outputs": [
    {
     "name": "stdout",
     "output_type": "stream",
     "text": [
      "BBB\n"
     ]
    }
   ],
   "source": [
    "class Student:\n",
    "    def __init__(self):\n",
    "        self._b=\"BBB\"\n",
    "        \n",
    "class Person(Student):\n",
    "    def __init__(self,b):\n",
    "        self._b=b\n",
    "        Student.__init__(self)\n",
    "        \n",
    "obj=Student()\n",
    "a=obj._b\n",
    "print(a)"
   ]
  },
  {
   "cell_type": "code",
   "execution_count": 3,
   "id": "a7b3a365",
   "metadata": {},
   "outputs": [
    {
     "name": "stdout",
     "output_type": "stream",
     "text": [
      "AA jaguar\n"
     ]
    }
   ],
   "source": [
    "class Student:\n",
    "    def __init__(self,c,b):\n",
    "        self.y=c\n",
    "        self._b=b\n",
    "        \n",
    "    def show(self):\n",
    "        print(self.y,self._b)\n",
    "        \n",
    "        \n",
    "    def gett(self):\n",
    "        return self._b\n",
    "    \n",
    "    def sett(self,x):\n",
    "        self._b=x\n",
    "        \n",
    "        \n",
    "obj=Student(\"AA\",\"BMW\")\n",
    "# obj.show()\n",
    "obj.sett(\"jaguar\")\n",
    "# obj.show()\n",
    "obj.show()"
   ]
  },
  {
   "cell_type": "code",
   "execution_count": 3,
   "id": "2fa16b05",
   "metadata": {},
   "outputs": [
    {
     "name": "stdout",
     "output_type": "stream",
     "text": [
      "WORLD\n",
      "HELLO\n"
     ]
    }
   ],
   "source": [
    "# hybrid inheritance\n",
    "class A():\n",
    "    def show(self):\n",
    "        print(\"HELLO\")\n",
    "        \n",
    "class B(A):\n",
    "    def info(self):\n",
    "        print(\"WORLD\")\n",
    "        \n",
    "class C(B):\n",
    "    def sinfo(self):\n",
    "        print(\"MY NAME IS ADNAN\")\n",
    "          \n",
    "class D(C,B):\n",
    "    def met(self):\n",
    "        print(\"army spirit\")\n",
    "        \n",
    "obj=D()\n",
    "obj.info()\n",
    "obj.show()"
   ]
  },
  {
   "cell_type": "code",
   "execution_count": 13,
   "id": "72aa55c9",
   "metadata": {},
   "outputs": [
    {
     "name": "stdout",
     "output_type": "stream",
     "text": [
      "ZERO\n"
     ]
    }
   ],
   "source": [
    "# heirarchial inheritance\n",
    "class A():\n",
    "    def show(self):\n",
    "        print(\"ZERO\")\n",
    "        \n",
    "class B(A):\n",
    "    def info(self):\n",
    "        print(\"ONE\")\n",
    "        \n",
    "class C(A):\n",
    "    def sinfo(self):\n",
    "        print(\"TWO\")\n",
    "         \n",
    "class D(A):\n",
    "    def met(self):\n",
    "        print(\"THREE\")\n",
    "        \n",
    "obj=D()\n",
    "obj.show()"
   ]
  },
  {
   "cell_type": "code",
   "execution_count": 1,
   "id": "4469fbb1",
   "metadata": {},
   "outputs": [
    {
     "name": "stdout",
     "output_type": "stream",
     "text": [
      "classA\n"
     ]
    }
   ],
   "source": [
    "# multiple multiple parent one child\n",
    "class A():\n",
    "    def show(self):\n",
    "        print(\"classA\")\n",
    "        \n",
    "class B():\n",
    "    def info(self):\n",
    "        print(\"classB\")\n",
    "        \n",
    "class C(A,B):\n",
    "    def sinfo(self):\n",
    "        print(\"classC\")\n",
    "\n",
    "obj=C()\n",
    "obj.show()\n",
    "\n"
   ]
  },
  {
   "cell_type": "code",
   "execution_count": 14,
   "id": "bfb37e3c",
   "metadata": {},
   "outputs": [
    {
     "name": "stdout",
     "output_type": "stream",
     "text": [
      "[5, 3, 1]\n"
     ]
    }
   ],
   "source": [
    "a=[1,2,3,4,5]\n",
    "print(a[::-2])"
   ]
  },
  {
   "cell_type": "code",
   "execution_count": 27,
   "id": "e545ffbf",
   "metadata": {},
   "outputs": [
    {
     "name": "stdout",
     "output_type": "stream",
     "text": [
      "6\n",
      "<class 'int'>\n"
     ]
    }
   ],
   "source": [
    "import bisect\n",
    "b=[1,3,2,5,4,6]\n",
    "d=7\n",
    "c=bisect.bisect(b,d)\n",
    "print(c)\n",
    "print(type(c))"
   ]
  },
  {
   "cell_type": "code",
   "execution_count": 24,
   "id": "f2585d1c",
   "metadata": {},
   "outputs": [
    {
     "name": "stdout",
     "output_type": "stream",
     "text": [
      "False\n",
      "<class 'bool'>\n"
     ]
    }
   ],
   "source": [
    "x=bool()\n",
    "print(x)\n",
    "print(type(x))"
   ]
  },
  {
   "cell_type": "code",
   "execution_count": 44,
   "id": "91659c9a",
   "metadata": {},
   "outputs": [
    {
     "name": "stdout",
     "output_type": "stream",
     "text": [
      "b'\\x00\\x00'\n",
      "<class 'bytes'>\n"
     ]
    }
   ],
   "source": [
    "x=bytes(2)\n",
    "print(x)\n",
    "print(type(x))"
   ]
  },
  {
   "cell_type": "code",
   "execution_count": 22,
   "id": "bd93788e",
   "metadata": {},
   "outputs": [
    {
     "name": "stdout",
     "output_type": "stream",
     "text": [
      "bytearray(b'\\x00\\x00\\x00\\x00\\x00\\x00\\x00')\n",
      "<class 'bytearray'>\n"
     ]
    }
   ],
   "source": [
    "x=bytearray(7)\n",
    "print(x)\n",
    "print(type(x))"
   ]
  },
  {
   "cell_type": "code",
   "execution_count": 21,
   "id": "bf61b59c",
   "metadata": {},
   "outputs": [
    {
     "name": "stdout",
     "output_type": "stream",
     "text": [
      "<memory at 0x000002280A5D4C40>\n",
      "<class 'memoryview'>\n"
     ]
    }
   ],
   "source": [
    "y=memoryview(bytes(8))\n",
    "print(y)\n",
    "print(type(y))"
   ]
  },
  {
   "cell_type": "code",
   "execution_count": 43,
   "id": "209192f0",
   "metadata": {},
   "outputs": [
    {
     "name": "stdout",
     "output_type": "stream",
     "text": [
      "5\n"
     ]
    }
   ],
   "source": [
    "a=[\"1\",\"2\",\"3\",\"4\",\"5\"]\n",
    "for i in a:\n",
    "    pass\n",
    "print(i)"
   ]
  },
  {
   "cell_type": "code",
   "execution_count": 3,
   "id": "1488e574",
   "metadata": {},
   "outputs": [
    {
     "name": "stdout",
     "output_type": "stream",
     "text": [
      "[('roll over', 'kknkn', 'rrr')]\n"
     ]
    }
   ],
   "source": [
    "# append in a list by class and objects\n",
    "class Dog:\n",
    "\n",
    "    tricks = []             # mistaken use of a class variable\n",
    "\n",
    "    def __init__(self, name):\n",
    "        self.name = name\n",
    "\n",
    "    def add_trick(self, *trick):\n",
    "        self.tricks.append(trick)\n",
    "        \n",
    "\n",
    "d = Dog('Fido')\n",
    "# e = Dog('Buddy')\n",
    "d.add_trick('roll over','kknkn','rrr')\n",
    "# e.add_trick('play dead')\n",
    "# d.tricks\n",
    "print(Dog.tricks)\n",
    "# unexpectedly shared by all dogs"
   ]
  },
  {
   "cell_type": "code",
   "execution_count": 4,
   "id": "2bb6f4dd",
   "metadata": {},
   "outputs": [
    {
     "name": "stdout",
     "output_type": "stream",
     "text": [
      "range(0, 6)\n"
     ]
    }
   ],
   "source": [
    "x=range(6)\n",
    "print(x)"
   ]
  },
  {
   "cell_type": "code",
   "execution_count": 5,
   "id": "aaffeccc",
   "metadata": {},
   "outputs": [
    {
     "name": "stdout",
     "output_type": "stream",
     "text": [
      "helloworld\n"
     ]
    }
   ],
   "source": [
    "x=str(\"helloworld\")\n",
    "print(x)"
   ]
  },
  {
   "cell_type": "code",
   "execution_count": 9,
   "id": "1927197b",
   "metadata": {},
   "outputs": [
    {
     "name": "stdout",
     "output_type": "stream",
     "text": [
      "<class 'list'>\n"
     ]
    }
   ],
   "source": [
    "x=list(('hell','low'))\n",
    "print(type(x))"
   ]
  },
  {
   "cell_type": "code",
   "execution_count": 37,
   "id": "892284a2",
   "metadata": {},
   "outputs": [
    {
     "ename": "NameError",
     "evalue": "name 'parse' is not defined",
     "output_type": "error",
     "traceback": [
      "\u001b[1;31m---------------------------------------------------------------------------\u001b[0m",
      "\u001b[1;31mNameError\u001b[0m                                 Traceback (most recent call last)",
      "Input \u001b[1;32mIn [37]\u001b[0m, in \u001b[0;36m<cell line: 4>\u001b[1;34m()\u001b[0m\n\u001b[0;32m      2\u001b[0m a\u001b[38;5;241m=\u001b[39m{\u001b[38;5;124m\"\u001b[39m\u001b[38;5;124ma\u001b[39m\u001b[38;5;124m\"\u001b[39m:\u001b[38;5;124m\"\u001b[39m\u001b[38;5;124mb\u001b[39m\u001b[38;5;124m\"\u001b[39m,\u001b[38;5;124m\"\u001b[39m\u001b[38;5;124mb\u001b[39m\u001b[38;5;124m\"\u001b[39m:\u001b[38;5;124m\"\u001b[39m\u001b[38;5;124mc\u001b[39m\u001b[38;5;124m\"\u001b[39m}\n\u001b[0;32m      3\u001b[0m x\u001b[38;5;241m=\u001b[39mjson\u001b[38;5;241m.\u001b[39mdumps(a)\n\u001b[1;32m----> 4\u001b[0m y\u001b[38;5;241m=\u001b[39m\u001b[43mparse\u001b[49m(x)\n\u001b[0;32m      5\u001b[0m \u001b[38;5;28mprint\u001b[39m(y)\n",
      "\u001b[1;31mNameError\u001b[0m: name 'parse' is not defined"
     ]
    }
   ],
   "source": [
    "import json\n",
    "a={\"a\":\"b\",\"b\":\"c\"}\n",
    "x=json.dumps(a)\n",
    "y=parse(x)\n",
    "print(y)"
   ]
  },
  {
   "cell_type": "code",
   "execution_count": 30,
   "id": "e119360e",
   "metadata": {},
   "outputs": [
    {
     "name": "stdout",
     "output_type": "stream",
     "text": [
      "['a'] ['b']\n",
      "['b'] ['c']\n"
     ]
    }
   ],
   "source": [
    "a={'a': 'b', 'b': 'c'}\n",
    "for i,j in a.items():\n",
    "    print([i],[j])"
   ]
  },
  {
   "cell_type": "code",
   "execution_count": 42,
   "id": "3418970f",
   "metadata": {},
   "outputs": [
    {
     "name": "stdout",
     "output_type": "stream",
     "text": [
      "None\n"
     ]
    }
   ],
   "source": [
    "def func(a,b):\n",
    "    c=a+b\n",
    "a=func(5,5)\n",
    "print(a)"
   ]
  },
  {
   "cell_type": "code",
   "execution_count": 2,
   "id": "e1fc74d1",
   "metadata": {},
   "outputs": [
    {
     "name": "stdout",
     "output_type": "stream",
     "text": [
      "{False, 1, 2, 'adnan'}\n"
     ]
    }
   ],
   "source": [
    "a=[1,2,False,True,\"adnan\",0]\n",
    "b=set(a)\n",
    "print(b)"
   ]
  },
  {
   "cell_type": "code",
   "execution_count": 11,
   "id": "80529774",
   "metadata": {},
   "outputs": [
    {
     "name": "stdout",
     "output_type": "stream",
     "text": [
      "0.0\n",
      "jfnbkhvbkhvbh\n",
      "fdvdfvdff\n"
     ]
    }
   ],
   "source": [
    "a=5\n",
    "b=10\n",
    "try:\n",
    "    d=a/b\n",
    "    print(d)\n",
    "    \n",
    "except:\n",
    "    print('division by zero is not allowed')\n",
    "    \n",
    "else:\n",
    "    print('jfnbkhvbkhvbh')\n",
    "    \n",
    "finally:\n",
    "    print(\"fdvdfvdff\")"
   ]
  },
  {
   "cell_type": "code",
   "execution_count": 17,
   "id": "ad2b4a13",
   "metadata": {},
   "outputs": [
    {
     "name": "stdout",
     "output_type": "stream",
     "text": [
      "True\n"
     ]
    }
   ],
   "source": [
    "a=\"123efjcnfjk\"\n",
    "# c=a.isalnum()\n",
    "if a.isalnum():\n",
    "    print(\"True\")\n",
    "else:\n",
    "    print(\"False\")"
   ]
  },
  {
   "cell_type": "code",
   "execution_count": 1,
   "id": "ac697243",
   "metadata": {},
   "outputs": [
    {
     "name": "stdout",
     "output_type": "stream",
     "text": [
      "[4, 5, 3, 4]\n"
     ]
    }
   ],
   "source": [
    "a=[4,54,3,4,5,6,4,23]\n",
    "#output=[4,5,3,4]\n",
    "# print(a[0:7:2])\n",
    "print(a[-2::-2])"
   ]
  },
  {
   "cell_type": "code",
   "execution_count": 23,
   "id": "eb328f79",
   "metadata": {},
   "outputs": [
    {
     "name": "stdout",
     "output_type": "stream",
     "text": [
      "(0, 1, 2, 3, 4, 5, 6, 7, 8, 9, 10)\n"
     ]
    }
   ],
   "source": [
    "a=()\n",
    "b=list(a)\n",
    "for i in range(0,11):\n",
    "    b.append(i)\n",
    "print(tuple(b))"
   ]
  },
  {
   "cell_type": "code",
   "execution_count": 26,
   "id": "19aae634",
   "metadata": {},
   "outputs": [
    {
     "name": "stdout",
     "output_type": "stream",
     "text": [
      "5\n"
     ]
    }
   ],
   "source": [
    "a=[1,2,3,4,5]\n",
    "for i in a:\n",
    "    pass\n",
    "print(i)"
   ]
  },
  {
   "cell_type": "code",
   "execution_count": 48,
   "id": "d9d80eb4",
   "metadata": {},
   "outputs": [
    {
     "name": "stdout",
     "output_type": "stream",
     "text": [
      "0 1\n"
     ]
    }
   ],
   "source": [
    "#1. Two Sum\n",
    "nums = [2,7,11,15]\n",
    "target=9\n",
    "for i in range(len(nums)):\n",
    "    for j in range(i+1,len(nums)):\n",
    "        if nums[i]+nums[j]==target:\n",
    "            print(i,j)\n",
    "        "
   ]
  },
  {
   "cell_type": "code",
   "execution_count": 49,
   "id": "0edf974e",
   "metadata": {},
   "outputs": [],
   "source": [
    "# add two numbers node lin ked list\n",
    "l1 = [2,4,3]\n",
    "l2 = [5,6,4]\n"
   ]
  },
  {
   "cell_type": "code",
   "execution_count": 58,
   "id": "79c15413",
   "metadata": {},
   "outputs": [
    {
     "name": "stdout",
     "output_type": "stream",
     "text": [
      "true\n",
      "true\n",
      "true\n",
      "true\n",
      "true\n",
      "true\n",
      "true\n",
      "true\n"
     ]
    }
   ],
   "source": [
    "# 3. Longest Substring Without Repeating Characters\n",
    "s = \"abcabcbb\"\n",
    "b=set()\n",
    "for i in range(len(s)):\n",
    "    c=s[i]\n",
    "    if c in s:\n",
    "        print(\"true\")\n",
    "    else:\n",
    "        c.add(s)"
   ]
  },
  {
   "cell_type": "code",
   "execution_count": 61,
   "id": "63106e11",
   "metadata": {},
   "outputs": [
    {
     "name": "stdout",
     "output_type": "stream",
     "text": [
      "even\n",
      "even\n",
      "even\n",
      "odd\n"
     ]
    }
   ],
   "source": [
    "a=[11,22,33,445]\n",
    "for i in a:\n",
    "    if len(str(i))%2==0:\n",
    "        print(\"even\")\n",
    "    else:\n",
    "        print(\"odd\")"
   ]
  },
  {
   "cell_type": "code",
   "execution_count": 62,
   "id": "ab5081ed",
   "metadata": {},
   "outputs": [
    {
     "name": "stdout",
     "output_type": "stream",
     "text": [
      "1005\n"
     ]
    }
   ],
   "source": [
    "s = \"MV\"\n",
    "roman_to_int ={\n",
    "            'I': 1,\n",
    "            'V': 5,\n",
    "            'X': 10,\n",
    "            'L': 50,\n",
    "            'C': 100,\n",
    "            'D': 500,\n",
    "            'M': 1000,\n",
    "}\n",
    "print(sum(map(lambda x: roman_to_int[x],s)))"
   ]
  },
  {
   "cell_type": "code",
   "execution_count": 7,
   "id": "fa8a8657",
   "metadata": {},
   "outputs": [
    {
     "name": "stdout",
     "output_type": "stream",
     "text": [
      "[1, 4]\n"
     ]
    }
   ],
   "source": [
    "#find unique\n",
    "a=[1,2,2,3,4,3,5,5,6,6,6]\n",
    "b=[]\n",
    "for  i in a:\n",
    "    if a.count(i)==1:\n",
    "        b.append(i)\n",
    "print(b)"
   ]
  },
  {
   "cell_type": "code",
   "execution_count": 14,
   "id": "1db916a0",
   "metadata": {},
   "outputs": [
    {
     "name": "stdout",
     "output_type": "stream",
     "text": [
      "[7, 8, 14, 9, 15, 10]\n"
     ]
    }
   ],
   "source": [
    "b=[10,15,9,14,8,7]\n",
    "c=b[::-1]\n",
    "print(c)"
   ]
  },
  {
   "cell_type": "code",
   "execution_count": 20,
   "id": "4eb2ab75",
   "metadata": {},
   "outputs": [
    {
     "name": "stdout",
     "output_type": "stream",
     "text": [
      "[34, 7, 8, 14, 8, 15, 10, 13]\n"
     ]
    }
   ],
   "source": [
    "#reverse a list\n",
    "b=[13,10,15,8,14,8,7,34]\n",
    "c=[]\n",
    "for i in b:\n",
    "    c =[i]+c\n",
    "print(c)  "
   ]
  },
  {
   "cell_type": "code",
   "execution_count": null,
   "id": "fafac492",
   "metadata": {},
   "outputs": [],
   "source": [
    "n=int(input())\n",
    "for i in range(1,11):\n",
    "    print(n,\"x\",i,\"=\",i*n)"
   ]
  },
  {
   "cell_type": "code",
   "execution_count": 8,
   "id": "ab24ba8d",
   "metadata": {},
   "outputs": [
    {
     "name": "stdout",
     "output_type": "stream",
     "text": [
      "True\n",
      "True\n"
     ]
    }
   ],
   "source": [
    "a=1\n",
    "b=1\n",
    "print(a is b)\n",
    "print(a==b)"
   ]
  },
  {
   "cell_type": "code",
   "execution_count": 38,
   "id": "2c82279c",
   "metadata": {},
   "outputs": [
    {
     "name": "stdout",
     "output_type": "stream",
     "text": [
      "[{'a': 100}, {'a': 100}, {'a': 200}]\n",
      "[{'a': 100}, {'a': 100}, {'a': 200}]\n"
     ]
    }
   ],
   "source": [
    "b=[{\"a\":100},{\"a\":100},{\"a\":200}]\n",
    "print(b)\n",
    "b[1]={\"a\":100}\n",
    "print(b)"
   ]
  },
  {
   "cell_type": "code",
   "execution_count": 47,
   "id": "66b439d9",
   "metadata": {},
   "outputs": [
    {
     "name": "stdout",
     "output_type": "stream",
     "text": [
      "['a', 'b']\n"
     ]
    }
   ],
   "source": [
    "a={\"a\":100,\"b\":100,\"a\":200}\n",
    "print(list(a))"
   ]
  },
  {
   "cell_type": "code",
   "execution_count": 45,
   "id": "6d9c1cc0",
   "metadata": {},
   "outputs": [
    {
     "name": "stdout",
     "output_type": "stream",
     "text": [
      "{'a': 500, 'b': 200, 'c': 700}\n"
     ]
    }
   ],
   "source": [
    "a={\"a\":100,\"b\":200,\"c\":300}\n",
    "a.update({\"a\":500})\n",
    "a.update({\"c\":700})\n",
    "print(a)"
   ]
  },
  {
   "cell_type": "code",
   "execution_count": 80,
   "id": "680b9b67",
   "metadata": {},
   "outputs": [
    {
     "name": "stdout",
     "output_type": "stream",
     "text": [
      "4\n",
      "5\n",
      "9\n"
     ]
    }
   ],
   "source": [
    "#adding two objects\n",
    "class Student:\n",
    "    def __init__(self,a):\n",
    "        self.a=a\n",
    "        \n",
    "    def show(self):\n",
    "        print(self.a)\n",
    "        \n",
    "    def __add__(self,b):\n",
    "        return Student(self.a + b.a)\n",
    "        \n",
    "obj=Student(4)\n",
    "obj.show()\n",
    "\n",
    "obj2=Student(5)\n",
    "obj2.show()\n",
    "\n",
    "obj3=obj+obj2\n",
    "print(obj3.a)"
   ]
  },
  {
   "cell_type": "code",
   "execution_count": 37,
   "id": "17951e27",
   "metadata": {},
   "outputs": [
    {
     "name": "stdout",
     "output_type": "stream",
     "text": [
      "{'bmw': 3, 'volvo': 1, 'car': 1, 'gwagon': 1}\n"
     ]
    }
   ],
   "source": [
    "# duplicate values count in dictionary\n",
    "d=['bmw','bmw','volvo','bmw','car','gwagon']\n",
    "e={}\n",
    "for i in d:\n",
    "    if i not in e:\n",
    "        e.update({i:1})\n",
    "    else:\n",
    "        e.update({i:e[i]+1})\n",
    "print(e)"
   ]
  },
  {
   "cell_type": "code",
   "execution_count": null,
   "id": "320610e0",
   "metadata": {},
   "outputs": [],
   "source": [
    "# duplicate values count in dictionary\n",
    "d=['bmw','bmw','volvo','bmw','car','gwagon']\n"
   ]
  },
  {
   "cell_type": "code",
   "execution_count": 4,
   "id": "14ce5f9f",
   "metadata": {},
   "outputs": [
    {
     "name": "stdout",
     "output_type": "stream",
     "text": [
      "{'b': 2, 'c': 3, 'd': 5}\n"
     ]
    }
   ],
   "source": [
    "a={'b':2,'c':3,'d':4}\n",
    "# print(a)\n",
    "a['d']=5\n",
    "print(a)"
   ]
  },
  {
   "cell_type": "code",
   "execution_count": 24,
   "id": "9ab36c11",
   "metadata": {},
   "outputs": [
    {
     "name": "stdout",
     "output_type": "stream",
     "text": [
      "[1, 2, 3, {1, 2, 3, 5, 44}]\n",
      "[1, 2, 3, 1]\n"
     ]
    }
   ],
   "source": [
    "a=[1,2,3,{1,2,3,44,44,5}]\n",
    "print(a)\n",
    "a[3]=1\n",
    "print(a)"
   ]
  },
  {
   "cell_type": "code",
   "execution_count": 23,
   "id": "fde21e88",
   "metadata": {},
   "outputs": [
    {
     "name": "stdout",
     "output_type": "stream",
     "text": [
      "[1, 4, 3, 2, 5]\n"
     ]
    }
   ],
   "source": [
    "d=[1,2,3,4,5]\n",
    "for i in range(len(d)):\n",
    "    d[1],d[-2]=d[-2],d[1]\n",
    "print(d)"
   ]
  },
  {
   "cell_type": "code",
   "execution_count": 8,
   "id": "043a5841",
   "metadata": {},
   "outputs": [
    {
     "name": "stdout",
     "output_type": "stream",
     "text": [
      "[('a', 3), ('b', 4), ('c', 5)]\n"
     ]
    }
   ],
   "source": [
    "a={'a':3,'b':4,'c':5}\n",
    "print(list(a.items())) "
   ]
  },
  {
   "cell_type": "code",
   "execution_count": 11,
   "id": "0a541f01",
   "metadata": {},
   "outputs": [
    {
     "name": "stdout",
     "output_type": "stream",
     "text": [
      "[('a', [3, 4]), ('b', [4, 5]), ('c', [5, 6])]\n"
     ]
    }
   ],
   "source": [
    "a={'a':[3,4],'b':[4,5],'c':[5,6]}\n",
    "print(list(a.items()))"
   ]
  },
  {
   "cell_type": "code",
   "execution_count": 38,
   "id": "00799fcb",
   "metadata": {},
   "outputs": [
    {
     "ename": "TypeError",
     "evalue": "unhashable type: 'set'",
     "output_type": "error",
     "traceback": [
      "\u001b[1;31m---------------------------------------------------------------------------\u001b[0m",
      "\u001b[1;31mTypeError\u001b[0m                                 Traceback (most recent call last)",
      "Input \u001b[1;32mIn [38]\u001b[0m, in \u001b[0;36m<cell line: 1>\u001b[1;34m()\u001b[0m\n\u001b[1;32m----> 1\u001b[0m a\u001b[38;5;241m=\u001b[39m{{\u001b[38;5;241m1\u001b[39m}:[\u001b[38;5;241m3\u001b[39m,\u001b[38;5;241m4\u001b[39m],{\u001b[38;5;241m2\u001b[39m}:[\u001b[38;5;241m4\u001b[39m,\u001b[38;5;241m5\u001b[39m],{\u001b[38;5;241m3\u001b[39m}:[\u001b[38;5;241m5\u001b[39m,\u001b[38;5;241m6\u001b[39m]}\n\u001b[0;32m      2\u001b[0m \u001b[38;5;28mprint\u001b[39m(a)\n",
      "\u001b[1;31mTypeError\u001b[0m: unhashable type: 'set'"
     ]
    }
   ],
   "source": [
    "a={{1}:[3,4],{2}:[4,5],{3}:[5,6]}\n",
    "print(a)"
   ]
  },
  {
   "cell_type": "code",
   "execution_count": 57,
   "id": "ac4a3958",
   "metadata": {},
   "outputs": [
    {
     "name": "stdout",
     "output_type": "stream",
     "text": [
      "{1, 2}\n"
     ]
    }
   ],
   "source": [
    "a={1,2,3,4,5}\n",
    "b={3,4,5}\n",
    "print(a-b)"
   ]
  },
  {
   "cell_type": "code",
   "execution_count": 43,
   "id": "d1ec9bd9",
   "metadata": {},
   "outputs": [
    {
     "name": "stdout",
     "output_type": "stream",
     "text": [
      "[9, 7, 5, 3, 1]\n"
     ]
    }
   ],
   "source": [
    "l=[0,1,2,3,4,5,6,7,8,9]\n",
    "print(l[::-2])"
   ]
  },
  {
   "cell_type": "code",
   "execution_count": 46,
   "id": "d673a71b",
   "metadata": {},
   "outputs": [
    {
     "name": "stdout",
     "output_type": "stream",
     "text": [
      "333333\n"
     ]
    }
   ],
   "source": [
    "x=\"33\"\n",
    "print(x*3)"
   ]
  },
  {
   "cell_type": "code",
   "execution_count": 24,
   "id": "449117c2",
   "metadata": {},
   "outputs": [],
   "source": [
    "# input:aaaabbbccd\n",
    "# output:4a3b2c1d\n"
   ]
  },
  {
   "cell_type": "code",
   "execution_count": 19,
   "id": "aae32dbc",
   "metadata": {},
   "outputs": [
    {
     "ename": "TypeError",
     "evalue": "expected string or bytes-like object",
     "output_type": "error",
     "traceback": [
      "\u001b[1;31m---------------------------------------------------------------------------\u001b[0m",
      "\u001b[1;31mTypeError\u001b[0m                                 Traceback (most recent call last)",
      "Input \u001b[1;32mIn [19]\u001b[0m, in \u001b[0;36m<cell line: 3>\u001b[1;34m()\u001b[0m\n\u001b[0;32m      1\u001b[0m \u001b[38;5;28;01mimport\u001b[39;00m \u001b[38;5;21;01mre\u001b[39;00m\n\u001b[0;32m      2\u001b[0m a\u001b[38;5;241m=\u001b[39m[\u001b[38;5;124m'\u001b[39m\u001b[38;5;124mhis name is adnan\u001b[39m\u001b[38;5;124m'\u001b[39m]\n\u001b[1;32m----> 3\u001b[0m x\u001b[38;5;241m=\u001b[39m\u001b[43mre\u001b[49m\u001b[38;5;241;43m.\u001b[39;49m\u001b[43msearch\u001b[49m\u001b[43m(\u001b[49m\u001b[38;5;124;43m\"\u001b[39;49m\u001b[38;5;130;43;01m\\a\u001b[39;49;00m\u001b[38;5;124;43mdnan\u001b[39;49m\u001b[38;5;124;43m\"\u001b[39;49m\u001b[43m,\u001b[49m\u001b[43ma\u001b[49m\u001b[43m)\u001b[49m\n\u001b[0;32m      4\u001b[0m \u001b[38;5;28;01mif\u001b[39;00m x:\n\u001b[0;32m      5\u001b[0m     \u001b[38;5;28mprint\u001b[39m(\u001b[38;5;124m'\u001b[39m\u001b[38;5;124myes\u001b[39m\u001b[38;5;124m'\u001b[39m)\n",
      "File \u001b[1;32m~\\AppData\\Local\\Programs\\Python\\Python310\\lib\\re.py:200\u001b[0m, in \u001b[0;36msearch\u001b[1;34m(pattern, string, flags)\u001b[0m\n\u001b[0;32m    197\u001b[0m \u001b[38;5;28;01mdef\u001b[39;00m \u001b[38;5;21msearch\u001b[39m(pattern, string, flags\u001b[38;5;241m=\u001b[39m\u001b[38;5;241m0\u001b[39m):\n\u001b[0;32m    198\u001b[0m     \u001b[38;5;124;03m\"\"\"Scan through string looking for a match to the pattern, returning\u001b[39;00m\n\u001b[0;32m    199\u001b[0m \u001b[38;5;124;03m    a Match object, or None if no match was found.\"\"\"\u001b[39;00m\n\u001b[1;32m--> 200\u001b[0m     \u001b[38;5;28;01mreturn\u001b[39;00m \u001b[43m_compile\u001b[49m\u001b[43m(\u001b[49m\u001b[43mpattern\u001b[49m\u001b[43m,\u001b[49m\u001b[43m \u001b[49m\u001b[43mflags\u001b[49m\u001b[43m)\u001b[49m\u001b[38;5;241;43m.\u001b[39;49m\u001b[43msearch\u001b[49m\u001b[43m(\u001b[49m\u001b[43mstring\u001b[49m\u001b[43m)\u001b[49m\n",
      "\u001b[1;31mTypeError\u001b[0m: expected string or bytes-like object"
     ]
    }
   ],
   "source": [
    "import re\n",
    "a=['his name is adnan']\n",
    "x=re.search(\"\\adnan\",a)\n",
    "if x:\n",
    "    print('yes')\n",
    "else:\n",
    "    print('no')"
   ]
  },
  {
   "cell_type": "code",
   "execution_count": 31,
   "id": "d1e8334c",
   "metadata": {},
   "outputs": [
    {
     "name": "stdout",
     "output_type": "stream",
     "text": [
      "['re', 're', 're', 're', 're', 're', 're', 're', 're', 're', 're', 're', 're', 're', 're']\n"
     ]
    }
   ],
   "source": [
    "import re\n",
    "a='This is the front page of the Simple English Wikipedia. Wikipedias are places where people work together to write encyclopedias in different languages. We use Simple English words and grammar here. The Simple English Wikipedia is for everyone! That includes children and adults who are learning English. There are 220,968 articles on the Simple English Wikipedia. All of the pages are free to use. They have all been published under both the Creative Commons Attribution/Share-Alike License 3.0 and the GNU Free Documentation License. You can help here! You may change these pages and make new pages. Read the help pages and other good pages to learn how to write pages here. If you need help, you may ask questions at Simple talk.'\n",
    "x=re.findall('hf|re',a)\n",
    "print(x)"
   ]
  },
  {
   "cell_type": "code",
   "execution_count": 33,
   "id": "8fce1757",
   "metadata": {},
   "outputs": [
    {
     "name": "stdout",
     "output_type": "stream",
     "text": [
      "rrr\n",
      "aaa\n"
     ]
    }
   ],
   "source": [
    "# overriding\n",
    "class Student:\n",
    "    def show(self):\n",
    "        print(\"rrr\")\n",
    "        \n",
    "class Print(Student):\n",
    "    def show(self):\n",
    "        b=super().show()\n",
    "        print(\"aaa\")\n",
    "\n",
    "obj=Print()\n",
    "obj.show()"
   ]
  },
  {
   "cell_type": "code",
   "execution_count": null,
   "id": "55919fec",
   "metadata": {},
   "outputs": [],
   "source": []
  },
  {
   "cell_type": "code",
   "execution_count": 62,
   "id": "d75bdfdf",
   "metadata": {},
   "outputs": [
    {
     "name": "stdout",
     "output_type": "stream",
     "text": [
      "10\n"
     ]
    }
   ],
   "source": [
    "# overloading\n",
    "def myfunc(a,b):\n",
    "    c=a+b\n",
    "    print(c)\n",
    "def myfunc(a,b,c):\n",
    "    c=a-b+c\n",
    "    print(c)\n",
    "myfunc(10,5,5)"
   ]
  },
  {
   "cell_type": "code",
   "execution_count": 48,
   "id": "2a916092",
   "metadata": {},
   "outputs": [
    {
     "name": "stdout",
     "output_type": "stream",
     "text": [
      "333\n"
     ]
    }
   ],
   "source": [
    "a=\"33\"\n",
    "b=\"3\"\n",
    "print(a+b)"
   ]
  },
  {
   "cell_type": "code",
   "execution_count": 50,
   "id": "5a1c4ad6",
   "metadata": {},
   "outputs": [
    {
     "name": "stdout",
     "output_type": "stream",
     "text": [
      "[33, 3]\n"
     ]
    }
   ],
   "source": [
    "a=[33]\n",
    "b=[3]\n",
    "print(a+b)"
   ]
  },
  {
   "cell_type": "code",
   "execution_count": 64,
   "id": "2013c10d",
   "metadata": {},
   "outputs": [
    {
     "name": "stdout",
     "output_type": "stream",
     "text": [
      "{33}\n",
      "{33, 3}\n"
     ]
    }
   ],
   "source": [
    "a={33}\n",
    "b={3}\n",
    "b.update(a)\n",
    "print(a)\n",
    "print(b)"
   ]
  },
  {
   "cell_type": "code",
   "execution_count": 69,
   "id": "c37b2a1c",
   "metadata": {},
   "outputs": [
    {
     "name": "stdout",
     "output_type": "stream",
     "text": [
      "{1: 'a', 2: 'b'}\n"
     ]
    }
   ],
   "source": [
    "a={1:'a'}\n",
    "b={2:'b'}\n",
    "a.update(b)\n",
    "print(a)"
   ]
  },
  {
   "cell_type": "code",
   "execution_count": 9,
   "id": "90489639",
   "metadata": {},
   "outputs": [
    {
     "name": "stdout",
     "output_type": "stream",
     "text": [
      "40\n"
     ]
    }
   ],
   "source": [
    "x=50\n",
    "y=40\n",
    "print(x and y)"
   ]
  },
  {
   "cell_type": "code",
   "execution_count": 7,
   "id": "911f75cf",
   "metadata": {},
   "outputs": [
    {
     "name": "stdout",
     "output_type": "stream",
     "text": [
      "[9.0]\n"
     ]
    }
   ],
   "source": [
    "a=[36/4]\n",
    "print(a)"
   ]
  },
  {
   "cell_type": "code",
   "execution_count": null,
   "id": "6638b669",
   "metadata": {},
   "outputs": [],
   "source": []
  }
 ],
 "metadata": {
  "kernelspec": {
   "display_name": "Python 3 (ipykernel)",
   "language": "python",
   "name": "python3"
  },
  "language_info": {
   "codemirror_mode": {
    "name": "ipython",
    "version": 3
   },
   "file_extension": ".py",
   "mimetype": "text/x-python",
   "name": "python",
   "nbconvert_exporter": "python",
   "pygments_lexer": "ipython3",
   "version": "3.10.4"
  }
 },
 "nbformat": 4,
 "nbformat_minor": 5
}
