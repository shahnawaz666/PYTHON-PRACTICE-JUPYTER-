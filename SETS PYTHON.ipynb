{
 "cells": [
  {
   "cell_type": "markdown",
   "id": "570ccfe5",
   "metadata": {},
   "source": [
    "# Set\n",
    "- Sets are used to store multiple items in a single variable.\n",
    "\n",
    "- Set is one of 4 built-in data types in Python used to store collections of data, the other 3 are List, Tuple, and Dictionary, all with different qualities and usage.\n",
    "\n",
    "- A set is a collection which is unordered, unchangeable*, and unindexed."
   ]
  },
  {
   "cell_type": "code",
   "execution_count": 3,
   "id": "10da4145",
   "metadata": {},
   "outputs": [
    {
     "name": "stdout",
     "output_type": "stream",
     "text": [
      "{'cherry', 'apple', 'banana'}\n"
     ]
    }
   ],
   "source": [
    "a={\"apple\",\"banana\",\"cherry\"}\n",
    "print(a)"
   ]
  },
  {
   "cell_type": "markdown",
   "id": "4040a346",
   "metadata": {},
   "source": [
    "# duplicates are not allowed\n"
   ]
  },
  {
   "cell_type": "code",
   "execution_count": 4,
   "id": "1ba3e1fb",
   "metadata": {},
   "outputs": [
    {
     "name": "stdout",
     "output_type": "stream",
     "text": [
      "{'cherry', 'apple', 'pineapple'}\n"
     ]
    }
   ],
   "source": [
    "b ={\"apple\",\"cherry\",\"pineapple\",\"apple\"}\n",
    "print(b)"
   ]
  },
  {
   "cell_type": "markdown",
   "id": "e5caa63d",
   "metadata": {},
   "source": [
    "# length of a set"
   ]
  },
  {
   "cell_type": "code",
   "execution_count": 5,
   "id": "2cff0e89",
   "metadata": {},
   "outputs": [
    {
     "name": "stdout",
     "output_type": "stream",
     "text": [
      "3\n"
     ]
    }
   ],
   "source": [
    "c={\"cherry\",\"apple\",\"banana\",\"cherry\"}\n",
    "print(len(c))"
   ]
  },
  {
   "cell_type": "markdown",
   "id": "8370990f",
   "metadata": {},
   "source": [
    "# Set Items - Data Types\n",
    "- Set items can be of any data type:"
   ]
  },
  {
   "cell_type": "code",
   "execution_count": 6,
   "id": "cac00edb",
   "metadata": {},
   "outputs": [
    {
     "name": "stdout",
     "output_type": "stream",
     "text": [
      "{'cherry', 'apple', 'fig'}\n",
      "{1, 3, 5, 6, 8}\n",
      "{False, True}\n"
     ]
    }
   ],
   "source": [
    "a={\"apple\",\"cherry\",\"fig\"}\n",
    "b={1,3,5,6,8,8}\n",
    "c={True,True,False}\n",
    "print(a)\n",
    "print(b)\n",
    "print(c)"
   ]
  },
  {
   "cell_type": "markdown",
   "id": "450cf503",
   "metadata": {},
   "source": [
    "# A set can contain different data types:"
   ]
  },
  {
   "cell_type": "code",
   "execution_count": 7,
   "id": "60b515d6",
   "metadata": {},
   "outputs": [
    {
     "name": "stdout",
     "output_type": "stream",
     "text": [
      "{True, 40, 345, 'abc', 'kiwi'}\n"
     ]
    }
   ],
   "source": [
    "set={\"abc\", 345, True ,40,\"kiwi\" }\n",
    "print(set)"
   ]
  },
  {
   "cell_type": "code",
   "execution_count": 9,
   "id": "6723177f",
   "metadata": {},
   "outputs": [
    {
     "name": "stdout",
     "output_type": "stream",
     "text": [
      "<class 'set'>\n",
      "<class 'set'>\n"
     ]
    }
   ],
   "source": [
    "a={'cheery'}\n",
    "b={1,2,3,4}\n",
    "print(type(a))\n",
    "print(type(b))"
   ]
  },
  {
   "cell_type": "markdown",
   "id": "aa6e27fc",
   "metadata": {},
   "source": [
    "# The set() Constructor\n",
    "- It is also possible to use the set() constructor to make a set.\n",
    "\n"
   ]
  },
  {
   "cell_type": "code",
   "execution_count": 3,
   "id": "24f430e3",
   "metadata": {},
   "outputs": [
    {
     "ename": "TypeError",
     "evalue": "set expected at most 1 argument, got 3",
     "output_type": "error",
     "traceback": [
      "\u001b[1;31m---------------------------------------------------------------------------\u001b[0m",
      "\u001b[1;31mTypeError\u001b[0m                                 Traceback (most recent call last)",
      "Input \u001b[1;32mIn [3]\u001b[0m, in \u001b[0;36m<cell line: 1>\u001b[1;34m()\u001b[0m\n\u001b[1;32m----> 1\u001b[0m thisset \u001b[38;5;241m=\u001b[39m \u001b[38;5;28;43mset\u001b[39;49m\u001b[43m(\u001b[49m\u001b[38;5;124;43m\"\u001b[39;49m\u001b[38;5;124;43mcherry\u001b[39;49m\u001b[38;5;124;43m\"\u001b[39;49m\u001b[43m,\u001b[49m\u001b[38;5;124;43m\"\u001b[39;49m\u001b[38;5;124;43mfig\u001b[39;49m\u001b[38;5;124;43m\"\u001b[39;49m\u001b[43m,\u001b[49m\u001b[38;5;124;43m\"\u001b[39;49m\u001b[38;5;124;43mbanana\u001b[39;49m\u001b[38;5;124;43m\"\u001b[39;49m\u001b[43m)\u001b[49m\n\u001b[0;32m      2\u001b[0m \u001b[38;5;28mprint\u001b[39m(thisset)\n",
      "\u001b[1;31mTypeError\u001b[0m: set expected at most 1 argument, got 3"
     ]
    }
   ],
   "source": [
    "thisset = set(\"cherry\",\"fig\",\"banana\")\n",
    "print(thisset)"
   ]
  },
  {
   "cell_type": "code",
   "execution_count": 2,
   "id": "7392a90b",
   "metadata": {},
   "outputs": [
    {
     "name": "stdout",
     "output_type": "stream",
     "text": [
      "{'cherry', 'banana', 'apple'}\n"
     ]
    }
   ],
   "source": [
    "thisset = set((\"apple\", \"banana\", \"cherry\"))\n",
    "print(thisset)"
   ]
  },
  {
   "cell_type": "markdown",
   "id": "09152c32",
   "metadata": {},
   "source": [
    "# Access Items\n",
    "- But you can loop through the set items using a for loop, or ask if a specified value is present in a set, by using the in keyword."
   ]
  },
  {
   "cell_type": "code",
   "execution_count": 4,
   "id": "4f943a4b",
   "metadata": {},
   "outputs": [
    {
     "name": "stdout",
     "output_type": "stream",
     "text": [
      "cherry\n",
      "banana\n",
      "apple\n"
     ]
    }
   ],
   "source": [
    "a={\"cherry\",\"apple\",\"banana\"}\n",
    "for x in a:\n",
    "    print(x)"
   ]
  },
  {
   "cell_type": "code",
   "execution_count": 2,
   "id": "a50d923d",
   "metadata": {},
   "outputs": [
    {
     "name": "stdout",
     "output_type": "stream",
     "text": [
      "True\n",
      "False\n"
     ]
    }
   ],
   "source": [
    "thiset={\"banana\",\"cherry\",\"fig\"}\n",
    "print(\"banana\" in thiset)\n",
    "print(\"apple\" in thiset)"
   ]
  },
  {
   "cell_type": "markdown",
   "id": "6dcaeb49",
   "metadata": {},
   "source": [
    "# change items\n",
    "- Once a set is created, you cannot change its items, but you can add new items.\n",
    "\n"
   ]
  },
  {
   "cell_type": "markdown",
   "id": "65c84b1f",
   "metadata": {},
   "source": [
    "# add items\n",
    "- To add one item to a set use the add() method.\n",
    "\n"
   ]
  },
  {
   "cell_type": "markdown",
   "id": "2913bf19",
   "metadata": {},
   "source": [
    "a={\"hgduche\",\"bdvc\",\"jhebdjhe\"}\n",
    "a.add(\"qqqqqqq\")\n",
    "print(a)"
   ]
  },
  {
   "cell_type": "markdown",
   "id": "ebd9af18",
   "metadata": {},
   "source": [
    "# add sets\n",
    "- update method()"
   ]
  },
  {
   "cell_type": "code",
   "execution_count": 22,
   "id": "6c7b83c2",
   "metadata": {},
   "outputs": [
    {
     "name": "stdout",
     "output_type": "stream",
     "text": [
      "{'fig', 'pineapple', 'banana', 'apple', 'kiwi', 'cherry'}\n"
     ]
    }
   ],
   "source": [
    "a={\"apple\",\"banana\",\"cherry\"}\n",
    "b={\"pineapple\",\"fig\",\"kiwi\"}\n",
    "b.update(a)\n",
    "print(b)"
   ]
  },
  {
   "cell_type": "markdown",
   "id": "5980a8d7",
   "metadata": {},
   "source": [
    "# Add Any Iterable\n"
   ]
  },
  {
   "cell_type": "code",
   "execution_count": 23,
   "id": "8224b7d6",
   "metadata": {},
   "outputs": [
    {
     "name": "stdout",
     "output_type": "stream",
     "text": [
      "{'fig', 'apple', 'kiwi', 'banana', 'anar', 'cherry'}\n"
     ]
    }
   ],
   "source": [
    "a={\"apple\",\"banana\",\"cherry\"}\n",
    "b=[\"kiwi\",\"fig\",\"anar\"]\n",
    "a.update(b)\n",
    "print(a)"
   ]
  },
  {
   "cell_type": "markdown",
   "id": "9a7b05c6",
   "metadata": {},
   "source": [
    "# Remove Item\n",
    "- use the remove() method or thr discard() method"
   ]
  },
  {
   "cell_type": "code",
   "execution_count": 24,
   "id": "81960a73",
   "metadata": {},
   "outputs": [
    {
     "name": "stdout",
     "output_type": "stream",
     "text": [
      "{'apple', 'cherry'}\n"
     ]
    }
   ],
   "source": [
    "a={\"apple\",\"banana\",\"cherry\"}\n",
    "a.remove(\"banana\")\n",
    "print(a)"
   ]
  },
  {
   "cell_type": "code",
   "execution_count": 25,
   "id": "f7864bd6",
   "metadata": {},
   "outputs": [
    {
     "name": "stdout",
     "output_type": "stream",
     "text": [
      "{'banana', 'apple'}\n"
     ]
    }
   ],
   "source": [
    "# discard method \n",
    "a={\"apple\",\"banana\",\"cherry\"}\n",
    "a.discard(\"cherry\")\n",
    "print(a)"
   ]
  },
  {
   "cell_type": "markdown",
   "id": "beb1926f",
   "metadata": {},
   "source": [
    "# pop method \n",
    "- pop() method to remove an item, but this method will remove the last item."
   ]
  },
  {
   "cell_type": "code",
   "execution_count": 26,
   "id": "ba314b5a",
   "metadata": {},
   "outputs": [
    {
     "name": "stdout",
     "output_type": "stream",
     "text": [
      "banana\n"
     ]
    }
   ],
   "source": [
    "a={\"cherry\",\"banana\",\"anaar\"}\n",
    "x= a.pop()\n",
    "print(x)"
   ]
  },
  {
   "cell_type": "markdown",
   "id": "63b22da2",
   "metadata": {},
   "source": [
    "\n",
    "# clear() method\n",
    "- The clear() method empties the set:\n"
   ]
  },
  {
   "cell_type": "code",
   "execution_count": 27,
   "id": "f02f319f",
   "metadata": {},
   "outputs": [
    {
     "name": "stdout",
     "output_type": "stream",
     "text": [
      "set()\n"
     ]
    }
   ],
   "source": [
    "a={\"cherry\",\"apple\",\"kiwi\"}\n",
    "a.clear()\n",
    "print(a)"
   ]
  },
  {
   "cell_type": "markdown",
   "id": "bd8d0e9c",
   "metadata": {},
   "source": [
    "# The del keyword will delete the set completely:\n",
    "- this will raise an error because set no longer exists"
   ]
  },
  {
   "cell_type": "code",
   "execution_count": 28,
   "id": "561ea3da",
   "metadata": {},
   "outputs": [
    {
     "ename": "SyntaxError",
     "evalue": "invalid syntax (2052045746.py, line 2)",
     "output_type": "error",
     "traceback": [
      "\u001b[1;36m  Input \u001b[1;32mIn [28]\u001b[1;36m\u001b[0m\n\u001b[1;33m    a del()\u001b[0m\n\u001b[1;37m      ^\u001b[0m\n\u001b[1;31mSyntaxError\u001b[0m\u001b[1;31m:\u001b[0m invalid syntax\n"
     ]
    }
   ],
   "source": [
    "a={\"apple\",\"kiwi\",\"anaar\"}\n",
    "a del()\n",
    "print(a)"
   ]
  },
  {
   "cell_type": "markdown",
   "id": "1681cad4",
   "metadata": {},
   "source": [
    "# Loop Items\n",
    "- You can loop through the set items by using a for loop:"
   ]
  },
  {
   "cell_type": "code",
   "execution_count": 29,
   "id": "a2fff3f3",
   "metadata": {},
   "outputs": [
    {
     "name": "stdout",
     "output_type": "stream",
     "text": [
      "mango\n",
      "apple\n",
      "kiwi\n"
     ]
    }
   ],
   "source": [
    "a={\"apple\",\"kiwi\",\"mango\"}\n",
    "for  x in a:\n",
    "    print(x)"
   ]
  },
  {
   "cell_type": "code",
   "execution_count": 30,
   "id": "81dd7c60",
   "metadata": {},
   "outputs": [
    {
     "ename": "SyntaxError",
     "evalue": "invalid syntax (21395174.py, line 1)",
     "output_type": "error",
     "traceback": [
      "\u001b[1;36m  Input \u001b[1;32mIn [30]\u001b[1;36m\u001b[0m\n\u001b[1;33m    Loop Items\u001b[0m\n\u001b[1;37m         ^\u001b[0m\n\u001b[1;31mSyntaxError\u001b[0m\u001b[1;31m:\u001b[0m invalid syntax\n"
     ]
    }
   ],
   "source": [
    "Loop Items\n",
    "You can loop through the set items by using a for loop:"
   ]
  },
  {
   "cell_type": "code",
   "execution_count": 31,
   "id": "0e092fbb",
   "metadata": {},
   "outputs": [
    {
     "name": "stdout",
     "output_type": "stream",
     "text": [
      "{'fig', 'apple', 'kiwi', 'mango', 'orange', 'anaar'}\n"
     ]
    }
   ],
   "source": [
    "a={\"apple\",\"kiwi\",\"orange\"}\n",
    "b={\"fig\",\"mango\",\"anaar\"}\n",
    "c=a.union(b)\n",
    "print(c)"
   ]
  },
  {
   "cell_type": "markdown",
   "id": "f61e392b",
   "metadata": {},
   "source": [
    "# sets methods"
   ]
  },
  {
   "cell_type": "code",
   "execution_count": null,
   "id": "2a88e550",
   "metadata": {},
   "outputs": [],
   "source": [
    "Method\tDescription\n",
    "add()\tAdds an element to the set\n",
    "\n",
    "clear()\tRemoves all the elements from the set\n",
    "\n",
    "copy()\tReturns a copy of the set\n",
    "\n",
    "difference()\tReturns a set containing the difference between two or more sets\n",
    "\n",
    "difference_update()\tRemoves the items in this set that are also included in another, specified set\n",
    "\n",
    "discard()\tRemove the specified item\n",
    "\n",
    "intersection()\tReturns a set, that is the intersection of two other sets\n",
    "\n",
    "intersection_update()\tRemoves the items in this set that are not present in other, specified set(s)\n",
    "\n",
    "isdisjoint()\tReturns whether two sets have a intersection or not\n",
    "\n",
    "issubset()\tReturns whether another set contains this set or not\n",
    "\n",
    "issuperset()\tReturns whether this set contains another set or not\n",
    "\n",
    "pop()\tRemoves an element from the set\n",
    "\n",
    "remove()\tRemoves the specified element\n",
    "\n",
    "symmetric_difference()\tReturns a set with the symmetric differences of two sets\n",
    "\n",
    "symmetric_difference_update()\tinserts the symmetric differences from this set and another\n",
    "\n",
    "union()\tReturn a set containing the union of sets\n",
    "\n",
    "update()\tUpdate the set with the union of this set and others\n"
   ]
  }
 ],
 "metadata": {
  "kernelspec": {
   "display_name": "Python 3 (ipykernel)",
   "language": "python",
   "name": "python3"
  },
  "language_info": {
   "codemirror_mode": {
    "name": "ipython",
    "version": 3
   },
   "file_extension": ".py",
   "mimetype": "text/x-python",
   "name": "python",
   "nbconvert_exporter": "python",
   "pygments_lexer": "ipython3",
   "version": "3.10.4"
  }
 },
 "nbformat": 4,
 "nbformat_minor": 5
}
