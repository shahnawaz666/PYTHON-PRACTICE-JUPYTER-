{
 "cells": [
  {
   "cell_type": "code",
   "execution_count": 1,
   "id": "d435d5b8",
   "metadata": {},
   "outputs": [
    {
     "name": "stdout",
     "output_type": "stream",
     "text": [
      "hello\n"
     ]
    }
   ],
   "source": [
    "print(\"hello\")"
   ]
  },
  {
   "cell_type": "code",
   "execution_count": 3,
   "id": "0ca0da9c",
   "metadata": {},
   "outputs": [
    {
     "name": "stdout",
     "output_type": "stream",
     "text": [
      "hello\n"
     ]
    }
   ],
   "source": [
    "x=(\"hello\")\n",
    "print(x)"
   ]
  },
  {
   "cell_type": "code",
   "execution_count": 6,
   "id": "b266dc5c",
   "metadata": {},
   "outputs": [
    {
     "name": "stdout",
     "output_type": "stream",
     "text": [
      "x\n",
      "hello world\n"
     ]
    }
   ],
   "source": [
    "x=(\"hello world\")\n",
    "print(\"x\")\n",
    "print(x)"
   ]
  },
  {
   "cell_type": "code",
   "execution_count": 14,
   "id": "3d886a57",
   "metadata": {},
   "outputs": [
    {
     "name": "stdout",
     "output_type": "stream",
     "text": [
      "<class 'str'>\n",
      "<class 'int'>\n",
      "<class 'float'>\n",
      "hello world\n",
      "1\n",
      "2.5\n"
     ]
    }
   ],
   "source": [
    "x=(\"hello world\")\n",
    "y= 1\n",
    "z= 2.5\n",
    "print(type(x))\n",
    "print(type(y))\n",
    "print(type(z))\n",
    "print(x)\n",
    "print(y)\n",
    "print(z)"
   ]
  },
  {
   "cell_type": "code",
   "execution_count": 18,
   "id": "74c17062",
   "metadata": {},
   "outputs": [
    {
     "name": "stdout",
     "output_type": "stream",
     "text": [
      " WORLD\n",
      " WORLD\n",
      " world\n",
      " world\n"
     ]
    }
   ],
   "source": [
    "# variables names are case sensitive not all X and x are same and overwrite\n",
    "X=(\" world\")\n",
    "x=(\" WORLD\")\n",
    "print(x)\n",
    "print(x)\n",
    "print(xy)\n",
    "print(X)"
   ]
  },
  {
   "cell_type": "code",
   "execution_count": 20,
   "id": "dad857ed",
   "metadata": {},
   "outputs": [
    {
     "name": "stdout",
     "output_type": "stream",
     "text": [
      "john\n"
     ]
    }
   ],
   "source": [
    "#legal variables\n",
    "_x = \"john\"\n",
    "print(_x)"
   ]
  },
  {
   "cell_type": "code",
   "execution_count": 21,
   "id": "52eccdae",
   "metadata": {},
   "outputs": [
    {
     "name": "stdout",
     "output_type": "stream",
     "text": [
      "John\n",
      "John\n",
      "John\n",
      "John\n",
      "John\n",
      "John\n"
     ]
    }
   ],
   "source": [
    "# legal variables name\n",
    "myvar = \"John\"\n",
    "my_var = \"John\"\n",
    "_my_var = \"John\"\n",
    "myVar = \"John\"\n",
    "MYVAR = \"John\"\n",
    "myvar2 = \"John\"\n",
    "\n",
    "print(myvar)\n",
    "print(my_var)\n",
    "print(_my_var)\n",
    "print(myVar)\n",
    "print(MYVAR)\n",
    "print(myvar2)\n"
   ]
  },
  {
   "cell_type": "code",
   "execution_count": 22,
   "id": "5431be11",
   "metadata": {},
   "outputs": [
    {
     "ename": "SyntaxError",
     "evalue": "invalid decimal literal (1357607838.py, line 2)",
     "output_type": "error",
     "traceback": [
      "\u001b[1;36m  Input \u001b[1;32mIn [22]\u001b[1;36m\u001b[0m\n\u001b[1;33m    2myvar = \"John\"\u001b[0m\n\u001b[1;37m    ^\u001b[0m\n\u001b[1;31mSyntaxError\u001b[0m\u001b[1;31m:\u001b[0m invalid decimal literal\n"
     ]
    }
   ],
   "source": [
    "#illegal variables  will give you an error \n",
    "2myvar = \"John\"\n",
    "my-var = \"John\"\n",
    "my var = \"John\"\n",
    "print(2myvar)\n",
    "print(my-var)\n",
    "print(my var)"
   ]
  },
  {
   "cell_type": "code",
   "execution_count": 25,
   "id": "e80edbf0",
   "metadata": {},
   "outputs": [
    {
     "name": "stdout",
     "output_type": "stream",
     "text": [
      "mango\n",
      "mango aple orange\n",
      "mango\n",
      "aple\n",
      "orange\n"
     ]
    }
   ],
   "source": [
    "# multiple values to variables\n",
    "x,y,z = \"mango\", \"aple\", \"orange\"\n",
    "print(x)\n",
    "print(x,y,z)\n",
    "print(x)\n",
    "print(y)\n",
    "print(z)"
   ]
  },
  {
   "cell_type": "code",
   "execution_count": 30,
   "id": "9ff4c5c0",
   "metadata": {
    "scrolled": true
   },
   "outputs": [
    {
     "name": "stdout",
     "output_type": "stream",
     "text": [
      "vinegar\n",
      "vinegar vinegar vinegar vinegar\n",
      "vinegar\n"
     ]
    }
   ],
   "source": [
    "# one value to multiple variables\n",
    "x=y=z=e=\"vinegar\"\n",
    "print(x)\n",
    "print(x,y,z,e)\n",
    "print(y)"
   ]
  },
  {
   "cell_type": "markdown",
   "id": "f366f51e",
   "metadata": {},
   "source": [
    "#to unpack a list \n",
    "fruits  = [\"apple\", \"banana\", 'chiku']\n",
    "print(fruits)\n",
    "x,y,z= fruits\n",
    "print(x,y,z)\n",
    "print(x)\n",
    "print(y)\n",
    "print(z)"
   ]
  },
  {
   "cell_type": "markdown",
   "id": "56a66110",
   "metadata": {},
   "source": []
  },
  {
   "cell_type": "markdown",
   "id": "e130e683",
   "metadata": {},
   "source": [
    "\n",
    "###### shahnawaz global variable"
   ]
  },
  {
   "cell_type": "markdown",
   "id": "6eca447b",
   "metadata": {},
   "source": [
    "x = \"my name is khan\"\n",
    "def myfunc():\n",
    "    print(\"sohel\" + x)\n",
    "    \n",
    "myfunc()\n",
    "    "
   ]
  },
  {
   "cell_type": "markdown",
   "id": "172f4a76",
   "metadata": {},
   "source": [
    "#### global variable with same name "
   ]
  },
  {
   "cell_type": "code",
   "execution_count": 42,
   "id": "a603245b",
   "metadata": {},
   "outputs": [
    {
     "name": "stdout",
     "output_type": "stream",
     "text": [
      "banana mango\n",
      "banana mango\n"
     ]
    }
   ],
   "source": [
    "x = \"apple\"\n",
    "def myfunc():\n",
    "    x = \"mango\"\n",
    "    print(\"banana\" , x)\n",
    "    print(\"banana\",x)\n",
    "    \n",
    "myfunc()"
   ]
  },
  {
   "cell_type": "markdown",
   "id": "0bc7dbf8",
   "metadata": {},
   "source": [
    "##global keyword"
   ]
  },
  {
   "cell_type": "markdown",
   "id": "86e578a9",
   "metadata": {},
   "source": [
    "###global keyword"
   ]
  },
  {
   "cell_type": "code",
   "execution_count": 8,
   "id": "b9a02782",
   "metadata": {},
   "outputs": [
    {
     "name": "stdout",
     "output_type": "stream",
     "text": [
      "pyhton isfantastic\n"
     ]
    }
   ],
   "source": [
    "x= \"awesome\"\n",
    "\n",
    "def myfunc():\n",
    "    global x\n",
    "    x = \"fantastic\"\n",
    "    \n",
    "myfunc()\n",
    "\n",
    "print(\"pyhton is\" + x)"
   ]
  },
  {
   "cell_type": "markdown",
   "id": "2a031fc3",
   "metadata": {},
   "source": [
    "####strings are arrays get the character at position one "
   ]
  },
  {
   "cell_type": "code",
   "execution_count": 9,
   "id": "219554e0",
   "metadata": {},
   "outputs": [
    {
     "name": "stdout",
     "output_type": "stream",
     "text": [
      "e\n"
     ]
    }
   ],
   "source": [
    "a= \"hello world\"\n",
    "print(a[1])"
   ]
  },
  {
   "cell_type": "markdown",
   "id": "aa74b7bc",
   "metadata": {},
   "source": [
    "#for loop through the letters"
   ]
  },
  {
   "cell_type": "code",
   "execution_count": 12,
   "id": "60a704d9",
   "metadata": {},
   "outputs": [
    {
     "name": "stdout",
     "output_type": "stream",
     "text": [
      "b\n",
      "a\n",
      "n\n",
      "a\n",
      "n\n",
      "a\n"
     ]
    }
   ],
   "source": [
    "for x in \"banana\":\n",
    "    print(x\n",
    "        )"
   ]
  },
  {
   "cell_type": "markdown",
   "id": "cd553111",
   "metadata": {},
   "source": [
    "# for loop in a variable"
   ]
  },
  {
   "cell_type": "code",
   "execution_count": 19,
   "id": "ee594683",
   "metadata": {},
   "outputs": [
    {
     "name": "stdout",
     "output_type": "stream",
     "text": [
      "b\n",
      "a\n",
      "n\n",
      "a\n",
      "n\n",
      "a\n"
     ]
    }
   ],
   "source": [
    "x = \"banana\"\n",
    "for y in x:\n",
    "    print(y)"
   ]
  },
  {
   "cell_type": "markdown",
   "id": "550a5a7c",
   "metadata": {},
   "source": [
    "# for check the length of a string"
   ]
  },
  {
   "cell_type": "code",
   "execution_count": 21,
   "id": "5669d6cd",
   "metadata": {},
   "outputs": [
    {
     "name": "stdout",
     "output_type": "stream",
     "text": [
      "5\n"
     ]
    }
   ],
   "source": [
    "a = \"hello\"\n",
    " print(len(a))"
   ]
  },
  {
   "cell_type": "markdown",
   "id": "1fc1920c",
   "metadata": {},
   "source": [
    "# to check the certain phrases in a string with in keyword"
   ]
  },
  {
   "cell_type": "code",
   "execution_count": 23,
   "id": "48902278",
   "metadata": {},
   "outputs": [
    {
     "name": "stdout",
     "output_type": "stream",
     "text": [
      "True\n",
      "False\n"
     ]
    }
   ],
   "source": [
    "txt = \"my name is khan\"\n",
    "print(\"khan\" in txt)\n",
    "print(\"no\" in txt)"
   ]
  },
  {
   "cell_type": "markdown",
   "id": "71b6d27a",
   "metadata": {},
   "source": [
    "# to check the certain phrases in a string with if keyword"
   ]
  },
  {
   "cell_type": "code",
   "execution_count": 27,
   "id": "8cf9b789",
   "metadata": {},
   "outputs": [
    {
     "name": "stdout",
     "output_type": "stream",
     "text": [
      "yes, 'the' is present\n"
     ]
    }
   ],
   "source": [
    "txt = \"check the desk\"\n",
    "if \"check\" in txt:\n",
    "    print(\"yes, 'the' is present\")"
   ]
  },
  {
   "cell_type": "markdown",
   "id": "9a3f5dff",
   "metadata": {},
   "source": [
    "# to check string with not in keyword"
   ]
  },
  {
   "cell_type": "code",
   "execution_count": 29,
   "id": "128628d4",
   "metadata": {},
   "outputs": [
    {
     "name": "stdout",
     "output_type": "stream",
     "text": [
      "True\n",
      "True\n"
     ]
    }
   ],
   "source": [
    "txt = \"to check the string \"\n",
    "print(\"right\" not in txt)\n",
    "print(\"expensive\" not in txt)"
   ]
  },
  {
   "cell_type": "markdown",
   "id": "80911acb",
   "metadata": {},
   "source": [
    "# to check strring with if not keyword"
   ]
  },
  {
   "cell_type": "code",
   "execution_count": 30,
   "id": "6ff43288",
   "metadata": {},
   "outputs": [
    {
     "name": "stdout",
     "output_type": "stream",
     "text": [
      "no, 'expensive' is not present\n"
     ]
    }
   ],
   "source": [
    "txt = \"to check the string\"\n",
    "if \"expensive\" not in txt:\n",
    "    print(\"no, 'expensive' is not present\")"
   ]
  },
  {
   "cell_type": "markdown",
   "id": "99b71a0f",
   "metadata": {},
   "source": [
    " # to check the index"
   ]
  },
  {
   "cell_type": "code",
   "execution_count": 6,
   "id": "7ab1debe",
   "metadata": {},
   "outputs": [
    {
     "name": "stdout",
     "output_type": "stream",
     "text": [
      "hell \n",
      "hell owo\n"
     ]
    }
   ],
   "source": [
    "b= (\"hell oworld\")\n",
    "print(b[:5])\n",
    "print(b[:8])"
   ]
  },
  {
   "cell_type": "markdown",
   "id": "6eff5aff",
   "metadata": {},
   "source": [
    "# to check the negative index"
   ]
  },
  {
   "cell_type": "code",
   "execution_count": 8,
   "id": "55d3e585",
   "metadata": {},
   "outputs": [
    {
     "name": "stdout",
     "output_type": "stream",
     "text": [
      "awa\n"
     ]
    }
   ],
   "source": [
    "x = (\" shahnawaz \")\n",
    "print(x[-5:-2])"
   ]
  },
  {
   "cell_type": "markdown",
   "id": "38b36178",
   "metadata": {},
   "source": [
    "# to modify string in upper case by upper() method"
   ]
  },
  {
   "cell_type": "code",
   "execution_count": 9,
   "id": "3fbb0821",
   "metadata": {},
   "outputs": [
    {
     "name": "stdout",
     "output_type": "stream",
     "text": [
      "SHAHNAWAZ\n"
     ]
    }
   ],
   "source": [
    "a = \"shahnawaz\"\n",
    "print(a.upper())"
   ]
  },
  {
   "cell_type": "markdown",
   "id": "a2d8e698",
   "metadata": {},
   "source": [
    "# to modify the string in lower case by  lower() method"
   ]
  },
  {
   "cell_type": "code",
   "execution_count": 11,
   "id": "090ea4b0",
   "metadata": {},
   "outputs": [
    {
     "name": "stdout",
     "output_type": "stream",
     "text": [
      "my name is khan\n"
     ]
    }
   ],
   "source": [
    "b = \"my name is khan\"\n",
    "print(b.lower())"
   ]
  },
  {
   "cell_type": "markdown",
   "id": "c21a3608",
   "metadata": {},
   "source": [
    "# to remove any whitespace from any string"
   ]
  },
  {
   "cell_type": "code",
   "execution_count": 3,
   "id": "72d84c18",
   "metadata": {},
   "outputs": [
    {
     "name": "stdout",
     "output_type": "stream",
     "text": [
      "hello, world\n"
     ]
    }
   ],
   "source": [
    "a= \"    hello, world\"\n",
    "print(a.strip())"
   ]
  },
  {
   "cell_type": "markdown",
   "id": "431abc74",
   "metadata": {},
   "source": [
    "# to replace replaces a string with another string"
   ]
  },
  {
   "cell_type": "code",
   "execution_count": 18,
   "id": "9395ec2e",
   "metadata": {},
   "outputs": [
    {
     "name": "stdout",
     "output_type": "stream",
     "text": [
      "jello world\n"
     ]
    }
   ],
   "source": [
    "x = (\"hello world\")\n",
    "print(x.replace(\"h\", \"j\"))"
   ]
  },
  {
   "cell_type": "markdown",
   "id": "f5fbd91c",
   "metadata": {},
   "source": [
    "# to split a string split() method split the string into substrings"
   ]
  },
  {
   "cell_type": "code",
   "execution_count": 19,
   "id": "a010c821",
   "metadata": {},
   "outputs": [
    {
     "name": "stdout",
     "output_type": "stream",
     "text": [
      "['    hello      world']\n"
     ]
    }
   ],
   "source": [
    "b = \"hello world\"\n",
    "print(a.split(\",\"))"
   ]
  },
  {
   "cell_type": "markdown",
   "id": "0135c920",
   "metadata": {},
   "source": [
    "# to concatenate or combine , use + operator"
   ]
  },
  {
   "cell_type": "code",
   "execution_count": 24,
   "id": "7a52b051",
   "metadata": {},
   "outputs": [
    {
     "name": "stdout",
     "output_type": "stream",
     "text": [
      "hellomehtab\n"
     ]
    }
   ],
   "source": [
    "a = \"hello\"\n",
    "b = \"mehtab\"\n",
    "c = a+b\n",
    "print(c)"
   ]
  },
  {
   "cell_type": "markdown",
   "id": "500e0854",
   "metadata": {},
   "source": [
    "# to add a space between them"
   ]
  },
  {
   "cell_type": "code",
   "execution_count": 27,
   "id": "d654f239",
   "metadata": {},
   "outputs": [
    {
     "name": "stdout",
     "output_type": "stream",
     "text": [
      "hello  world\n"
     ]
    }
   ],
   "source": [
    "a= \"hello\"\n",
    "b=\"world\"\n",
    "c= a +\"  \"+b\n",
    "print(c)"
   ]
  },
  {
   "cell_type": "markdown",
   "id": "999657e5",
   "metadata": {},
   "source": [
    "# use the format method to INSERT numbers into strings"
   ]
  },
  {
   "cell_type": "code",
   "execution_count": 30,
   "id": "8d566b97",
   "metadata": {},
   "outputs": [
    {
     "name": "stdout",
     "output_type": "stream",
     "text": [
      "my name is john, and  i am 36\n"
     ]
    }
   ],
   "source": [
    "age = 36\n",
    "txt = \"my name is john, and  i am {}\"\n",
    "print(txt.format(age))"
   ]
  },
  {
   "cell_type": "code",
   "execution_count": 5,
   "id": "608edbb2",
   "metadata": {},
   "outputs": [
    {
     "name": "stdout",
     "output_type": "stream",
     "text": [
      "0\n",
      "5\n",
      "-6\n",
      "-9\n"
     ]
    }
   ],
   "source": [
    "a = 5\n",
    "b = 8\n",
    "print(a & b)\n",
    "print( b and a)\n",
    "print(~a)\n",
    "print(~b)"
   ]
  },
  {
   "cell_type": "code",
   "execution_count": 6,
   "id": "2e8de02b",
   "metadata": {},
   "outputs": [
    {
     "name": "stdout",
     "output_type": "stream",
     "text": [
      "-8\n"
     ]
    }
   ],
   "source": [
    "a = 7\n",
    "print(~a)"
   ]
  },
  {
   "cell_type": "markdown",
   "id": "b2542d3c",
   "metadata": {},
   "source": [
    "# to create a list"
   ]
  },
  {
   "cell_type": "code",
   "execution_count": 7,
   "id": "f1c99d49",
   "metadata": {},
   "outputs": [
    {
     "name": "stdout",
     "output_type": "stream",
     "text": [
      "['apple', 'banana', 'cherrty']\n"
     ]
    }
   ],
   "source": [
    "mylist=[\"apple\", \"banana\", \"cherrty\"]\n",
    "print(mylist)"
   ]
  },
  {
   "cell_type": "markdown",
   "id": "04aaa7fb",
   "metadata": {},
   "source": [
    "## to find length of a list"
   ]
  },
  {
   "cell_type": "code",
   "execution_count": 1,
   "id": "8d5371d0",
   "metadata": {},
   "outputs": [
    {
     "name": "stdout",
     "output_type": "stream",
     "text": [
      "[1, 3, 5, 8, 9]\n",
      "[True, False, False]\n",
      "['banana', 'apple', 'fig']\n",
      "3\n"
     ]
    }
   ],
   "source": [
    "list1 = [\"banana\", \"apple\", \"fig\"]\n",
    "list2 = [1,3,5,8,9]\n",
    "list3 = [True,False,False]\n",
    "print(list2)\n",
    "print(list3)\n",
    "print(list1)\n",
    "print(len(list1))"
   ]
  },
  {
   "cell_type": "markdown",
   "id": "be73e45b",
   "metadata": {},
   "source": [
    "# a list can contain different data types"
   ]
  },
  {
   "cell_type": "code",
   "execution_count": 16,
   "id": "8e18caea",
   "metadata": {},
   "outputs": [
    {
     "name": "stdout",
     "output_type": "stream",
     "text": [
      "<class 'list'>\n",
      "['abd', '333', True, 40, 'shahnawaz']\n"
     ]
    }
   ],
   "source": [
    "list1 = [\"abd\", \"333\", True, 40, \"shahnawaz\"]\n",
    "print(list)\n",
    "print(list1)"
   ]
  },
  {
   "cell_type": "markdown",
   "id": "165db680",
   "metadata": {},
   "source": [
    "# data type of a list"
   ]
  },
  {
   "cell_type": "code",
   "execution_count": 20,
   "id": "4bf47056",
   "metadata": {},
   "outputs": [
    {
     "name": "stdout",
     "output_type": "stream",
     "text": [
      "<class 'list'>\n"
     ]
    }
   ],
   "source": [
    " mylist = ['hbd', 'cherry',]\n",
    "print(type(mylist))"
   ]
  },
  {
   "cell_type": "markdown",
   "id": "9a4d16c5",
   "metadata": {},
   "source": [
    "# range of index"
   ]
  },
  {
   "cell_type": "code",
   "execution_count": 9,
   "id": "a34ea1cc",
   "metadata": {},
   "outputs": [
    {
     "name": "stdout",
     "output_type": "stream",
     "text": [
      "['fig', 'anaar']\n",
      "['banana', 'fig', 'anaar']\n",
      "['fig', 'anaar', 'mango']\n",
      "['apple', 'banana']\n",
      "['apple', 'banana', 'fig']\n",
      "['anaar', 'mango', 'kiwi']\n",
      "['fig', 'anaar', 'mango', 'kiwi']\n"
     ]
    }
   ],
   "source": [
    "mylist = [\"apple\", \"banana\", \"fig\", \"anaar\", \"mango\", \"kiwi\"]\n",
    "print(mylist[2:4])\n",
    "print(mylist[1:4])\n",
    "print(mylist[2:5])\n",
    "print(mylist[:2])\n",
    "print(mylist[:3])\n",
    "print(mylist[3:])\n",
    "print(mylist[2:])"
   ]
  },
  {
   "cell_type": "markdown",
   "id": "ed3f59d4",
   "metadata": {},
   "source": [
    "# to check negative index"
   ]
  },
  {
   "cell_type": "code",
   "execution_count": 10,
   "id": "e9eecb27",
   "metadata": {},
   "outputs": [
    {
     "name": "stdout",
     "output_type": "stream",
     "text": [
      "['anaar', 'mango', 'kiwi']\n"
     ]
    }
   ],
   "source": [
    "mylist =[\"apple\", \"fig\", \"anaar\", \"mango\",\"kiwi\", \"orange\"]\n",
    "print(mylist[-4:-1])"
   ]
  },
  {
   "cell_type": "markdown",
   "id": "c5730f1d",
   "metadata": {},
   "source": [
    "# check if item exist"
   ]
  },
  {
   "cell_type": "code",
   "execution_count": 13,
   "id": "255db9f2",
   "metadata": {},
   "outputs": [
    {
     "name": "stdout",
     "output_type": "stream",
     "text": [
      "yes, 'apple' is in the fruits list\n"
     ]
    }
   ],
   "source": [
    "mylist = [\"apple\", \"banana\", \"fig\"]\n",
    "if \"apple\" in mylist:\n",
    "    print(\"yes, 'apple' is in the fruits list\")\n",
    "if \"mango\" in mylist:\n",
    "    print(\"yes, 'mango' is in the fruits list\")"
   ]
  },
  {
   "cell_type": "markdown",
   "id": "433a7602",
   "metadata": {},
   "source": [
    "# to change item in a list"
   ]
  },
  {
   "cell_type": "code",
   "execution_count": 16,
   "id": "8395ee26",
   "metadata": {},
   "outputs": [
    {
     "name": "stdout",
     "output_type": "stream",
     "text": [
      "['apple', 'black currant', 'anaar', 'fig']\n"
     ]
    }
   ],
   "source": [
    "mylist=[\"apple\", \"banana\", \"fig\"]\n",
    "mylist[1:2] = [\"black currant\", \"anaar\"]\n",
    "print(mylist)"
   ]
  },
  {
   "cell_type": "markdown",
   "id": "3f00fee5",
   "metadata": {},
   "source": []
  },
  {
   "cell_type": "markdown",
   "id": "7b41cffb",
   "metadata": {},
   "source": [
    "# to add an item to the list"
   ]
  },
  {
   "cell_type": "code",
   "execution_count": 21,
   "id": "29fe44d8",
   "metadata": {},
   "outputs": [],
   "source": [
    "mylist =[\"apple\", \"banana\", \"cherry\"]\n",
    "mylist.append(\"orange\")"
   ]
  },
  {
   "cell_type": "code",
   "execution_count": 4,
   "id": "10a73d5a",
   "metadata": {},
   "outputs": [],
   "source": [
    "mylist =[\"apple\", \"banana\", \"cherry\"]\n",
    "mylist.append(\"orange\")"
   ]
  },
  {
   "cell_type": "code",
   "execution_count": 25,
   "id": "3cb7d404",
   "metadata": {},
   "outputs": [
    {
     "name": "stdout",
     "output_type": "stream",
     "text": [
      "['orange', 'banana', 'cherry', 'pineapple']\n"
     ]
    }
   ],
   "source": [
    "mylist =[\"orange\", \"banana\", \"cherry\"]\n",
    "mylist.append(\"pineapple\")\n",
    "print(mylist)"
   ]
  },
  {
   "cell_type": "markdown",
   "id": "e17e6140",
   "metadata": {},
   "source": [
    "# to insert an item to the list "
   ]
  },
  {
   "cell_type": "code",
   "execution_count": 26,
   "id": "f4f81c93",
   "metadata": {},
   "outputs": [
    {
     "name": "stdout",
     "output_type": "stream",
     "text": [
      "['apple', 'pineapple', 'banana', 'cherry']\n"
     ]
    }
   ],
   "source": [
    "mylist=[\"apple\", \"banana\", \"cherry\"]\n",
    "mylist.insert(1, \"pineapple\")\n",
    "print(mylist)"
   ]
  },
  {
   "cell_type": "code",
   "execution_count": 27,
   "id": "6876d6ee",
   "metadata": {},
   "outputs": [
    {
     "name": "stdout",
     "output_type": "stream",
     "text": [
      "['apple', 'banans', 'fig', 'cherry']\n"
     ]
    }
   ],
   "source": [
    "mylist=[\"apple\", \"banans\", \"cherry\"]\n",
    "mylist.insert(2, \"fig\")\n",
    "print(mylist)"
   ]
  },
  {
   "cell_type": "markdown",
   "id": "572cbe5f",
   "metadata": {},
   "source": [
    "# to extend a list"
   ]
  },
  {
   "cell_type": "code",
   "execution_count": 28,
   "id": "c55a4467",
   "metadata": {},
   "outputs": [
    {
     "name": "stdout",
     "output_type": "stream",
     "text": [
      "['apple', 'banana', 'cherry', 'mango', 'fig', 'orange']\n"
     ]
    }
   ],
   "source": [
    "mylist=[\"apple\", \"banana\", \"cherry\"]\n",
    "tropical=[\"mango\", \"fig\", \"orange\"]\n",
    "mylist.extend(tropical)\n",
    "print(mylist)"
   ]
  },
  {
   "cell_type": "code",
   "execution_count": 30,
   "id": "c8f54ad7",
   "metadata": {},
   "outputs": [
    {
     "name": "stdout",
     "output_type": "stream",
     "text": [
      "['mango', 'fig', 'orange', 'apple', 'banana', 'cherry']\n"
     ]
    }
   ],
   "source": [
    "mylist=[\"apple\", \"banana\", \"cherry\"]\n",
    "tropical=[\"mango\", \"fig\", \"orange\"]\n",
    "tropical.extend(mylist)\n",
    "print(tropical)"
   ]
  },
  {
   "cell_type": "markdown",
   "id": "939a9425",
   "metadata": {},
   "source": [
    "# add any iterable object"
   ]
  },
  {
   "cell_type": "code",
   "execution_count": 31,
   "id": "d294c269",
   "metadata": {},
   "outputs": [
    {
     "name": "stdout",
     "output_type": "stream",
     "text": [
      "['apple', 'banana', 'cherry', 'kiwi', 'orange']\n"
     ]
    }
   ],
   "source": [
    "thislist = [\"apple\", \"banana\", \"cherry\"]\n",
    "thistuple = (\"kiwi\", \"orange\")\n",
    "thislist.extend(thistuple)\n",
    "print(thislist)"
   ]
  },
  {
   "cell_type": "markdown",
   "id": "e90fa12b",
   "metadata": {},
   "source": [
    "# remove list items\n",
    "- The remove() method removes the specified item.\n",
    "\n"
   ]
  },
  {
   "cell_type": "code",
   "execution_count": 2,
   "id": "de8218ee",
   "metadata": {},
   "outputs": [
    {
     "name": "stdout",
     "output_type": "stream",
     "text": [
      "['apple', 'cherry']\n"
     ]
    }
   ],
   "source": [
    "a=[\"apple\",\"banana\",\"cherry\"]\n",
    "a.remove(\"banana\")\n",
    "print(a)"
   ]
  },
  {
   "cell_type": "markdown",
   "id": "82e83b47",
   "metadata": {},
   "source": [
    "# Remove Specified Index\n",
    "- The pop() method removes the specified index.\n",
    "\n",
    "- If you do not specify the index, the pop() method removes the last item.\n",
    "\n"
   ]
  },
  {
   "cell_type": "code",
   "execution_count": 5,
   "id": "f181e6cc",
   "metadata": {},
   "outputs": [
    {
     "name": "stdout",
     "output_type": "stream",
     "text": [
      "['apple', 'banana']\n"
     ]
    }
   ],
   "source": [
    "a=[\"apple\",\"banana\",\"cherry\"]\n",
    "a.pop(2)\n",
    "print(a)"
   ]
  },
  {
   "cell_type": "code",
   "execution_count": 6,
   "id": "c7f91511",
   "metadata": {},
   "outputs": [
    {
     "name": "stdout",
     "output_type": "stream",
     "text": [
      "['apple', 'banana']\n"
     ]
    }
   ],
   "source": [
    "a=[\"apple\",\"banana\",\"cherry\"]\n",
    "a.pop()\n",
    "print(a)"
   ]
  },
  {
   "cell_type": "markdown",
   "id": "0b69317f",
   "metadata": {},
   "source": [
    "# The del keyword also removes the specified index:\n",
    "\n",
    "- The del keyword can also delete the list completely.\""
   ]
  },
  {
   "cell_type": "code",
   "execution_count": 7,
   "id": "2181013b",
   "metadata": {},
   "outputs": [
    {
     "name": "stdout",
     "output_type": "stream",
     "text": [
      "['banana', 'mango']\n"
     ]
    }
   ],
   "source": [
    "a=[\"banana\",\"cherry\",\"mango\"]\n",
    "del a[1]\n",
    "print(a)"
   ]
  },
  {
   "cell_type": "code",
   "execution_count": 9,
   "id": "fab9a07c",
   "metadata": {},
   "outputs": [
    {
     "ename": "SyntaxError",
     "evalue": "unterminated string literal (detected at line 1) (3781100691.py, line 1)",
     "output_type": "error",
     "traceback": [
      "\u001b[1;36m  Input \u001b[1;32mIn [9]\u001b[1;36m\u001b[0m\n\u001b[1;33m    a=[\"apple\",\"fig\",\"orange\u001b[0m\n\u001b[1;37m                     ^\u001b[0m\n\u001b[1;31mSyntaxError\u001b[0m\u001b[1;31m:\u001b[0m unterminated string literal (detected at line 1)\n"
     ]
    }
   ],
   "source": [
    " a=[\"apple\",\"fig\",\"orange\n",
    "    del (2)"
   ]
  },
  {
   "cell_type": "markdown",
   "id": "303e7cbb",
   "metadata": {},
   "source": [
    "# Clear the List\n",
    "- The clear() method empties the list.\n",
    "\n",
    "The list still remains, but it has no content."
   ]
  },
  {
   "cell_type": "code",
   "execution_count": 8,
   "id": "16b13675",
   "metadata": {},
   "outputs": [
    {
     "name": "stdout",
     "output_type": "stream",
     "text": [
      "[]\n"
     ]
    }
   ],
   "source": [
    "a=[\"apple\",\"banana\"]\n",
    "a.clear()\n",
    "print(a)"
   ]
  },
  {
   "cell_type": "markdown",
   "id": "cdeeb8af",
   "metadata": {},
   "source": [
    "# Loop Through a List\n",
    "- You can loop through the list items by using a for loop:\n",
    "\n"
   ]
  },
  {
   "cell_type": "code",
   "execution_count": 9,
   "id": "2c7aad8b",
   "metadata": {},
   "outputs": [
    {
     "name": "stdout",
     "output_type": "stream",
     "text": [
      "apple\n",
      "banana\n",
      "cherry\n"
     ]
    }
   ],
   "source": [
    "a=[\"apple\",\"banana\",\"cherry\"]\n",
    "for y in a:\n",
    "    print(y)"
   ]
  },
  {
   "cell_type": "markdown",
   "id": "6c3b7871",
   "metadata": {},
   "source": [
    "# Loop Through the Index Numbers\n",
    " -You can also loop through the list items by referring to their index number.\n",
    "\n",
    "- Use the range() and len() functions to create a suitable iterable."
   ]
  },
  {
   "cell_type": "code",
   "execution_count": 20,
   "id": "dae2e607",
   "metadata": {},
   "outputs": [
    {
     "name": "stdout",
     "output_type": "stream",
     "text": [
      "apple\n",
      "banana\n",
      "cherry\n"
     ]
    }
   ],
   "source": [
    "a=[\"apple\",\"banana\",\"cherry\"]\n",
    "for x in range(len(a)):\n",
    "    print(a[x])"
   ]
  },
  {
   "cell_type": "markdown",
   "id": "e3ba1b59",
   "metadata": {},
   "source": [
    "# Using a While Loop\n",
    "- You can loop through the list items by using a while loop.\n",
    "\n",
    "- Use the len() function to determine the length of the list, then start at 0 and loop your way through the list items by refering to their indexes.\n",
    "\n",
    "- Remember to increase the index by 1 after each iteration."
   ]
  },
  {
   "cell_type": "code",
   "execution_count": 2,
   "id": "13097f9c",
   "metadata": {},
   "outputs": [
    {
     "name": "stdout",
     "output_type": "stream",
     "text": [
      "apple\n",
      "cheery\n",
      "fig\n"
     ]
    }
   ],
   "source": [
    "a=[\"apple\",\"cheery\",\"fig\"]\n",
    "i=0\n",
    "while i< len(a):\n",
    "    print(a[i])\n",
    "    i=i+1"
   ]
  },
  {
   "cell_type": "markdown",
   "id": "c3ec497c",
   "metadata": {},
   "source": [
    "# Looping Using List Comprehension\n",
    "- A short hand for loop that will print all items in a list:\n",
    "\n"
   ]
  },
  {
   "cell_type": "code",
   "execution_count": 3,
   "id": "adeb6dde",
   "metadata": {},
   "outputs": [
    {
     "name": "stdout",
     "output_type": "stream",
     "text": [
      "apple\n",
      "cherry\n",
      "fig\n"
     ]
    },
    {
     "data": {
      "text/plain": [
       "[None, None, None]"
      ]
     },
     "execution_count": 3,
     "metadata": {},
     "output_type": "execute_result"
    }
   ],
   "source": [
    "a=[\"apple\",\"cherry\",\"fig\"]\n",
    "[print(x) for x in a]"
   ]
  },
  {
   "cell_type": "markdown",
   "id": "68e9c6d3",
   "metadata": {},
   "source": [
    "# List Comprehension\n",
    "- List comprehension offers a shorter syntax when you want to create a new list based on the values of an existing list.\n",
    "\n",
    "  - Example:\n",
    "\n",
    " - Based on a list of fruits, you want a new list, containing only the fruits with the letter \"a\" in the name.\n",
    "\n",
    " - Without list comprehension you will have to write a for statement with a conditional test inside:\n",
    "\n"
   ]
  },
  {
   "cell_type": "code",
   "execution_count": 7,
   "id": "8ba4f618",
   "metadata": {},
   "outputs": [
    {
     "name": "stdout",
     "output_type": "stream",
     "text": [
      "['apple']\n",
      "['apple', 'banana']\n",
      "['apple', 'banana', 'mango']\n"
     ]
    }
   ],
   "source": [
    "a=[\"apple\",\"banana\",\"mango\",\"kiwi\",\"fig\"]\n",
    "newlist=[]\n",
    "for x in a:\n",
    "    if \"a\" in x:\n",
    "        newlist.append(x)\n",
    "        print(newlist)\n",
    "                "
   ]
  },
  {
   "cell_type": "code",
   "execution_count": 10,
   "id": "72599560",
   "metadata": {},
   "outputs": [
    {
     "name": "stdout",
     "output_type": "stream",
     "text": [
      "['apple', 'banana', 'mango']\n"
     ]
    }
   ],
   "source": [
    "a=[\"apple\",\"cherry\",\"banana\",\"mango\",\"kiwi\",\"fig\"]\n",
    "newlist=[x for x in a if \"a\" in x]\n",
    "print(newlist)"
   ]
  },
  {
   "cell_type": "markdown",
   "id": "71b93536",
   "metadata": {},
   "source": [
    "# Sort List Alphanumerically\n",
    " - List objects have a sort() method that will sort the list alphanumerically, ascending, by default:"
   ]
  },
  {
   "cell_type": "code",
   "execution_count": 11,
   "id": "8be59d29",
   "metadata": {},
   "outputs": [
    {
     "name": "stdout",
     "output_type": "stream",
     "text": [
      "['apple', 'cherry', 'fig', 'kiwi', 'pineapple']\n"
     ]
    }
   ],
   "source": [
    "a=[\"apple\",\"cherry\",\"pineapple\",\"fig\",\"kiwi\"]\n",
    "a.sort()\n",
    "print(a)"
   ]
  },
  {
   "cell_type": "code",
   "execution_count": 12,
   "id": "741c6715",
   "metadata": {},
   "outputs": [
    {
     "name": "stdout",
     "output_type": "stream",
     "text": [
      "[50, 65, 100, 120, 199]\n"
     ]
    }
   ],
   "source": [
    "b=[100,50,65,120,199]\n",
    "b.sort()\n",
    "print(b)"
   ]
  },
  {
   "cell_type": "markdown",
   "id": "655461f7",
   "metadata": {},
   "source": [
    "# Sort Descending\n",
    "-  To sort descending, use the keyword argument reverse = True:"
   ]
  },
  {
   "cell_type": "code",
   "execution_count": 13,
   "id": "9fb3dd04",
   "metadata": {},
   "outputs": [
    {
     "name": "stdout",
     "output_type": "stream",
     "text": [
      "['pineapple', 'orange', 'kiwi', 'cherry', 'banana']\n"
     ]
    }
   ],
   "source": [
    "c=[\"orange\",\"cherry\",\"pineapple\",\"kiwi\",\"banana\"]\n",
    "c.sort(reverse=True)\n",
    "print(c)"
   ]
  },
  {
   "cell_type": "code",
   "execution_count": 14,
   "id": "f7486e6c",
   "metadata": {},
   "outputs": [
    {
     "name": "stdout",
     "output_type": "stream",
     "text": [
      "[3000, 250, 150, 100, 50, 10]\n"
     ]
    }
   ],
   "source": [
    "d=[10,50,100,150,250,3000]\n",
    "d.sort(reverse=True)\n",
    "print(d)"
   ]
  },
  {
   "cell_type": "markdown",
   "id": "2209d8a5",
   "metadata": {},
   "source": [
    "# Customize Sort Function\n",
    "- You can also customize your own function by using the keyword argument key = function.\n",
    "\n",
    " - The function will return a number that will be used to sort the list (the lowest number first):"
   ]
  },
  {
   "cell_type": "code",
   "execution_count": 2,
   "id": "6fdca7a4",
   "metadata": {},
   "outputs": [
    {
     "name": "stdout",
     "output_type": "stream",
     "text": [
      "[25, 50, 65, 82.23, 100]\n"
     ]
    }
   ],
   "source": [
    "def myfunc(n):\n",
    "    return(n-50)\n",
    "a=[100,65,50,82.23,25]\n",
    "a.sort(key=myfunc)\n",
    "print(a)"
   ]
  },
  {
   "cell_type": "markdown",
   "id": "8f189e42",
   "metadata": {},
   "source": [
    "# Case Insensitive Sort\n",
    "- By default the sort() method is case sensitive, resulting in all capital letters being sorted before lower case letters:"
   ]
  },
  {
   "cell_type": "code",
   "execution_count": 3,
   "id": "d7f37fe0",
   "metadata": {},
   "outputs": [
    {
     "name": "stdout",
     "output_type": "stream",
     "text": [
      "['Apple', 'Kiwi', 'banana', 'fig']\n"
     ]
    }
   ],
   "source": [
    "a=[\"banana\",\"Apple\",\"Kiwi\",\"fig\"]\n",
    "a.sort()\n",
    "print(a)"
   ]
  },
  {
   "cell_type": "code",
   "execution_count": 5,
   "id": "48640cf0",
   "metadata": {},
   "outputs": [
    {
     "name": "stdout",
     "output_type": "stream",
     "text": [
      "['Anar', 'Apple', 'cherry', 'Fig']\n"
     ]
    }
   ],
   "source": [
    "b=[\"cherry\",\"Apple\",\"Fig\",\"Anar\"]\n",
    "b.sort(key=str.lower)\n",
    "print(b)"
   ]
  },
  {
   "cell_type": "markdown",
   "id": "80049166",
   "metadata": {},
   "source": [
    "# By default the sort() method is case sensitive, resulting in all capital letters being sorted before lower case letters:\n",
    "- What if you want to reverse the order of a list, regardless of the alphabet?\n",
    "\n",
    " - The reverse() method reverses the current sorting order of the elements.\n",
    "\n"
   ]
  },
  {
   "cell_type": "code",
   "execution_count": 6,
   "id": "4c11c56e",
   "metadata": {},
   "outputs": [
    {
     "name": "stdout",
     "output_type": "stream",
     "text": [
      "['kiwi', 'Cherry', 'banana', 'Apple']\n"
     ]
    }
   ],
   "source": [
    "c=[\"Apple\",\"banana\",\"Cherry\",\"kiwi\"]\n",
    "c.reverse()\n",
    "print(c)"
   ]
  },
  {
   "cell_type": "markdown",
   "id": "c7cccfda",
   "metadata": {},
   "source": [
    "# Copy a List\n",
    "- There are ways to make a copy, one way is to use the built-in List method copy().\n",
    "\n"
   ]
  },
  {
   "cell_type": "code",
   "execution_count": 9,
   "id": "ab170fa0",
   "metadata": {},
   "outputs": [
    {
     "name": "stdout",
     "output_type": "stream",
     "text": [
      "['apple', 'banana', 'cherry']\n"
     ]
    }
   ],
   "source": [
    "a= [\"apple\",\"banana\",\"cherry\"]\n",
    "mylist=a.copy()\n",
    "print(mylist)"
   ]
  },
  {
   "cell_type": "markdown",
   "id": "1813b397",
   "metadata": {},
   "source": [
    "# Join Two Lists\n",
    "- There are several ways to join, or concatenate, two or more lists in Python.\n",
    "\n",
    " - One of the easiest ways are by using the + operator."
   ]
  },
  {
   "cell_type": "code",
   "execution_count": 11,
   "id": "a58e02d3",
   "metadata": {},
   "outputs": [
    {
     "name": "stdout",
     "output_type": "stream",
     "text": [
      "['a', 'b', 'c', 1, 2, 3, 4, 5, 5, 6, 6]\n"
     ]
    }
   ],
   "source": [
    "a=[\"a\",\"b\",\"c\"]\n",
    "b=[1,2,3,4,5,5,6,6]\n",
    "c=a+b\n",
    "print(c)"
   ]
  },
  {
   "cell_type": "markdown",
   "id": "559e63ac",
   "metadata": {},
   "source": [
    "# Another way to join two lists is by appending all the items from list2 into list1, one by one:\n",
    "        \n"
   ]
  },
  {
   "cell_type": "code",
   "execution_count": 13,
   "id": "45dfeee9",
   "metadata": {},
   "outputs": [
    {
     "name": "stdout",
     "output_type": "stream",
     "text": [
      "['a', 'b', 'c', 1]\n",
      "['a', 'b', 'c', 1, 2]\n",
      "['a', 'b', 'c', 1, 2, 3]\n"
     ]
    }
   ],
   "source": [
    "a=[\"a\",\"b\",\"c\"]\n",
    "b=[1,2,3]\n",
    "for x in b:\n",
    "    a.append(x)\n",
    "    print(a)"
   ]
  },
  {
   "cell_type": "markdown",
   "id": "2a4db9cf",
   "metadata": {},
   "source": [
    "# to extend a list"
   ]
  },
  {
   "cell_type": "code",
   "execution_count": 18,
   "id": "99c1106c",
   "metadata": {},
   "outputs": [
    {
     "name": "stdout",
     "output_type": "stream",
     "text": [
      "[1, 2, 3, 4, 5, 6, 'apple', 'bnanan', 'vherry']\n"
     ]
    }
   ],
   "source": [
    "a=[\"apple\",\"bnanan\",\"vherry\"]\n",
    "b=[1,2,3,4,5,6]\n",
    "b.extend(a)\n",
    "print(b)"
   ]
  },
  {
   "cell_type": "code",
   "execution_count": null,
   "id": "4158cd0a",
   "metadata": {},
   "outputs": [],
   "source": []
  }
 ],
 "metadata": {
  "kernelspec": {
   "display_name": "Python 3 (ipykernel)",
   "language": "python",
   "name": "python3"
  },
  "language_info": {
   "codemirror_mode": {
    "name": "ipython",
    "version": 3
   },
   "file_extension": ".py",
   "mimetype": "text/x-python",
   "name": "python",
   "nbconvert_exporter": "python",
   "pygments_lexer": "ipython3",
   "version": "3.10.4"
  }
 },
 "nbformat": 4,
 "nbformat_minor": 5
}
