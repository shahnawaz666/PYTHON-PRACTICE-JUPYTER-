{
 "cells": [
  {
   "cell_type": "code",
   "execution_count": 27,
   "id": "70edfaa1",
   "metadata": {},
   "outputs": [
    {
     "name": "stdout",
     "output_type": "stream",
     "text": [
      "{'s': 's', 'h': 'h', 'a': 'a', 'd': 'd', 'b': 'b', 'k': 'k', 'n': 'n'}\n"
     ]
    }
   ],
   "source": [
    "a=\"shadabkhan\"\n",
    "b=dict()\n",
    "for i in (a):\n",
    "    b[i]=i\n",
    "print(b)"
   ]
  },
  {
   "cell_type": "code",
   "execution_count": 30,
   "id": "aee0726c",
   "metadata": {},
   "outputs": [
    {
     "name": "stdout",
     "output_type": "stream",
     "text": [
      "(-1, 2, 3, 4, -5)\n"
     ]
    }
   ],
   "source": [
    "a=-1,2,3,4,-5\n",
    "print(a)"
   ]
  },
  {
   "cell_type": "code",
   "execution_count": 35,
   "id": "3f0b4eb7",
   "metadata": {},
   "outputs": [
    {
     "name": "stdout",
     "output_type": "stream",
     "text": [
      "{'s': 1, 'h': 2, 'a': 2, 'd': 1, 'b': 1, 'k': 1, 'n': 1}\n"
     ]
    }
   ],
   "source": [
    "a=\"shadabkhan\"\n",
    "b=dict()\n",
    "for i in (a):\n",
    "    if i in b:\n",
    "        b[i]=+2\n",
    "    else:\n",
    "        b[i]=1\n",
    "print(b)"
   ]
  },
  {
   "cell_type": "code",
   "execution_count": 73,
   "id": "0357a65b",
   "metadata": {},
   "outputs": [
    {
     "name": "stdout",
     "output_type": "stream",
     "text": [
      "[1, 8, 27, 64]\n"
     ]
    }
   ],
   "source": [
    "a=[1,2,3,4]\n",
    "b=[i*i*i for i in a]\n",
    "print(b)"
   ]
  },
  {
   "cell_type": "code",
   "execution_count": 51,
   "id": "dfe23ffe",
   "metadata": {},
   "outputs": [
    {
     "name": "stdout",
     "output_type": "stream",
     "text": [
      "[1, 8, 27, 64]\n"
     ]
    }
   ],
   "source": [
    "c=[1,2,3,4]\n",
    "d=list(map(lambda x:x*x*x,c))\n",
    "print(d)"
   ]
  },
  {
   "cell_type": "code",
   "execution_count": 5,
   "id": "c2c540e4",
   "metadata": {},
   "outputs": [
    {
     "name": "stdout",
     "output_type": "stream",
     "text": [
      "2\n"
     ]
    }
   ],
   "source": [
    "def func(x):\n",
    "    def inner(a,b):\n",
    "        return x(a,b)\n",
    "    return inner\n",
    "@func\n",
    "def divide(a,b):\n",
    "    print(a+b)\n",
    "divide(1,1)"
   ]
  },
  {
   "cell_type": "code",
   "execution_count": 43,
   "id": "6a9af482",
   "metadata": {},
   "outputs": [
    {
     "name": "stdout",
     "output_type": "stream",
     "text": [
      "eee\n",
      "ooo\n",
      "3\n"
     ]
    }
   ],
   "source": [
    "def add(x):\n",
    "    def inner(a,b):\n",
    "        print(\"eee\")\n",
    "        return x(a,b)\n",
    "    return inner\n",
    "\n",
    "@add\n",
    "def func(a,b):\n",
    "    \n",
    "    c=a+b\n",
    "    print(\"ooo\")\n",
    "    return c\n",
    "a=func(1,2)\n",
    "print(a)"
   ]
  },
  {
   "cell_type": "code",
   "execution_count": 39,
   "id": "0d9cec01",
   "metadata": {},
   "outputs": [
    {
     "name": "stdout",
     "output_type": "stream",
     "text": [
      "300\n"
     ]
    }
   ],
   "source": [
    "def myfunc():\n",
    "  x = 300\n",
    "  print(x)\n",
    "\n",
    "myfunc()\n"
   ]
  },
  {
   "cell_type": "code",
   "execution_count": 50,
   "id": "1a7bf489",
   "metadata": {},
   "outputs": [
    {
     "name": "stdout",
     "output_type": "stream",
     "text": [
      "300\n",
      "400\n"
     ]
    }
   ],
   "source": [
    "x=400\n",
    "def func(x):\n",
    "    x=300\n",
    "    def a():\n",
    "        print(x)\n",
    "    a()\n",
    "func(1)\n",
    "print(x)"
   ]
  },
  {
   "cell_type": "code",
   "execution_count": 47,
   "id": "a967ad8d",
   "metadata": {},
   "outputs": [
    {
     "name": "stdout",
     "output_type": "stream",
     "text": [
      "200\n"
     ]
    }
   ],
   "source": [
    "x = 5500\n",
    "\n",
    "def myfunc():\n",
    "  global x\n",
    "  x = 200\n",
    "\n",
    "myfunc()\n",
    "\n",
    "print(x)\n"
   ]
  },
  {
   "cell_type": "code",
   "execution_count": 5,
   "id": "e9049c83",
   "metadata": {},
   "outputs": [
    {
     "name": "stdout",
     "output_type": "stream",
     "text": [
      "200\n",
      "300\n"
     ]
    }
   ],
   "source": [
    "x = 300\n",
    "\n",
    "def myfunc():\n",
    "  x = 200\n",
    "  print(x)\n",
    "\n",
    "myfunc()\n",
    "\n",
    "print(x)\n"
   ]
  },
  {
   "cell_type": "code",
   "execution_count": 20,
   "id": "3073f731",
   "metadata": {},
   "outputs": [
    {
     "name": "stdout",
     "output_type": "stream",
     "text": [
      "my name is Sara\n"
     ]
    }
   ],
   "source": [
    "class Student:\n",
    "    def __init__(self, fname, lname, age, section):\n",
    "        self.firstname = fname\n",
    "        self.lastname = lname\n",
    "        self.age = age\n",
    "        self.section = section\n",
    "    def show(self):\n",
    "        print(\"my name is\",self.firstname)\n",
    "# creating a new object\n",
    "stu1 = Student(\"Sara\", \"Ansh\", 22, \"A2\")\n",
    "stu1.show()"
   ]
  },
  {
   "cell_type": "markdown",
   "id": "552de392",
   "metadata": {},
   "source": [
    "# swap adajcent elements in a list without inbuilt functions"
   ]
  },
  {
   "cell_type": "code",
   "execution_count": 1,
   "id": "dc2d7860",
   "metadata": {},
   "outputs": [
    {
     "name": "stdout",
     "output_type": "stream",
     "text": [
      "[4, 5, 2, 3, 2, 1]\n"
     ]
    }
   ],
   "source": [
    "a=[5,4,3,2,1,2]\n",
    "for i in range(0,len(a),2):\n",
    "    a[i],a[i+1]=a[i+1],a[i]\n",
    "print(a)"
   ]
  },
  {
   "cell_type": "markdown",
   "id": "8e446339",
   "metadata": {},
   "source": [
    "# find the unique number in a list"
   ]
  },
  {
   "cell_type": "code",
   "execution_count": 11,
   "id": "01686ceb",
   "metadata": {},
   "outputs": [
    {
     "name": "stdout",
     "output_type": "stream",
     "text": [
      "3\n"
     ]
    }
   ],
   "source": [
    "c=[2,1,4,3,1,4,2]\n",
    "x=0\n",
    "for i in c:\n",
    "    x^=i\n",
    "print(x)"
   ]
  },
  {
   "cell_type": "markdown",
   "id": "378148b5",
   "metadata": {},
   "source": [
    "# find even in a list"
   ]
  },
  {
   "cell_type": "code",
   "execution_count": 76,
   "id": "83fe3cf0",
   "metadata": {},
   "outputs": [
    {
     "name": "stdout",
     "output_type": "stream",
     "text": [
      "[2, 8, 12]\n"
     ]
    }
   ],
   "source": [
    "a=[2,5,8,1,9,12]\n",
    "a=[i for i in a if i%2==0]\n",
    "print(a)"
   ]
  },
  {
   "cell_type": "code",
   "execution_count": 83,
   "id": "fee01bc1",
   "metadata": {},
   "outputs": [
    {
     "name": "stdout",
     "output_type": "stream",
     "text": [
      "[2, 4, 6]\n"
     ]
    }
   ],
   "source": [
    "b=[1,2,3,4,5,6]\n",
    "b=[i for i in b if i%2==0]\n",
    "print(b)"
   ]
  },
  {
   "cell_type": "code",
   "execution_count": 25,
   "id": "1e6015d2",
   "metadata": {},
   "outputs": [
    {
     "name": "stdout",
     "output_type": "stream",
     "text": [
      "{1: 1, 3: 3, 5: 5, 7: 7, 9: 9}\n"
     ]
    }
   ],
   "source": [
    "a={1,2,5,3,6,7,9}\n",
    "a={i:i for i in a if i%2==1}\n",
    "print(a)"
   ]
  },
  {
   "cell_type": "code",
   "execution_count": 9,
   "id": "4f94cc71",
   "metadata": {},
   "outputs": [
    {
     "name": "stdout",
     "output_type": "stream",
     "text": [
      "[2, 4, 6]\n"
     ]
    }
   ],
   "source": [
    "a=[1,2,3,4,5,6,7]\n",
    "b=list(filter(lambda x:(x%2==0),a))\n",
    "print(b)"
   ]
  },
  {
   "cell_type": "code",
   "execution_count": 14,
   "id": "78a5ae76",
   "metadata": {},
   "outputs": [
    {
     "name": "stdout",
     "output_type": "stream",
     "text": [
      "[8, 27, 64, 125]\n"
     ]
    }
   ],
   "source": [
    "d=[2,3,4,5]\n",
    "e=[i**3 for i in d]\n",
    "print(e)"
   ]
  },
  {
   "cell_type": "markdown",
   "id": "4cfabab1",
   "metadata": {},
   "source": [
    "# sort the list without using inbuilt functions\n"
   ]
  },
  {
   "cell_type": "code",
   "execution_count": 2,
   "id": "1333d509",
   "metadata": {},
   "outputs": [
    {
     "name": "stdout",
     "output_type": "stream",
     "text": [
      "[1, 2, 8, 8, 9, 22]\n"
     ]
    }
   ],
   "source": [
    "f=[2,1,8,9,22,8]\n",
    "for i in range(len(f)):\n",
    "    for j in range(i+1,len(f)):\n",
    "        if f[i]>f[j]:\n",
    "            f[i],f[j]=f[j],f[i]\n",
    "print(f)"
   ]
  },
  {
   "cell_type": "code",
   "execution_count": null,
   "id": "36706bcf",
   "metadata": {},
   "outputs": [],
   "source": []
  },
  {
   "cell_type": "markdown",
   "id": "887b8146",
   "metadata": {},
   "source": [
    "# find the highest number in a list"
   ]
  },
  {
   "cell_type": "code",
   "execution_count": 4,
   "id": "571ccb85",
   "metadata": {},
   "outputs": [
    {
     "name": "stdout",
     "output_type": "stream",
     "text": [
      "333\n"
     ]
    }
   ],
   "source": [
    "c=[1,2,333,4,5,122]\n",
    "b = 0\n",
    "for i in (c):\n",
    "    if i > b:\n",
    "        b = i\n",
    "print(b)"
   ]
  },
  {
   "cell_type": "code",
   "execution_count": 27,
   "id": "80af6728",
   "metadata": {
    "scrolled": true
   },
   "outputs": [
    {
     "name": "stdout",
     "output_type": "stream",
     "text": [
      "[0, 1, 8, 27, 64, 125, 216, 343, 512, 729]\n"
     ]
    }
   ],
   "source": [
    "x=[(lambda a:a**3)(a) for a in range(10)]\n",
    "print(x)"
   ]
  },
  {
   "cell_type": "markdown",
   "id": "a4da3fac",
   "metadata": {},
   "source": [
    "# using function find the power of 3"
   ]
  },
  {
   "cell_type": "code",
   "execution_count": 56,
   "id": "45cc1115",
   "metadata": {},
   "outputs": [
    {
     "name": "stdout",
     "output_type": "stream",
     "text": [
      "[8, 27, 64, 125]\n"
     ]
    }
   ],
   "source": [
    "y=[2,3,4,5]\n",
    "def cube(x):\n",
    "    a=[]\n",
    "    for i in x:\n",
    "        b=i**3\n",
    "        a.append(b)\n",
    "    return a\n",
    "# cube(y)\n",
    "d=cube(y)\n",
    "print(d)"
   ]
  },
  {
   "cell_type": "markdown",
   "id": "1c569a96",
   "metadata": {},
   "source": [
    "# string into dictionary"
   ]
  },
  {
   "cell_type": "code",
   "execution_count": 10,
   "id": "135071b4",
   "metadata": {},
   "outputs": [
    {
     "name": "stdout",
     "output_type": "stream",
     "text": [
      "{'b': 'b', 'i': 'i', 'l': 'l', 'a': 'a', 'k': 'k', 'h': 'h', 'n': 'n'}\n"
     ]
    }
   ],
   "source": [
    "a=\"bilalkhan\"\n",
    "b=dict()\n",
    "for i in a:\n",
    "    b[i]=i\n",
    "print(dict(b))"
   ]
  },
  {
   "cell_type": "code",
   "execution_count": 62,
   "id": "3e41b4f0",
   "metadata": {},
   "outputs": [
    {
     "name": "stdout",
     "output_type": "stream",
     "text": [
      "True\n"
     ]
    }
   ],
   "source": [
    "a=(1)\n",
    "print(bool(a))"
   ]
  },
  {
   "cell_type": "code",
   "execution_count": null,
   "id": "e3df5b67",
   "metadata": {},
   "outputs": [],
   "source": []
  }
 ],
 "metadata": {
  "kernelspec": {
   "display_name": "Python 3 (ipykernel)",
   "language": "python",
   "name": "python3"
  },
  "language_info": {
   "codemirror_mode": {
    "name": "ipython",
    "version": 3
   },
   "file_extension": ".py",
   "mimetype": "text/x-python",
   "name": "python",
   "nbconvert_exporter": "python",
   "pygments_lexer": "ipython3",
   "version": "3.10.4"
  }
 },
 "nbformat": 4,
 "nbformat_minor": 5
}
