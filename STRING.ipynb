{
 "cells": [
  {
   "cell_type": "markdown",
   "id": "92d96516",
   "metadata": {},
   "source": [
    "#      STRING to find  a len() of a string"
   ]
  },
  {
   "cell_type": "code",
   "execution_count": 21,
   "id": "216f0dea",
   "metadata": {},
   "outputs": [
    {
     "name": "stdout",
     "output_type": "stream",
     "text": [
      "11\n"
     ]
    }
   ],
   "source": [
    "a=(\"hello,world\")\n",
    "print(len(a))"
   ]
  },
  {
   "cell_type": "markdown",
   "id": "eed74e6f",
   "metadata": {},
   "source": [
    "# integer doesnt have any length function"
   ]
  },
  {
   "cell_type": "code",
   "execution_count": 19,
   "id": "332d21d8",
   "metadata": {},
   "outputs": [
    {
     "name": "stdout",
     "output_type": "stream",
     "text": [
      "7\n",
      "4\n"
     ]
    },
    {
     "ename": "TypeError",
     "evalue": "object of type 'int' has no len()",
     "output_type": "error",
     "traceback": [
      "\u001b[1;31m---------------------------------------------------------------------------\u001b[0m",
      "\u001b[1;31mTypeError\u001b[0m                                 Traceback (most recent call last)",
      "Input \u001b[1;32mIn [19]\u001b[0m, in \u001b[0;36m<cell line: 6>\u001b[1;34m()\u001b[0m\n\u001b[0;32m      4\u001b[0m \u001b[38;5;28mprint\u001b[39m(\u001b[38;5;28mlen\u001b[39m(a))\n\u001b[0;32m      5\u001b[0m \u001b[38;5;28mprint\u001b[39m(\u001b[38;5;28mlen\u001b[39m(b))\n\u001b[1;32m----> 6\u001b[0m \u001b[38;5;28mprint\u001b[39m(\u001b[38;5;28;43mlen\u001b[39;49m\u001b[43m(\u001b[49m\u001b[43mc\u001b[49m\u001b[43m)\u001b[49m)\n",
      "\u001b[1;31mTypeError\u001b[0m: object of type 'int' has no len()"
     ]
    }
   ],
   "source": [
    "a = (\"1,2,34,\")\n",
    "b = (1,2,3,4)\n",
    "c = 2\n",
    "print(len(a))\n",
    "print(len(b))\n",
    "print(len(c))"
   ]
  },
  {
   "cell_type": "markdown",
   "id": "1668f81d",
   "metadata": {},
   "source": [
    "# check string \n",
    "### check if certain phrase or character is present in a string we can use a keyword in"
   ]
  },
  {
   "cell_type": "code",
   "execution_count": 25,
   "id": "1e838f89",
   "metadata": {},
   "outputs": [
    {
     "name": "stdout",
     "output_type": "stream",
     "text": [
      "True\n",
      "True\n",
      "False\n"
     ]
    }
   ],
   "source": [
    "txt=(\"air is free in this world\")\n",
    "print(\"free\" in txt)\n",
    "print(\"is\" in txt)\n",
    "print(\"quality\" in txt)"
   ]
  },
  {
   "cell_type": "markdown",
   "id": "3f1c0a34",
   "metadata": {},
   "source": [
    "# CHECK IF NOT\n",
    "#### to check if certain phrase or character is NOT present in a follow text"
   ]
  },
  {
   "cell_type": "code",
   "execution_count": 27,
   "id": "4f9e989c",
   "metadata": {},
   "outputs": [
    {
     "name": "stdout",
     "output_type": "stream",
     "text": [
      "False\n",
      "True\n"
     ]
    }
   ],
   "source": [
    "txt=(\"my name is unknown\")\n",
    "print(\"my\" not in txt)\n",
    "print(\"khan\" not in txt)"
   ]
  },
  {
   "cell_type": "markdown",
   "id": "3457ce02",
   "metadata": {},
   "source": [
    "# SLICING\n",
    "### to return a range of characters by using the slice syntax"
   ]
  },
  {
   "cell_type": "code",
   "execution_count": 34,
   "id": "e396ec49",
   "metadata": {},
   "outputs": [
    {
     "name": "stdout",
     "output_type": "stream",
     "text": [
      "gra\n",
      "llo\n"
     ]
    }
   ],
   "source": [
    "b =(\"hello\")\n",
    "a=(\"graphics\")\n",
    "print(a[0:3])\n",
    "print(b[2:5])"
   ]
  },
  {
   "cell_type": "markdown",
   "id": "667bc4cb",
   "metadata": {},
   "source": [
    "# negative indexing\n",
    "### we use negative indexes to start from the end of the string\n",
    "### it starts from right to left"
   ]
  },
  {
   "cell_type": "code",
   "execution_count": 41,
   "id": "30feba55",
   "metadata": {},
   "outputs": [
    {
     "name": "stdout",
     "output_type": "stream",
     "text": [
      "rl\n"
     ]
    }
   ],
   "source": [
    "a =(\"helloworld!\")\n",
    "print(a[-4:-2])"
   ]
  },
  {
   "cell_type": "markdown",
   "id": "943fc7dc",
   "metadata": {},
   "source": [
    "# modify strings\n",
    "- upper case with upper case method \n",
    "- output comes in all capital letters"
   ]
  },
  {
   "cell_type": "code",
   "execution_count": 42,
   "id": "e368a649",
   "metadata": {},
   "outputs": [
    {
     "name": "stdout",
     "output_type": "stream",
     "text": [
      "HELLO WORL!\n"
     ]
    }
   ],
   "source": [
    "a =(\"hello worl!\")\n",
    "print(a.upper())"
   ]
  },
  {
   "cell_type": "code",
   "execution_count": 48,
   "id": "b4383f4f",
   "metadata": {},
   "outputs": [
    {
     "name": "stdout",
     "output_type": "stream",
     "text": [
      "Ma'am I am String\n"
     ]
    }
   ],
   "source": [
    "a =\"Ma'am I am String\"\n",
    "print(a)"
   ]
  },
  {
   "cell_type": "markdown",
   "id": "5a486073",
   "metadata": {},
   "source": [
    "# lower case returns the string in lower case "
   ]
  },
  {
   "cell_type": "code",
   "execution_count": 52,
   "id": "57e7cae1",
   "metadata": {},
   "outputs": [
    {
     "name": "stdout",
     "output_type": "stream",
     "text": [
      "hello world \n"
     ]
    }
   ],
   "source": [
    "a=\"hello world \"\n",
    "print(a.lower())"
   ]
  },
  {
   "cell_type": "markdown",
   "id": "53d4e482",
   "metadata": {},
   "source": [
    "# to remove whitespace from a string\n",
    "- strip method whitespace from beginning or the end"
   ]
  },
  {
   "cell_type": "code",
   "execution_count": 62,
   "id": "af30671c",
   "metadata": {},
   "outputs": [
    {
     "name": "stdout",
     "output_type": "stream",
     "text": [
      "helloworld\n"
     ]
    }
   ],
   "source": [
    "a=\"         helloworld\"\n",
    "print(a.strip())"
   ]
  },
  {
   "cell_type": "markdown",
   "id": "1e67e42d",
   "metadata": {},
   "source": [
    "# replace a string by replace() method\n",
    "- replaces a string with another string"
   ]
  },
  {
   "cell_type": "code",
   "execution_count": 65,
   "id": "1d68567d",
   "metadata": {},
   "outputs": [
    {
     "name": "stdout",
     "output_type": "stream",
     "text": [
      "his name is yusuf\n"
     ]
    }
   ],
   "source": [
    "b=\"my name is yusuf\"\n",
    "print(b.replace('my','his'))\n"
   ]
  },
  {
   "cell_type": "markdown",
   "id": "ab934025",
   "metadata": {},
   "source": [
    "# split spring \n",
    "- split() method splits the string into substrings if it finds instances of the separator"
   ]
  },
  {
   "cell_type": "code",
   "execution_count": 70,
   "id": "d06e73cc",
   "metadata": {},
   "outputs": [
    {
     "name": "stdout",
     "output_type": "stream",
     "text": [
      "['helloworld']\n"
     ]
    }
   ],
   "source": [
    "c =\"helloworld\"\n",
    "print(c.split(\",\"))"
   ]
  },
  {
   "cell_type": "code",
   "execution_count": 73,
   "id": "15a52128",
   "metadata": {},
   "outputs": [
    {
     "name": "stdout",
     "output_type": "stream",
     "text": [
      "['hello ', ' world']\n"
     ]
    }
   ],
   "source": [
    " a = \"hello , world\"\n",
    "print(a.split(\",\"))"
   ]
  },
  {
   "cell_type": "code",
   "execution_count": 75,
   "id": "93e4d33e",
   "metadata": {},
   "outputs": [
    {
     "name": "stdout",
     "output_type": "stream",
     "text": [
      "['my name is', ' shahnawaz']\n"
     ]
    }
   ],
   "source": [
    "d=\"my name is, shahnawaz\"\n",
    "print(d.split(\",\"))"
   ]
  },
  {
   "cell_type": "markdown",
   "id": "733dc50f",
   "metadata": {},
   "source": [
    "# string concatenation\n",
    "- to combine or to link something string you can use the +operator"
   ]
  },
  {
   "cell_type": "code",
   "execution_count": 79,
   "id": "68dd2ef3",
   "metadata": {},
   "outputs": [
    {
     "name": "stdout",
     "output_type": "stream",
     "text": [
      "helloworld\n"
     ]
    }
   ],
   "source": [
    "a=\"hello\"\n",
    "b=\"world\"\n",
    "c=a+b\n",
    "print(c)"
   ]
  },
  {
   "cell_type": "markdown",
   "id": "91d1d255",
   "metadata": {},
   "source": [
    "# to add a space between the string"
   ]
  },
  {
   "cell_type": "code",
   "execution_count": 83,
   "id": "bab1433f",
   "metadata": {
    "scrolled": true
   },
   "outputs": [
    {
     "name": "stdout",
     "output_type": "stream",
     "text": [
      "hello     world\n"
     ]
    }
   ],
   "source": [
    "a=\"hello\"\n",
    "b=\"world\"\n",
    "c=a+\"     \"+b\n",
    "print(c)"
   ]
  },
  {
   "cell_type": "markdown",
   "id": "94f58911",
   "metadata": {},
   "source": [
    "# string format \n",
    "- combine strings and numbers by using the format() method"
   ]
  },
  {
   "cell_type": "code",
   "execution_count": 84,
   "id": "48408066",
   "metadata": {},
   "outputs": [
    {
     "name": "stdout",
     "output_type": "stream",
     "text": [
      "my name is john,and i am 36\n"
     ]
    }
   ],
   "source": [
    "age=36\n",
    "txt=\"my name is john,and i am {}\"\n",
    "print(txt.format(age))"
   ]
  },
  {
   "cell_type": "code",
   "execution_count": 1,
   "id": "4d7f892b",
   "metadata": {},
   "outputs": [
    {
     "name": "stdout",
     "output_type": "stream",
     "text": [
      "1\n"
     ]
    }
   ],
   "source": [
    "print(1)"
   ]
  },
  {
   "cell_type": "code",
   "execution_count": null,
   "id": "9abc86b2",
   "metadata": {},
   "outputs": [],
   "source": []
  }
 ],
 "metadata": {
  "kernelspec": {
   "display_name": "Python 3 (ipykernel)",
   "language": "python",
   "name": "python3"
  },
  "language_info": {
   "codemirror_mode": {
    "name": "ipython",
    "version": 3
   },
   "file_extension": ".py",
   "mimetype": "text/x-python",
   "name": "python",
   "nbconvert_exporter": "python",
   "pygments_lexer": "ipython3",
   "version": "3.10.4"
  }
 },
 "nbformat": 4,
 "nbformat_minor": 5
}
