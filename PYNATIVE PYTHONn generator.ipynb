{
 "cells": [
  {
   "cell_type": "code",
   "execution_count": 3,
   "id": "9a1e8d80",
   "metadata": {},
   "outputs": [
    {
     "ename": "SyntaxError",
     "evalue": "invalid syntax (2899496185.py, line 7)",
     "output_type": "error",
     "traceback": [
      "\u001b[1;36m  Input \u001b[1;32mIn [3]\u001b[1;36m\u001b[0m\n\u001b[1;33m    pass x\u001b[0m\n\u001b[1;37m         ^\u001b[0m\n\u001b[1;31mSyntaxError\u001b[0m\u001b[1;31m:\u001b[0m invalid syntax\n"
     ]
    }
   ],
   "source": [
    "def func(a,b):\n",
    "    return a + b\n",
    "x=func(1,2)\n",
    "print(x)\n",
    "del x\n",
    "print(x)\n"
   ]
  },
  {
   "cell_type": "code",
   "execution_count": 5,
   "id": "1e86861a",
   "metadata": {},
   "outputs": [],
   "source": [
    "def func(a,b):\n",
    "    pass"
   ]
  },
  {
   "cell_type": "code",
   "execution_count": 26,
   "id": "64551d3e",
   "metadata": {},
   "outputs": [
    {
     "name": "stdout",
     "output_type": "stream",
     "text": [
      "2022-07-24 15:16:05.133560\n"
     ]
    }
   ],
   "source": [
    "import datetime\n",
    "now =datetime.datetime.now()\n",
    "print(now)"
   ]
  },
  {
   "cell_type": "code",
   "execution_count": 30,
   "id": "dc57afdf",
   "metadata": {},
   "outputs": [
    {
     "name": "stdout",
     "output_type": "stream",
     "text": [
      "Class definitions\n",
      "*****************\n",
      "\n",
      "A class definition defines a class object (see section The standard\n",
      "type hierarchy):\n",
      "\n",
      "   classdef    ::= [decorators] \"class\" classname [inheritance] \":\" suite\n",
      "   inheritance ::= \"(\" [argument_list] \")\"\n",
      "   classname   ::= identifier\n",
      "\n",
      "A class definition is an executable statement.  The inheritance list\n",
      "usually gives a list of base classes (see Metaclasses for more\n",
      "advanced uses), so each item in the list should evaluate to a class\n",
      "object which allows subclassing.  Classes without an inheritance list\n",
      "inherit, by default, from the base class \"object\"; hence,\n",
      "\n",
      "   class Foo:\n",
      "       pass\n",
      "\n",
      "is equivalent to\n",
      "\n",
      "   class Foo(object):\n",
      "       pass\n",
      "\n",
      "The class’s suite is then executed in a new execution frame (see\n",
      "Naming and binding), using a newly created local namespace and the\n",
      "original global namespace. (Usually, the suite contains mostly\n",
      "function definitions.)  When the class’s suite finishes execution, its\n",
      "execution frame is discarded but its local namespace is saved. [5] A\n",
      "class object is then created using the inheritance list for the base\n",
      "classes and the saved local namespace for the attribute dictionary.\n",
      "The class name is bound to this class object in the original local\n",
      "namespace.\n",
      "\n",
      "The order in which attributes are defined in the class body is\n",
      "preserved in the new class’s \"__dict__\".  Note that this is reliable\n",
      "only right after the class is created and only for classes that were\n",
      "defined using the definition syntax.\n",
      "\n",
      "Class creation can be customized heavily using metaclasses.\n",
      "\n",
      "Classes can also be decorated: just like when decorating functions,\n",
      "\n",
      "   @f1(arg)\n",
      "   @f2\n",
      "   class Foo: pass\n",
      "\n",
      "is roughly equivalent to\n",
      "\n",
      "   class Foo: pass\n",
      "   Foo = f1(arg)(f2(Foo))\n",
      "\n",
      "The evaluation rules for the decorator expressions are the same as for\n",
      "function decorators.  The result is then bound to the class name.\n",
      "\n",
      "Changed in version 3.9: Classes may be decorated with any valid\n",
      "\"assignment_expression\". Previously, the grammar was much more\n",
      "restrictive; see **PEP 614** for details.\n",
      "\n",
      "**Programmer’s note:** Variables defined in the class definition are\n",
      "class attributes; they are shared by instances.  Instance attributes\n",
      "can be set in a method with \"self.name = value\".  Both class and\n",
      "instance attributes are accessible through the notation “\"self.name\"”,\n",
      "and an instance attribute hides a class attribute with the same name\n",
      "when accessed in this way.  Class attributes can be used as defaults\n",
      "for instance attributes, but using mutable values there can lead to\n",
      "unexpected results.  Descriptors can be used to create instance\n",
      "variables with different implementation details.\n",
      "\n",
      "See also:\n",
      "\n",
      "  **PEP 3115** - Metaclasses in Python 3000\n",
      "     The proposal that changed the declaration of metaclasses to the\n",
      "     current syntax, and the semantics for how classes with\n",
      "     metaclasses are constructed.\n",
      "\n",
      "  **PEP 3129** - Class Decorators\n",
      "     The proposal that added class decorators.  Function and method\n",
      "     decorators were introduced in **PEP 318**.\n",
      "\n",
      "Related help topics: CLASSES, SPECIALMETHODS\n",
      "\n",
      "None\n"
     ]
    }
   ],
   "source": [
    "print(help(\"class\"))\n"
   ]
  },
  {
   "cell_type": "code",
   "execution_count": 2,
   "id": "76edb4d9",
   "metadata": {},
   "outputs": [
    {
     "name": "stdout",
     "output_type": "stream",
     "text": [
      "['False', 'None', 'True', 'and', 'as', 'assert', 'async', 'await', 'break', 'class', 'continue', 'def', 'del', 'elif', 'else', 'except', 'finally', 'for', 'from', 'global', 'if', 'import', 'in', 'is', 'lambda', 'nonlocal', 'not', 'or', 'pass', 'raise', 'return', 'try', 'while', 'with', 'yield']\n"
     ]
    }
   ],
   "source": [
    "import keyword\n",
    "print(keyword.kwlist)"
   ]
  },
  {
   "cell_type": "code",
   "execution_count": 4,
   "id": "6eae1379",
   "metadata": {},
   "outputs": [
    {
     "name": "stdout",
     "output_type": "stream",
     "text": [
      "\n",
      "Here is a list of the Python keywords.  Enter any keyword to get more help.\n",
      "\n",
      "False               class               from                or\n",
      "None                continue            global              pass\n",
      "True                def                 if                  raise\n",
      "and                 del                 import              return\n",
      "as                  elif                in                  try\n",
      "assert              else                is                  while\n",
      "async               except              lambda              with\n",
      "await               finally             nonlocal            yield\n",
      "break               for                 not                 \n",
      "\n",
      "None\n"
     ]
    }
   ],
   "source": [
    "print(help(\"keywords\"))"
   ]
  },
  {
   "cell_type": "code",
   "execution_count": 5,
   "id": "365f542b",
   "metadata": {},
   "outputs": [
    {
     "name": "stdout",
     "output_type": "stream",
     "text": [
      "True\n"
     ]
    }
   ],
   "source": [
    "x=25\n",
    "y=20\n",
    "z=x>y\n",
    "print(z)"
   ]
  },
  {
   "cell_type": "code",
   "execution_count": 2,
   "id": "add49d3a",
   "metadata": {},
   "outputs": [
    {
     "name": "stdout",
     "output_type": "stream",
     "text": [
      "for loop to display first five numbers\n",
      "0 1 2 3 4 while loop to display first five numbers\n",
      "0 1 2 3 4 "
     ]
    }
   ],
   "source": [
    "print(\"for loop to display first five numbers\")\n",
    "for i in range(5):\n",
    "    print(i,end=\" \")\n",
    "print(\"while loop to display first five numbers\")\n",
    "n=0\n",
    "while n<5:\n",
    "    print(n,end=\" \")\n",
    "    n=n+1"
   ]
  },
  {
   "cell_type": "code",
   "execution_count": 7,
   "id": "e7026752",
   "metadata": {},
   "outputs": [
    {
     "name": "stdout",
     "output_type": "stream",
     "text": [
      "2022-07-25 14:37:53.943783\n"
     ]
    }
   ],
   "source": [
    "from datetime import datetime\n",
    "a = datetime.now()\n",
    "print(a)"
   ]
  },
  {
   "cell_type": "code",
   "execution_count": 25,
   "id": "4c4cf0bb",
   "metadata": {},
   "outputs": [
    {
     "name": "stdout",
     "output_type": "stream",
     "text": [
      "2022-07-25 16:52:33.744900\n"
     ]
    }
   ],
   "source": [
    "from datetime import date\n",
    "a=datetime.now()\n",
    "print(a)"
   ]
  },
  {
   "cell_type": "code",
   "execution_count": 16,
   "id": "3157dab8",
   "metadata": {},
   "outputs": [
    {
     "name": "stdout",
     "output_type": "stream",
     "text": [
      "['smdm', 2, 'kelly', 11.4, 5.5]\n",
      "list\n"
     ]
    }
   ],
   "source": [
    "a=[\"smdm\",2,\"kelly\",11.4,5.5]\n",
    "print(a)\n",
    "print(type(a).__name__)"
   ]
  },
  {
   "cell_type": "code",
   "execution_count": 24,
   "id": "95e0859e",
   "metadata": {},
   "outputs": [
    {
     "ename": "ModuleNotFoundError",
     "evalue": "No module named 'CONSTANT'",
     "output_type": "error",
     "traceback": [
      "\u001b[1;31m---------------------------------------------------------------------------\u001b[0m",
      "\u001b[1;31mModuleNotFoundError\u001b[0m                       Traceback (most recent call last)",
      "Input \u001b[1;32mIn [24]\u001b[0m, in \u001b[0;36m<cell line: 3>\u001b[1;34m()\u001b[0m\n\u001b[0;32m      1\u001b[0m PI\u001b[38;5;241m=\u001b[39m\u001b[38;5;241m3.14\u001b[39m\n\u001b[0;32m      2\u001b[0m TOTAL_AREA\u001b[38;5;241m=\u001b[39m \u001b[38;5;241m1233\u001b[39m\n\u001b[1;32m----> 3\u001b[0m \u001b[38;5;28;01mimport\u001b[39;00m \u001b[38;5;21;01mCONSTANT\u001b[39;00m\n\u001b[0;32m      4\u001b[0m \u001b[38;5;28mprint\u001b[39m(CONSTANT\u001b[38;5;241m.\u001b[39mPI)\n\u001b[0;32m      5\u001b[0m \u001b[38;5;28mprint\u001b[39m(CONSTANT\u001b[38;5;241m.\u001b[39mTOTAL_AREA)\n",
      "\u001b[1;31mModuleNotFoundError\u001b[0m: No module named 'CONSTANT'"
     ]
    }
   ],
   "source": [
    "PI=3.14\n",
    "TOTAL_AREA= 1233\n",
    "import CONSTANT\n",
    "print(CONSTANT.PI)\n",
    "print(CONSTANT.TOTAL_AREA)"
   ]
  },
  {
   "cell_type": "code",
   "execution_count": 1,
   "id": "6c6e108c",
   "metadata": {},
   "outputs": [
    {
     "ename": "NameError",
     "evalue": "name 'a' is not defined",
     "output_type": "error",
     "traceback": [
      "\u001b[1;31m---------------------------------------------------------------------------\u001b[0m",
      "\u001b[1;31mNameError\u001b[0m                                 Traceback (most recent call last)",
      "Input \u001b[1;32mIn [1]\u001b[0m, in \u001b[0;36m<cell line: 3>\u001b[1;34m()\u001b[0m\n\u001b[0;32m      1\u001b[0m a\u001b[38;5;241m=\u001b[39m\u001b[38;5;241m100\u001b[39m\n\u001b[0;32m      2\u001b[0m \u001b[38;5;28;01mdel\u001b[39;00m a\n\u001b[1;32m----> 3\u001b[0m \u001b[38;5;28mprint\u001b[39m(\u001b[43ma\u001b[49m)\n",
      "\u001b[1;31mNameError\u001b[0m: name 'a' is not defined"
     ]
    }
   ],
   "source": [
    "a=100\n",
    "del a\n",
    "print(a)"
   ]
  },
  {
   "cell_type": "code",
   "execution_count": 1,
   "id": "a11eaac5",
   "metadata": {},
   "outputs": [
    {
     "name": "stdout",
     "output_type": "stream",
     "text": [
      "111\n"
     ]
    }
   ],
   "source": [
    "a=b=c=111\n",
    "print(a)"
   ]
  },
  {
   "cell_type": "code",
   "execution_count": 2,
   "id": "ffce3585",
   "metadata": {},
   "outputs": [
    {
     "name": "stdout",
     "output_type": "stream",
     "text": [
      "111\n"
     ]
    }
   ],
   "source": [
    "print(b)"
   ]
  },
  {
   "cell_type": "code",
   "execution_count": 3,
   "id": "5f49c1c3",
   "metadata": {},
   "outputs": [
    {
     "name": "stdout",
     "output_type": "stream",
     "text": [
      "111\n"
     ]
    }
   ],
   "source": [
    "print(c)"
   ]
  },
  {
   "cell_type": "code",
   "execution_count": 6,
   "id": "2cd139b7",
   "metadata": {},
   "outputs": [
    {
     "name": "stdout",
     "output_type": "stream",
     "text": [
      "12\n"
     ]
    }
   ],
   "source": [
    "a=\"1\"\n",
    "b=\"2\"\n",
    "c=a+b\n",
    "print(c)"
   ]
  },
  {
   "cell_type": "code",
   "execution_count": 9,
   "id": "7f5cbb7a",
   "metadata": {},
   "outputs": [
    {
     "name": "stdout",
     "output_type": "stream",
     "text": [
      "value 900\n",
      "value: 1\n"
     ]
    }
   ],
   "source": [
    "def tst1():\n",
    "    a=900\n",
    "    print(\"value\",a)\n",
    "def tst2():\n",
    "    print(\"value:\",a)\n",
    "tst1()\n",
    "tst2()"
   ]
  },
  {
   "cell_type": "code",
   "execution_count": 2,
   "id": "1bce9e0c",
   "metadata": {},
   "outputs": [
    {
     "name": "stdout",
     "output_type": "stream",
     "text": [
      "value 900\n",
      "value 900\n"
     ]
    }
   ],
   "source": [
    "b=900\n",
    "def a():\n",
    "    print(\"value\",b)\n",
    "def c():\n",
    "    print(\"value\",b)\n",
    "a()\n",
    "c()"
   ]
  },
  {
   "cell_type": "code",
   "execution_count": 3,
   "id": "bdab5341",
   "metadata": {},
   "outputs": [
    {
     "name": "stdout",
     "output_type": "stream",
     "text": [
      "(10, 20, 30, 40)\n"
     ]
    }
   ],
   "source": [
    "a=10\n",
    "b=20\n",
    "c=30\n",
    "d=40\n",
    "y=a,b,c,d\n",
    "print(y)"
   ]
  },
  {
   "cell_type": "code",
   "execution_count": 1,
   "id": "b36838fb",
   "metadata": {},
   "outputs": [
    {
     "name": "stdout",
     "output_type": "stream",
     "text": [
      "1 2 3\n"
     ]
    }
   ],
   "source": [
    "a=(1,2,3)\n",
    "b,c,d=a\n",
    "print(b,c,d)"
   ]
  },
  {
   "cell_type": "code",
   "execution_count": 6,
   "id": "90f88e50",
   "metadata": {},
   "outputs": [
    {
     "name": "stdout",
     "output_type": "stream",
     "text": [
      "(1, 2, 3)\n"
     ]
    }
   ],
   "source": [
    "a=1\n",
    "b=2\n",
    "c=3\n",
    "d=a,b,c\n",
    "print(d)"
   ]
  },
  {
   "cell_type": "code",
   "execution_count": 8,
   "id": "9d9884d9",
   "metadata": {},
   "outputs": [
    {
     "name": "stdout",
     "output_type": "stream",
     "text": [
      "2961\n",
      "2962\n"
     ]
    }
   ],
   "source": [
    "a=1\n",
    "b=1\n",
    "import sys\n",
    "print(sys.getrefcount(a))\n",
    "print(sys.getrefcount(b))"
   ]
  },
  {
   "cell_type": "code",
   "execution_count": 2,
   "id": "0af62141",
   "metadata": {},
   "outputs": [
    {
     "name": "stdout",
     "output_type": "stream",
     "text": [
      "enter number2\n",
      "2 x 1 = 2\n",
      "2 x 2 = 4\n",
      "2 x 3 = 6\n",
      "2 x 4 = 8\n",
      "2 x 5 = 10\n",
      "2 x 6 = 12\n",
      "2 x 7 = 14\n",
      "2 x 8 = 16\n",
      "2 x 9 = 18\n",
      "2 x 10 = 20\n"
     ]
    }
   ],
   "source": [
    "a=int(input(\"enter number\"))\n",
    "for i in range (1,11):;print(a,'x',i,\"=\",a*i)"
   ]
  },
  {
   "cell_type": "code",
   "execution_count": 9,
   "id": "69c12be8",
   "metadata": {},
   "outputs": [
    {
     "name": "stdout",
     "output_type": "stream",
     "text": [
      "enter number2\n",
      "[2, 4, 6, 8, 10, 12, 14, 16, 18, 20]\n"
     ]
    }
   ],
   "source": [
    "b=int(input(\"enter number\"))\n",
    "k=[k*b for k in range(1,11)]\n",
    "print(k)"
   ]
  },
  {
   "cell_type": "code",
   "execution_count": 10,
   "id": "14163a9b",
   "metadata": {},
   "outputs": [
    {
     "name": "stdout",
     "output_type": "stream",
     "text": [
      "-6\n"
     ]
    }
   ],
   "source": [
    "x=5\n",
    "print(~x)"
   ]
  },
  {
   "cell_type": "code",
   "execution_count": 4,
   "id": "be4f9159",
   "metadata": {},
   "outputs": [
    {
     "name": "stdout",
     "output_type": "stream",
     "text": [
      "yes\n",
      "[1, 2, 32, 4]\n"
     ]
    }
   ],
   "source": [
    "a=[1,2,32,4]\n",
    "if 1 in a:\n",
    "    print(\"yes\")\n",
    "else:\n",
    "    print(\"no\")\n",
    "print(a)"
   ]
  },
  {
   "cell_type": "code",
   "execution_count": 8,
   "id": "fdc4c418",
   "metadata": {},
   "outputs": [
    {
     "name": "stdout",
     "output_type": "stream",
     "text": [
      "{'a': '1', 'b': '2', 'c': 3}\n",
      "('a', '1')\n",
      "('b', '2')\n",
      "('c', 3)\n",
      "a\n",
      "b\n",
      "c\n",
      "1\n",
      "2\n",
      "3\n"
     ]
    }
   ],
   "source": [
    "a={\n",
    "    \"a\":\"1\",\"b\":\"2\",\"c\":3\n",
    "}\n",
    "print(a)\n",
    "for i in a.items():\n",
    "    print(i)\n",
    "for b in a.keys():\n",
    "    print(b)\n",
    "for c in a.values():\n",
    "    print(c)"
   ]
  },
  {
   "cell_type": "code",
   "execution_count": 11,
   "id": "03cd184b",
   "metadata": {},
   "outputs": [
    {
     "name": "stdout",
     "output_type": "stream",
     "text": [
      "<class 'str'>\n"
     ]
    }
   ],
   "source": [
    "a=\"pynative\"\n",
    "print(type(a))"
   ]
  },
  {
   "cell_type": "code",
   "execution_count": 13,
   "id": "65a93e09",
   "metadata": {},
   "outputs": [
    {
     "name": "stdout",
     "output_type": "stream",
     "text": [
      "23.4444444\n"
     ]
    }
   ],
   "source": [
    "a=23.4444444\n",
    "print(a)"
   ]
  },
  {
   "cell_type": "code",
   "execution_count": 14,
   "id": "0012e5ad",
   "metadata": {},
   "outputs": [
    {
     "name": "stdout",
     "output_type": "stream",
     "text": [
      "23.333333\n"
     ]
    }
   ],
   "source": [
    "a=\"23.333333\"\n",
    "print(a)"
   ]
  },
  {
   "cell_type": "code",
   "execution_count": 16,
   "id": "b1835b9b",
   "metadata": {},
   "outputs": [
    {
     "name": "stdout",
     "output_type": "stream",
     "text": [
      "['23.4444']\n"
     ]
    }
   ],
   "source": [
    "a=[\"23.4444\"]\n",
    "print(a)"
   ]
  },
  {
   "cell_type": "code",
   "execution_count": 18,
   "id": "c296ab35",
   "metadata": {},
   "outputs": [
    {
     "name": "stdout",
     "output_type": "stream",
     "text": [
      "{'23.444'}\n"
     ]
    }
   ],
   "source": [
    "a={\"23.444\"}\n",
    "print(a)"
   ]
  },
  {
   "cell_type": "code",
   "execution_count": 19,
   "id": "a4876b1c",
   "metadata": {},
   "outputs": [
    {
     "name": "stdout",
     "output_type": "stream",
     "text": [
      "['banana', 'apple', 'cherry']\n"
     ]
    }
   ],
   "source": [
    "a=[\"banana\",\"apple\",\"cherry\"]\n",
    "print(a)"
   ]
  },
  {
   "cell_type": "code",
   "execution_count": 26,
   "id": "0f3bee9f",
   "metadata": {},
   "outputs": [
    {
     "name": "stdout",
     "output_type": "stream",
     "text": [
      "['banana', 'apple', 'cherry']\n",
      "['sb', 'gg', 2]\n"
     ]
    }
   ],
   "source": [
    "a=[\"banana\",\"apple\",\"cherry\"]\n",
    "print(a)\n",
    "b=[\"sb\",\"gg\",2]\n",
    "print(b)"
   ]
  },
  {
   "cell_type": "code",
   "execution_count": 38,
   "id": "e6a37b9d",
   "metadata": {},
   "outputs": [
    {
     "name": "stdout",
     "output_type": "stream",
     "text": [
      "['kelly', 'jessa', 20, 37.75]\n",
      "['kelly', 'jessa', 20]\n"
     ]
    }
   ],
   "source": [
    "a=[\"kelly\",\"jessa\",20,37.75]\n",
    "print(a)\n",
    "del a[-1]\n",
    "print(a)"
   ]
  },
  {
   "cell_type": "code",
   "execution_count": 3,
   "id": "76683926",
   "metadata": {},
   "outputs": [
    {
     "name": "stdout",
     "output_type": "stream",
     "text": [
      "['kelly', 1, 2, 3, 4]\n",
      "kelly\n",
      "2\n",
      "['kelly', 'sam', 2, 3, 4]\n"
     ]
    }
   ],
   "source": [
    "a=[\"kelly\",1,2,3,4]\n",
    "b=a\n",
    "print(b)\n",
    "print(a[0])\n",
    "print(b[2])\n",
    "b[1]=\"sam\"\n",
    "print(b)"
   ]
  },
  {
   "cell_type": "code",
   "execution_count": 8,
   "id": "a037e838",
   "metadata": {},
   "outputs": [
    {
     "ename": "TypeError",
     "evalue": "'tuple' object does not support item assignment",
     "output_type": "error",
     "traceback": [
      "\u001b[1;31m---------------------------------------------------------------------------\u001b[0m",
      "\u001b[1;31mTypeError\u001b[0m                                 Traceback (most recent call last)",
      "Input \u001b[1;32mIn [8]\u001b[0m, in \u001b[0;36m<cell line: 2>\u001b[1;34m()\u001b[0m\n\u001b[0;32m      1\u001b[0m a\u001b[38;5;241m=\u001b[39m(\u001b[38;5;241m1\u001b[39m,\u001b[38;5;241m23\u001b[39m,\u001b[38;5;241m5\u001b[39m,\u001b[38;5;241m6\u001b[39m)\n\u001b[1;32m----> 2\u001b[0m a[\u001b[38;5;241m2\u001b[39m]\u001b[38;5;241m=\u001b[39m\u001b[38;5;241m26\u001b[39m\n\u001b[0;32m      3\u001b[0m \u001b[38;5;28mprint\u001b[39m(a)\n\u001b[0;32m      4\u001b[0m a\u001b[38;5;241m.\u001b[39mappend(\u001b[38;5;241m2\u001b[39m)\n",
      "\u001b[1;31mTypeError\u001b[0m: 'tuple' object does not support item assignment"
     ]
    }
   ],
   "source": [
    "a=(1,23,5,6)\n",
    "a[2]=26\n",
    "print(a)\n",
    "a.append(2)\n",
    "print(a)"
   ]
  },
  {
   "cell_type": "code",
   "execution_count": 6,
   "id": "a14c4363",
   "metadata": {},
   "outputs": [
    {
     "name": "stdout",
     "output_type": "stream",
     "text": [
      "(1, 2, 3, 4, 5, 6)\n",
      "(1, 2, 3, 4, 5, 6, 8)\n"
     ]
    }
   ],
   "source": [
    "a=(1,2,3,4,5,6)\n",
    "print(a)\n",
    "x=list(a)\n",
    "x.append(8)\n",
    "\n",
    "print(tuple(x))"
   ]
  },
  {
   "cell_type": "code",
   "execution_count": 2,
   "id": "896385c4",
   "metadata": {},
   "outputs": [
    {
     "name": "stdout",
     "output_type": "stream",
     "text": [
      "{'a': 'shsdh', 'b': 'jdfbhe', 'c': 222}\n",
      "{'a': 'hb', 'b': 'jdfbhe', 'c': 222}\n",
      "{'a': 'hgvdhdc', 'b': 'jdfbhe', 'c': 222}\n",
      "None\n"
     ]
    }
   ],
   "source": [
    "a={\n",
    "    \"a\":\"shsdh\",\n",
    "    \"b\":\"jdfbhe\",\n",
    "    \"c\":222\n",
    "}\n",
    "print(a)\n",
    "a[\"a\"]=\"hb\"\n",
    "print(a)\n",
    "a[\"a\"]='hgvdhdc'\n",
    "print(a)\n",
    "x=a.get(\"d\")\n",
    "print(x)"
   ]
  },
  {
   "cell_type": "code",
   "execution_count": 6,
   "id": "d8cd2ab0",
   "metadata": {},
   "outputs": [
    {
     "name": "stdout",
     "output_type": "stream",
     "text": [
      "{1, 2, 3, 'emma'}\n",
      "{1, 2, 3, 122, 'emma'}\n",
      "{1, 2, 3, 122}\n",
      "{1, 2, 3, 122}\n"
     ]
    },
    {
     "ename": "KeyError",
     "evalue": "7",
     "output_type": "error",
     "traceback": [
      "\u001b[1;31m---------------------------------------------------------------------------\u001b[0m",
      "\u001b[1;31mKeyError\u001b[0m                                  Traceback (most recent call last)",
      "Input \u001b[1;32mIn [6]\u001b[0m, in \u001b[0;36m<cell line: 9>\u001b[1;34m()\u001b[0m\n\u001b[0;32m      7\u001b[0m c\u001b[38;5;241m.\u001b[39mdiscard(\u001b[38;5;241m6\u001b[39m)\n\u001b[0;32m      8\u001b[0m \u001b[38;5;28mprint\u001b[39m(c)\n\u001b[1;32m----> 9\u001b[0m \u001b[43mc\u001b[49m\u001b[38;5;241;43m.\u001b[39;49m\u001b[43mremove\u001b[49m\u001b[43m(\u001b[49m\u001b[38;5;241;43m7\u001b[39;49m\u001b[43m)\u001b[49m\n\u001b[0;32m     10\u001b[0m \u001b[38;5;28mprint\u001b[39m(c)\n",
      "\u001b[1;31mKeyError\u001b[0m: 7"
     ]
    }
   ],
   "source": [
    "c={1,2,3,\"emma\"}\n",
    "print(c)\n",
    "c.add(122)\n",
    "print(c)\n",
    "c.remove('emma')\n",
    "print(c)\n",
    "c.discard(6)\n",
    "print(c)\n",
    "c.remove(7)\n",
    "print(c)"
   ]
  },
  {
   "cell_type": "code",
   "execution_count": 4,
   "id": "6f83c4ba",
   "metadata": {},
   "outputs": [
    {
     "name": "stdout",
     "output_type": "stream",
     "text": [
      "kehvbef\n"
     ]
    }
   ],
   "source": [
    "a=5\n",
    "if a==6:\n",
    "    print(\"right\")\n",
    "else:\n",
    "    print(\"kehvbef\")\n",
    "    "
   ]
  },
  {
   "cell_type": "code",
   "execution_count": 13,
   "id": "388aea96",
   "metadata": {},
   "outputs": [
    {
     "name": "stdout",
     "output_type": "stream",
     "text": [
      "{0, 1, 2, 3, 4, 5, 6, 7, 8, 9}\n",
      "{0, 1, 2, 3, 4, 5, 6, 7, 8, 9}\n",
      "{3, 5, 7}\n"
     ]
    }
   ],
   "source": [
    "odds={1,3,5,7,9}\n",
    "even={0,2,4,6,8}\n",
    "primes={2,3,5,7}\n",
    "u=odds.union(even)\n",
    "print(u)\n",
    "\n",
    "v=even.union(odds)\n",
    "print(v)\n",
    "\n",
    "w=odds.intersection(primes)\n",
    "print(w)"
   ]
  },
  {
   "cell_type": "code",
   "execution_count": 8,
   "id": "cc517915",
   "metadata": {},
   "outputs": [
    {
     "name": "stdout",
     "output_type": "stream",
     "text": [
      "10\n"
     ]
    }
   ],
   "source": [
    "class x:\n",
    "    b=10\n",
    "p1=x\n",
    "print(p1.b)"
   ]
  },
  {
   "cell_type": "code",
   "execution_count": 18,
   "id": "4d449469",
   "metadata": {},
   "outputs": [
    {
     "name": "stdout",
     "output_type": "stream",
     "text": [
      "sam software\n",
      "sam software\n",
      "dean hunters\n",
      "dean hunters\n"
     ]
    }
   ],
   "source": [
    "class Person:\n",
    "    def __init__(self,name,profession):\n",
    "        self.name=name\n",
    "        self.profession=profession\n",
    "    def show(self):\n",
    "        print(self.name,self.profession)\n",
    "    def work(self):\n",
    "        print(self.name,self.profession)\n",
    "obj=Person(\"sam\",\"software\")\n",
    "obj.show()\n",
    "obj.work()\n",
    "p1=Person(\"dean\",\"hunters\")\n",
    "p1.show()\n",
    "p1.work()"
   ]
  },
  {
   "cell_type": "code",
   "execution_count": 11,
   "id": "3d78fcac",
   "metadata": {},
   "outputs": [
    {
     "name": "stdout",
     "output_type": "stream",
     "text": [
      "sam\n",
      "23\n",
      "ABC SCHOOL\n",
      "25 dean\n",
      "xyx school\n"
     ]
    }
   ],
   "source": [
    "# CLASS VARIABLES\n",
    "class D:\n",
    "    a=\"ABC SCHOOL\"\n",
    "    def __init__(self,name,age):\n",
    "        self.name=name\n",
    "        self.age=age\n",
    "s1=D(\"sam\",23)\n",
    "# access instance variables \n",
    "print(s1.name)\n",
    "print(s1.age)\n",
    "# access class variables\n",
    "print(s1.a)\n",
    "#changing instance variables\n",
    "s1.name=\"dean\"\n",
    "s1.age=\"25\"\n",
    "print(s1.age,s1.name)\n",
    "#changing class variables \n",
    "s1.a=\"xyx school\"\n",
    "print(s1.a)"
   ]
  },
  {
   "cell_type": "code",
   "execution_count": 2,
   "id": "37a35411",
   "metadata": {},
   "outputs": [
    {
     "name": "stdout",
     "output_type": "stream",
     "text": [
      "sam 34 ABC SCHOOL\n",
      "sam 14 xyz\n"
     ]
    }
   ],
   "source": [
    "###  Define and call an instance method and class method\n",
    "class Student:\n",
    "    #class variable\n",
    "    a='ABC SCHOOL'\n",
    "    def __init__(self,name,age):\n",
    "        self.name=name\n",
    "        self.age=age\n",
    "    def show(self):\n",
    "        print(self.name,self.age,Student.a)\n",
    "    def changeage(self,newage):\n",
    "        self.age=newage\n",
    "    @classmethod\n",
    "    def modifyb(cls,b):\n",
    "        cls.a=b\n",
    "s1=Student(\"sam\",34)\n",
    "s1.show()\n",
    "s1.changeage(14)\n",
    "Student.a=\"xyz\"\n",
    "s1.show()"
   ]
  },
  {
   "cell_type": "code",
   "execution_count": 6,
   "id": "30534e0c",
   "metadata": {},
   "outputs": [
    {
     "name": "stdout",
     "output_type": "stream",
     "text": [
      "hbd\n",
      "fhgvehvjh\n"
     ]
    }
   ],
   "source": [
    "class A:\n",
    "    def __init__(self):\n",
    "        print(\"hbd\")\n",
    "        print(\"fhgvehvjh\")\n",
    "        \n",
    "s1=A()"
   ]
  },
  {
   "cell_type": "code",
   "execution_count": 12,
   "id": "92b945e4",
   "metadata": {},
   "outputs": [
    {
     "name": "stdout",
     "output_type": "stream",
     "text": [
      "sam 24 200000\n"
     ]
    }
   ],
   "source": [
    "class A:\n",
    "    def __init__(self,name,age):\n",
    "        self.name=name\n",
    "        self.age=age\n",
    "    def show(self, salary):\n",
    "        self.salary=salary\n",
    "        print(self.name,self.age,self.salary)\n",
    "s1=A('sam',24)\n",
    "s1.show(200000)"
   ]
  },
  {
   "cell_type": "code",
   "execution_count": null,
   "id": "a0f20ba3",
   "metadata": {},
   "outputs": [],
   "source": []
  },
  {
   "cell_type": "code",
   "execution_count": 4,
   "id": "c75048ec",
   "metadata": {},
   "outputs": [
    {
     "name": "stdout",
     "output_type": "stream",
     "text": [
      "jkehv\n",
      "sam 12 myprioject\n"
     ]
    }
   ],
   "source": [
    "class Eployee:\n",
    "    def __init__(self,name,age,projectname):\n",
    "        self.name=name\n",
    "        self.age=age\n",
    "        self.projectname=projectname\n",
    "    def show(self):\n",
    "        print(self.name,self.age,self.projectname)\n",
    "    @staticmethod\n",
    "    def gather():\n",
    "        print(\"jkehv\")\n",
    "s1=Eployee(\"sam\",\"12\",\"myprioject\")\n",
    "s1.gather()\n",
    "s1.show()"
   ]
  },
  {
   "cell_type": "code",
   "execution_count": 7,
   "id": "e50d3e5a",
   "metadata": {},
   "outputs": [
    {
     "name": "stdout",
     "output_type": "stream",
     "text": [
      "Inside Constructor\n",
      "Object initialized\n",
      "Hello, my name is Emma\n"
     ]
    },
    {
     "ename": "NameError",
     "evalue": "name 's1' is not defined",
     "output_type": "error",
     "traceback": [
      "\u001b[1;31m---------------------------------------------------------------------------\u001b[0m",
      "\u001b[1;31mNameError\u001b[0m                                 Traceback (most recent call last)",
      "Input \u001b[1;32mIn [7]\u001b[0m, in \u001b[0;36m<cell line: 22>\u001b[1;34m()\u001b[0m\n\u001b[0;32m     20\u001b[0m \u001b[38;5;66;03m# delete object\u001b[39;00m\n\u001b[0;32m     21\u001b[0m \u001b[38;5;28;01mdel\u001b[39;00m s1\n\u001b[1;32m---> 22\u001b[0m \u001b[43ms1\u001b[49m\u001b[38;5;241m.\u001b[39mshow()\n",
      "\u001b[1;31mNameError\u001b[0m: name 's1' is not defined"
     ]
    }
   ],
   "source": [
    "class Student:\n",
    "\n",
    "    # constructor\n",
    "    def __init__(self, name):\n",
    "        print('Inside Constructor')\n",
    "        self.name = name\n",
    "        print('Object initialized')\n",
    "\n",
    "    def show(self):\n",
    "        print('Hello, my name is', self.name)\n",
    "\n",
    "    # destructor\n",
    "   # def __del__(self):\n",
    "    ##   print('Object destroyed')\n",
    "\n",
    "# create object\n",
    "s1 = Student('Emma')\n",
    "s1.show()\n",
    "\n",
    "# delete object\n",
    "del s1\n",
    "s1.show()"
   ]
  },
  {
   "cell_type": "code",
   "execution_count": 6,
   "id": "79a2ac24",
   "metadata": {},
   "outputs": [
    {
     "name": "stdout",
     "output_type": "stream",
     "text": [
      "10\n"
     ]
    }
   ],
   "source": [
    "class A:\n",
    "    x=10\n",
    "s1=A()\n",
    "b=s1.x\n",
    "print(b)"
   ]
  },
  {
   "cell_type": "code",
   "execution_count": 2,
   "id": "85cd7d4f",
   "metadata": {},
   "outputs": [
    {
     "name": "stdout",
     "output_type": "stream",
     "text": [
      "\n"
     ]
    }
   ],
   "source": [
    "a=\"helloworld\"\n",
    "print(a[5:-3:-2])"
   ]
  },
  {
   "cell_type": "code",
   "execution_count": 2,
   "id": "3f2fda38",
   "metadata": {},
   "outputs": [
    {
     "name": "stdout",
     "output_type": "stream",
     "text": [
      "[]\n"
     ]
    }
   ],
   "source": [
    "a=[1,2,3,4,5]\n",
    "print(a[1:-4:-2])"
   ]
  },
  {
   "cell_type": "code",
   "execution_count": 4,
   "id": "830d4ec2",
   "metadata": {},
   "outputs": [
    {
     "name": "stdout",
     "output_type": "stream",
     "text": [
      "{1, 3, 4, 5}\n",
      "{1, 3, 5}\n"
     ]
    }
   ],
   "source": [
    "a={1,5,3,4}\n",
    "a.add(5)\n",
    "print(a)\n",
    "a.remove(4)\n",
    "print(a)"
   ]
  },
  {
   "cell_type": "code",
   "execution_count": 6,
   "id": "ec3b3fda",
   "metadata": {},
   "outputs": [
    {
     "name": "stdout",
     "output_type": "stream",
     "text": [
      "a\n",
      "b\n"
     ]
    }
   ],
   "source": [
    "class Vehicle:\n",
    "    def veh(self):\n",
    "        print('a')\n",
    "class Car(Vehicle):\n",
    "    def carr(self):\n",
    "        print('b')\n",
    "car=Car()\n",
    "car.veh()\n",
    "car.carr()"
   ]
  },
  {
   "cell_type": "code",
   "execution_count": 18,
   "id": "5c0b0877",
   "metadata": {},
   "outputs": [
    {
     "name": "stdout",
     "output_type": "stream",
     "text": [
      "inside employee class\n",
      "20000 jjj\n",
      "inside person class\n",
      "sam mumbai\n",
      "inside company class\n",
      "dean cali\n"
     ]
    }
   ],
   "source": [
    "# MULTIPLE INHERITANCE\n",
    "class Person:\n",
    "    def pinfo(self,name,age):\n",
    "        print('inside person class')\n",
    "        print(name,age)\n",
    "class Company:\n",
    "    def cinfo(self,name,location):\n",
    "        print('inside company class')\n",
    "        print(name,location)\n",
    "class Employee(Person,Company):\n",
    "    def einfo(self,salary,skill):\n",
    "        print('inside employee class')\n",
    "        print(salary,skill)\n",
    "s1=Employee()\n",
    "s1.einfo(20000,'jjj')\n",
    "s1.pinfo('sam','mumbai')\n",
    "s1.cinfo('dean','cali')\n"
   ]
  },
  {
   "cell_type": "code",
   "execution_count": 23,
   "id": "e2d6803e",
   "metadata": {},
   "outputs": [
    {
     "name": "stdout",
     "output_type": "stream",
     "text": [
      "inside s class\n",
      "inside c class\n",
      "inside v class\n"
     ]
    }
   ],
   "source": [
    "#MULTILEVEL INHERITANCE\n",
    "class Vehicle:\n",
    "    def vinfo(self):\n",
    "        print('inside v class')\n",
    "class Car(Vehicle):\n",
    "    def cinfo(self):\n",
    "        print('inside c class')\n",
    "class Sportscar(Car):\n",
    "    def sinfo(self):\n",
    "        print('inside s class')\n",
    "p1=Sportscar()\n",
    "p1.sinfo()\n",
    "p1.cinfo()\n",
    "p1.vinfo()"
   ]
  },
  {
   "cell_type": "code",
   "execution_count": 11,
   "id": "26d39ffa",
   "metadata": {},
   "outputs": [
    {
     "name": "stdout",
     "output_type": "stream",
     "text": [
      "10\n",
      "11\n",
      "14\n",
      "19\n",
      "26\n"
     ]
    }
   ],
   "source": [
    "# generator\n",
    "def square(x):\n",
    "    for i in range(5):\n",
    "        yield i*i\n",
    "\n",
    "\n",
    "def test(x):\n",
    "    for i in square(5):\n",
    "        print(i+x)\n",
    "test(10)"
   ]
  },
  {
   "cell_type": "code",
   "execution_count": 40,
   "id": "d996e4ae",
   "metadata": {},
   "outputs": [
    {
     "ename": "SyntaxError",
     "evalue": "invalid syntax. Perhaps you forgot a comma? (185521035.py, line 1)",
     "output_type": "error",
     "traceback": [
      "\u001b[1;36m  Input \u001b[1;32mIn [40]\u001b[1;36m\u001b[0m\n\u001b[1;33m    a=int(input(enter number))\u001b[0m\n\u001b[1;37m                ^\u001b[0m\n\u001b[1;31mSyntaxError\u001b[0m\u001b[1;31m:\u001b[0m invalid syntax. Perhaps you forgot a comma?\n"
     ]
    }
   ],
   "source": [
    "a=int(input(enter number))\n",
    "b=int(input(enter number))\n",
    "c=a/b\n",
    "print(c)"
   ]
  },
  {
   "cell_type": "code",
   "execution_count": 9,
   "id": "44fc1f79",
   "metadata": {},
   "outputs": [
    {
     "name": "stdout",
     "output_type": "stream",
     "text": [
      "first\n",
      "-1\n"
     ]
    }
   ],
   "source": [
    "#decorator\n",
    "def main(func):\n",
    "    def add(a,b):\n",
    "        print(\"first\")\n",
    "        func(a,b)\n",
    "    return add\n",
    "@main\n",
    "def sub(a,b):\n",
    "    print(a-b)\n",
    "sub(3,4)\n"
   ]
  },
  {
   "cell_type": "code",
   "execution_count": 10,
   "id": "989c05ad",
   "metadata": {},
   "outputs": [
    {
     "ename": "ModuleNotFoundError",
     "evalue": "No module named 'mymodule'",
     "output_type": "error",
     "traceback": [
      "\u001b[1;31m---------------------------------------------------------------------------\u001b[0m",
      "\u001b[1;31mModuleNotFoundError\u001b[0m                       Traceback (most recent call last)",
      "Input \u001b[1;32mIn [10]\u001b[0m, in \u001b[0;36m<cell line: 1>\u001b[1;34m()\u001b[0m\n\u001b[1;32m----> 1\u001b[0m \u001b[38;5;28;01mimport\u001b[39;00m \u001b[38;5;21;01mmymodule\u001b[39;00m\n\u001b[0;32m      2\u001b[0m mymodule\u001b[38;5;241m.\u001b[39mgreeting(\u001b[38;5;124m\"\u001b[39m\u001b[38;5;124mjonathan\u001b[39m\u001b[38;5;124m\"\u001b[39m)\n",
      "\u001b[1;31mModuleNotFoundError\u001b[0m: No module named 'mymodule'"
     ]
    }
   ],
   "source": [
    "import mymodule\n",
    "mymodule.greeting(\"jonathan\")"
   ]
  },
  {
   "cell_type": "code",
   "execution_count": 3,
   "id": "447b69d9",
   "metadata": {},
   "outputs": [
    {
     "name": "stdout",
     "output_type": "stream",
     "text": [
      "[1, 2, 3]\n"
     ]
    }
   ],
   "source": [
    "a=[1,2,3]\n",
    "a.clear\n",
    "print(a)"
   ]
  },
  {
   "cell_type": "code",
   "execution_count": 10,
   "id": "d22ab153",
   "metadata": {},
   "outputs": [
    {
     "name": "stdout",
     "output_type": "stream",
     "text": [
      "executing,function\n",
      "hello world\n",
      "finish execution\n"
     ]
    }
   ],
   "source": [
    "def display_info(func):\n",
    "    def  inner():\n",
    "        print(\"executing,function\")\n",
    "        func()\n",
    "        print(\"finish execution\")\n",
    "    return inner\n",
    "@display_info\n",
    "def printer():\n",
    "    print(\"hello world\")\n",
    "printer()"
   ]
  },
  {
   "cell_type": "code",
   "execution_count": 9,
   "id": "034e5a26",
   "metadata": {},
   "outputs": [
    {
     "name": "stdout",
     "output_type": "stream",
     "text": [
      "******************************\n",
      "kkkkkkkkkkkkkkkkkkkkkkkkkkkkkk\n",
      "i j k l\n",
      "llllllllllllllllllllllllllllll\n",
      "******************************\n"
     ]
    }
   ],
   "source": [
    "def star(func):\n",
    "    def inner(arg):\n",
    "        print(\"*\"*30)\n",
    "        func(arg)\n",
    "        print(\"*\"*30)\n",
    "    return inner\n",
    "def percent(func):\n",
    "    def inner(arg):\n",
    "        print(\"k\"*30)\n",
    "        func(arg)\n",
    "        print(\"l\"*30)\n",
    "    return inner\n",
    "@star\n",
    "@percent\n",
    "def printer(msg):\n",
    "    print(msg)\n",
    "printer(\"i j k l\")"
   ]
  },
  {
   "cell_type": "code",
   "execution_count": 22,
   "id": "3e69f69f",
   "metadata": {},
   "outputs": [
    {
     "ename": "KeyError",
     "evalue": "105",
     "output_type": "error",
     "traceback": [
      "\u001b[1;31m---------------------------------------------------------------------------\u001b[0m",
      "\u001b[1;31mKeyError\u001b[0m                                  Traceback (most recent call last)",
      "Input \u001b[1;32mIn [22]\u001b[0m, in \u001b[0;36m<cell line: 6>\u001b[1;34m()\u001b[0m\n\u001b[0;32m      1\u001b[0m \u001b[38;5;66;03m#x=\"hello worlf\"\u001b[39;00m\n\u001b[0;32m      2\u001b[0m x\u001b[38;5;241m=\u001b[39m{\n\u001b[0;32m      3\u001b[0m     \u001b[38;5;124m\"\u001b[39m\u001b[38;5;124mabc\u001b[39m\u001b[38;5;124m\"\u001b[39m:\u001b[38;5;241m455\u001b[39m,\n\u001b[0;32m      4\u001b[0m     \u001b[38;5;124m\"\u001b[39m\u001b[38;5;124mkbc\u001b[39m\u001b[38;5;124m\"\u001b[39m:\u001b[38;5;241m105\u001b[39m\n\u001b[0;32m      5\u001b[0m }\n\u001b[1;32m----> 6\u001b[0m \u001b[38;5;28;01mif\u001b[39;00m \u001b[43mx\u001b[49m\u001b[43m[\u001b[49m\u001b[38;5;241;43m105\u001b[39;49m\u001b[43m]\u001b[49m \u001b[38;5;129;01min\u001b[39;00m x:\n\u001b[0;32m      7\u001b[0m     \u001b[38;5;28mprint\u001b[39m(\u001b[38;5;124m\"\u001b[39m\u001b[38;5;124myes \u001b[39m\u001b[38;5;124m\"\u001b[39m)\n\u001b[0;32m      8\u001b[0m \u001b[38;5;28;01melse\u001b[39;00m:\n",
      "\u001b[1;31mKeyError\u001b[0m: 105"
     ]
    }
   ],
   "source": [
    "#x=\"hello worlf\"\n",
    "x={\n",
    "    \"abc\":455,\n",
    "    \"kbc\":105\n",
    "}\n",
    "if x[105] in x:\n",
    "    print(\"yes \")\n",
    "else:\n",
    "    print(\"no\")"
   ]
  },
  {
   "cell_type": "code",
   "execution_count": 23,
   "id": "678e9b13",
   "metadata": {},
   "outputs": [],
   "source": [
    "student={\"ali\":{\"score\":91},\n",
    "        \"akbar\":{\"score\":70},\n",
    "        \"bilal\":{\"score\":81}}\n",
    "#find the highest"
   ]
  },
  {
   "cell_type": "code",
   "execution_count": 1,
   "id": "c0f211b3",
   "metadata": {},
   "outputs": [
    {
     "ename": "TypeError",
     "evalue": "'in <string>' requires string as left operand, not int",
     "output_type": "error",
     "traceback": [
      "\u001b[1;31m---------------------------------------------------------------------------\u001b[0m",
      "\u001b[1;31mTypeError\u001b[0m                                 Traceback (most recent call last)",
      "Input \u001b[1;32mIn [1]\u001b[0m, in \u001b[0;36m<cell line: 5>\u001b[1;34m()\u001b[0m\n\u001b[0;32m      1\u001b[0m x\u001b[38;5;241m=\u001b[39m{\n\u001b[0;32m      2\u001b[0m     \u001b[38;5;124m\"\u001b[39m\u001b[38;5;124mabc\u001b[39m\u001b[38;5;124m\"\u001b[39m:\u001b[38;5;241m455\u001b[39m,\n\u001b[0;32m      3\u001b[0m     \u001b[38;5;124m\"\u001b[39m\u001b[38;5;124mkbc\u001b[39m\u001b[38;5;124m\"\u001b[39m:\u001b[38;5;241m105\u001b[39m\n\u001b[0;32m      4\u001b[0m }\n\u001b[0;32m      5\u001b[0m \u001b[38;5;28;01mfor\u001b[39;00m i \u001b[38;5;129;01min\u001b[39;00m x\u001b[38;5;241m.\u001b[39mvalues():\n\u001b[1;32m----> 6\u001b[0m     \u001b[38;5;28;01mif\u001b[39;00m \u001b[38;5;241;43m105\u001b[39;49m\u001b[43m \u001b[49m\u001b[38;5;129;43;01min\u001b[39;49;00m\u001b[43m \u001b[49m\u001b[38;5;28;43mstr\u001b[39;49m\u001b[43m(\u001b[49m\u001b[43m)\u001b[49m:\n\u001b[0;32m      7\u001b[0m         \u001b[38;5;28mprint\u001b[39m(\u001b[38;5;124m\"\u001b[39m\u001b[38;5;124myes\u001b[39m\u001b[38;5;124m\"\u001b[39m)\n\u001b[0;32m      8\u001b[0m     \u001b[38;5;28;01melse\u001b[39;00m:\n",
      "\u001b[1;31mTypeError\u001b[0m: 'in <string>' requires string as left operand, not int"
     ]
    }
   ],
   "source": [
    "x={\n",
    "    \"abc\":455,\n",
    "    \"kbc\":105\n",
    "}\n",
    "for i in x.values():\n",
    "    if 105 in str():\n",
    "        print(\"yes\")\n",
    "    else:\n",
    "        print(\"no\")"
   ]
  },
  {
   "cell_type": "code",
   "execution_count": null,
   "id": "45426e9e",
   "metadata": {},
   "outputs": [],
   "source": []
  }
 ],
 "metadata": {
  "kernelspec": {
   "display_name": "Python 3 (ipykernel)",
   "language": "python",
   "name": "python3"
  },
  "language_info": {
   "codemirror_mode": {
    "name": "ipython",
    "version": 3
   },
   "file_extension": ".py",
   "mimetype": "text/x-python",
   "name": "python",
   "nbconvert_exporter": "python",
   "pygments_lexer": "ipython3",
   "version": "3.10.4"
  }
 },
 "nbformat": 4,
 "nbformat_minor": 5
}
