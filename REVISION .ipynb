{
 "cells": [
  {
   "cell_type": "markdown",
   "id": "5e32cdf0",
   "metadata": {},
   "source": [
    "# print function\n"
   ]
  },
  {
   "cell_type": "markdown",
   "id": "f1e984a2",
   "metadata": {},
   "source": [
    "\n",
    "print(a)\n",
    "print(a[1])\n",
    "print(find(\"h\"))"
   ]
  },
  {
   "cell_type": "code",
   "execution_count": 16,
   "id": "838cb1a8",
   "metadata": {},
   "outputs": [
    {
     "name": "stdout",
     "output_type": "stream",
     "text": [
      "<class 'tuple'>\n",
      "<class 'list'>\n",
      "<class 'dict'>\n",
      "<class 'set'>\n",
      "<class 'str'>\n"
     ]
    }
   ],
   "source": [
    "a=()\n",
    "b=[]\n",
    "c={}\n",
    "d={()}\n",
    "print(type(a))\n",
    "print(type(b))\n",
    "print(type(c))\n",
    "print(type(d))\n",
    "e=\"\"\n",
    "print(type(e))\n",
    "d=v "
   ]
  },
  {
   "cell_type": "code",
   "execution_count": 20,
   "id": "b567fe35",
   "metadata": {},
   "outputs": [
    {
     "name": "stdout",
     "output_type": "stream",
     "text": [
      "<class 'tuple'>\n"
     ]
    }
   ],
   "source": [
    "a=(\"apple\",)\n",
    "print(type(a))\n"
   ]
  },
  {
   "cell_type": "code",
   "execution_count": null,
   "id": "20b80c8a",
   "metadata": {},
   "outputs": [],
   "source": []
  },
  {
   "cell_type": "code",
   "execution_count": 4,
   "id": "81118260",
   "metadata": {},
   "outputs": [
    {
     "ename": "NameError",
     "evalue": "name 'x' is not defined",
     "output_type": "error",
     "traceback": [
      "\u001b[1;31m---------------------------------------------------------------------------\u001b[0m",
      "\u001b[1;31mNameError\u001b[0m                                 Traceback (most recent call last)",
      "Input \u001b[1;32mIn [4]\u001b[0m, in \u001b[0;36m<cell line: 5>\u001b[1;34m()\u001b[0m\n\u001b[0;32m      3\u001b[0m         \u001b[38;5;28mself\u001b[39m\u001b[38;5;241m.\u001b[39ma\u001b[38;5;241m=\u001b[39mx\u001b[38;5;241m+\u001b[39my\u001b[38;5;241m+\u001b[39mz\n\u001b[0;32m      4\u001b[0m f\u001b[38;5;241m=\u001b[39mA(\u001b[38;5;241m1\u001b[39m,\u001b[38;5;241m2\u001b[39m,\u001b[38;5;241m3\u001b[39m)\n\u001b[1;32m----> 5\u001b[0m y\u001b[38;5;241m=\u001b[39m\u001b[38;5;28mgetattr\u001b[39m(\u001b[43mx\u001b[49m,\u001b[38;5;124m'\u001b[39m\u001b[38;5;124ma\u001b[39m\u001b[38;5;124m'\u001b[39m)\n\u001b[0;32m      6\u001b[0m \u001b[38;5;28msetattr\u001b[39m(x,\u001b[38;5;124m'\u001b[39m\u001b[38;5;124ma\u001b[39m\u001b[38;5;124m'\u001b[39m,y\u001b[38;5;241m+\u001b[39m\u001b[38;5;241m1\u001b[39m)\n\u001b[0;32m      7\u001b[0m \u001b[38;5;28mprint\u001b[39m(f\u001b[38;5;241m.\u001b[39ma)\n",
      "\u001b[1;31mNameError\u001b[0m: name 'x' is not defined"
     ]
    }
   ],
   "source": [
    "class A:\n",
    "    def __init__(self,x,y,z):\n",
    "        self.a=x+y+z\n",
    "f=A(1,2,3)\n",
    "y=getattr(x,'a')\n",
    "setattr(x,'a',y+1)\n",
    "print(f.a)"
   ]
  },
  {
   "cell_type": "code",
   "execution_count": 1,
   "id": "1296e27b",
   "metadata": {},
   "outputs": [
    {
     "name": "stdout",
     "output_type": "stream",
     "text": [
      "7\n"
     ]
    }
   ],
   "source": [
    "class A:\n",
    "    def __init__(self,x,y,z):\n",
    "        self.a=x+y+z\n",
    "f=A(1,2,3)\n",
    "y=getattr(f,'a')\n",
    "setattr(f,'a',y+1)\n",
    "print(f.a)"
   ]
  },
  {
   "cell_type": "code",
   "execution_count": 1,
   "id": "9718cbe2",
   "metadata": {},
   "outputs": [
    {
     "name": "stdout",
     "output_type": "stream",
     "text": [
      "b'hello'\n"
     ]
    }
   ],
   "source": [
    "x=b\"hello\"\n",
    "print(x)"
   ]
  },
  {
   "cell_type": "code",
   "execution_count": 15,
   "id": "9e372a65",
   "metadata": {},
   "outputs": [
    {
     "name": "stdout",
     "output_type": "stream",
     "text": [
      "False\n"
     ]
    }
   ],
   "source": [
    "a=\n",
    "print(bool(a))"
   ]
  },
  {
   "cell_type": "code",
   "execution_count": 35,
   "id": "526fe946",
   "metadata": {},
   "outputs": [
    {
     "name": "stdout",
     "output_type": "stream",
     "text": [
      "False\n"
     ]
    }
   ],
   "source": [
    "a=\"3\"\n",
    "b=\"2\"\n",
    "print(a is b)"
   ]
  },
  {
   "cell_type": "code",
   "execution_count": 17,
   "id": "89d9863a",
   "metadata": {},
   "outputs": [
    {
     "name": "stdout",
     "output_type": "stream",
     "text": [
      "False\n"
     ]
    }
   ],
   "source": [
    "a=(\"hello\",\"world\")\n",
    "b=(\"sss\",\"hhhh\")\n",
    "print(a is b)"
   ]
  },
  {
   "cell_type": "code",
   "execution_count": 2,
   "id": "6cd763fe",
   "metadata": {},
   "outputs": [
    {
     "name": "stdout",
     "output_type": "stream",
     "text": [
      "False\n"
     ]
    }
   ],
   "source": [
    "a=\"hello\",\"world\"\n",
    "b=\"sss\",\"hhhh\"\n",
    "print(a is b)"
   ]
  },
  {
   "cell_type": "code",
   "execution_count": 40,
   "id": "3c051146",
   "metadata": {},
   "outputs": [
    {
     "name": "stdout",
     "output_type": "stream",
     "text": [
      " In class C\n",
      "[<class '__main__.C'>, <class '__main__.B'>, <class '__main__.A'>, <class 'object'>]\n"
     ]
    }
   ],
   "source": [
    "# METHOD RESOLUTION ORDER\n",
    "class A:\n",
    "    def process(self):\n",
    "        print(\" In class A\")\n",
    "\n",
    "class B(A):\n",
    "    def process(self):\n",
    "        print(\" In class B\")\n",
    "\n",
    "class C(B, A):\n",
    "    def process(self):\n",
    "        print(\" In class C\")\n",
    "\n",
    "# Creating object of C class\n",
    "C1 = C()\n",
    "C1.process()\n",
    "print(C.mro())"
   ]
  },
  {
   "cell_type": "code",
   "execution_count": 58,
   "id": "618f135f",
   "metadata": {},
   "outputs": [
    {
     "name": "stdout",
     "output_type": "stream",
     "text": [
      "shame\n",
      "None\n"
     ]
    }
   ],
   "source": [
    "def khan():\n",
    "    print(\"shame\")\n",
    "shaikh=khan()\n",
    "del khan\n",
    "print(shaikh)"
   ]
  },
  {
   "cell_type": "code",
   "execution_count": 60,
   "id": "a18af6eb",
   "metadata": {},
   "outputs": [
    {
     "name": "stdout",
     "output_type": "stream",
     "text": [
      "1\n"
     ]
    }
   ],
   "source": [
    "def ():\n",
    "    print(\"a\")"
   ]
  },
  {
   "cell_type": "code",
   "execution_count": 67,
   "id": "7bf3330b",
   "metadata": {},
   "outputs": [
    {
     "name": "stdout",
     "output_type": "stream",
     "text": [
      "True True\n"
     ]
    }
   ],
   "source": [
    "a=[2,5,6]\n",
    "b=[3,6,7]\n",
    "a=b=[0,1,2]\n",
    "print((a is b),(a==b))"
   ]
  },
  {
   "cell_type": "code",
   "execution_count": 1,
   "id": "6dafa354",
   "metadata": {},
   "outputs": [
    {
     "name": "stdout",
     "output_type": "stream",
     "text": [
      "a\n",
      "b\n",
      "a\n",
      "b\n",
      "None\n"
     ]
    }
   ],
   "source": [
    "def greet():\n",
    "    print(\"a\")\n",
    "    print(\"b\")\n",
    "greet()\n",
    "c=greet()\n",
    "print(c)"
   ]
  },
  {
   "cell_type": "code",
   "execution_count": 22,
   "id": "c61a66d1",
   "metadata": {},
   "outputs": [
    {
     "name": "stdout",
     "output_type": "stream",
     "text": [
      "8\n"
     ]
    }
   ],
   "source": [
    "def increment(no,by=4):\n",
    "    return no + by\n",
    "print(increment(2,6))\n",
    "# print(e)"
   ]
  },
  {
   "cell_type": "code",
   "execution_count": 24,
   "id": "bd5c4375",
   "metadata": {},
   "outputs": [
    {
     "name": "stdout",
     "output_type": "stream",
     "text": [
      "(2, 3, 4, 5)\n"
     ]
    }
   ],
   "source": [
    "def multiply(*numbers):\n",
    "    print(numbers)\n",
    "multiply(2,3,4,5)"
   ]
  },
  {
   "cell_type": "code",
   "execution_count": 33,
   "id": "6e605057",
   "metadata": {},
   "outputs": [
    {
     "data": {
      "text/plain": [
       "120"
      ]
     },
     "execution_count": 33,
     "metadata": {},
     "output_type": "execute_result"
    }
   ],
   "source": [
    "def multiply(*numbers):\n",
    "    total=1\n",
    "    for number in numbers:\n",
    "        total *= number\n",
    "    return total\n",
    "\n",
    "multiply(2,3,4,5)"
   ]
  },
  {
   "cell_type": "code",
   "execution_count": 39,
   "id": "9b225adf",
   "metadata": {},
   "outputs": [
    {
     "name": "stdout",
     "output_type": "stream",
     "text": [
      "{'id': 1, 'name': 'john', 'age': 23}\n"
     ]
    }
   ],
   "source": [
    "def a(**user):\n",
    "    print(user)\n",
    "a(id=1, name=\"john\",age=23)"
   ]
  },
  {
   "cell_type": "code",
   "execution_count": 43,
   "id": "05761a89",
   "metadata": {},
   "outputs": [
    {
     "name": "stdout",
     "output_type": "stream",
     "text": [
      "23\n"
     ]
    }
   ],
   "source": [
    "def a(**user):\n",
    "    print(user[\"age\"])\n",
    "a(id=1, name=\"john\",age=23)"
   ]
  },
  {
   "cell_type": "code",
   "execution_count": 54,
   "id": "de295338",
   "metadata": {},
   "outputs": [
    {
     "name": "stdout",
     "output_type": "stream",
     "text": [
      "{'name': 'sachin', 'age': 21}\n",
      "sachin\n",
      "21\n",
      "dict_keys(['name', 'age'])\n",
      "dict_values(['sachin', 21])\n",
      "name\n",
      "age\n",
      "sachin\n",
      "21\n",
      "('name', 'sachin')\n",
      "('age', 21)\n"
     ]
    }
   ],
   "source": [
    "a={\n",
    "    \"name\":\"sachin\",\n",
    "    \"age\":21\n",
    "\n",
    "}\n",
    "print(a)\n",
    "print(a[\"name\"])\n",
    "print(a[\"age\"])\n",
    "print(a.keys())\n",
    "print(a.values())\n",
    "for i in a.keys():\n",
    "    print(i)\n",
    "for i in a.values():\n",
    "    print(i)\n",
    "for i in a.items():\n",
    "    print(i)\n"
   ]
  },
  {
   "cell_type": "code",
   "execution_count": 11,
   "id": "8f89732e",
   "metadata": {},
   "outputs": [
    {
     "name": "stdout",
     "output_type": "stream",
     "text": [
      "[1, 2, 3, 4]\n",
      "[1, 8, 3, 4]\n"
     ]
    }
   ],
   "source": [
    "#\n",
    "a=[1,2,3,4]\n",
    "b=a[::]\n",
    "# b=a\n",
    "b[1]=8\n",
    "print(a)\n",
    "print(b)"
   ]
  },
  {
   "cell_type": "code",
   "execution_count": 5,
   "id": "ebc63e03",
   "metadata": {},
   "outputs": [
    {
     "ename": "AttributeError",
     "evalue": "'builtin_function_or_method' object has no attribute 'deepcopy'",
     "output_type": "error",
     "traceback": [
      "\u001b[1;31m---------------------------------------------------------------------------\u001b[0m",
      "\u001b[1;31mAttributeError\u001b[0m                            Traceback (most recent call last)",
      "Input \u001b[1;32mIn [5]\u001b[0m, in \u001b[0;36m<cell line: 2>\u001b[1;34m()\u001b[0m\n\u001b[0;32m      1\u001b[0m a\u001b[38;5;241m=\u001b[39m[[\u001b[38;5;241m1\u001b[39m,\u001b[38;5;241m2\u001b[39m,\u001b[38;5;241m3\u001b[39m],[\u001b[38;5;241m2\u001b[39m,\u001b[38;5;241m3\u001b[39m,\u001b[38;5;241m4\u001b[39m]]\n\u001b[1;32m----> 2\u001b[0m b\u001b[38;5;241m=\u001b[39m\u001b[43ma\u001b[49m\u001b[38;5;241;43m.\u001b[39;49m\u001b[43mcopy\u001b[49m\u001b[38;5;241;43m.\u001b[39;49m\u001b[43mdeepcopy\u001b[49m()\n\u001b[0;32m      3\u001b[0m b[\u001b[38;5;241m0\u001b[39m]\u001b[38;5;241m=\u001b[39m[\u001b[38;5;241m2\u001b[39m,\u001b[38;5;241m3\u001b[39m,\u001b[38;5;241m4\u001b[39m]\n\u001b[0;32m      4\u001b[0m \u001b[38;5;28mprint\u001b[39m(a)\n",
      "\u001b[1;31mAttributeError\u001b[0m: 'builtin_function_or_method' object has no attribute 'deepcopy'"
     ]
    }
   ],
   "source": [
    "a=[[1,2,3],[2,3,4]]\n",
    "b=a.copy.deepcopy()\n",
    "b[0]=[2,3,4]\n",
    "print(a)\n",
    "print(b)\n"
   ]
  },
  {
   "cell_type": "code",
   "execution_count": 3,
   "id": "5be253dd",
   "metadata": {},
   "outputs": [
    {
     "name": "stdout",
     "output_type": "stream",
     "text": [
      "[1, 2, 3]\n",
      "[1, 2, 3]\n"
     ]
    }
   ],
   "source": [
    "a=[1,2,3]\n",
    "b=a.copy()\n",
    "print(a)\n",
    "print(b)"
   ]
  },
  {
   "cell_type": "code",
   "execution_count": 4,
   "id": "6fdabf1a",
   "metadata": {},
   "outputs": [
    {
     "name": "stdout",
     "output_type": "stream",
     "text": [
      "[1, 100, 3, 4] [1, 100, 3, 4]\n"
     ]
    }
   ],
   "source": [
    "a=[1,2,3,4]\n",
    "b=a\n",
    "b[1]=100\n",
    "print(b,a)\n",
    "# print(a)"
   ]
  },
  {
   "cell_type": "code",
   "execution_count": 19,
   "id": "42a492ba",
   "metadata": {},
   "outputs": [
    {
     "name": "stdout",
     "output_type": "stream",
     "text": [
      "[1, 2, 3, 4] [1, 2, 3, 4]\n"
     ]
    }
   ],
   "source": [
    "# shallow copy list\n",
    "a=[1,2,3,4]\n",
    "b=a.copy()\n",
    "print(b,a)\n",
    "# print(a)"
   ]
  },
  {
   "cell_type": "code",
   "execution_count": 1,
   "id": "1a6c4a4e",
   "metadata": {},
   "outputs": [
    {
     "ename": "NameError",
     "evalue": "name 'b' is not defined",
     "output_type": "error",
     "traceback": [
      "\u001b[1;31m---------------------------------------------------------------------------\u001b[0m",
      "\u001b[1;31mNameError\u001b[0m                                 Traceback (most recent call last)",
      "Input \u001b[1;32mIn [1]\u001b[0m, in \u001b[0;36m<cell line: 1>\u001b[1;34m()\u001b[0m\n\u001b[1;32m----> 1\u001b[0m \u001b[43mb\u001b[49m[\u001b[38;5;241m1\u001b[39m]\u001b[38;5;241m=\u001b[39m\u001b[38;5;241m1000\u001b[39m\n\u001b[0;32m      2\u001b[0m \u001b[38;5;28mprint\u001b[39m(a,b)\n",
      "\u001b[1;31mNameError\u001b[0m: name 'b' is not defined"
     ]
    }
   ],
   "source": [
    "b[1]=1000\n",
    "print(a,b)"
   ]
  },
  {
   "cell_type": "code",
   "execution_count": 9,
   "id": "8a91fec9",
   "metadata": {},
   "outputs": [
    {
     "name": "stdout",
     "output_type": "stream",
     "text": [
      "[[1, 2, 3, 4], [100, 6, 7, 8]]\n",
      "1664422065984\n",
      "1664422060096\n"
     ]
    }
   ],
   "source": [
    "#shallow copy nested list\n",
    "c=[[1,2,3,4],[5,6,7,8]]\n",
    "d=c.copy()\n",
    "# print(c,d)\n",
    "c[1][0]=100\n",
    "print(d)\n",
    "print(id(d))\n",
    "print(id(c))"
   ]
  },
  {
   "cell_type": "code",
   "execution_count": 11,
   "id": "7e25509d",
   "metadata": {},
   "outputs": [
    {
     "name": "stdout",
     "output_type": "stream",
     "text": [
      "[2, 3, 4, 5] [2, 3, 4, 5]\n",
      "[2, 3, 4, 5] [2, 100, 4, 5]\n",
      "1664393410240\n",
      "1664422064704\n"
     ]
    }
   ],
   "source": [
    "a=[2,3,4,5]\n",
    "b=a.copy()\n",
    "print(a,b)\n",
    "b[1]=100\n",
    "print(a,b)\n",
    "print(id(a))\n",
    "print(id(b))"
   ]
  },
  {
   "cell_type": "code",
   "execution_count": 29,
   "id": "815412e4",
   "metadata": {},
   "outputs": [
    {
     "name": "stdout",
     "output_type": "stream",
     "text": [
      "[[11, 22, 33], [44, 55, 66]] [[11, 22, 33], [44, 55, 66]]\n",
      "1664422306496\n",
      "1664422332224\n"
     ]
    }
   ],
   "source": [
    "import copy \n",
    "a=[[11,22,33],[44,55,66]]\n",
    "b=copy.copy(a)\n",
    "print(a,b)\n",
    "print(id(a))\n",
    "print(id(b))"
   ]
  },
  {
   "cell_type": "code",
   "execution_count": 16,
   "id": "5ea8f7ab",
   "metadata": {},
   "outputs": [
    {
     "name": "stdout",
     "output_type": "stream",
     "text": [
      "[[2, 1, 3], [3, 1, 4]] [[2, 1, 3], [3, 1, 4]]\n",
      "[[2, 1, 3], [3, 1, 4]]\n",
      "[[2, 1, 3], [3, 1, 4], [4, 4, 4]]\n",
      "1372831658880\n",
      "1372831681664\n"
     ]
    }
   ],
   "source": [
    "import copy \n",
    "oldlist=[[2,1,3],[3,1,4]]\n",
    "newlist=copy.copy(oldlist)\n",
    "print(oldlist,newlist)\n",
    "newlist.append([4,4,4])\n",
    "print(oldlist)\n",
    "print(newlist)\n",
    "print(id(oldlist))\n",
    "print(id(newlist))"
   ]
  },
  {
   "cell_type": "code",
   "execution_count": 15,
   "id": "f8ca86e5",
   "metadata": {},
   "outputs": [
    {
     "name": "stdout",
     "output_type": "stream",
     "text": [
      "[[2, 1, 3], [3, 1, 4]] [[2, 1, 3], [3, 1, 4]]\n",
      "[[2, 1, 3], [3, 'qqq', 4]]\n",
      "[[2, 1, 3], [3, 'qqq', 4]]\n",
      "1372831658176\n",
      "1372831602048\n"
     ]
    }
   ],
   "source": [
    "# shallow copy\n",
    "import copy \n",
    "oldlist=[[2,1,3],[3,1,4]]\n",
    "newlist=copy.copy(oldlist)\n",
    "print(oldlist,newlist)\n",
    "newlist[1][1]=\"qqq\"\n",
    "print(oldlist)\n",
    "print(newlist)\n",
    "print(id(oldlist))\n",
    "print(id(newlist))"
   ]
  },
  {
   "cell_type": "code",
   "execution_count": 11,
   "id": "7ca05cf2",
   "metadata": {},
   "outputs": [
    {
     "name": "stdout",
     "output_type": "stream",
     "text": [
      "Old list: [[1, 1, 1], [2, 2, 2], [3, 3, 3]]\n",
      "New list: [[1, 1, 1], [2, 2, 2], [3, 3, 3]]\n"
     ]
    }
   ],
   "source": [
    "# deepcopy \n",
    "import copy\n",
    "\n",
    "old_list = [[1, 1, 1], [2, 2, 2], [3, 3, 3]]\n",
    "new_list = copy.deepcopy(old_list)\n",
    "\n",
    "print(\"Old list:\", old_list)\n",
    "print(\"New list:\", new_list)\n",
    "# print(id(old_list))\n",
    "# print(id(new_list))"
   ]
  },
  {
   "cell_type": "code",
   "execution_count": 8,
   "id": "0faf62fb",
   "metadata": {},
   "outputs": [
    {
     "name": "stdout",
     "output_type": "stream",
     "text": [
      "Old list: [[1, 1, 1], ['BB', 2, 2], [3, 3, 3]]\n",
      "New list: [[1, 1, 1], [2, 2, 2], [3, 3, 3]]\n"
     ]
    }
   ],
   "source": [
    "# deep copy adding \n",
    "import copy\n",
    "\n",
    "old_list = [[1, 1, 1], [2, 2, 2], [3, 3, 3]]\n",
    "new_list = copy.deepcopy(old_list)\n",
    "\n",
    "old_list[1][0] = 'BB'\n",
    "\n",
    "print(\"Old list:\", old_list)\n",
    "print(\"New list:\", new_list)"
   ]
  },
  {
   "cell_type": "code",
   "execution_count": 3,
   "id": "f6e7a844",
   "metadata": {},
   "outputs": [
    {
     "name": "stdout",
     "output_type": "stream",
     "text": [
      "Old list: [[1, 1, 1], [2, 2, 2], [3, 3, 3]]\n",
      "New list: [[1, 1, 1], [2, 2, 2], [3, 3, 3], [3, 4, 5]]\n"
     ]
    }
   ],
   "source": [
    "# deepcopy append\n",
    "import copy\n",
    "\n",
    "old_list = [[1, 1, 1], [2, 2, 2], [3, 3, 3]]\n",
    "new_list = copy.deepcopy(old_list)\n",
    "\n",
    "new_list.append([3,4,5])\n",
    "\n",
    "print(\"Old list:\", old_list)\n",
    "print(\"New list:\", new_list)"
   ]
  },
  {
   "cell_type": "code",
   "execution_count": 7,
   "id": "ac5afb77",
   "metadata": {},
   "outputs": [
    {
     "name": "stdout",
     "output_type": "stream",
     "text": [
      "[[1, 2, 3, 4, 5], [6, 7, 4, 9, 10]]\n",
      "[[1, 2, 3, 4, 5], [6, 7, 4, 9, 10]]\n"
     ]
    }
   ],
   "source": [
    "# in nested , shallow copy\n",
    "import copy\n",
    "a=[[1,2,3,4,5],[6,7,8,9,10]]\n",
    "b=copy.copy(a)\n",
    "b[1][2]=4\n",
    "print(b)\n",
    "print(a)"
   ]
  },
  {
   "cell_type": "code",
   "execution_count": 8,
   "id": "8849cff5",
   "metadata": {},
   "outputs": [
    {
     "name": "stdout",
     "output_type": "stream",
     "text": [
      "[[1, 2, 3, 4, 5], [6, 7, 4, 9, 10]]\n",
      "[[1, 2, 3, 4, 5], [6, 7, 8, 9, 10]]\n"
     ]
    }
   ],
   "source": [
    "# deep copy in nested list\n",
    "import copy\n",
    "a=[[1,2,3,4,5],[6,7,8,9,10]]\n",
    "b=copy.deepcopy(a)\n",
    "b[1][2]=4\n",
    "print(b)\n",
    "print(a)"
   ]
  },
  {
   "cell_type": "code",
   "execution_count": 13,
   "id": "ea6d33af",
   "metadata": {},
   "outputs": [
    {
     "name": "stdout",
     "output_type": "stream",
     "text": [
      "15\n",
      "30\n",
      "45\n",
      "60\n",
      "75\n",
      "90\n"
     ]
    }
   ],
   "source": [
    "for i in range(1,100):\n",
    "    if i%3==0 and i%5==0:\n",
    "        print(i)"
   ]
  },
  {
   "cell_type": "code",
   "execution_count": 6,
   "id": "0a24d104",
   "metadata": {},
   "outputs": [
    {
     "name": "stdout",
     "output_type": "stream",
     "text": [
      "[1, 3, 5, 7, 9]\n"
     ]
    }
   ],
   "source": [
    "#odd numbers printing by list comprehension\n",
    "a=[1,2,3,4,5,6,7,8,9,10]\n",
    "a=[a for a in range(10) if a%2!=0]\n",
    "print(a)"
   ]
  },
  {
   "cell_type": "code",
   "execution_count": 6,
   "id": "29e52b47",
   "metadata": {},
   "outputs": [
    {
     "name": "stdout",
     "output_type": "stream",
     "text": [
      "[2, 3]\n"
     ]
    }
   ],
   "source": [
    "a=[1,1,2,3,4]\n",
    "print(a[-3:-1])"
   ]
  },
  {
   "cell_type": "code",
   "execution_count": 4,
   "id": "0cfcc4cd",
   "metadata": {},
   "outputs": [
    {
     "name": "stdout",
     "output_type": "stream",
     "text": [
      "{1: 1, 2: 2, 3: 3, 4: 4, 5: 5, 6: 6, 7: 7, 8: 8, 9: 9, 10: 10}\n"
     ]
    }
   ],
   "source": [
    "# dictionary comprehension example\n",
    "square_dict = {num: num   for num in range(1, 11)}\n",
    "print(square_dict)"
   ]
  },
  {
   "cell_type": "code",
   "execution_count": 2,
   "id": "89506dcf",
   "metadata": {},
   "outputs": [
    {
     "name": "stdout",
     "output_type": "stream",
     "text": [
      "shahnawaz is name my\n"
     ]
    }
   ],
   "source": [
    "#reverse a string\n",
    "a=\" my name is shahnawaz\"\n",
    "b=a.split()[::-1]\n",
    "c=[]\n",
    "for i in b:\n",
    "    c.append(i)\n",
    "print(\" \".join(c))"
   ]
  },
  {
   "cell_type": "code",
   "execution_count": 11,
   "id": "8dadd644",
   "metadata": {},
   "outputs": [
    {
     "name": "stdout",
     "output_type": "stream",
     "text": [
      "meaworld\n"
     ]
    }
   ],
   "source": [
    "#remove a character at position 3 in string\n",
    "a=\"metaworld\"\n",
    "b=\"\"\n",
    "for i in range(len(a)):\n",
    "    if i !=2:\n",
    "        b=b+a[i]\n",
    "print(b)\n"
   ]
  },
  {
   "cell_type": "code",
   "execution_count": 17,
   "id": "31c16838",
   "metadata": {},
   "outputs": [
    {
     "name": "stdout",
     "output_type": "stream",
     "text": [
      "geesforgees\n"
     ]
    }
   ],
   "source": [
    "#remove a character at position 3 in string\n",
    "a=\"geeksforgeeks\"\n",
    "b=a.replace('k','',4)\n",
    "print(b)\n",
    "# print(a)"
   ]
  },
  {
   "cell_type": "code",
   "execution_count": 18,
   "id": "4e515e99",
   "metadata": {},
   "outputs": [
    {
     "name": "stdout",
     "output_type": "stream",
     "text": [
      "geksforgeeks\n"
     ]
    }
   ],
   "source": [
    "a=\"geeksforgeeks\"\n",
    "b=a[:2]+a[3:]\n",
    "print(b)"
   ]
  },
  {
   "cell_type": "code",
   "execution_count": 20,
   "id": "2d972b1f",
   "metadata": {},
   "outputs": [
    {
     "name": "stdout",
     "output_type": "stream",
     "text": [
      "meaworld\n"
     ]
    }
   ],
   "source": [
    "b=\"metaworld\"\n",
    "c=''.join([b[i] for i in range(len(b)) if i!=2])\n",
    "print(c)"
   ]
  },
  {
   "cell_type": "code",
   "execution_count": 25,
   "id": "78205187",
   "metadata": {},
   "outputs": [
    {
     "name": "stdout",
     "output_type": "stream",
     "text": [
      "1\n",
      "2\n",
      "3\n",
      "4\n",
      "5\n",
      "6\n",
      "7\n",
      "8\n",
      "9\n",
      "10\n",
      "11\n",
      "12\n"
     ]
    }
   ],
   "source": [
    "#len of string different ways\n",
    "a=\"helloworldmm\"\n",
    "b=0\n",
    "for i in a:\n",
    "    b+=1\n",
    "    print(b)"
   ]
  },
  {
   "cell_type": "code",
   "execution_count": 27,
   "id": "02c969c1",
   "metadata": {},
   "outputs": [
    {
     "name": "stdout",
     "output_type": "stream",
     "text": [
      "7\n"
     ]
    }
   ],
   "source": [
    "# Python code to demonstrate string length\n",
    "# using reduce\n",
    "\n",
    "import functools\n",
    "\n",
    "def findLen(string):\n",
    " return functools.reduce(lambda x,y: x+1, string, 0)\n",
    "\n",
    "\n",
    "# Driver Code\n",
    "string = 'geekspe'\n",
    "print(findLen(string))\n"
   ]
  },
  {
   "cell_type": "code",
   "execution_count": 33,
   "id": "9ec218e9",
   "metadata": {},
   "outputs": [
    {
     "name": "stdout",
     "output_type": "stream",
     "text": [
      "72\n"
     ]
    }
   ],
   "source": [
    "#size of tuple\n",
    "import sys\n",
    "# a=[\"a\",\"b\",\"c\",\"d\"]\n",
    "a=(\"a\",\"b\",\"c\",\"d\")\n",
    "print(sys.getsizeof(a))"
   ]
  },
  {
   "cell_type": "code",
   "execution_count": 38,
   "id": "e0efc54b",
   "metadata": {},
   "outputs": [
    {
     "name": "stdout",
     "output_type": "stream",
     "text": [
      "48\n"
     ]
    }
   ],
   "source": [
    "#size of tuple usiong inbuilt __sizeof__() method\n",
    "d=(\"q\",\"helloworld\",\"my name is shahnawaz\")\n",
    "print((d.__sizeof__()))\n",
    "# print(e)"
   ]
  },
  {
   "cell_type": "code",
   "execution_count": 39,
   "id": "c3270316",
   "metadata": {},
   "outputs": [
    {
     "name": "stdout",
     "output_type": "stream",
     "text": [
      "55\n"
     ]
    }
   ],
   "source": [
    "#summation of tuple Using list() + sum() function\n",
    "a=(1,2,3,4,5,6,7,8,9,10)\n",
    "b=sum(list(a))\n",
    "print(b)"
   ]
  },
  {
   "cell_type": "code",
   "execution_count": 44,
   "id": "0e812485",
   "metadata": {},
   "outputs": [
    {
     "name": "stdout",
     "output_type": "stream",
     "text": [
      "40\n"
     ]
    }
   ],
   "source": [
    "# summation of a tuple byt for loop\n",
    "a=(10,10,10,10)\n",
    "b=0\n",
    "for i in a:\n",
    "    b+=i\n",
    "print(b)"
   ]
  },
  {
   "cell_type": "code",
   "execution_count": 8,
   "id": "0b5433bc",
   "metadata": {},
   "outputs": [
    {
     "name": "stdout",
     "output_type": "stream",
     "text": [
      "                                  2022\n",
      "\n",
      "      January                   February                   March\n",
      "Mo Tu We Th Fr Sa Su      Mo Tu We Th Fr Sa Su      Mo Tu We Th Fr Sa Su\n",
      "                1  2          1  2  3  4  5  6          1  2  3  4  5  6\n",
      " 3  4  5  6  7  8  9       7  8  9 10 11 12 13       7  8  9 10 11 12 13\n",
      "10 11 12 13 14 15 16      14 15 16 17 18 19 20      14 15 16 17 18 19 20\n",
      "17 18 19 20 21 22 23      21 22 23 24 25 26 27      21 22 23 24 25 26 27\n",
      "24 25 26 27 28 29 30      28                        28 29 30 31\n",
      "31\n",
      "\n",
      "       April                      May                       June\n",
      "Mo Tu We Th Fr Sa Su      Mo Tu We Th Fr Sa Su      Mo Tu We Th Fr Sa Su\n",
      "             1  2  3                         1             1  2  3  4  5\n",
      " 4  5  6  7  8  9 10       2  3  4  5  6  7  8       6  7  8  9 10 11 12\n",
      "11 12 13 14 15 16 17       9 10 11 12 13 14 15      13 14 15 16 17 18 19\n",
      "18 19 20 21 22 23 24      16 17 18 19 20 21 22      20 21 22 23 24 25 26\n",
      "25 26 27 28 29 30         23 24 25 26 27 28 29      27 28 29 30\n",
      "                          30 31\n",
      "\n",
      "        July                     August                  September\n",
      "Mo Tu We Th Fr Sa Su      Mo Tu We Th Fr Sa Su      Mo Tu We Th Fr Sa Su\n",
      "             1  2  3       1  2  3  4  5  6  7                1  2  3  4\n",
      " 4  5  6  7  8  9 10       8  9 10 11 12 13 14       5  6  7  8  9 10 11\n",
      "11 12 13 14 15 16 17      15 16 17 18 19 20 21      12 13 14 15 16 17 18\n",
      "18 19 20 21 22 23 24      22 23 24 25 26 27 28      19 20 21 22 23 24 25\n",
      "25 26 27 28 29 30 31      29 30 31                  26 27 28 29 30\n",
      "\n",
      "      October                   November                  December\n",
      "Mo Tu We Th Fr Sa Su      Mo Tu We Th Fr Sa Su      Mo Tu We Th Fr Sa Su\n",
      "                1  2          1  2  3  4  5  6                1  2  3  4\n",
      " 3  4  5  6  7  8  9       7  8  9 10 11 12 13       5  6  7  8  9 10 11\n",
      "10 11 12 13 14 15 16      14 15 16 17 18 19 20      12 13 14 15 16 17 18\n",
      "17 18 19 20 21 22 23      21 22 23 24 25 26 27      19 20 21 22 23 24 25\n",
      "24 25 26 27 28 29 30      28 29 30                  26 27 28 29 30 31\n",
      "31\n",
      "None\n"
     ]
    }
   ],
   "source": [
    "import calendar\n",
    "x=calendar.TextCalendar()\n",
    "print(x.pryear(2022))"
   ]
  },
  {
   "cell_type": "code",
   "execution_count": 1,
   "id": "ad176ce2",
   "metadata": {},
   "outputs": [],
   "source": [
    "# import turtle\n",
    "# import colorsys\n",
    "# t=turtle.Turtle()\n",
    "# s=turtle.Screen()\n",
    "# s.bgcolor(\"red\")\n",
    "# t.speed(0)\n",
    "# n=36\n",
    "# h=0\n",
    "# for i in range(460):\n",
    "#     c=colorsys.hsv_to_rgb(h,1,0.9)\n",
    "#     h+=1/n\n",
    "#     t.color(c)\n",
    "#     t.left(145)\n",
    "#     for j in range(5):\n",
    "#         t.forward(300)\n",
    "#         t.left(150)"
   ]
  },
  {
   "cell_type": "code",
   "execution_count": 2,
   "id": "b6d311c4",
   "metadata": {},
   "outputs": [
    {
     "name": "stdout",
     "output_type": "stream",
     "text": [
      "[(1, 1), (2, 8), (3, 27), (4, 64), (5, 125)]\n",
      "[1, 2, 3, 4, 5]\n"
     ]
    }
   ],
   "source": [
    "#list of tuples having number and its cube in each tuple\n",
    "a=[1,2,3,4,5]\n",
    "b=[(val,pow(val,3)) for val in a]\n",
    "print(b)\n",
    "print(a)"
   ]
  },
  {
   "cell_type": "code",
   "execution_count": 6,
   "id": "07fbe0fb",
   "metadata": {},
   "outputs": [
    {
     "name": "stdout",
     "output_type": "stream",
     "text": [
      "[(1, 1), (2, 8), (3, 27), (4, 64), (5, 125)]\n"
     ]
    }
   ],
   "source": [
    "#list of tuples having number and its cube in each tuple\n",
    "a=[1,2,3,4,5]\n",
    "b=[(val,val**3) for val in a]\n",
    "print(b)"
   ]
  },
  {
   "cell_type": "code",
   "execution_count": 13,
   "id": "45d64665",
   "metadata": {},
   "outputs": [
    {
     "name": "stdout",
     "output_type": "stream",
     "text": [
      "600\n"
     ]
    }
   ],
   "source": [
    "#sum of dictionary values.\n",
    "def a(dict):\n",
    "    list=[]\n",
    "    for i in  dict:\n",
    "        list.append(dict[i])\n",
    "    final=sum(list)\n",
    "    return final\n",
    "b={'a':100,'b':200,'c':300}\n",
    "print(a(b))"
   ]
  },
  {
   "cell_type": "code",
   "execution_count": 33,
   "id": "d39ee1b5",
   "metadata": {},
   "outputs": [
    {
     "name": "stdout",
     "output_type": "stream",
     "text": [
      "600\n"
     ]
    }
   ],
   "source": [
    "a={'a':100,'b':200,'c':300}\n",
    "b=[]\n",
    "for i in a:\n",
    "    b.append(a[i])\n",
    "    final=sum(b)\n",
    "print(final)"
   ]
  },
  {
   "cell_type": "code",
   "execution_count": 62,
   "id": "729a8ad9",
   "metadata": {},
   "outputs": [
    {
     "name": "stdout",
     "output_type": "stream",
     "text": [
      "216\n"
     ]
    }
   ],
   "source": [
    "#find the size of set\n",
    "import sys\n",
    "a={1,2,3,4,4}\n",
    "print((sys.getsizeof(a)))"
   ]
  },
  {
   "cell_type": "code",
   "execution_count": 40,
   "id": "26ef67c5",
   "metadata": {},
   "outputs": [
    {
     "name": "stdout",
     "output_type": "stream",
     "text": [
      "200\n"
     ]
    }
   ],
   "source": [
    "#find the size of set\n",
    "import sys\n",
    "a={1,2,3,4,4}\n",
    "b=a.__sizeof__()\n",
    "print(b)"
   ]
  },
  {
   "cell_type": "code",
   "execution_count": 41,
   "id": "f356d086",
   "metadata": {},
   "outputs": [
    {
     "name": "stdout",
     "output_type": "stream",
     "text": [
      "232\n"
     ]
    }
   ],
   "source": [
    "import sys\n",
    "a={'a':100,'b':200,'c':300}\n",
    "print((sys.getsizeof(a)))"
   ]
  },
  {
   "cell_type": "code",
   "execution_count": 48,
   "id": "a3695e8f",
   "metadata": {},
   "outputs": [
    {
     "name": "stdout",
     "output_type": "stream",
     "text": [
      "216\n"
     ]
    }
   ],
   "source": [
    "a={'a':100,'b':200,'c':300}\n",
    "b=a.__sizeof__()\n",
    "print(b)"
   ]
  },
  {
   "cell_type": "code",
   "execution_count": 1,
   "id": "7cabe93a",
   "metadata": {},
   "outputs": [
    {
     "name": "stdout",
     "output_type": "stream",
     "text": [
      "e\n",
      "s\n",
      "g\n",
      "k\n"
     ]
    }
   ],
   "source": [
    "#iterating in a set\n",
    "a={'g','e','e','k','s'}\n",
    "for i in a:\n",
    "    print(i)"
   ]
  },
  {
   "cell_type": "code",
   "execution_count": 2,
   "id": "ce0a13d8",
   "metadata": {},
   "outputs": [
    {
     "name": "stdout",
     "output_type": "stream",
     "text": [
      "65\n"
     ]
    }
   ],
   "source": [
    "# maximum  in set by max()\n",
    "a={8, 16, 24, 1, 25, 3, 10, 65, 55}\n",
    "print(max(a))"
   ]
  },
  {
   "cell_type": "code",
   "execution_count": 5,
   "id": "9200ff28",
   "metadata": {},
   "outputs": [
    {
     "name": "stdout",
     "output_type": "stream",
     "text": [
      "77777\n"
     ]
    }
   ],
   "source": [
    "# maximum in a set bt using set\n",
    "def a(b):\n",
    "    return (max(b))\n",
    "b={11,22,333,44545,77777}\n",
    "a(b)\n",
    "print(a(b))"
   ]
  },
  {
   "cell_type": "code",
   "execution_count": 5,
   "id": "c1992466",
   "metadata": {},
   "outputs": [
    {
     "name": "stdout",
     "output_type": "stream",
     "text": [
      "even\n",
      "odd\n",
      "odd\n",
      "even\n",
      "odd\n",
      "even\n"
     ]
    }
   ],
   "source": [
    "lst=[2,7,5,8,1,6]\n",
    "for i in lst:\n",
    "    if i%2==0:\n",
    "        print(\"even\")\n",
    "    elif i%2!=0:\n",
    "        print(\"odd\")\n",
    "    else:\n",
    "        print(\"error\")"
   ]
  },
  {
   "cell_type": "code",
   "execution_count": 3,
   "id": "7d50c019",
   "metadata": {},
   "outputs": [
    {
     "name": "stdout",
     "output_type": "stream",
     "text": [
      "['even', 'odd', 'odd', 'even', 'odd', 'even']\n"
     ]
    }
   ],
   "source": [
    "lst=[2,7,5,8,1,6]\n",
    "def add(lst):\n",
    "    if lst%2==0:\n",
    "        return 'even'\n",
    "    else:\n",
    "        return 'odd'\n",
    "x=map(add,lst)\n",
    "print(list(x))"
   ]
  },
  {
   "cell_type": "code",
   "execution_count": 7,
   "id": "0553d5f2",
   "metadata": {},
   "outputs": [
    {
     "ename": "SyntaxError",
     "evalue": "'return' outside function (2259097376.py, line 3)",
     "output_type": "error",
     "traceback": [
      "\u001b[1;36m  Input \u001b[1;32mIn [7]\u001b[1;36m\u001b[0m\n\u001b[1;33m    return 'even'\u001b[0m\n\u001b[1;37m    ^\u001b[0m\n\u001b[1;31mSyntaxError\u001b[0m\u001b[1;31m:\u001b[0m 'return' outside function\n"
     ]
    }
   ],
   "source": [
    "lst=[2,7,5,8,1,6]\n",
    "if lst%2==0:\n",
    "    return 'even'\n",
    "else:\n",
    "    return 'odd'\n",
    "x=map(lst)\n",
    "print(list(x))"
   ]
  },
  {
   "cell_type": "code",
   "execution_count": 1,
   "id": "f5b79e6d",
   "metadata": {},
   "outputs": [
    {
     "name": "stdout",
     "output_type": "stream",
     "text": [
      "{'a': 1, 'b': 2, 'c': 45, 'd': 33}\n"
     ]
    }
   ],
   "source": [
    "a={'a':1,'b':2}\n",
    "b={'c':45,'d':33}\n",
    "# c=a|b\n",
    "print(a|b)"
   ]
  },
  {
   "cell_type": "code",
   "execution_count": 1,
   "id": "d65874c8",
   "metadata": {},
   "outputs": [
    {
     "name": "stdout",
     "output_type": "stream",
     "text": [
      "{1, 2, 3, 4, 5, 6, 7, 'a', 8}\n"
     ]
    }
   ],
   "source": [
    "a={1,2,\"a\",3,4}\n",
    "b={5,6,7,8}\n",
    "print(a|b)"
   ]
  },
  {
   "cell_type": "code",
   "execution_count": 18,
   "id": "95091d87",
   "metadata": {},
   "outputs": [
    {
     "name": "stdout",
     "output_type": "stream",
     "text": [
      "['odd', 'even', 'odd', 'even', 'odd', 'even']\n"
     ]
    }
   ],
   "source": [
    "def A(b):\n",
    "    if b%2==0:\n",
    "        return \"even\"\n",
    "    else:\n",
    "        return \"odd\"\n",
    "b=[1,2,3,4,5,6]\n",
    "c=map(A,b)\n",
    "print(list(c))"
   ]
  },
  {
   "cell_type": "code",
   "execution_count": 28,
   "id": "92e9b36a",
   "metadata": {},
   "outputs": [
    {
     "name": "stdout",
     "output_type": "stream",
     "text": [
      "odd\n",
      "even\n",
      "odd\n",
      "even\n",
      "odd\n",
      "even\n"
     ]
    }
   ],
   "source": [
    "def A(b):\n",
    "    for i in b:\n",
    "        if i%2==0:\n",
    "            print(\"even\")\n",
    "        else:\n",
    "            print(\"odd\")\n",
    "b=[1,2,3,4,5,6]\n",
    "A(b)"
   ]
  },
  {
   "cell_type": "code",
   "execution_count": 2,
   "id": "a806fcb4",
   "metadata": {},
   "outputs": [
    {
     "name": "stdout",
     "output_type": "stream",
     "text": [
      "odd\n",
      "even\n",
      "odd\n",
      "even\n",
      "odd\n"
     ]
    }
   ],
   "source": [
    "\n",
    "def A(*b):\n",
    "    for i in b:\n",
    "        if i%2==0:\n",
    "            print(\"even\")\n",
    "        else:\n",
    "            print(\"odd\")\n",
    "A(1,2,3,4,5)"
   ]
  },
  {
   "cell_type": "code",
   "execution_count": 8,
   "id": "4200b4d5",
   "metadata": {},
   "outputs": [
    {
     "name": "stdout",
     "output_type": "stream",
     "text": [
      "sun mon\n"
     ]
    }
   ],
   "source": [
    "# yield keyword\n",
    "def testgen(index):\n",
    "    weekdays = ['sun','mon','tue','wed','thu','fri','sat']\n",
    "    yield weekdays[index]\n",
    "    yield weekdays[index+1]\n",
    "day = testgen(0)\n",
    "print( next(day), next(day))"
   ]
  },
  {
   "cell_type": "code",
   "execution_count": 16,
   "id": "8910cb72",
   "metadata": {},
   "outputs": [
    {
     "name": "stdout",
     "output_type": "stream",
     "text": [
      "1 2 3 4 5\n"
     ]
    }
   ],
   "source": [
    "#convert a list into string .join() method\n",
    "a=['1','2','3','4','5']\n",
    "b=' '.join(a)\n",
    "print(b)"
   ]
  },
  {
   "cell_type": "code",
   "execution_count": 10,
   "id": "c723b81f",
   "metadata": {},
   "outputs": [
    {
     "name": "stdout",
     "output_type": "stream",
     "text": [
      "sun mon tue wed thu fri sat\n",
      "<class 'str'>\n"
     ]
    }
   ],
   "source": [
    "weekdays = ['sun','mon','tue','wed','thu','fri','sat']\n",
    "listAsString = ' '.join(weekdays)\n",
    "print(listAsString)\n",
    "print(type(listAsString))"
   ]
  },
  {
   "cell_type": "code",
   "execution_count": 17,
   "id": "7fd2818a",
   "metadata": {},
   "outputs": [
    {
     "name": "stdout",
     "output_type": "stream",
     "text": [
      "('sun', 'mon', 'tue', 'wed', 'thu', 'fri', 'sat')\n"
     ]
    }
   ],
   "source": [
    "weekdays = ['sun','mon','tue','wed','thu','fri','sat']\n",
    "b =tuple(weekdays)\n",
    "print(b)"
   ]
  },
  {
   "cell_type": "code",
   "execution_count": 18,
   "id": "995f4455",
   "metadata": {},
   "outputs": [
    {
     "name": "stdout",
     "output_type": "stream",
     "text": [
      "{'fri', 'sun', 'tue', 'wed', 'mon', 'thu', 'sat'}\n"
     ]
    }
   ],
   "source": [
    "weekdays = ['sun','mon','tue','wed','thu','fri','sat']\n",
    "b =set(weekdays)\n",
    "print(b)"
   ]
  },
  {
   "cell_type": "code",
   "execution_count": 20,
   "id": "de4c31dc",
   "metadata": {},
   "outputs": [
    {
     "name": "stdout",
     "output_type": "stream",
     "text": [
      "1\n"
     ]
    }
   ],
   "source": [
    "# count element occur in a list\n",
    "weekdays = ['sun','mon','tue','wed','thu','fri','sun','mon','mon']\n",
    "print(weekdays.count('tue'))"
   ]
  },
  {
   "cell_type": "code",
   "execution_count": 6,
   "id": "40c091b5",
   "metadata": {},
   "outputs": [
    {
     "name": "stdout",
     "output_type": "stream",
     "text": [
      "[['sun', 1], ['mon', 1], ['tue', 1], ['sat', 1]]\n"
     ]
    }
   ],
   "source": [
    "a=[\"sun\",\"mon\",\"tue\",\"sat\"]\n",
    "a=[[i,a.count(i)] for i in a]\n",
    "print(a)"
   ]
  },
  {
   "cell_type": "code",
   "execution_count": 14,
   "id": "b08ba347",
   "metadata": {},
   "outputs": [
    {
     "name": "stdout",
     "output_type": "stream",
     "text": [
      "Jack\n"
     ]
    }
   ],
   "source": [
    "# What is the output of the below program?\n",
    "names = [('Chris', 'Jack'),('John', 'Daman')]\n",
    "print(names[0][1])"
   ]
  },
  {
   "cell_type": "code",
   "execution_count": 7,
   "id": "c06a1ae0",
   "metadata": {},
   "outputs": [
    {
     "name": "stdout",
     "output_type": "stream",
     "text": [
      "(0, 1)\n",
      "(1, 2)\n",
      "(2, 3)\n",
      "(3, 4)\n",
      "(4, 5)\n"
     ]
    }
   ],
   "source": [
    "#enumerate \n",
    "a=[1,2,3,4,5]\n",
    "for i in enumerate(a):\n",
    "    print(i)"
   ]
  },
  {
   "cell_type": "code",
   "execution_count": 18,
   "id": "8ca1ef46",
   "metadata": {},
   "outputs": [
    {
     "name": "stdout",
     "output_type": "stream",
     "text": [
      "(0, 'a')\n",
      "(1, 'b')\n",
      "(2, 'c')\n",
      "(3, 'd')\n",
      "(4, 'e')\n"
     ]
    }
   ],
   "source": [
    "#enumerate \n",
    "a=(\"a\",\"b\",\"c\",\"d\",\"e\")\n",
    "for i in enumerate(a):\n",
    "    print(i)"
   ]
  },
  {
   "cell_type": "code",
   "execution_count": 23,
   "id": "5fb5adac",
   "metadata": {},
   "outputs": [
    {
     "name": "stdout",
     "output_type": "stream",
     "text": [
      "5050\n"
     ]
    }
   ],
   "source": [
    "print(sum(range(1,101)))"
   ]
  },
  {
   "cell_type": "code",
   "execution_count": 4,
   "id": "d347603e",
   "metadata": {},
   "outputs": [
    {
     "name": "stdout",
     "output_type": "stream",
     "text": [
      "12\n"
     ]
    }
   ],
   "source": [
    "names1 = ['Amir', 'Bear', 'Charlton', 'Daman']\n",
    "names2 = names1\n",
    "names3 = names1[:]\n",
    "\n",
    "names2[0] = 'Alice'\n",
    "names3[1] = 'Bob'\n",
    "\n",
    "sum = 0\n",
    "for ls in (names1, names2, names3):\n",
    "    if ls[0] == 'Alice':\n",
    "        sum += 1\n",
    "    if ls[1] == 'Bob':\n",
    "        sum += 10\n",
    "print(sum)"
   ]
  },
  {
   "cell_type": "code",
   "execution_count": 35,
   "id": "57485771",
   "metadata": {},
   "outputs": [
    {
     "name": "stdout",
     "output_type": "stream",
     "text": [
      "[1, 3, 2, 1, 3, 2]\n"
     ]
    }
   ],
   "source": [
    "a=[1,3,2]\n",
    "print(a*2)"
   ]
  },
  {
   "cell_type": "code",
   "execution_count": 38,
   "id": "690eaf80",
   "metadata": {},
   "outputs": [
    {
     "name": "stdout",
     "output_type": "stream",
     "text": [
      "['h', 'e', 'l', 'l', 'o']\n"
     ]
    }
   ],
   "source": [
    "a=(\"hello\")\n",
    "print(list(a))"
   ]
  },
  {
   "cell_type": "code",
   "execution_count": 4,
   "id": "99c43ab2",
   "metadata": {},
   "outputs": [
    {
     "name": "stdout",
     "output_type": "stream",
     "text": [
      "Enter the number of elements to be inserted: 23\n",
      "Enter element: 45\n",
      "Average of elements in the list 1.96\n",
      "Enter element: 88'\n"
     ]
    },
    {
     "ename": "ValueError",
     "evalue": "invalid literal for int() with base 10: \"88'\"",
     "output_type": "error",
     "traceback": [
      "\u001b[1;31m---------------------------------------------------------------------------\u001b[0m",
      "\u001b[1;31mValueError\u001b[0m                                Traceback (most recent call last)",
      "Input \u001b[1;32mIn [4]\u001b[0m, in \u001b[0;36m<cell line: 4>\u001b[1;34m()\u001b[0m\n\u001b[0;32m      3\u001b[0m a\u001b[38;5;241m=\u001b[39m[]\n\u001b[0;32m      4\u001b[0m \u001b[38;5;28;01mfor\u001b[39;00m i \u001b[38;5;129;01min\u001b[39;00m \u001b[38;5;28mrange\u001b[39m(\u001b[38;5;241m0\u001b[39m,n):\n\u001b[1;32m----> 5\u001b[0m     elem\u001b[38;5;241m=\u001b[39m\u001b[38;5;28;43mint\u001b[39;49m\u001b[43m(\u001b[49m\u001b[38;5;28;43minput\u001b[39;49m\u001b[43m(\u001b[49m\u001b[38;5;124;43m\"\u001b[39;49m\u001b[38;5;124;43mEnter element: \u001b[39;49m\u001b[38;5;124;43m\"\u001b[39;49m\u001b[43m)\u001b[49m\u001b[43m)\u001b[49m\n\u001b[0;32m      6\u001b[0m     a\u001b[38;5;241m.\u001b[39mappend(elem)\n\u001b[0;32m      7\u001b[0m     avg\u001b[38;5;241m=\u001b[39m\u001b[38;5;28msum\u001b[39m(a)\u001b[38;5;241m/\u001b[39mn\n",
      "\u001b[1;31mValueError\u001b[0m: invalid literal for int() with base 10: \"88'\""
     ]
    }
   ],
   "source": [
    "#21) Can you write a program to find the average of numbers in a list in Python?\n",
    "n=int(input(\"Enter the number of elements to be inserted: \"))\n",
    "a=[]\n",
    "for i in range(0,n):\n",
    "    elem=int(input(\"Enter element: \"))\n",
    "    a.append(elem)\n",
    "    avg=sum(a)/n\n",
    "    print(\"Average of elements in the list\",round(avg,2))"
   ]
  },
  {
   "cell_type": "code",
   "execution_count": 12,
   "id": "e6c152f9",
   "metadata": {},
   "outputs": [
    {
     "name": "stdout",
     "output_type": "stream",
     "text": [
      "Enter number: 143\n",
      "The reverse of the number: 341\n"
     ]
    }
   ],
   "source": [
    "n=int(input(\"Enter number: \"))\n",
    "rev=0\n",
    "while(n>0):\n",
    "    dig=n%10\n",
    "    rev=rev*10+dig\n",
    "    n=n//10\n",
    "print(\"The reverse of the number:\",rev)"
   ]
  },
  {
   "cell_type": "code",
   "execution_count": 16,
   "id": "3d081986",
   "metadata": {},
   "outputs": [
    {
     "name": "stdout",
     "output_type": "stream",
     "text": [
      "Enter a number:12345\n",
      "The total sum of digits is: 15\n"
     ]
    }
   ],
   "source": [
    "#23) Write a program to find the sum of the digits of a number in Python?\n",
    "n=int(input(\"Enter a number:\"))\n",
    "tot=0\n",
    "while(n>0):\n",
    "    dig=n%10\n",
    "    tot=tot+dig\n",
    "    n=n//10\n",
    "print(\"The total sum of digits is:\",tot)"
   ]
  },
  {
   "cell_type": "code",
   "execution_count": 17,
   "id": "191dccef",
   "metadata": {},
   "outputs": [
    {
     "name": "stdout",
     "output_type": "stream",
     "text": [
      "Enter the number to print the tables for:7\n",
      "7 x 1 = 7\n",
      "7 x 2 = 14\n",
      "7 x 3 = 21\n",
      "7 x 4 = 28\n",
      "7 x 5 = 35\n",
      "7 x 6 = 42\n",
      "7 x 7 = 49\n",
      "7 x 8 = 56\n",
      "7 x 9 = 63\n",
      "7 x 10 = 70\n"
     ]
    }
   ],
   "source": [
    "#26) Write a Python Program to Print Table of a Given Number?\n",
    "n=int(input(\"Enter the number to print the tables for:\"))\n",
    "for i in range(1,11):\n",
    "    print(n,\"x\",i,\"=\",n*i)"
   ]
  },
  {
   "cell_type": "code",
   "execution_count": 32,
   "id": "5da46083",
   "metadata": {},
   "outputs": [
    {
     "name": "stdout",
     "output_type": "stream",
     "text": [
      "Enter number: 111\n",
      "Number isn't prime\n",
      "Number isn't prime\n"
     ]
    }
   ],
   "source": [
    "#27) Write a Python Program to Check if a Number is a Prime Number?\n",
    "a=int(input(\"Enter number: \"))\n",
    "k=0\n",
    "for i in range(2,a//2+1):\n",
    "    if(a%i==0):\n",
    "        k=k+1\n",
    "        if(k<=0):\n",
    "            print(\"Number is prime\")\n",
    "        else:\n",
    "            print(\"Number isn't prime\")\n",
    "            "
   ]
  },
  {
   "cell_type": "code",
   "execution_count": 5,
   "id": "2fc71a3c",
   "metadata": {},
   "outputs": [
    {
     "name": "stdout",
     "output_type": "stream",
     "text": [
      "[{\"a\": \"123\"}, {\"b\": \"147\"}]\n",
      "<class 'str'>\n"
     ]
    }
   ],
   "source": [
    "import json \n",
    "q=[{'a':'123'},\n",
    "  {'b':'147'}]\n",
    "x=json.dumps(q)\n",
    "print(x)\n",
    "print(type(x))\n",
    "# print(type(q))"
   ]
  },
  {
   "cell_type": "code",
   "execution_count": 2,
   "id": "7d419624",
   "metadata": {},
   "outputs": [
    {
     "name": "stdout",
     "output_type": "stream",
     "text": [
      "[{'a': '123', 'b': '147'}]\n",
      "<class 'str'>\n"
     ]
    }
   ],
   "source": [
    "import json \n",
    "q='[{\"a\":\"123\",\"b\":\"147\"}]'\n",
    "x=json.loads(q)\n",
    "print(x)\n",
    "# print(type(x))\n",
    "\n",
    "print(type(q))"
   ]
  },
  {
   "cell_type": "code",
   "execution_count": 9,
   "id": "4f6d02f3",
   "metadata": {},
   "outputs": [
    {
     "ename": "SyntaxError",
     "evalue": "invalid syntax (1821277409.py, line 1)",
     "output_type": "error",
     "traceback": [
      "\u001b[1;36m  Input \u001b[1;32mIn [9]\u001b[1;36m\u001b[0m\n\u001b[1;33m    from jsonify import convert.jsonify.\"q\"\u001b[0m\n\u001b[1;37m                               ^\u001b[0m\n\u001b[1;31mSyntaxError\u001b[0m\u001b[1;31m:\u001b[0m invalid syntax\n"
     ]
    }
   ],
   "source": [
    "from jsonify import convert.jsonify.\"q\"\n",
    "q={\"a\":\"123\",\"b\":\"147\"}\n",
    "print(q.jsonify())"
   ]
  },
  {
   "cell_type": "code",
   "execution_count": 2,
   "id": "f21b651d",
   "metadata": {},
   "outputs": [
    {
     "ename": "FileNotFoundError",
     "evalue": "[Errno 2] No such file or directory: 'new.csv'",
     "output_type": "error",
     "traceback": [
      "\u001b[1;31m---------------------------------------------------------------------------\u001b[0m",
      "\u001b[1;31mFileNotFoundError\u001b[0m                         Traceback (most recent call last)",
      "Input \u001b[1;32mIn [2]\u001b[0m, in \u001b[0;36m<cell line: 2>\u001b[1;34m()\u001b[0m\n\u001b[0;32m      1\u001b[0m \u001b[38;5;28;01mfrom\u001b[39;00m \u001b[38;5;21;01mjsonify\u001b[39;00m \u001b[38;5;28;01mimport\u001b[39;00m convert\n\u001b[1;32m----> 2\u001b[0m \u001b[43mconvert\u001b[49m\u001b[38;5;241;43m.\u001b[39;49m\u001b[43mjsonify\u001b[49m\u001b[43m(\u001b[49m\u001b[38;5;124;43m'\u001b[39;49m\u001b[38;5;124;43mnew.csv\u001b[39;49m\u001b[38;5;124;43m'\u001b[39;49m\u001b[43m)\u001b[49m\n",
      "File \u001b[1;32m~\\AppData\\Local\\Programs\\Python\\Python310\\lib\\site-packages\\jsonify\\convert.py:7\u001b[0m, in \u001b[0;36mjsonify\u001b[1;34m(csv_name)\u001b[0m\n\u001b[0;32m      6\u001b[0m \u001b[38;5;28;01mdef\u001b[39;00m \u001b[38;5;21mjsonify\u001b[39m(csv_name):\n\u001b[1;32m----> 7\u001b[0m     \u001b[38;5;28;01mwith\u001b[39;00m \u001b[38;5;28;43mopen\u001b[39;49m\u001b[43m(\u001b[49m\u001b[43mcsv_name\u001b[49m\u001b[43m,\u001b[49m\u001b[43m \u001b[49m\u001b[38;5;124;43m'\u001b[39;49m\u001b[38;5;124;43mr\u001b[39;49m\u001b[38;5;124;43m'\u001b[39;49m\u001b[43m)\u001b[49m \u001b[38;5;28;01mas\u001b[39;00m f:\n\u001b[0;32m      8\u001b[0m         data \u001b[38;5;241m=\u001b[39m []\n\u001b[0;32m      9\u001b[0m         reader \u001b[38;5;241m=\u001b[39m csv\u001b[38;5;241m.\u001b[39mDictReader(f)\n",
      "\u001b[1;31mFileNotFoundError\u001b[0m: [Errno 2] No such file or directory: 'new.csv'"
     ]
    }
   ],
   "source": [
    "from jsonify import convert\n",
    "convert.jsonify('new.csv')"
   ]
  },
  {
   "cell_type": "code",
   "execution_count": 1,
   "id": "fc476aaf",
   "metadata": {},
   "outputs": [
    {
     "name": "stdout",
     "output_type": "stream",
     "text": [
      "{'score': 78}\n"
     ]
    }
   ],
   "source": [
    "student = {\n",
    "  \"Umar\": {\n",
    "    \"score\": 67\n",
    "  },\n",
    "  \"Talha\": {\n",
    "    \"score\": 78\n",
    "  },\n",
    "  \"Shadab\": {\n",
    "    \"score\": 17\n",
    "  } \n",
    "}\n",
    "print((student[\"Talha\"]))\n"
   ]
  },
  {
   "cell_type": "code",
   "execution_count": 10,
   "id": "8548df7b",
   "metadata": {},
   "outputs": [
    {
     "name": "stdout",
     "output_type": "stream",
     "text": [
      "sam dean\n",
      "shbd\n",
      "shbd dean\n"
     ]
    }
   ],
   "source": [
    "class Student:\n",
    "    def __init__(self,a,b):\n",
    "        self.__a=a\n",
    "        self.b=b\n",
    "\n",
    "    def show(self):\n",
    "        print(self.__a,self.b)\n",
    "\n",
    "    def getter(self):\n",
    "        return self.__a\n",
    "\n",
    "    def setter(self,a):\n",
    "        self.__a=a\n",
    "        print(self.__a)\n",
    "    \n",
    "  \n",
    "obj=Student(\"sam\",\"dean\")\n",
    "obj.show()\n",
    "obj.setter(\"shbd\")\n",
    "obj.getter()\n",
    "obj.show()\n"
   ]
  },
  {
   "cell_type": "code",
   "execution_count": 1,
   "id": "410393a8",
   "metadata": {},
   "outputs": [
    {
     "name": "stdout",
     "output_type": "stream",
     "text": [
      "updated [11, 12, 5, 13, 6]\n",
      "updated [11, 5, 12, 13, 6]\n",
      "updated [5, 11, 12, 13, 6]\n",
      "updated [5, 11, 12, 6, 13]\n",
      "updated [5, 11, 6, 12, 13]\n",
      "updated [5, 6, 11, 12, 13]\n"
     ]
    }
   ],
   "source": [
    "a=[11,12,13,5,6]\n",
    "for i in range(1,len(a)):\n",
    "    while a[i-1]>a[i] and i>0:\n",
    "        a[i-1],a[i]=a[i],a[i-1]\n",
    "        i=i-1\n",
    "        print(\"updated\",a)"
   ]
  },
  {
   "cell_type": "code",
   "execution_count": 1,
   "id": "6fc17b58",
   "metadata": {},
   "outputs": [
    {
     "name": "stdout",
     "output_type": "stream",
     "text": [
      "Enter a number:111\n",
      "The total sum of digits is: 3\n"
     ]
    }
   ],
   "source": [
    "#23) Write a program to find the sum of the digits of a number in Python?\n",
    "n=int(input(\"Enter a number:\"))\n",
    "tot=0\n",
    "while(n>0):\n",
    "    dig=n%10\n",
    "    tot=tot+dig\n",
    "    n=n//10\n",
    "print(\"The total sum of digits is:\",tot)"
   ]
  },
  {
   "cell_type": "code",
   "execution_count": 1,
   "id": "56526bb6",
   "metadata": {},
   "outputs": [
    {
     "name": "stdout",
     "output_type": "stream",
     "text": [
      "enter the number111\n",
      "sum of digits 3\n"
     ]
    }
   ],
   "source": [
    "n=int(input(\"enter the number\"))\n",
    "sum=0\n",
    "while n>0:\n",
    "    dig=n%10\n",
    "    sum=sum + dig\n",
    "    n=n//10\n",
    "print(\"sum of digits\", sum)\n"
   ]
  },
  {
   "cell_type": "code",
   "execution_count": 6,
   "id": "df178139",
   "metadata": {},
   "outputs": [
    {
     "name": "stdout",
     "output_type": "stream",
     "text": [
      "[6, 4, 2, 1, 3, 5, 9, 8]\n"
     ]
    }
   ],
   "source": [
    "a=[4,6,1,2,5,3,9,8]\n",
    "n=len(a)\n",
    "for i in range(0,6,2):\n",
    "    if (i+1)< len(a):\n",
    "        a[i],a[i+1]=a[i+1],a[i]\n",
    "print(a)"
   ]
  },
  {
   "cell_type": "code",
   "execution_count": 11,
   "id": "bfdd0dbc",
   "metadata": {},
   "outputs": [
    {
     "name": "stdout",
     "output_type": "stream",
     "text": [
      "[2, 1, 4, 3, 6, 5]\n"
     ]
    }
   ],
   "source": [
    "a=[1,2,3,4,5,6]\n",
    "for i in range(0,6,2):\n",
    "    if (i+1)<len(a):  \n",
    "        a[i],a[i+1]=a[i+1],a[i]\n",
    "print(a)"
   ]
  },
  {
   "cell_type": "code",
   "execution_count": 8,
   "id": "72e4ed27",
   "metadata": {},
   "outputs": [
    {
     "name": "stdout",
     "output_type": "stream",
     "text": [
      "[1, 2]\n"
     ]
    }
   ],
   "source": [
    "a=[]\n",
    "a.append(1)\n",
    "a.append(2)\n",
    "print(a)\n",
    "# print(b)"
   ]
  },
  {
   "cell_type": "code",
   "execution_count": 8,
   "id": "febfa543",
   "metadata": {},
   "outputs": [
    {
     "name": "stdout",
     "output_type": "stream",
     "text": [
      "('a', 1)\n",
      "('b', 2)\n",
      "('c', 3)\n"
     ]
    }
   ],
   "source": [
    "class Student:\n",
    "    a={\"a\":1,\n",
    "      \"b\":2,\n",
    "      \"c\":3}\n",
    "    for i in a.items():\n",
    "        if i ==\"b\":\n",
    "            break\n",
    "        print(i)\n",
    "obj=Student()"
   ]
  },
  {
   "cell_type": "code",
   "execution_count": 3,
   "id": "7b1da1c5",
   "metadata": {},
   "outputs": [
    {
     "name": "stdout",
     "output_type": "stream",
     "text": [
      "sam dean\n",
      "sam ccccc\n"
     ]
    }
   ],
   "source": [
    "class A:\n",
    "    def __init__(self,a,b):\n",
    "        self.a=a\n",
    "        self._b=b\n",
    "        \n",
    "    def show(self):\n",
    "        print(self.a,self._b)\n",
    "        \n",
    "        \n",
    "    def gett(self):\n",
    "        return(self._b)\n",
    "    \n",
    "    def sett(self,b):\n",
    "        self._b=b\n",
    "obj=A(\"sam\",\"dean\")\n",
    "obj.show()\n",
    "obj.sett(\"ccccc\")\n",
    "# obj.gett()\n",
    "obj.show()"
   ]
  },
  {
   "cell_type": "code",
   "execution_count": 2,
   "id": "06ef1dfc",
   "metadata": {},
   "outputs": [
    {
     "name": "stdout",
     "output_type": "stream",
     "text": [
      "l1\n",
      "2\n",
      "1\n",
      "4\n",
      "3\n"
     ]
    }
   ],
   "source": [
    "#print unique number in alist\n",
    "def a(list1):\n",
    "    b=[]\n",
    "    for i in list1:\n",
    "        if i not in b:\n",
    "            b.append(i)\n",
    "    for i in b:\n",
    "        print(i)\n",
    "list1=[2,1,4,3,1,4,2]\n",
    "print(\"l1\")\n",
    "a(list1)\n",
    "\n"
   ]
  },
  {
   "cell_type": "code",
   "execution_count": 28,
   "id": "b24bd306",
   "metadata": {},
   "outputs": [
    {
     "name": "stdout",
     "output_type": "stream",
     "text": [
      "Jessa works at Google\n"
     ]
    }
   ],
   "source": [
    "class Company:\n",
    "    def company_name(self):\n",
    "        return 'Google'\n",
    "\n",
    "class Employee(Company):\n",
    "    def info(self):\n",
    "        # Calling the superclass method using super()function\n",
    "        c_name = super().company_name()\n",
    "        print(\"Jessa works at\", c_name)\n",
    "\n",
    "# Creating object of child class\n",
    "emp = Employee()\n",
    "emp.info()"
   ]
  },
  {
   "cell_type": "code",
   "execution_count": 3,
   "id": "5d0a43fd",
   "metadata": {},
   "outputs": [
    {
     "name": "stdout",
     "output_type": "stream",
     "text": [
      "hello\n",
      "baa\n"
     ]
    }
   ],
   "source": [
    "class A:\n",
    "    def info(self):\n",
    "        print(\"hello\")\n",
    "        \n",
    "class B(A):\n",
    "    def info(self):\n",
    "        b=super().info()\n",
    "        print(\"baa\")\n",
    "        \n",
    "\n",
    "obj=B()\n",
    "obj.info()"
   ]
  },
  {
   "cell_type": "markdown",
   "id": "a5c62181",
   "metadata": {},
   "source": [
    "# Find the student who has Highest marks ?"
   ]
  },
  {
   "cell_type": "code",
   "execution_count": 6,
   "id": "939da318",
   "metadata": {},
   "outputs": [
    {
     "ename": "AttributeError",
     "evalue": "'list' object has no attribute 'get'",
     "output_type": "error",
     "traceback": [
      "\u001b[1;31m---------------------------------------------------------------------------\u001b[0m",
      "\u001b[1;31mAttributeError\u001b[0m                            Traceback (most recent call last)",
      "Input \u001b[1;32mIn [6]\u001b[0m, in \u001b[0;36m<cell line: 4>\u001b[1;34m()\u001b[0m\n\u001b[0;32m      3\u001b[0m b\u001b[38;5;241m=\u001b[39m\u001b[38;5;124m'\u001b[39m\u001b[38;5;124m'\u001b[39m\u001b[38;5;66;03m#\u001b[39;00m\n\u001b[0;32m      4\u001b[0m \u001b[38;5;28;01mfor\u001b[39;00m i \u001b[38;5;129;01min\u001b[39;00m student:\n\u001b[1;32m----> 5\u001b[0m     score\u001b[38;5;241m=\u001b[39m\u001b[43mstudent\u001b[49m\u001b[38;5;241;43m.\u001b[39;49m\u001b[43mget\u001b[49m(i)[\u001b[38;5;124m\"\u001b[39m\u001b[38;5;124mscore\u001b[39m\u001b[38;5;124m\"\u001b[39m]\n\u001b[0;32m      6\u001b[0m \u001b[38;5;66;03m#     print(score)\u001b[39;00m\n\u001b[0;32m      7\u001b[0m     \u001b[38;5;28;01mif\u001b[39;00m score\u001b[38;5;241m>\u001b[39ma:\u001b[38;5;66;03m##\u001b[39;00m\n",
      "\u001b[1;31mAttributeError\u001b[0m: 'list' object has no attribute 'get'"
     ]
    }
   ],
   "source": [
    "student = [{\"Umar\":{\"score\": 67}, \"Talha\":{\"score\": 78}, \"Shadab\":{\"score\": 17}}]\n",
    "a=0\n",
    "b=''#\n",
    "for i in student:\n",
    "    score=student.get(i)[\"score\"]\n",
    "#     print(score)\n",
    "    if score>a:##\n",
    "        a=score\n",
    "        b=i\n",
    "print(list({b:a}))"
   ]
  },
  {
   "cell_type": "markdown",
   "id": "fdfa7b66",
   "metadata": {},
   "source": [
    "# 6. Create a iterator to find all the Power of 3?\n",
    "\n"
   ]
  },
  {
   "cell_type": "code",
   "execution_count": 3,
   "id": "2ec64875",
   "metadata": {},
   "outputs": [
    {
     "name": "stdout",
     "output_type": "stream",
     "text": [
      "1\n",
      "8\n",
      "125\n"
     ]
    }
   ],
   "source": [
    "def cube(a):\n",
    "    for i in a:\n",
    "        a=i**3\n",
    "        b.append(a)\n",
    "#     c=iter(b)\n",
    "    print(next(c))\n",
    "    print(next(c))\n",
    "    print(next(c))\n",
    "a=[1,2,5,6]\n",
    "b=[]\n",
    "cube(a)\n",
    "c=iter(b)\n",
    "# print(next(c))\n",
    "# print(next(c))\n",
    "# print(next(c))\n",
    "# print(next(c))"
   ]
  },
  {
   "cell_type": "markdown",
   "id": "9a5e532e",
   "metadata": {},
   "source": [
    "# 10. Find the even and odd from the given list using anonymous function\n"
   ]
  },
  {
   "cell_type": "code",
   "execution_count": 15,
   "id": "1669ba5c",
   "metadata": {},
   "outputs": [
    {
     "name": "stdout",
     "output_type": "stream",
     "text": [
      "['odd', 'even', 'odd', 'even', 'odd']\n"
     ]
    }
   ],
   "source": [
    "a=[1,2,3,4,5]\n",
    "b=[(lambda x: \"even\" if x%2==0 else \"odd\") (x) for x in a]\n",
    "print(b)"
   ]
  },
  {
   "cell_type": "code",
   "execution_count": 7,
   "id": "96e0ec10",
   "metadata": {},
   "outputs": [
    {
     "name": "stdout",
     "output_type": "stream",
     "text": [
      "3\n"
     ]
    }
   ],
   "source": [
    "# find unique number \n",
    "a=[2,1,4,3,2,1,4,5,5]\n",
    "r=0\n",
    "for i in a:\n",
    "    r^=i\n",
    "print(r)"
   ]
  },
  {
   "cell_type": "markdown",
   "id": "d6dc8d32",
   "metadata": {},
   "source": [
    "# 8. Convert a local variable into global variable and give the methods to access the same \n"
   ]
  },
  {
   "cell_type": "code",
   "execution_count": 17,
   "id": "42861ea8",
   "metadata": {},
   "outputs": [
    {
     "name": "stdout",
     "output_type": "stream",
     "text": [
      "sky is blue\n"
     ]
    }
   ],
   "source": [
    "# y=\"hello\"\n",
    "def func():\n",
    "    global x\n",
    "    x=\"blue\"\n",
    "#     print(\"sky is \",x)\n",
    "func()\n",
    "print(\"sky is\",x)"
   ]
  },
  {
   "cell_type": "markdown",
   "id": "e3b36db9",
   "metadata": {},
   "source": [
    "# Sort the list on the basis of second element in the tuple ?"
   ]
  },
  {
   "cell_type": "code",
   "execution_count": 9,
   "id": "0d9cf98c",
   "metadata": {},
   "outputs": [
    {
     "name": "stdout",
     "output_type": "stream",
     "text": [
      "[(56, 'apple'), ('water', 'case'), (1, 'groot'), ('dell', 'ipad'), ('teams', 'ml'), ('zoo', 'peanuts')]\n"
     ]
    }
   ],
   "source": [
    "a= [(\"zoo\", \"peanuts\"),(1, 'groot'), (\"teams\",\"ml\"),('dell', 'ipad'), ('water', 'case'), (56,\"apple\")]\n",
    "a.sort(key=lambda x:x[1])\n",
    "print(a)"
   ]
  },
  {
   "cell_type": "markdown",
   "id": "a8e4968c",
   "metadata": {},
   "source": [
    "# How to change the behaviour of a function without modifying it ?"
   ]
  },
  {
   "cell_type": "code",
   "execution_count": 8,
   "id": "49da1c5c",
   "metadata": {},
   "outputs": [
    {
     "name": "stdout",
     "output_type": "stream",
     "text": [
      "['b', 'a', 'n', 'a', 'n', 'a', 'u']\n",
      "['b', 'a', 'n', 'a', 'n', 'a', 'u']\n",
      "banana\n"
     ]
    }
   ],
   "source": [
    "a=\"banana\"\n",
    "b=list(a)\n",
    "b.append(\"u\")\n",
    "print(b)\n",
    "# print(a)\n",
    "print(b)\n",
    "print(a)"
   ]
  },
  {
   "cell_type": "code",
   "execution_count": 15,
   "id": "94583f6e",
   "metadata": {},
   "outputs": [
    {
     "name": "stdout",
     "output_type": "stream",
     "text": [
      "banana\n",
      "['b', 'a', 'n', 'a', 'n', 'a']\n",
      "['b', 'a', 'n', 'a', 'n', 'a', 'ee']\n",
      "banana\n"
     ]
    }
   ],
   "source": [
    "c=(\"banana\")\n",
    "print(c)\n",
    "d=list(c)\n",
    "print(d)\n",
    "d.append(\"ee\")\n",
    "print(d)\n",
    "print(c)"
   ]
  },
  {
   "cell_type": "code",
   "execution_count": 11,
   "id": "0d0a6fe8",
   "metadata": {},
   "outputs": [
    {
     "name": "stdout",
     "output_type": "stream",
     "text": [
      "{1: 1, 3: 3, 5: 5, 7: 7, 9: 9, 11: 11}\n"
     ]
    }
   ],
   "source": [
    "a={i:i for i in range (1,12,2)}\n",
    "print(a)"
   ]
  },
  {
   "cell_type": "code",
   "execution_count": 25,
   "id": "c472ae8b",
   "metadata": {},
   "outputs": [
    {
     "name": "stdout",
     "output_type": "stream",
     "text": [
      "0 odd\n",
      "2 odd\n",
      "4 odd\n",
      "6 odd\n",
      "8 odd\n"
     ]
    }
   ],
   "source": [
    "for i in range(0,10,2):\n",
    "    print(i,'odd')"
   ]
  },
  {
   "cell_type": "code",
   "execution_count": 35,
   "id": "3e455cbf",
   "metadata": {},
   "outputs": [
    {
     "name": "stdout",
     "output_type": "stream",
     "text": [
      "444\n"
     ]
    }
   ],
   "source": [
    "a=[1,22,3,444]\n",
    "c=0\n",
    "for i in a:\n",
    "    if i>c:\n",
    "        c=i\n",
    "print(c)"
   ]
  },
  {
   "cell_type": "code",
   "execution_count": 2,
   "id": "3873dded",
   "metadata": {},
   "outputs": [
    {
     "name": "stdout",
     "output_type": "stream",
     "text": [
      "444\n"
     ]
    }
   ],
   "source": [
    "class A:\n",
    "    def __init__(self,a):\n",
    "        self.a=a\n",
    "        \n",
    "    def show(a):\n",
    "        a=[1,2,444]\n",
    "        c=0\n",
    "        for i in a:\n",
    "            if i>c:\n",
    "                c=i\n",
    "        return c\n",
    "# a=['a','bb','ccc']\n",
    "# c=0\n",
    "obj=A('a')\n",
    "R=obj.show()\n",
    "print(R)\n",
    "# obj.show()\n",
    "# d=iter(c)\n",
    "# print(next(d))"
   ]
  },
  {
   "cell_type": "code",
   "execution_count": 7,
   "id": "4cdc7c31",
   "metadata": {},
   "outputs": [
    {
     "name": "stdout",
     "output_type": "stream",
     "text": [
      "10\n",
      "5\n"
     ]
    }
   ],
   "source": [
    "a=\"5\"\n",
    "b=\"10\"\n",
    "a,b=b,a\n",
    "print(a)\n",
    "print(b)"
   ]
  },
  {
   "cell_type": "code",
   "execution_count": 4,
   "id": "2cc69c85",
   "metadata": {},
   "outputs": [
    {
     "data": {
      "text/plain": [
       "[]"
      ]
     },
     "execution_count": 4,
     "metadata": {},
     "output_type": "execute_result"
    }
   ],
   "source": []
  },
  {
   "cell_type": "code",
   "execution_count": 13,
   "id": "d19f4ce2",
   "metadata": {},
   "outputs": [
    {
     "name": "stdout",
     "output_type": "stream",
     "text": [
      "[0, 1, 2, 4, 5, 3]\n"
     ]
    }
   ],
   "source": [
    "nums=[0,2,1,5,3,4]\n",
    "# class Solution(object):\n",
    "def buildArray(nums):\n",
    "    ans=[]\n",
    "    for i in range(len(nums)):\n",
    "        value=nums[nums[i]]\n",
    "        ans.append(value)\n",
    "    return ans\n",
    "r=buildArray(nums)\n",
    "print(r)"
   ]
  },
  {
   "cell_type": "code",
   "execution_count": 17,
   "id": "16c1d9f7",
   "metadata": {},
   "outputs": [
    {
     "name": "stdout",
     "output_type": "stream",
     "text": [
      "[1, 2, 3]\n",
      "[3, 2, 1]\n"
     ]
    }
   ],
   "source": [
    "accounts = [[1,2,3],[3,2,1]]\n",
    "sum=0\n",
    "for i in accounts:\n",
    "    sum=i\n",
    "    print(i)"
   ]
  },
  {
   "cell_type": "code",
   "execution_count": 3,
   "id": "0c93ff4f",
   "metadata": {},
   "outputs": [
    {
     "name": "stdout",
     "output_type": "stream",
     "text": [
      "[6, 6]\n"
     ]
    }
   ],
   "source": [
    "accounts = [[1,2,3],[3,2,1]]\n",
    "a=map(sum,accounts)\n",
    "print(list(a))"
   ]
  },
  {
   "cell_type": "code",
   "execution_count": 13,
   "id": "80944823",
   "metadata": {},
   "outputs": [
    {
     "name": "stdout",
     "output_type": "stream",
     "text": [
      "[1, 2, 1, 1, 2, 1, 1, 2, 1]\n"
     ]
    }
   ],
   "source": [
    "nums = [1,2,1]\n",
    "for i in nums:\n",
    "    pass\n",
    "print(nums*3)"
   ]
  },
  {
   "cell_type": "code",
   "execution_count": 1,
   "id": "a587422c",
   "metadata": {},
   "outputs": [
    {
     "name": "stdout",
     "output_type": "stream",
     "text": [
      "[1, 2, 3, 4]\n"
     ]
    }
   ],
   "source": [
    "\n",
    "nums = [1,1,1,1]\n",
    "for i in range(1,4):\n",
    "     nums[i]+=nums[i-1]\n",
    "print(nums)\n",
    "\n"
   ]
  },
  {
   "cell_type": "code",
   "execution_count": 9,
   "id": "46d5b0df",
   "metadata": {},
   "outputs": [
    {
     "data": {
      "text/plain": [
       "[1, 4, 27, 256]"
      ]
     },
     "execution_count": 9,
     "metadata": {},
     "output_type": "execute_result"
    }
   ],
   "source": [
    "a=[1,2,3,4]\n",
    "def fun(a):\n",
    "    d=[]\n",
    "    for i in a:\n",
    "        b=i**i\n",
    "#         print(b)\n",
    "        d.append(b)\n",
    "    return d\n",
    "fun(a)"
   ]
  },
  {
   "cell_type": "code",
   "execution_count": 96,
   "id": "3de0e674",
   "metadata": {},
   "outputs": [
    {
     "data": {
      "text/plain": [
       "[1, 2, 3, 4, 5]"
      ]
     },
     "execution_count": 96,
     "metadata": {},
     "output_type": "execute_result"
    }
   ],
   "source": [
    "# nums=[1,1,1,1,1]\n",
    "# def runningSum(nums):\n",
    "#     return [sum(nums[:i+1]) for i in range(len(nums))]\n",
    "# # runningSum(nums)"
   ]
  },
  {
   "cell_type": "markdown",
   "id": "b5b93ae2",
   "metadata": {},
   "source": [
    "# shuffle a array"
   ]
  },
  {
   "cell_type": "code",
   "execution_count": 1,
   "id": "588dac64",
   "metadata": {},
   "outputs": [
    {
     "name": "stdout",
     "output_type": "stream",
     "text": [
      "[1, 2, 1, 2]\n"
     ]
    }
   ],
   "source": [
    "nums=[1,1,2,2]\n",
    "n=2\n",
    "a=[]\n",
    "for i in range(n):\n",
    "    a.append(nums[i])\n",
    "    a.append(nums[i+n])\n",
    "print(a)"
   ]
  },
  {
   "cell_type": "code",
   "execution_count": 5,
   "id": "fdfd4ecf",
   "metadata": {},
   "outputs": [
    {
     "name": "stdout",
     "output_type": "stream",
     "text": [
      "15\n"
     ]
    }
   ],
   "source": [
    "a=[1,2,3,4,5]\n",
    "for i in range(1,5):\n",
    "    a[i]+=a[i-1]\n",
    "    x=a[-1]\n",
    "print(x)"
   ]
  },
  {
   "cell_type": "code",
   "execution_count": 9,
   "id": "ec4bad4c",
   "metadata": {},
   "outputs": [
    {
     "name": "stdout",
     "output_type": "stream",
     "text": [
      "[1, 3, 7, 10, 15]\n"
     ]
    }
   ],
   "source": [
    "#sort without inbuilt fucntion and method\n",
    "d=[1,10,7,15,3]\n",
    "a=[]\n",
    "while d:\n",
    "    mins=d[0]\n",
    "    for i in d:\n",
    "        if i<mins:\n",
    "            mins=i\n",
    "    a.append(mins)\n",
    "    d.remove(mins)\n",
    "print(a)"
   ]
  },
  {
   "cell_type": "code",
   "execution_count": 2,
   "id": "eac6bb73",
   "metadata": {},
   "outputs": [
    {
     "name": "stdout",
     "output_type": "stream",
     "text": [
      "[-23, -6, -5, 0, 5, 23, 23, 67]\n"
     ]
    }
   ],
   "source": [
    "data_list = [-5, -23, 5, 0, 23, -6, 23, 67]\n",
    "new_list = []\n",
    "\n",
    "while data_list:\n",
    "    minimum = data_list[0]  # arbitrary number in list \n",
    "    for x in data_list: \n",
    "        if x < minimum:\n",
    "            minimum = x\n",
    "    new_list.append(minimum)\n",
    "    data_list.remove(minimum)    \n",
    "\n",
    "print (new_list)\n"
   ]
  },
  {
   "cell_type": "code",
   "execution_count": null,
   "id": "534e2e1d",
   "metadata": {},
   "outputs": [],
   "source": []
  }
 ],
 "metadata": {
  "kernelspec": {
   "display_name": "Python 3 (ipykernel)",
   "language": "python",
   "name": "python3"
  },
  "language_info": {
   "codemirror_mode": {
    "name": "ipython",
    "version": 3
   },
   "file_extension": ".py",
   "mimetype": "text/x-python",
   "name": "python",
   "nbconvert_exporter": "python",
   "pygments_lexer": "ipython3",
   "version": "3.10.4"
  }
 },
 "nbformat": 4,
 "nbformat_minor": 5
}
