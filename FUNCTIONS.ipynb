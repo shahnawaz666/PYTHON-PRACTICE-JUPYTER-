{
 "cells": [
  {
   "cell_type": "code",
   "execution_count": 5,
   "id": "721621d0",
   "metadata": {},
   "outputs": [
    {
     "name": "stdout",
     "output_type": "stream",
     "text": [
      "my name is shahnawaz\n"
     ]
    }
   ],
   "source": [
    "def myfunction():\n",
    "    print(\"my name is shahnawaz\")\n",
    "myfunction()"
   ]
  },
  {
   "cell_type": "code",
   "execution_count": 4,
   "id": "0c7b597c",
   "metadata": {},
   "outputs": [
    {
     "name": "stdout",
     "output_type": "stream",
     "text": [
      "my roll no is 69\n"
     ]
    }
   ],
   "source": [
    "def myfunction():\n",
    "    print(\"my roll no is 69\")\n",
    "myfunction()"
   ]
  },
  {
   "cell_type": "code",
   "execution_count": null,
   "id": "7b5651c7",
   "metadata": {},
   "outputs": [],
   "source": [
    "def func(a,b):\n",
    "    x=int(input(\"enter the number\"))\n",
    "    c=a+b\n",
    "    print(c)\n",
    "func(2,4)"
   ]
  },
  {
   "cell_type": "code",
   "execution_count": 1,
   "id": "bea39636",
   "metadata": {},
   "outputs": [
    {
     "name": "stdout",
     "output_type": "stream",
     "text": [
      "arifkhan\n"
     ]
    }
   ],
   "source": [
    "def myfunc(name,surname):\n",
    "    print(name+\"\"+surname)\n",
    "myfunc(\"arif\",\"khan\")"
   ]
  },
  {
   "cell_type": "code",
   "execution_count": 6,
   "id": "52e67ad5",
   "metadata": {},
   "outputs": [
    {
     "name": "stdout",
     "output_type": "stream",
     "text": [
      "the older child isabbas\n"
     ]
    }
   ],
   "source": [
    "def func(*kids):\n",
    "    print(\"the older child is\"+ kids[1])\n",
    "func(\"sahil\",\"abbas\",\"sourabh\")"
   ]
  },
  {
   "cell_type": "markdown",
   "id": "0fa41afe",
   "metadata": {},
   "source": [
    "# Keyword Arguments\n",
    "- You can also send arguments with the key = value syntax.\n",
    "\n",
    "- This way the order of the arguments does not matter."
   ]
  },
  {
   "cell_type": "code",
   "execution_count": 8,
   "id": "fe3a8577",
   "metadata": {},
   "outputs": [
    {
     "name": "stdout",
     "output_type": "stream",
     "text": [
      "the youngest child isjamil\n"
     ]
    }
   ],
   "source": [
    "def func(child1,child2,child3):\n",
    "    print(\"the youngest child is\"+ child3)\n",
    "func(child1=\"emil\",child2=\"wamil\",child3=\"jamil\")"
   ]
  },
  {
   "cell_type": "code",
   "execution_count": 10,
   "id": "f9ec5ed3",
   "metadata": {},
   "outputs": [
    {
     "name": "stdout",
     "output_type": "stream",
     "text": [
      "the youngest child isjamil wamil\n"
     ]
    }
   ],
   "source": [
    "def func(child1,child2,child3):\n",
    "    print(\"the youngest child is\"+ child3 , child2)\n",
    "func(child1=\"emil\",child2=\"wamil\",child3=\"jamil\")"
   ]
  },
  {
   "cell_type": "markdown",
   "id": "b749cb5c",
   "metadata": {},
   "source": [
    "# Arbitrary Keyword Arguments, **kwargs\n",
    "- If you do not know how many keyword arguments that will be passed into your function, add two asterisk: ** before the - - - parameter name in the function definition.\n",
    "\n",
    "- This way the function will receive a dictionary of arguments, and can access the items accordingly:"
   ]
  },
  {
   "cell_type": "code",
   "execution_count": 11,
   "id": "e316ee33",
   "metadata": {},
   "outputs": [
    {
     "name": "stdout",
     "output_type": "stream",
     "text": [
      "his last name issadiq\n"
     ]
    }
   ],
   "source": [
    "def func(**kid):\n",
    "    print(\"his last name is\"   +     kid[\"jname\"])\n",
    "func(iname=\"rahul\",jname=\"sadiq\")"
   ]
  },
  {
   "cell_type": "code",
   "execution_count": 1,
   "id": "6f304775",
   "metadata": {},
   "outputs": [
    {
     "data": {
      "text/plain": [
       "6"
      ]
     },
     "execution_count": 1,
     "metadata": {},
     "output_type": "execute_result"
    }
   ],
   "source": [
    "def add(b,a):\n",
    "    c=b+a\n",
    "    return c\n",
    "add(2,4)"
   ]
  },
  {
   "cell_type": "markdown",
   "id": "2f3423c8",
   "metadata": {},
   "source": [
    "# Default Parameter Value\n",
    "- The following example shows how to use a default parameter value.\n",
    "\n",
    "- |If we call the function without argument, it uses the default value:\n"
   ]
  },
  {
   "cell_type": "code",
   "execution_count": 6,
   "id": "37855c27",
   "metadata": {},
   "outputs": [
    {
     "name": "stdout",
     "output_type": "stream",
     "text": [
      "i am from sweden\n",
      "i am from america\n",
      "i am from norway\n",
      "i am from europe\n"
     ]
    }
   ],
   "source": [
    "def myfunc(country=\"norway\"):\n",
    "    print(\"i am from \" + country)\n",
    "myfunc(\"sweden\")\n",
    "myfunc(\"america\")\n",
    "myfunc()\n",
    "myfunc(\"europe\")"
   ]
  },
  {
   "cell_type": "code",
   "execution_count": 13,
   "id": "8ac8e4aa",
   "metadata": {},
   "outputs": [
    {
     "name": "stdout",
     "output_type": "stream",
     "text": [
      "enter the number234\n",
      "enter the number2222\n",
      "additon= 2456\n"
     ]
    }
   ],
   "source": [
    "def add():\n",
    "    a=int(input(\"enter the number\"))\n",
    "    b=int(input(\"enter the number\"))\n",
    "    c=a+b\n",
    "    print(\"additon=\", c)\n",
    "add()"
   ]
  },
  {
   "cell_type": "code",
   "execution_count": 17,
   "id": "f97fb3f1",
   "metadata": {},
   "outputs": [
    {
     "name": "stdout",
     "output_type": "stream",
     "text": [
      "9\n"
     ]
    }
   ],
   "source": [
    "def addition(a,b):\n",
    "    c=a+b\n",
    "    return c\n",
    "z=addition(4,5)\n",
    "print(z)"
   ]
  },
  {
   "cell_type": "markdown",
   "id": "3ae35ced",
   "metadata": {},
   "source": [
    "# Passing a List as an Argument\n",
    "- You can send any data types of argument to a function (string, number, list, dictionary etc.), and it will be treated as the same data type inside the function.\n",
    "\n",
    "- E.g. if you send a List as an argument, it will still be a List when it reaches the function:"
   ]
  },
  {
   "cell_type": "code",
   "execution_count": 19,
   "id": "0c546d7d",
   "metadata": {},
   "outputs": [
    {
     "name": "stdout",
     "output_type": "stream",
     "text": [
      "apple\n",
      "cherry\n",
      "banana\n"
     ]
    }
   ],
   "source": [
    "def func(food):\n",
    "    for x in food:\n",
    "        print(x)\n",
    "fruits=[\"apple\",\"cherry\",\"banana\"]\n",
    "func(fruits)"
   ]
  },
  {
   "cell_type": "markdown",
   "id": "ba468831",
   "metadata": {},
   "source": [
    "# Return Values\n",
    "- |To let a function return a value, use the return statement:"
   ]
  },
  {
   "cell_type": "code",
   "execution_count": 20,
   "id": "ea21c0c7",
   "metadata": {},
   "outputs": [
    {
     "name": "stdout",
     "output_type": "stream",
     "text": [
      "15\n",
      "20\n",
      "170\n"
     ]
    }
   ],
   "source": [
    "def func(x):\n",
    "    return 5*x\n",
    "print(func(3))\n",
    "print(func(4))\n",
    "print(func(34))"
   ]
  },
  {
   "cell_type": "code",
   "execution_count": 24,
   "id": "ad5b81f1",
   "metadata": {},
   "outputs": [],
   "source": [
    "def func():\n",
    "    pass"
   ]
  },
  {
   "cell_type": "markdown",
   "id": "90dc89cd",
   "metadata": {},
   "source": [
    "# function definitions cannot be empty, but if you for some reason have a function definition with no content, put in the pass statement to avoid getting an error."
   ]
  },
  {
   "cell_type": "markdown",
   "id": "82d7037b",
   "metadata": {},
   "source": [
    "# Recursion\n",
    " - Python also accepts function recursion, which means a defined function can call itself.\n",
    "\n",
    "- Recursion is a common mathematical and programming concept. It means that a function calls itself. This has the benefit of meaning that you can loop through data to reach a result.\n",
    "\n",
    "- The developer should be very careful with recursion as it can be quite easy to slip into writing a function which never - - -- terminates, or one that uses excess amounts of memory or processor power. However, when written correctly recursion can be a - very efficient and mathematically-elegant approach to programming.\n",
    "\n",
    "- In this example, tri_recursion() is a function that we have defined to call itself (\"recurse\"). We use the k variable as the - data, which decrements (-1) every time we recurse. The recursion ends when the condition is not greater than 0 (i.e. when it - is 0).\n",
    "\n",
    "- [To a new developer it can take some time to work out how exactly this works, best way to find out is by testing and modifying it."
   ]
  },
  {
   "cell_type": "code",
   "execution_count": 3,
   "id": "73ebeefd",
   "metadata": {},
   "outputs": [
    {
     "name": "stdout",
     "output_type": "stream",
     "text": [
      "enter the number34\n",
      "enter the number34\n",
      "68\n"
     ]
    }
   ],
   "source": [
    "def func():\n",
    "    a=int(input(\"enter the number\"))\n",
    "    b=int(input(\"enter the number\"))\n",
    "    c=a+b\n",
    "    print(c)\n",
    "func()"
   ]
  },
  {
   "cell_type": "code",
   "execution_count": 1,
   "id": "ca9e1e05",
   "metadata": {},
   "outputs": [
    {
     "name": "stdout",
     "output_type": "stream",
     "text": [
      "11\n",
      "11\n",
      "22\n",
      "121\n",
      "0\n"
     ]
    }
   ],
   "source": [
    "def func(a,b):\n",
    "    c=a+b\n",
    "    print(c)\n",
    "    z=a*b\n",
    "    print(z)\n",
    "    y=a-b\n",
    "    print(y)\n",
    "func(int(input()),int(input()))"
   ]
  },
  {
   "cell_type": "markdown",
   "id": "a3e4acf5",
   "metadata": {},
   "source": []
  },
  {
   "cell_type": "code",
   "execution_count": 4,
   "id": "9a46df50",
   "metadata": {},
   "outputs": [
    {
     "name": "stdout",
     "output_type": "stream",
     "text": [
      "None\n"
     ]
    }
   ],
   "source": [
    "def add(b,a):\n",
    "    c=b+a\n",
    "x = add(2,4)\n",
    "print(x)"
   ]
  },
  {
   "cell_type": "code",
   "execution_count": 8,
   "id": "01a84bf1",
   "metadata": {},
   "outputs": [
    {
     "name": "stdout",
     "output_type": "stream",
     "text": [
      "6\n"
     ]
    }
   ],
   "source": [
    "\n",
    "c=add(2,4)\n",
    "print(c)\n",
    "\n",
    "def add(b,a):\n",
    "    A=b+a\n",
    "    return A\n",
    "\n"
   ]
  },
  {
   "cell_type": "code",
   "execution_count": 9,
   "id": "c7e47d5b",
   "metadata": {},
   "outputs": [
    {
     "name": "stdout",
     "output_type": "stream",
     "text": [
      "6\n"
     ]
    }
   ],
   "source": [
    "c=add(2,4)\n",
    "print(c)\n",
    "\n",
    "def add(b,a):\n",
    "    A=b+a\n",
    "    return A\n"
   ]
  },
  {
   "cell_type": "markdown",
   "id": "69984435",
   "metadata": {},
   "source": [
    "# recursion\n",
    "- a code written in a function will not execute until we call in a function"
   ]
  },
  {
   "cell_type": "code",
   "execution_count": 2,
   "id": "d2b6aa64",
   "metadata": {},
   "outputs": [
    {
     "name": "stdout",
     "output_type": "stream",
     "text": [
      "working with recursion\n"
     ]
    }
   ],
   "source": [
    "def xyz():\n",
    "    print(\"working with recursion\")\n",
    "xyz()"
   ]
  },
  {
   "cell_type": "code",
   "execution_count": null,
   "id": "01b62317",
   "metadata": {},
   "outputs": [],
   "source": [
    "def xyz():\n",
    "    print(\"working with recursion\")\n",
    "    xyz()\n",
    "xyz()"
   ]
  },
  {
   "cell_type": "code",
   "execution_count": 15,
   "id": "0747bb18",
   "metadata": {},
   "outputs": [
    {
     "name": "stdout",
     "output_type": "stream",
     "text": [
      "enter number7\n",
      "sum= 28\n"
     ]
    }
   ],
   "source": [
    "def sum(n):\n",
    "    if n==1:\n",
    "        return  1\n",
    "    else:\n",
    "        return(n+sum(n-1))\n",
    "n=int(input(\"enter number\"))\n",
    "z=sum(n)\n",
    "print(\"sum=\",z)"
   ]
  },
  {
   "cell_type": "code",
   "execution_count": 11,
   "id": "86c1c85c",
   "metadata": {},
   "outputs": [
    {
     "name": "stdout",
     "output_type": "stream",
     "text": [
      "enter number5\n",
      "add= 14\n"
     ]
    }
   ],
   "source": [
    "def add(n):\n",
    "    if n==2:\n",
    "        return  2\n",
    "    else:\n",
    "        return(n+add(n-1))\n",
    "n=int(input(\"enter numbe+r\"))\n",
    "y=add(n)\n",
    "print(\"add=\",y)"
   ]
  },
  {
   "cell_type": "code",
   "execution_count": 28,
   "id": "e315a143",
   "metadata": {},
   "outputs": [
    {
     "name": "stdout",
     "output_type": "stream",
     "text": [
      "* * * * * \n",
      "* * * * \n",
      "* * * \n",
      "* * \n",
      "* \n"
     ]
    }
   ],
   "source": [
    "i=1\n",
    "while i<=5:\n",
    "    j=5\n",
    "    while j>=i:\n",
    "        print('*', end=' ')\n",
    "        j=j-1\n",
    "    print()\n",
    "    i=i+1"
   ]
  },
  {
   "cell_type": "code",
   "execution_count": 29,
   "id": "14ca8dd5",
   "metadata": {},
   "outputs": [
    {
     "name": "stdout",
     "output_type": "stream",
     "text": [
      "* * * * * \n",
      "* * * * \n",
      "* * * \n",
      "* * \n",
      "* \n"
     ]
    }
   ],
   "source": [
    "for i in range(1,6):\n",
    "    for j in range(i,6):\n",
    "        print('*',end=\" \")\n",
    "    print()"
   ]
  },
  {
   "cell_type": "code",
   "execution_count": 39,
   "id": "769d71c5",
   "metadata": {},
   "outputs": [
    {
     "name": "stdout",
     "output_type": "stream",
     "text": [
      "\n",
      "* \n",
      "* * \n",
      "* * * \n",
      "* * * * \n",
      "* * * * * \n"
     ]
    }
   ],
   "source": [
    "for i in range(6):\n",
    "    for j in range(i):\n",
    "        print('*',end=\" \")\n",
    "    print()"
   ]
  },
  {
   "cell_type": "code",
   "execution_count": null,
   "id": "71e97bd6",
   "metadata": {},
   "outputs": [],
   "source": [
    "def tri_recursion(k):\n",
    "  if(k > 0):\n",
    "    result = k + tri_recursion(k + 1)\n",
    "    print(result)\n",
    "  else:\n",
    "    result = 0\n",
    "  return result\n",
    "\n",
    "print()\n",
    "tri_recursion(6)"
   ]
  },
  {
   "cell_type": "code",
   "execution_count": null,
   "id": "fdb8ab31",
   "metadata": {},
   "outputs": [],
   "source": []
  }
 ],
 "metadata": {
  "kernelspec": {
   "display_name": "Python 3 (ipykernel)",
   "language": "python",
   "name": "python3"
  },
  "language_info": {
   "codemirror_mode": {
    "name": "ipython",
    "version": 3
   },
   "file_extension": ".py",
   "mimetype": "text/x-python",
   "name": "python",
   "nbconvert_exporter": "python",
   "pygments_lexer": "ipython3",
   "version": "3.10.4"
  }
 },
 "nbformat": 4,
 "nbformat_minor": 5
}
