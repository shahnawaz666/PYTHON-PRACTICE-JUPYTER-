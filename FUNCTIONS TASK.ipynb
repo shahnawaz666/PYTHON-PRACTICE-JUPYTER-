{
 "cells": [
  {
   "cell_type": "markdown",
   "id": "3eaa4da5",
   "metadata": {},
   "source": [
    "\n",
    "\n",
    "# 1.Write a Python function to find the Max of three numbers.\n",
    "- 2.efine a function that accepts 2 values and return its sum, subtraction and multiplication..\n",
    "- 3.Write a Python function to multiply all the numbers in a list. \n",
    "- 4.Write a Python function to calculate the factorial of a number (a non-negative integer). The function accepts the number as - an argument\n",
    "- 5.Write a Python function to create and print a list where the values are square of numbers between 1 and 30 (both included).\n",
    "- 6.Write a Python function that accepts a string and calculate the number of upper case letters and lower case letters\n",
    "- 7.Define a function that accepts roll number and returns whether the student is present or absent.\n",
    "- 8.Define a function which counts vowels and consonant in a word.\n",
    "- 9.Define a function that accepts radius and returns the area of a circle."
   ]
  },
  {
   "cell_type": "code",
   "execution_count": 2,
   "id": "a19ed6b3",
   "metadata": {},
   "outputs": [
    {
     "name": "stdout",
     "output_type": "stream",
     "text": [
      "Enter First number2\n",
      "Enter Second number4\n",
      "Enter Third number10\n",
      "Maximum Number is ::> 10\n"
     ]
    }
   ],
   "source": [
    "def maximum(a, b, c): \n",
    "   list = [a, b, c] \n",
    "   return max(list) \n",
    "# Driven code  \n",
    "x = int(input(\"Enter First number\"))\n",
    "y = int(input(\"Enter Second number\"))\n",
    "z = int(input(\"Enter Third number\"))\n",
    "print(\"Maximum Number is ::>\",maximum(x, y, z)) "
   ]
  },
  {
   "cell_type": "code",
   "execution_count": 3,
   "id": "84504c34",
   "metadata": {},
   "outputs": [
    {
     "data": {
      "text/plain": [
       "(25, 150, -5)"
      ]
     },
     "execution_count": 3,
     "metadata": {},
     "output_type": "execute_result"
    }
   ],
   "source": [
    "def sum(a,b):\n",
    "    add=a+b\n",
    "    multiplication=a*b\n",
    "    subtraction=a-b\n",
    "    return add,multiplication,subtraction\n",
    "sum(10,15)    "
   ]
  },
  {
   "cell_type": "code",
   "execution_count": null,
   "id": "fec57d05",
   "metadata": {},
   "outputs": [],
   "source": []
  },
  {
   "cell_type": "code",
   "execution_count": null,
   "id": "ae4b9add",
   "metadata": {},
   "outputs": [],
   "source": []
  },
  {
   "cell_type": "code",
   "execution_count": 105,
   "id": "7ca49213",
   "metadata": {},
   "outputs": [
    {
     "name": "stdout",
     "output_type": "stream",
     "text": [
      "0\n",
      "0\n"
     ]
    }
   ],
   "source": [
    "def a(myList):\n",
    "    result = 0\n",
    "    \n",
    "    for x in myList:\n",
    "         result = result * x\n",
    "    return result\n",
    "list1 = [1, 2, 3]\n",
    "list2 = [3, 2, 4]\n",
    "print(a(list1))\n",
    "print(a(list2))"
   ]
  },
  {
   "cell_type": "code",
   "execution_count": null,
   "id": "9412576b",
   "metadata": {},
   "outputs": [],
   "source": []
  },
  {
   "cell_type": "code",
   "execution_count": null,
   "id": "43bd9187",
   "metadata": {},
   "outputs": [],
   "source": []
  },
  {
   "cell_type": "code",
   "execution_count": 1,
   "id": "cc8ff3f2",
   "metadata": {},
   "outputs": [
    {
     "name": "stdout",
     "output_type": "stream",
     "text": [
      "6\n",
      "720\n"
     ]
    }
   ],
   "source": [
    "def factorial(n):\n",
    "    if n==0:\n",
    "        return 1\n",
    "    else:\n",
    "        return n*factorial(n-1)\n",
    "print(factorial(int(input())))"
   ]
  },
  {
   "cell_type": "code",
   "execution_count": 3,
   "id": "754f20f3",
   "metadata": {},
   "outputs": [
    {
     "name": "stdout",
     "output_type": "stream",
     "text": [
      "[1, 4, 9, 16, 25, 36, 49, 64, 81, 100, 121, 144, 169, 196, 225, 256, 289, 324, 361, 400, 441, 484, 529, 576, 625, 676, 729, 784, 841]\n"
     ]
    }
   ],
   "source": [
    "def a():\n",
    "    b=list()\n",
    "    for i in range(1,30):\n",
    "        b.append(i**2)\n",
    "    print(b)\n",
    "a()"
   ]
  },
  {
   "cell_type": "code",
   "execution_count": 75,
   "id": "b962d4ab",
   "metadata": {},
   "outputs": [],
   "source": [
    "def b():\n",
    "    a=list()\n",
    "    [print (i*i, end=\" \") for i in a ]\n",
    "b()"
   ]
  },
  {
   "cell_type": "code",
   "execution_count": 91,
   "id": "c046d93f",
   "metadata": {},
   "outputs": [
    {
     "name": "stdout",
     "output_type": "stream",
     "text": [
      "6\n",
      "4\n"
     ]
    }
   ],
   "source": [
    "def string():\n",
    "    a=(\"hellO WOrLd\")\n",
    "    count=0\n",
    "    count1=0\n",
    "    for i in a:\n",
    "        if i.islower():\n",
    "            count+=1\n",
    "        elif i.isupper():\n",
    "            count1+=1\n",
    "    print(count)\n",
    "    print(count1)\n",
    "string()"
   ]
  },
  {
   "cell_type": "code",
   "execution_count": 96,
   "id": "7f417899",
   "metadata": {},
   "outputs": [
    {
     "name": "stdout",
     "output_type": "stream",
     "text": [
      "enter the number333\n",
      "roll no 333 is absent\n"
     ]
    }
   ],
   "source": [
    "def detail(roll):\n",
    "    a=[23,32,45,54,67,76]\n",
    "    if roll in a:\n",
    "        print(f\"roll no {roll} is present\")\n",
    "    else:\n",
    "        print(f\"roll no {roll} is absent\")\n",
    "roll=int(input(\"enter the number\"))\n",
    "detail(roll)"
   ]
  },
  {
   "cell_type": "code",
   "execution_count": 101,
   "id": "a7a39f9e",
   "metadata": {},
   "outputs": [
    {
     "name": "stdout",
     "output_type": "stream",
     "text": [
      "Please enter a string as you wish: AHVDHgvuTDRFIUJEWOUVGGVYcyvsdudgvdhcsgdcgsdvsvsvsuycvsdicsicgsdiyciygcsycsdvcsuycgsiegy67tfiudbvcduh\n",
      "The number of vowels: 19\n",
      "\n",
      "The number of consonant: 79\n"
     ]
    }
   ],
   "source": [
    "def letters(input):\n",
    "    return ''.join([c for c in input if c.isalpha()])\n",
    "  \n",
    "str=input(\"Please enter a string as you wish: \");\n",
    "str = letters(str)\n",
    " \n",
    "vowels=0\n",
    "consonants=0\n",
    " \n",
    "for i in str:\n",
    "  if(i == 'a'or i == 'e'or i == 'i'or i == 'o'or i == 'u' or\n",
    "   i == 'A'or i == 'E'or i == 'I'or i == 'O'or i == 'U' ):\n",
    "      vowels=vowels+1;#vowel counter is incremented by 1\n",
    "  else:\n",
    "    consonants=consonants+1;\n",
    "#consonant counter is incremented by 1\n",
    "print(\"The number of vowels:\",vowels);\n",
    "print(\"\\nThe number of consonant:\",consonants);"
   ]
  },
  {
   "cell_type": "code",
   "execution_count": null,
   "id": "bcc1a754",
   "metadata": {},
   "outputs": [],
   "source": []
  }
 ],
 "metadata": {
  "kernelspec": {
   "display_name": "Python 3 (ipykernel)",
   "language": "python",
   "name": "python3"
  },
  "language_info": {
   "codemirror_mode": {
    "name": "ipython",
    "version": 3
   },
   "file_extension": ".py",
   "mimetype": "text/x-python",
   "name": "python",
   "nbconvert_exporter": "python",
   "pygments_lexer": "ipython3",
   "version": "3.10.4"
  }
 },
 "nbformat": 4,
 "nbformat_minor": 5
}
