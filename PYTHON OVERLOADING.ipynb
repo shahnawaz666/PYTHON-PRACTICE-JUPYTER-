{
 "cells": [
  {
   "cell_type": "code",
   "execution_count": 1,
   "id": "13a923e9",
   "metadata": {},
   "outputs": [
    {
     "name": "stdout",
     "output_type": "stream",
     "text": [
      "10\n"
     ]
    }
   ],
   "source": [
    "def myfunc(a,b):\n",
    "    c=a+b\n",
    "    print(c)\n",
    "def myfunc(a,b,c):\n",
    "    c=a-b+c\n",
    "    print(c)\n",
    "myfunc(10,5,5)"
   ]
  },
  {
   "cell_type": "code",
   "execution_count": null,
   "id": "a4154061",
   "metadata": {},
   "outputs": [],
   "source": []
  }
 ],
 "metadata": {
  "kernelspec": {
   "display_name": "Python 3 (ipykernel)",
   "language": "python",
   "name": "python3"
  },
  "language_info": {
   "codemirror_mode": {
    "name": "ipython",
    "version": 3
   },
   "file_extension": ".py",
   "mimetype": "text/x-python",
   "name": "python",
   "nbconvert_exporter": "python",
   "pygments_lexer": "ipython3",
   "version": "3.10.4"
  }
 },
 "nbformat": 4,
 "nbformat_minor": 5
}
