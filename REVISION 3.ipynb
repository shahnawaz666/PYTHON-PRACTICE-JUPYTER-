{
 "cells": [
  {
   "cell_type": "code",
   "execution_count": 46,
   "id": "436ef38a",
   "metadata": {},
   "outputs": [
    {
     "name": "stdout",
     "output_type": "stream",
     "text": [
      "8.899999999999999\n"
     ]
    }
   ],
   "source": [
    "a={1:2.3,2:3.3,3:3.3}\n",
    "b=[]\n",
    "for i in a.values():\n",
    "    b.append(float(i))\n",
    "print(sum(b))"
   ]
  },
  {
   "cell_type": "code",
   "execution_count": 49,
   "id": "b44aa9e2",
   "metadata": {},
   "outputs": [
    {
     "name": "stdout",
     "output_type": "stream",
     "text": [
      "4150.0\n"
     ]
    }
   ],
   "source": [
    " dict1 = [{'item':'item1','amount':'400'},{'item':'item2','amount':'3000'},{'item':'item1','amount':'750'}]\n",
    "dict2=[]\n",
    "for i in dict1:\n",
    "    c=i[\"amount\"]\n",
    "    dict2.append(float(c))\n",
    "print(sum(dict2))"
   ]
  },
  {
   "cell_type": "code",
   "execution_count": 3,
   "id": "7e74ecfc",
   "metadata": {},
   "outputs": [
    {
     "name": "stdout",
     "output_type": "stream",
     "text": [
      "2 x 1 = 2\n",
      "2 x 2 = 4\n",
      "2 x 3 = 6\n",
      "2 x 4 = 8\n",
      "2 x 5 = 10\n",
      "2 x 6 = 12\n",
      "2 x 7 = 14\n",
      "2 x 8 = 16\n",
      "2 x 9 = 18\n",
      "2 x 10 = 20\n"
     ]
    }
   ],
   "source": [
    "def asif(*x):\n",
    "    for i in x:\n",
    "        print(\"2\",\"x\",i,\"=\",i*2)\n",
    "asif(1,2,3,4,5,6,7,8,9,10)"
   ]
  },
  {
   "cell_type": "code",
   "execution_count": 8,
   "id": "7aa25665",
   "metadata": {},
   "outputs": [
    {
     "name": "stdout",
     "output_type": "stream",
     "text": [
      "125\n"
     ]
    }
   ],
   "source": [
    "def func(x=5):\n",
    "    return x**3\n",
    "a=func(5)\n",
    "print(a)"
   ]
  },
  {
   "cell_type": "code",
   "execution_count": 5,
   "id": "8ded4ef0",
   "metadata": {},
   "outputs": [
    {
     "name": "stdout",
     "output_type": "stream",
     "text": [
      "0\n",
      "1\n",
      "2\n",
      "3\n",
      "4\n",
      "5\n",
      "6\n",
      "7\n",
      "8\n",
      "9\n"
     ]
    }
   ],
   "source": [
    "for i in range(10):\n",
    "    print(i)"
   ]
  },
  {
   "cell_type": "markdown",
   "id": "0eaec067",
   "metadata": {},
   "source": [
    "# kids with extra candies"
   ]
  },
  {
   "cell_type": "code",
   "execution_count": 28,
   "id": "63e8829c",
   "metadata": {},
   "outputs": [
    {
     "name": "stdout",
     "output_type": "stream",
     "text": [
      "[True, True, True, False, True]\n"
     ]
    }
   ],
   "source": [
    "candies = [2,3,5,1,3]\n",
    "extraCandies=3\n",
    "l=len(candies)\n",
    "a=[]\n",
    "for i in range (l):\n",
    "    if candies[i]+extraCandies>=max(candies):\n",
    "        a.append(True)\n",
    "    else:\n",
    "        a.append(False)\n",
    "print(a)"
   ]
  },
  {
   "cell_type": "code",
   "execution_count": 4,
   "id": "23636f25",
   "metadata": {},
   "outputs": [
    {
     "name": "stdout",
     "output_type": "stream",
     "text": [
      "{1, 3}\n"
     ]
    }
   ],
   "source": [
    "a={1,2,3}\n",
    "# a.remove(3)\n",
    "a.discard(2)\n",
    "print(a)"
   ]
  },
  {
   "cell_type": "code",
   "execution_count": 2,
   "id": "a4c61025",
   "metadata": {},
   "outputs": [
    {
     "name": "stdout",
     "output_type": "stream",
     "text": [
      "[2, 1, 4, 3, 6, 5]\n"
     ]
    }
   ],
   "source": [
    "#swap adjacent elements withoutninbuilt functions\n",
    "a=[1,2,3,4,5,6]\n",
    "for i in range(0,len(a),2):\n",
    "    a[i],a[i+1]=a[i+1],a[i]\n",
    "print(a)"
   ]
  },
  {
   "cell_type": "code",
   "execution_count": 12,
   "id": "e39837bf",
   "metadata": {},
   "outputs": [
    {
     "name": "stdout",
     "output_type": "stream",
     "text": [
      "[1, 2, 3, 4, 5, 6]\n",
      "5\n"
     ]
    }
   ],
   "source": [
    "#insertion sort without using inbuilt fucntions\n",
    "a=[6,5,4,3,2,1]\n",
    "for i in range(len(a)):\n",
    "    for j in range(i+1,len(a)):\n",
    "        if a[i]>a[j]:\n",
    "            a[i],a[j]=a[j],a[i]\n",
    "            x=a[-2]\n",
    "            \n",
    "print(a)\n",
    "print(x)"
   ]
  },
  {
   "cell_type": "markdown",
   "id": "bcb37bec",
   "metadata": {},
   "source": [
    "# Number of Good Pairs"
   ]
  },
  {
   "cell_type": "code",
   "execution_count": 8,
   "id": "79a8b323",
   "metadata": {},
   "outputs": [
    {
     "name": "stdout",
     "output_type": "stream",
     "text": [
      "4\n"
     ]
    }
   ],
   "source": [
    "nums = [1,2,3,1,1,3]\n",
    "a=0\n",
    "for i in range(len(nums)):\n",
    "    for j in range(i+1,len(nums)):\n",
    "        if nums[i]==nums[j]:\n",
    "            a+=1\n",
    "print(a)"
   ]
  },
  {
   "cell_type": "code",
   "execution_count": 11,
   "id": "78d1de65",
   "metadata": {},
   "outputs": [
    {
     "name": "stdout",
     "output_type": "stream",
     "text": [
      "6\n"
     ]
    }
   ],
   "source": [
    "nums = [1,1,1,1]\n",
    "b=0\n",
    "for i in range(len(nums)):\n",
    "    for j in range(i+1,len(nums)):\n",
    "        if nums[i]==nums[j]:\n",
    "            b+=1\n",
    "print(b)"
   ]
  },
  {
   "cell_type": "code",
   "execution_count": 12,
   "id": "4ffd2f63",
   "metadata": {},
   "outputs": [
    {
     "name": "stdout",
     "output_type": "stream",
     "text": [
      "0\n"
     ]
    }
   ],
   "source": [
    "nums=[1,2,3]\n",
    "d=0\n",
    "for i in range(len(nums)):\n",
    "    for j in range(i+1,len(nums)):\n",
    "        if nums[i]==nums[j]:\n",
    "            d+=1\n",
    "print(d)"
   ]
  },
  {
   "cell_type": "markdown",
   "id": "3fad270d",
   "metadata": {},
   "source": [
    " # Number of Substrings With Only 1s"
   ]
  },
  {
   "cell_type": "code",
   "execution_count": 6,
   "id": "89e15092",
   "metadata": {},
   "outputs": [
    {
     "name": "stdout",
     "output_type": "stream",
     "text": [
      "0\n"
     ]
    }
   ],
   "source": [
    "s = \"0110111\"\n",
    "result=0\n",
    "count=0\n",
    "mod=1_000_000_007\n",
    "for i in range(len(s)):\n",
    "    for j in range(len(s),i+1):\n",
    "        if s[i]==1:\n",
    "            count+=1\n",
    "        else:\n",
    "            count+=0\n",
    "            result=(result+count)% mod\n",
    "print(result)"
   ]
  },
  {
   "cell_type": "code",
   "execution_count": 14,
   "id": "38e42eac",
   "metadata": {},
   "outputs": [
    {
     "name": "stdout",
     "output_type": "stream",
     "text": [
      "9\n"
     ]
    }
   ],
   "source": [
    "s = \"0110111\"\n",
    "a=s.split(\"0\")\n",
    "res=0\n",
    "for i in a:\n",
    "    n=len(i)\n",
    "    res+=n*(n+1)//2\n",
    "print(res)"
   ]
  },
  {
   "cell_type": "markdown",
   "id": "eab864c8",
   "metadata": {},
   "source": [
    "# hierarchical inheritance"
   ]
  },
  {
   "cell_type": "code",
   "execution_count": 3,
   "id": "ba39b18e",
   "metadata": {},
   "outputs": [
    {
     "name": "stdout",
     "output_type": "stream",
     "text": [
      "eee\n",
      "b\n"
     ]
    }
   ],
   "source": [
    "class Student():\n",
    "    def info(self):\n",
    "        print(\"eee\")\n",
    "        \n",
    "class A(Student):\n",
    "    def sinfo(self):\n",
    "        print(\"b\")\n",
    "        \n",
    "class B(Student):\n",
    "    def nfo(self):\n",
    "        print(\"c\")\n",
    "\n",
    "class C(B):\n",
    "    def sss(self):\n",
    "        print(\"d\")\n",
    "obj=A()\n",
    "# obj.nfo()\n",
    "# obj.sss()\n",
    "# obj.sinfo()\n",
    "obj.info()\n",
    "obj.sinfo()"
   ]
  },
  {
   "cell_type": "markdown",
   "id": "11b9f73c",
   "metadata": {},
   "source": [
    " # multiple inheritance"
   ]
  },
  {
   "cell_type": "code",
   "execution_count": 3,
   "id": "c62e9039",
   "metadata": {},
   "outputs": [
    {
     "name": "stdout",
     "output_type": "stream",
     "text": [
      "bbb\n",
      "aa\n",
      "inherit\n"
     ]
    }
   ],
   "source": [
    "class AAA():\n",
    "    def show(self):\n",
    "        print(\"aa\")\n",
    "        \n",
    "class BBB():\n",
    "    def func(self):\n",
    "        print(\"bbb\")\n",
    "        \n",
    "class Child(AAA,BBB):\n",
    "    def inh(self):\n",
    "#         b=super().show()\n",
    "        print(\"inherit\")\n",
    "\n",
    "ss=Child()\n",
    "ss.func()\n",
    "ss.show()\n",
    "ss.inh()"
   ]
  },
  {
   "cell_type": "markdown",
   "id": "54aaed25",
   "metadata": {},
   "source": [
    "# multilevel inheritance"
   ]
  },
  {
   "cell_type": "code",
   "execution_count": 3,
   "id": "21adf110",
   "metadata": {},
   "outputs": [
    {
     "name": "stdout",
     "output_type": "stream",
     "text": [
      "eeee\n"
     ]
    }
   ],
   "source": [
    "class W():\n",
    "    def show(self):\n",
    "        print(\"eeee\")\n",
    "\n",
    "class X(W):\n",
    "    def will(self):\n",
    "        print(\"hhh\")\n",
    "    \n",
    "class Y(X):\n",
    "    def see(self):\n",
    "        print(\"vvvvv\")\n",
    "        \n",
    "ooo=Y()\n",
    "ooo.show()"
   ]
  },
  {
   "cell_type": "code",
   "execution_count": 40,
   "id": "4bedcc63",
   "metadata": {},
   "outputs": [
    {
     "name": "stdout",
     "output_type": "stream",
     "text": [
      "jjj\n",
      "aaa\n",
      "ggg\n"
     ]
    }
   ],
   "source": [
    "class Car():\n",
    "    def info(self):\n",
    "        print(\"jjj\")\n",
    "        \n",
    "class Bike(Car):\n",
    "    def show(self):\n",
    "        print(\"aaa\")\n",
    "        \n",
    "class Motor(Bike):\n",
    "    def sss(self):\n",
    "        print(\"ccc\")\n",
    "        \n",
    "class Sports(Bike,Car):\n",
    "    def acc(self):\n",
    "        print(\"ggg\")\n",
    "        \n",
    "obj=Sports()\n",
    "obj.info()\n",
    "obj.show()\n",
    "obj.acc()\n",
    "# obj.sss()"
   ]
  },
  {
   "cell_type": "code",
   "execution_count": 5,
   "id": "9f469d5e",
   "metadata": {},
   "outputs": [
    {
     "name": "stdout",
     "output_type": "stream",
     "text": [
      "[2, 3, 4, 5, 6, 10]\n",
      "6\n"
     ]
    }
   ],
   "source": [
    "s=[6,5,4,3,2,10]\n",
    "for i in range(len(s)):\n",
    "    for j in range(i+1,len(s)):\n",
    "        if s[i]>s[j]:\n",
    "            s[i],s[j]=s[j],s[i]\n",
    "            x=s[-2]\n",
    "        \n",
    "print(s)\n",
    "print(x)"
   ]
  },
  {
   "cell_type": "code",
   "execution_count": 10,
   "id": "1e81aa9d",
   "metadata": {},
   "outputs": [
    {
     "name": "stdout",
     "output_type": "stream",
     "text": [
      "{'S009', 'S007', 'S005', 'S001', 'S002'}\n"
     ]
    }
   ],
   "source": [
    "# 2. Write a Python program to print all unique values in a dictionary. \n",
    "data=[{\"V\":\"S001\"}, {\"V\": \"S002\"}, {\"VI\": \"S001\"}, {\"VI\": \"S005\"}, {\"VII\":\"S005\"}, {\"V\":\"S009\"},{\"VIII\":\"S007\"}]\n",
    "x=set()\n",
    "for i in data:\n",
    "    for j in i.values():\n",
    "        x.add(j)\n",
    "print(x)"
   ]
  },
  {
   "cell_type": "code",
   "execution_count": 31,
   "id": "8baf3f6d",
   "metadata": {},
   "outputs": [
    {
     "name": "stdout",
     "output_type": "stream",
     "text": [
      "{'S009', 'S007', 'S005', 'S001', 'S002'}\n"
     ]
    }
   ],
   "source": [
    "data=[{\"V\":\"S001\"}, {\"V\": \"S002\"}, {\"VI\": \"S001\"}, {\"VI\": \"S005\"}, {\"VII\":\"S005\"}, {\"V\":\"S009\"},{\"VIII\":\"S007\"}]\n",
    "x={v  for i in data for  k,v in i.items()}\n",
    "print(x)"
   ]
  },
  {
   "cell_type": "code",
   "execution_count": 6,
   "id": "3e0cd318",
   "metadata": {},
   "outputs": [
    {
     "name": "stdout",
     "output_type": "stream",
     "text": [
      "66\n",
      "-1\n"
     ]
    }
   ],
   "source": [
    "lst=[1,2,3,4,5]\n",
    "n=int(input())\n",
    "for i in range(len(lst)):\n",
    "    if n ==lst[i]:\n",
    "        print(i)\n",
    "        break\n",
    "else:\n",
    "    print(-1)"
   ]
  },
  {
   "cell_type": "code",
   "execution_count": 9,
   "id": "505e778a",
   "metadata": {},
   "outputs": [
    {
     "name": "stdout",
     "output_type": "stream",
     "text": [
      "[2, 8, 18, 32]\n"
     ]
    }
   ],
   "source": [
    "a=[1,2,3,4]\n",
    "b=[]\n",
    "for i in a:\n",
    "    b.append(i*i*2)\n",
    "print(b)"
   ]
  },
  {
   "cell_type": "code",
   "execution_count": 3,
   "id": "34aeae6e",
   "metadata": {},
   "outputs": [
    {
     "name": "stdout",
     "output_type": "stream",
     "text": [
      "70\n"
     ]
    }
   ],
   "source": [
    "a = {\"class\": {\"student\": {\"name\": \"Mike\",\"marks\": {\"physics\": 70,\"history\": 80}}}}\n",
    "for i in a.values():\n",
    "    x=i.get('student')['marks']['physics']\n",
    "print(x)"
   ]
  },
  {
   "cell_type": "code",
   "execution_count": 11,
   "id": "76a40ea4",
   "metadata": {},
   "outputs": [
    {
     "name": "stdout",
     "output_type": "stream",
     "text": [
      "0\n",
      "1\n",
      "2\n",
      "3\n"
     ]
    }
   ],
   "source": [
    "def gen(n):\n",
    "    for i in range(n):\n",
    "        yield i\n",
    "g=gen(100000000000)\n",
    "print(g.__next__())\n",
    "print(g.__next__())\n",
    "print(g.__next__())\n",
    "print(g.__next__())"
   ]
  },
  {
   "cell_type": "code",
   "execution_count": null,
   "id": "171eedba",
   "metadata": {},
   "outputs": [],
   "source": [
    "n=int(input(str))\n",
    "b=[]\n",
    "c=[]\n",
    "for i in range(n):\n",
    "    a=int(input())\n",
    "    if a%2==0:\n",
    "        b.append(a)\n",
    "    else:\n",
    "        c.append(a)\n",
    "print(b,c)"
   ]
  },
  {
   "cell_type": "markdown",
   "id": "7c1599cd",
   "metadata": {},
   "source": [
    "# password"
   ]
  },
  {
   "cell_type": "code",
   "execution_count": 3,
   "id": "802cc7c2",
   "metadata": {},
   "outputs": [
    {
     "name": "stdout",
     "output_type": "stream",
     "text": [
      "4\n",
      "4 x 1 = 4\n",
      "4 x 2 = 8\n",
      "4 x 3 = 12\n",
      "4 x 4 = 16\n",
      "4 x 5 = 20\n",
      "4 x 6 = 24\n",
      "4 x 7 = 28\n",
      "4 x 8 = 32\n",
      "4 x 9 = 36\n",
      "4 x 10 = 40\n"
     ]
    }
   ],
   "source": [
    "def asif(x):\n",
    "    for i in range(1,11):\n",
    "        print(x,\"x\",i,\"=\",i*n)\n",
    "n=int(input())\n",
    "asif(n)"
   ]
  },
  {
   "cell_type": "code",
   "execution_count": 24,
   "id": "7b1c5912",
   "metadata": {},
   "outputs": [
    {
     "name": "stdout",
     "output_type": "stream",
     "text": [
      "select your password: 1212\n",
      "Enter your password: 1456\n",
      "Enter your correct password: 1212\n",
      "password is right\n"
     ]
    }
   ],
   "source": [
    "n=input(\"select your password: \")\n",
    "s=input(\"Enter your password: \")\n",
    "# for i in range(n):\n",
    "while True:\n",
    "    if n==s:\n",
    "        print(\"password is right\")\n",
    "        break\n",
    "    else:\n",
    "        s=input(\"Enter your correct password: \")"
   ]
  },
  {
   "cell_type": "code",
   "execution_count": 1,
   "id": "ca826cba",
   "metadata": {},
   "outputs": [
    {
     "name": "stdout",
     "output_type": "stream",
     "text": [
      "<generator object func at 0x000001BB227BB530>\n"
     ]
    }
   ],
   "source": [
    "def func():\n",
    "    for i in range(100):\n",
    "        yield i*i\n",
    "a=func()\n",
    "print(a)"
   ]
  },
  {
   "cell_type": "code",
   "execution_count": 6,
   "id": "d4570140",
   "metadata": {},
   "outputs": [
    {
     "name": "stdout",
     "output_type": "stream",
     "text": [
      "6\n",
      "8\n",
      "10\n",
      "12\n",
      "14\n"
     ]
    }
   ],
   "source": [
    "def square(y):\n",
    "    for i in range(y):\n",
    "#         print(\"a\")\n",
    "        yield(i+i)\n",
    "        \n",
    "def test(x):\n",
    "    for i in square(5):\n",
    "        print(i+x)\n",
    "test(6)\n",
    "# print(b)"
   ]
  },
  {
   "cell_type": "code",
   "execution_count": 29,
   "id": "d7de4a07",
   "metadata": {},
   "outputs": [
    {
     "name": "stdout",
     "output_type": "stream",
     "text": [
      "[1, 2, 4]\n"
     ]
    }
   ],
   "source": [
    "a=[1,2,23,4]\n",
    "a.pop(2)\n",
    "print(a)"
   ]
  },
  {
   "cell_type": "markdown",
   "id": "fc664f5e",
   "metadata": {},
   "source": [
    "# sum without inbuilt fucntion"
   ]
  },
  {
   "cell_type": "code",
   "execution_count": 22,
   "id": "45da26e0",
   "metadata": {},
   "outputs": [
    {
     "name": "stdout",
     "output_type": "stream",
     "text": [
      "15\n"
     ]
    }
   ],
   "source": [
    "a=[1,2,3,4,5]\n",
    "b=0\n",
    "for i in range(len(a)):\n",
    "    b=b+a[i]\n",
    "print(b)"
   ]
  },
  {
   "cell_type": "code",
   "execution_count": 7,
   "id": "e9fc242f",
   "metadata": {},
   "outputs": [
    {
     "name": "stdout",
     "output_type": "stream",
     "text": [
      "[1531.0, 2197.0, 2851.0, 1171.0, 1399.0, 1231.0]\n"
     ]
    }
   ],
   "source": [
    "x=[111,222,331,51,89,61]\n",
    "y=0\n",
    "z=len(x)\n",
    "for i in range(len(x)):\n",
    "    y=y+x[i]\n",
    "g=(y/z)\n",
    "k=[]\n",
    "for a in range(len(x)):\n",
    "    k.append(x[a]+g)\n",
    "l=len(k)\n",
    "b=[]\n",
    "for m in range(len(k)):\n",
    "    b.append(k[m]*l)\n",
    "print(b)"
   ]
  },
  {
   "cell_type": "code",
   "execution_count": 14,
   "id": "06212b6b",
   "metadata": {},
   "outputs": [
    {
     "name": "stdout",
     "output_type": "stream",
     "text": [
      "[1, 2, 3, 4, 5, 6, 1, 2, 3, 4, 5, 6, 1, 2, 3, 4, 5, 6]\n"
     ]
    }
   ],
   "source": [
    "x=[[1,2,3,4,5,6],[1,2,3,4,5,6],[1,2,3,4,5,6]]\n",
    "y=[]\n",
    "for i in x:\n",
    "    for j in range(len(i)):\n",
    "        y.append(i[j])\n",
    "print(y)\n"
   ]
  },
  {
   "cell_type": "code",
   "execution_count": 30,
   "id": "9ecbc3f4",
   "metadata": {},
   "outputs": [
    {
     "name": "stdout",
     "output_type": "stream",
     "text": [
      "3\n"
     ]
    }
   ],
   "source": [
    "main_dict={}\n",
    "def insert_item(item):\n",
    "   if item in main_dict:\n",
    "       main_dict[item] += 1\n",
    "   else:\n",
    "       main_dict[item] = 1\n",
    "#Driver code\n",
    "insert_item('Key1')\n",
    "insert_item('Key2')\n",
    "insert_item('Key2')\n",
    "insert_item('Key3')\n",
    "insert_item('Key1')\n",
    "print (len(main_dict))"
   ]
  },
  {
   "cell_type": "code",
   "execution_count": 17,
   "id": "9b2eaed8",
   "metadata": {},
   "outputs": [
    {
     "name": "stdout",
     "output_type": "stream",
     "text": [
      "XYZ PQR\n"
     ]
    }
   ],
   "source": [
    "class Person:\n",
    "   def __init__(self, first_name, last_name):\n",
    "       self.first_name = first_name\n",
    "       self.last_name = last_name\n",
    "\n",
    "first_name = \"XYZ\"\n",
    "person = Person(first_name, \"ABC\")\n",
    "first_name = \"LMN\"\n",
    "person.last_name = \"PQR\"\n",
    "print(person.first_name, person.last_name)"
   ]
  },
  {
   "cell_type": "code",
   "execution_count": 30,
   "id": "3f2355c6",
   "metadata": {},
   "outputs": [
    {
     "name": "stdout",
     "output_type": "stream",
     "text": [
      "<class 'str'>\n"
     ]
    }
   ],
   "source": [
    "a=('shoaib')\n",
    "print(type(a))"
   ]
  },
  {
   "cell_type": "code",
   "execution_count": 3,
   "id": "cdc726e8",
   "metadata": {},
   "outputs": [
    {
     "name": "stdout",
     "output_type": "stream",
     "text": [
      "[False, True, False, True, False, True, False, True]\n"
     ]
    }
   ],
   "source": [
    "c = [1, 2, 3, 4, 5, 6, 7, 8]\n",
    "c =list(map(lambda x: (x % 2 == 0), c))\n",
    "print(c)\n"
   ]
  },
  {
   "cell_type": "code",
   "execution_count": 23,
   "id": "541965ae",
   "metadata": {},
   "outputs": [
    {
     "name": "stdout",
     "output_type": "stream",
     "text": [
      "a\n"
     ]
    }
   ],
   "source": [
    "a=\"apple\"\n",
    "b=iter(a)\n",
    "print(next(b))"
   ]
  },
  {
   "cell_type": "code",
   "execution_count": null,
   "id": "aa816b36",
   "metadata": {},
   "outputs": [],
   "source": []
  },
  {
   "cell_type": "code",
   "execution_count": 21,
   "id": "eabfb115",
   "metadata": {},
   "outputs": [
    {
     "name": "stdout",
     "output_type": "stream",
     "text": [
      "odd\n",
      "even\n"
     ]
    }
   ],
   "source": [
    "b=[1,2,3,4,5,6]\n",
    "def func(b):\n",
    "    if b%2==0:\n",
    "        return(\"even\")\n",
    "    else:\n",
    "        return(\"odd\")\n",
    "a=map(func,b)\n",
    "# print(a)\n",
    "print(next(a))\n",
    "print(next(a))"
   ]
  },
  {
   "cell_type": "code",
   "execution_count": 2,
   "id": "c0f3a900",
   "metadata": {},
   "outputs": [
    {
     "name": "stdout",
     "output_type": "stream",
     "text": [
      "[1, 8, 27, 64, 125, 216]\n"
     ]
    }
   ],
   "source": [
    "c=[1,2,3,4,5,6]\n",
    "a=list(map(lambda x:x**3,c))\n",
    "print(a)"
   ]
  },
  {
   "cell_type": "code",
   "execution_count": 9,
   "id": "ca7e5966",
   "metadata": {},
   "outputs": [
    {
     "name": "stdout",
     "output_type": "stream",
     "text": [
      "[2, 4, 6]\n"
     ]
    }
   ],
   "source": [
    "c=[1,2,3,4,5,6]\n",
    "a=list(filter(lambda x:x%2==0,c))\n",
    "print(a) "
   ]
  },
  {
   "cell_type": "code",
   "execution_count": 6,
   "id": "403042ff",
   "metadata": {},
   "outputs": [
    {
     "name": "stdout",
     "output_type": "stream",
     "text": [
      "[(12, 3), (23, 68), (34, 47)]\n"
     ]
    }
   ],
   "source": [
    "a=12,23,34\n",
    "b=3,68,47\n",
    "c=zip(a,b)\n",
    "print(list(c))\n",
    "# print(next(c))\n",
    "# print(next(c))\n",
    "# print(next(c))"
   ]
  },
  {
   "cell_type": "code",
   "execution_count": 9,
   "id": "1a30b4b8",
   "metadata": {},
   "outputs": [
    {
     "name": "stdout",
     "output_type": "stream",
     "text": [
      "<class 'dict'>\n"
     ]
    }
   ],
   "source": [
    "a={}\n",
    "print(type(a))"
   ]
  },
  {
   "cell_type": "code",
   "execution_count": 7,
   "id": "bc3430cd",
   "metadata": {},
   "outputs": [
    {
     "name": "stdout",
     "output_type": "stream",
     "text": [
      "(0, 12)\n",
      "(1, 3)\n",
      "(2, 4)\n",
      "(3, 5)\n",
      "(4, 6)\n"
     ]
    }
   ],
   "source": [
    "a=[12,3,4,5,6]\n",
    "for i in enumerate(a):\n",
    "    print(i)"
   ]
  },
  {
   "cell_type": "code",
   "execution_count": 105,
   "id": "51ea92c0",
   "metadata": {},
   "outputs": [],
   "source": [
    "from datetime import date\n",
    "\n",
    "class Student:\n",
    "    def __init__(self, name, age):\n",
    "        self.name = name\n",
    "        self.age = age\n",
    "\n",
    "    @classmethod\n",
    "    def calculate_age(cls, name, birth_year):\n",
    "        # calculate age an set it as a age\n",
    "        # return new object\n",
    "        return cls(name, date.today().year - birth_year)\n",
    "\n",
    "    def show(self):\n",
    "        print(self.name + \"'s age is: \" + str(self.age))\n",
    "\n",
    "jessa = Student('Jessa', 20)\n",
    "jessa=Student.calculate_age(\"jjj\",1997)\n",
    "\n",
    "# jessa.calculate_age(\"joy\",1998)\n",
    "\n",
    "# create new object using the factory method\n",
    "# joy = Student.calculate_age(\"Joy\", 1995)\n",
    "# joy.show()\n"
   ]
  },
  {
   "cell_type": "code",
   "execution_count": 110,
   "id": "b0809a30",
   "metadata": {},
   "outputs": [
    {
     "name": "stdout",
     "output_type": "stream",
     "text": [
      "School Name is : ABC School\n"
     ]
    }
   ],
   "source": [
    "class School:\n",
    "    # class variable\n",
    "    name = 'ABC School'\n",
    "    @classmethod\n",
    "    def school_name(cls):\n",
    "        print('School Name is :', cls.name)\n",
    "\n",
    "# create class method\n",
    "\n",
    "\n",
    "# call class method\n",
    "School.school_name()"
   ]
  },
  {
   "cell_type": "code",
   "execution_count": 126,
   "id": "9fd880c7",
   "metadata": {},
   "outputs": [
    {
     "name": "stdout",
     "output_type": "stream",
     "text": [
      "zafar\n",
      "amir\n"
     ]
    }
   ],
   "source": [
    "class B():\n",
    "    def __init__(self,a,b):\n",
    "        self.__a=a\n",
    "        self._b=b\n",
    "        \n",
    "    def show(self):\n",
    "        print(self.a,self._b)\n",
    "        \n",
    "        \n",
    "obj=B(\"amir\",\"zafar\")\n",
    "print(obj._b)\n",
    "print(obj._B__a)"
   ]
  },
  {
   "cell_type": "code",
   "execution_count": 2,
   "id": "ee1f9b79",
   "metadata": {},
   "outputs": [
    {
     "name": "stdout",
     "output_type": "stream",
     "text": [
      "[1, 2, 3, 4]\n"
     ]
    }
   ],
   "source": [
    "a=[1,2,3]\n",
    "a=[1,2,3,4]\n",
    "print(a)"
   ]
  },
  {
   "cell_type": "code",
   "execution_count": 3,
   "id": "8bb5c66f",
   "metadata": {},
   "outputs": [
    {
     "name": "stdout",
     "output_type": "stream",
     "text": [
      "5\n"
     ]
    }
   ],
   "source": [
    "b=\"sssss\"\n",
    "print(len(b))"
   ]
  },
  {
   "cell_type": "code",
   "execution_count": 7,
   "id": "fa144845",
   "metadata": {},
   "outputs": [
    {
     "name": "stdout",
     "output_type": "stream",
     "text": [
      "1\n"
     ]
    }
   ],
   "source": [
    "c=('jhvjhb',)\n",
    "print(len(c))"
   ]
  },
  {
   "cell_type": "code",
   "execution_count": 8,
   "id": "1e294bfc",
   "metadata": {},
   "outputs": [
    {
     "name": "stdout",
     "output_type": "stream",
     "text": [
      "3\n"
     ]
    }
   ],
   "source": [
    "d={1:2,2:3,3:4}\n",
    "print(len(d))"
   ]
  },
  {
   "cell_type": "code",
   "execution_count": 1,
   "id": "f98ac792",
   "metadata": {},
   "outputs": [],
   "source": [
    "for i in range(0,11):\n",
    "    pass"
   ]
  },
  {
   "cell_type": "code",
   "execution_count": 4,
   "id": "103c8fc3",
   "metadata": {},
   "outputs": [
    {
     "name": "stdout",
     "output_type": "stream",
     "text": [
      "2\n"
     ]
    }
   ],
   "source": [
    "import bisect\n",
    "a=[3,4,5,7,7]\n",
    "x=4\n",
    "lis=bisect.bisect(a,x)\n",
    "print(insort)\n",
    "print(lis)\n",
    "# print(a)"
   ]
  },
  {
   "cell_type": "code",
   "execution_count": 2,
   "id": "7a18c154",
   "metadata": {},
   "outputs": [
    {
     "name": "stdout",
     "output_type": "stream",
     "text": [
      "1\n",
      "4\n",
      "9\n",
      "16\n",
      "25\n",
      "36\n",
      "49\n",
      "64\n",
      "81\n",
      "100\n"
     ]
    }
   ],
   "source": [
    "def square():\n",
    "    i=1\n",
    "    while True:\n",
    "        yield i*i\n",
    "        i+=1\n",
    "for num in square():\n",
    "    if num>100:\n",
    "        break\n",
    "    print(num)"
   ]
  },
  {
   "cell_type": "code",
   "execution_count": 16,
   "id": "65facd23",
   "metadata": {},
   "outputs": [
    {
     "name": "stdout",
     "output_type": "stream",
     "text": [
      "[2, 4, 6]\n"
     ]
    }
   ],
   "source": [
    "a=[1,2,3,4,5,6]\n",
    "b=list(filter(lambda x:x%2==0,a))\n",
    "print(b)"
   ]
  },
  {
   "cell_type": "code",
   "execution_count": 12,
   "id": "a31104e7",
   "metadata": {},
   "outputs": [
    {
     "name": "stdout",
     "output_type": "stream",
     "text": [
      "['even', 'odd', 'even', 'odd', 'even', 'odd', 'even', 'odd', 'even', 'odd']\n"
     ]
    }
   ],
   "source": [
    "print([(lambda x:\"even\" if x%2==0 else \"odd\") (x) for x in range(10)])"
   ]
  },
  {
   "cell_type": "code",
   "execution_count": null,
   "id": "95bdb55a",
   "metadata": {},
   "outputs": [],
   "source": []
  },
  {
   "cell_type": "code",
   "execution_count": null,
   "id": "8e68f648",
   "metadata": {},
   "outputs": [],
   "source": []
  }
 ],
 "metadata": {
  "kernelspec": {
   "display_name": "Python 3 (ipykernel)",
   "language": "python",
   "name": "python3"
  },
  "language_info": {
   "codemirror_mode": {
    "name": "ipython",
    "version": 3
   },
   "file_extension": ".py",
   "mimetype": "text/x-python",
   "name": "python",
   "nbconvert_exporter": "python",
   "pygments_lexer": "ipython3",
   "version": "3.10.4"
  }
 },
 "nbformat": 4,
 "nbformat_minor": 5
}
