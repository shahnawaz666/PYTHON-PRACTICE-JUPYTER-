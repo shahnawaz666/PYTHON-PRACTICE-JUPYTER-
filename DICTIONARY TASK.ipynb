{
 "cells": [
  {
   "cell_type": "code",
   "execution_count": 1,
   "id": "518aa309",
   "metadata": {},
   "outputs": [],
   "source": [
    "# To create a dictionary with any five key value pair . print the \n",
    "#dictionary . Add an element in a given dictionary and delete an \n",
    "#element\n",
    "#g. To create 2 dictionaries using dictionary comprehension method.\n",
    "#h. To demonstrate any five methods on dictionary\n",
    "#i. To demonstrate 5 methods of python data structure set .\n",
    "#j. To implement caser cipher using dictionary"
   ]
  },
  {
   "cell_type": "code",
   "execution_count": 15,
   "id": "f13a1b46",
   "metadata": {},
   "outputs": [
    {
     "name": "stdout",
     "output_type": "stream",
     "text": [
      "{'brand': 'ford', 'model': 'mustang', 'color': 'red', 'year': 1940}\n",
      "{'brand': 'ford', 'model': 'mustang', 'color': 'red', 'year': 1940, 'modelno': 't5 ford'}\n",
      "{'brand': 'ford', 'model': 'mustang', 'year': 1940, 'modelno': 't5 ford'}\n"
     ]
    }
   ],
   "source": [
    "# To create a dictionary with any five key value pair . print the \n",
    "#dictionary . Add an element in a given dictionary and delete an \n",
    "#element\n",
    "a={\n",
    "    \"brand\":\"ford\",\n",
    "    \"model\":\"mustang\",\n",
    "    \"color\":\"red\",\n",
    "    \"year\":1940\n",
    "}\n",
    "print(a)\n",
    "a[\"modelno\"]=\"t5 ford\"\n",
    "print(a)\n",
    "del a[\"color\"]\n",
    "print(a)"
   ]
  },
  {
   "cell_type": "code",
   "execution_count": 16,
   "id": "ec2b993d",
   "metadata": {},
   "outputs": [
    {
     "name": "stdout",
     "output_type": "stream",
     "text": [
      "{'a': 1, 'b': 2, 'c': 3, 'd': 4, 'e': 5}\n"
     ]
    }
   ],
   "source": [
    "#To create 2 dictionaries using dictionary comprehension method.\n",
    "keys=[\"a\",\"b\",\"c\",\"d\",\"e\"]\n",
    "values=[1,2,3,4,5]\n",
    "mydict={k:v for (k,v) in zip(keys,values)}\n",
    "print(mydict)\n"
   ]
  },
  {
   "cell_type": "code",
   "execution_count": 18,
   "id": "d19b20df",
   "metadata": {},
   "outputs": [
    {
     "name": "stdout",
     "output_type": "stream",
     "text": [
      "{'brand': 'ford', 'model': 'mustang', 'year': 1940}\n"
     ]
    }
   ],
   "source": [
    "keys=[\"brand\",\"model\",\"year\"]\n",
    "values=[\"ford\",\"mustang\",1940]\n",
    "mydict={k:v for (k,v) in zip(keys,values)}\n",
    "print(mydict)"
   ]
  },
  {
   "cell_type": "code",
   "execution_count": 25,
   "id": "4d2eda50",
   "metadata": {},
   "outputs": [
    {
     "name": "stdout",
     "output_type": "stream",
     "text": [
      "{'brand': 'ford', 'model': 'mustang', 'year': 1940}\n"
     ]
    }
   ],
   "source": [
    "# To demonstrate any five methods on dictionary\n",
    "b={\n",
    "    \"brand\":\"ford\",\n",
    "    \"model\":\"mustang\",\n",
    "    \"year\":1940\n",
    "}\n",
    "print(b)"
   ]
  },
  {
   "cell_type": "code",
   "execution_count": 27,
   "id": "83f48323",
   "metadata": {},
   "outputs": [
    {
     "name": "stdout",
     "output_type": "stream",
     "text": [
      "{}\n"
     ]
    }
   ],
   "source": [
    "b.clear()\n",
    "print(b)"
   ]
  },
  {
   "cell_type": "code",
   "execution_count": 40,
   "id": "cd9ea95c",
   "metadata": {
    "scrolled": true
   },
   "outputs": [
    {
     "name": "stdout",
     "output_type": "stream",
     "text": [
      "{'brand': 'ford', 'model': 'mustang', 'year': 1940}\n",
      "mustang\n",
      "{'brand': 'ford', 'year': 1940, 'color': 'red'}\n",
      "dict_values(['ford', 1940, 'red'])\n"
     ]
    }
   ],
   "source": [
    "c={\n",
    "    \"brand\":\"ford\",\n",
    "    \"model\":\"mustang\",\n",
    "    \"year\":1940\n",
    "}\n",
    "print(c)\n",
    "x=c.copy()\n",
    "x=c.get(\"model\")\n",
    "print(x)\n",
    "c.pop(\"model\")\n",
    "c.update({\"color\":\"red\"})\n",
    "print(c)\n",
    "x=c.values()\n",
    "print(x)"
   ]
  },
  {
   "cell_type": "code",
   "execution_count": null,
   "id": "700a1ae9",
   "metadata": {},
   "outputs": [],
   "source": [
    " #To demonstrate 5 methods of python data structure set .\n",
    "a={\"apple\",\"banana\",\"cherry\"}\n",
    "a.add(\"orange\")\n",
    "print(a)"
   ]
  },
  {
   "cell_type": "code",
   "execution_count": null,
   "id": "82d8378e",
   "metadata": {},
   "outputs": [],
   "source": [
    "a={\"apple\",\"banana\",\"cherry\"}\n",
    "a.add(\"orange\")\n",
    "print(a)"
   ]
  },
  {
   "cell_type": "code",
   "execution_count": 27,
   "id": "634119ad",
   "metadata": {},
   "outputs": [
    {
     "name": "stdout",
     "output_type": "stream",
     "text": [
      "None\n",
      "{'anam': 40, 'asif': 30, 'nabil': 50}\n",
      "{'asif': 30, 'nabil': 50}\n"
     ]
    }
   ],
   "source": [
    "a={\"anam\":40,\"asif\":30,\"nabil\":50}\n",
    "value=a.get(\"anam\")\n",
    "value=a.get(\"shoaeb\")\n",
    "print(value)\n",
    "a[\"nabil\"]=50\n",
    "print(a)\n",
    "del a[\"anam\"]\n",
    "print(a)"
   ]
  },
  {
   "cell_type": "code",
   "execution_count": 33,
   "id": "a4d28f44",
   "metadata": {},
   "outputs": [
    {
     "name": "stdout",
     "output_type": "stream",
     "text": [
      "[1, 2, 3, 4]\n"
     ]
    }
   ],
   "source": [
    "value=[1,1,2,3,4,3]\n",
    "a=set(value)\n",
    "a=list(a)\n",
    "print(a)\n"
   ]
  },
  {
   "cell_type": "code",
   "execution_count": null,
   "id": "994895ba",
   "metadata": {},
   "outputs": [],
   "source": []
  }
 ],
 "metadata": {
  "kernelspec": {
   "display_name": "Python 3 (ipykernel)",
   "language": "python",
   "name": "python3"
  },
  "language_info": {
   "codemirror_mode": {
    "name": "ipython",
    "version": 3
   },
   "file_extension": ".py",
   "mimetype": "text/x-python",
   "name": "python",
   "nbconvert_exporter": "python",
   "pygments_lexer": "ipython3",
   "version": "3.10.4"
  }
 },
 "nbformat": 4,
 "nbformat_minor": 5
}
