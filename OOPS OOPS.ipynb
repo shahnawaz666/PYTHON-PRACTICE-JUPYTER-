{
 "cells": [
  {
   "cell_type": "code",
   "execution_count": 1,
   "id": "75a45469",
   "metadata": {},
   "outputs": [
    {
     "name": "stdout",
     "output_type": "stream",
     "text": [
      "5\n"
     ]
    }
   ],
   "source": [
    "class myclass:\n",
    "    x=5\n",
    "p1=myclass()\n",
    "print(p1.x)"
   ]
  },
  {
   "cell_type": "code",
   "execution_count": 3,
   "id": "d3b72a6d",
   "metadata": {},
   "outputs": [
    {
     "name": "stdout",
     "output_type": "stream",
     "text": [
      "10\n"
     ]
    }
   ],
   "source": [
    "class a:\n",
    "    y=10\n",
    "b=a()\n",
    "print(b.y)"
   ]
  },
  {
   "cell_type": "code",
   "execution_count": 8,
   "id": "58f77556",
   "metadata": {},
   "outputs": [
    {
     "name": "stdout",
     "output_type": "stream",
     "text": [
      "4\n",
      "3\n"
     ]
    }
   ],
   "source": [
    "class a:\n",
    "    x=3\n",
    "    y=4\n",
    "b=a()\n",
    "print(b.y)\n",
    "print(b.x)"
   ]
  },
  {
   "cell_type": "code",
   "execution_count": 13,
   "id": "3fd18197",
   "metadata": {},
   "outputs": [
    {
     "name": "stdout",
     "output_type": "stream",
     "text": [
      "2\n",
      "3\n",
      "4\n"
     ]
    }
   ],
   "source": [
    "lst=[2,3,4]\n",
    "def add(l):\n",
    "    for i in l:\n",
    "        print(i)\n",
    "add(lst)"
   ]
  },
  {
   "cell_type": "code",
   "execution_count": 30,
   "id": "ab83ab9e",
   "metadata": {},
   "outputs": [
    {
     "name": "stdout",
     "output_type": "stream",
     "text": [
      "1\n",
      "2\n",
      "3\n"
     ]
    }
   ],
   "source": [
    "lst=[2,3,4]\n",
    "lst2=[4,5,7]\n",
    "lst3=[1,2,3]\n",
    "def show_element(a):\n",
    "    for i in a:\n",
    "        print(i)\n",
    "show_element(lst3)"
   ]
  },
  {
   "cell_type": "code",
   "execution_count": 1,
   "id": "532141d2",
   "metadata": {},
   "outputs": [
    {
     "name": "stdout",
     "output_type": "stream",
     "text": [
      "john\n",
      "36\n",
      "<__main__.person object at 0x0000022789B86EC0>\n"
     ]
    }
   ],
   "source": [
    "class person:\n",
    "    def __init__(self,name,age):\n",
    "        self.name = name\n",
    "        self.age = age\n",
    "p1=person(\"john\",36)\n",
    "print(p1.name)\n",
    "print(p1.age)\n",
    "print(p1)"
   ]
  },
  {
   "cell_type": "code",
   "execution_count": 9,
   "id": "8800095e",
   "metadata": {},
   "outputs": [
    {
     "name": "stdout",
     "output_type": "stream",
     "text": [
      "sam\n",
      "23\n"
     ]
    }
   ],
   "source": [
    "class a:\n",
    "    def __init__(b,name,age):\n",
    "        b.name=name\n",
    "        b.age=age\n",
    "p1=a(\"sam\",23)\n",
    "print(p1.name)\n",
    "print(p1.age)"
   ]
  },
  {
   "cell_type": "code",
   "execution_count": 1,
   "id": "f5d98f84",
   "metadata": {},
   "outputs": [
    {
     "name": "stdout",
     "output_type": "stream",
     "text": [
      "hello my name is dean\n"
     ]
    }
   ],
   "source": [
    "class person:\n",
    "    def __init__(self,name,age):\n",
    "        self.name=name\n",
    "        self.age=age\n",
    "    def myfunc(xyz):\n",
    "        print(\"hello my name is \"+xyz.name)\n",
    "p1=person(\"dean\",22)\n",
    "p1.myfunc()"
   ]
  },
  {
   "cell_type": "code",
   "execution_count": 15,
   "id": "f3cb5b98",
   "metadata": {},
   "outputs": [
    {
     "name": "stdout",
     "output_type": "stream",
     "text": [
      "hello my name is dean\n",
      "None\n"
     ]
    }
   ],
   "source": [
    "print(p1.myfunc())"
   ]
  },
  {
   "cell_type": "code",
   "execution_count": 5,
   "id": "3d8a8f57",
   "metadata": {},
   "outputs": [],
   "source": [
    "class Person:\n",
    "    x=\"xyz\"\n",
    "    def __init__(self,name,age):\n",
    "        self.name=name\n",
    "        self.age=age\n",
    "    def Myfunc(self):\n",
    "        print(\"my name is \",self.age,self.name,self.new_name)\n",
    "    @classmethod\n",
    "    def func(cls,new_name):\n",
    "        cls.x=new_name\n",
    "p1=Person(\"dean\",22)\n",
    "Person.func(\"ooo\")"
   ]
  },
  {
   "cell_type": "code",
   "execution_count": 8,
   "id": "6c9d0085",
   "metadata": {},
   "outputs": [
    {
     "name": "stdout",
     "output_type": "stream",
     "text": [
      "5\n"
     ]
    }
   ],
   "source": [
    "\n",
    "\n",
    "class myclass:\n",
    "    x=5\n",
    "p1=myclass()\n",
    "print(p1.x)"
   ]
  },
  {
   "cell_type": "code",
   "execution_count": 3,
   "id": "79165e58",
   "metadata": {},
   "outputs": [
    {
     "name": "stdout",
     "output_type": "stream",
     "text": [
      "6\n",
      "5\n"
     ]
    }
   ],
   "source": [
    "class myclass:\n",
    "    x=5\n",
    "    y=6\n",
    "p1=myclass()\n",
    "p2=myclass()\n",
    "print(p1.y)\n",
    "print(p2.x)"
   ]
  },
  {
   "cell_type": "code",
   "execution_count": 8,
   "id": "2e68d4d8",
   "metadata": {},
   "outputs": [
    {
     "name": "stdout",
     "output_type": "stream",
     "text": [
      "5\n",
      "6\n",
      "5\n",
      "6\n"
     ]
    }
   ],
   "source": [
    " class a:              \n",
    "        x=5\n",
    "        y=6\n",
    "b=a()\n",
    "b1=a()\n",
    "print(b.x)\n",
    "print(b.y)\n",
    "print(b1.x)\n",
    "print(b1.y)"
   ]
  },
  {
   "cell_type": "code",
   "execution_count": 12,
   "id": "2ff4a9f8",
   "metadata": {},
   "outputs": [
    {
     "name": "stdout",
     "output_type": "stream",
     "text": [
      "1\n",
      "23\n",
      "4\n",
      "[1, 23, 4]\n"
     ]
    }
   ],
   "source": [
    "class a:\n",
    "    lst=[1,23,4]\n",
    "    for i in lst:\n",
    "        print(i)\n",
    "b=a()\n",
    "print(b.lst)"
   ]
  },
  {
   "cell_type": "code",
   "execution_count": 17,
   "id": "f96810b0",
   "metadata": {},
   "outputs": [
    {
     "name": "stdout",
     "output_type": "stream",
     "text": [
      "[1, 23, 4]\n"
     ]
    }
   ],
   "source": [
    "class a:\n",
    "    a=[1,23,4]\n",
    "b=a()\n",
    "print(b.a)"
   ]
  },
  {
   "cell_type": "code",
   "execution_count": 3,
   "id": "39673a46",
   "metadata": {},
   "outputs": [
    {
     "name": "stdout",
     "output_type": "stream",
     "text": [
      "1,2,3,3,3,3\n",
      "{2, 3, 35, 'a', 4, 6}\n",
      "{'brand': 'ford', 'model': 'mustang'}\n"
     ]
    }
   ],
   "source": [
    "class a:\n",
    "    a=(\"1,2,3,3,3,3\")\n",
    "    c={\"a\",2,3,4,35,6}\n",
    "    d={\n",
    "        \"brand\":\"ford\",\n",
    "        \"model\":\"mustang\"\n",
    "    }\n",
    "b=a()\n",
    "print(b.a)\n",
    "print(b.c)\n",
    "print(b.d)"
   ]
  },
  {
   "cell_type": "code",
   "execution_count": 25,
   "id": "66ea1f82",
   "metadata": {},
   "outputs": [
    {
     "data": {
      "text/plain": [
       "8"
      ]
     },
     "execution_count": 25,
     "metadata": {},
     "output_type": "execute_result"
    }
   ],
   "source": [
    "class ABC:\n",
    "    def add(self,a,b):\n",
    "        return(a+b)\n",
    "    def add(self,a,b,c=1):\n",
    "        return a+b+c\n",
    "p1=ABC()\n",
    "p1.add(2,4,2)"
   ]
  },
  {
   "cell_type": "code",
   "execution_count": 10,
   "id": "4d6a4ecb",
   "metadata": {},
   "outputs": [
    {
     "name": "stdout",
     "output_type": "stream",
     "text": [
      "6\n"
     ]
    }
   ],
   "source": [
    "str=\"python\"\n",
    "print(len(str))"
   ]
  },
  {
   "cell_type": "code",
   "execution_count": 11,
   "id": "3c4c9bcd",
   "metadata": {},
   "outputs": [
    {
     "name": "stdout",
     "output_type": "stream",
     "text": [
      "3\n"
     ]
    }
   ],
   "source": [
    "lst=[\"hii\",234,\"python\"]\n",
    "print(len(lst))"
   ]
  },
  {
   "cell_type": "code",
   "execution_count": 32,
   "id": "190603af",
   "metadata": {},
   "outputs": [
    {
     "name": "stdout",
     "output_type": "stream",
     "text": [
      "my name is harry and my percentage is 80 gello\n"
     ]
    }
   ],
   "source": [
    "class Student:\n",
    "    def __init__(self,name,percentage,age):\n",
    "        self.age=age\n",
    "        self.name=name\n",
    "        self.percentage=percentage\n",
    "    def show(self):\n",
    "        print(\"my name is\",self.name,\"and my percentage is\",self.percentage,self.age)\n",
    "p1=Student(\"harry\",80,\"gello\")\n",
    "p1.show()"
   ]
  },
  {
   "cell_type": "code",
   "execution_count": 3,
   "id": "3a7663f5",
   "metadata": {},
   "outputs": [
    {
     "name": "stdout",
     "output_type": "stream",
     "text": [
      "first student\n"
     ]
    },
    {
     "ename": "NameError",
     "evalue": "name 'shadab' is not defined",
     "output_type": "error",
     "traceback": [
      "\u001b[1;31m---------------------------------------------------------------------------\u001b[0m",
      "\u001b[1;31mNameError\u001b[0m                                 Traceback (most recent call last)",
      "Input \u001b[1;32mIn [3]\u001b[0m, in \u001b[0;36m<cell line: 8>\u001b[1;34m()\u001b[0m\n\u001b[0;32m      6\u001b[0m         \u001b[38;5;28mprint\u001b[39m(\u001b[38;5;124m\"\u001b[39m\u001b[38;5;124mmy name is\u001b[39m\u001b[38;5;124m\"\u001b[39m,\u001b[38;5;28mself\u001b[39m\u001b[38;5;241m.\u001b[39mage,\u001b[38;5;124m\"\u001b[39m\u001b[38;5;124mand my age is\u001b[39m\u001b[38;5;124m\"\u001b[39m,\u001b[38;5;28mself\u001b[39m\u001b[38;5;241m.\u001b[39mname)\n\u001b[0;32m      7\u001b[0m \u001b[38;5;28mprint\u001b[39m(\u001b[38;5;124m'\u001b[39m\u001b[38;5;124mfirst student\u001b[39m\u001b[38;5;124m'\u001b[39m)\n\u001b[1;32m----> 8\u001b[0m p1\u001b[38;5;241m=\u001b[39m\u001b[43mStudent\u001b[49m\u001b[43m(\u001b[49m\u001b[38;5;241;43m30\u001b[39;49m\u001b[43m,\u001b[49m\u001b[38;5;124;43m\"\u001b[39;49m\u001b[38;5;124;43mshadab\u001b[39;49m\u001b[38;5;124;43m\"\u001b[39;49m\u001b[43m)\u001b[49m\n\u001b[0;32m      9\u001b[0m p1\u001b[38;5;241m.\u001b[39mshow()\n\u001b[0;32m     11\u001b[0m \u001b[38;5;28mprint\u001b[39m(\u001b[38;5;124m\"\u001b[39m\u001b[38;5;124msecond student\u001b[39m\u001b[38;5;124m\"\u001b[39m)\n",
      "Input \u001b[1;32mIn [3]\u001b[0m, in \u001b[0;36mStudent.__init__\u001b[1;34m(self, name, age)\u001b[0m\n\u001b[0;32m      2\u001b[0m \u001b[38;5;28;01mdef\u001b[39;00m \u001b[38;5;21m__init__\u001b[39m(\u001b[38;5;28mself\u001b[39m,name,age):\n\u001b[0;32m      3\u001b[0m     \u001b[38;5;28mself\u001b[39m\u001b[38;5;241m.\u001b[39mage\u001b[38;5;241m=\u001b[39mage\n\u001b[1;32m----> 4\u001b[0m     \u001b[38;5;28mself\u001b[39m\u001b[38;5;241m.\u001b[39mname\u001b[38;5;241m=\u001b[39m\u001b[43mshadab\u001b[49m\n",
      "\u001b[1;31mNameError\u001b[0m: name 'shadab' is not defined"
     ]
    }
   ],
   "source": [
    "class Student:\n",
    "    def __init__(self,name,age):\n",
    "        self.age=age\n",
    "        self.name=shadab\n",
    "    def show(self):\n",
    "        print(\"my name is\",self.age,\"and my age is\",self.name)\n",
    "print('first student')\n",
    "p1=Student(30,\"shadab\")\n",
    "p1.show()\n",
    "\n",
    "print(\"second student\")\n",
    "p1=Student(23,\"shadab\")\n",
    "p1.show()"
   ]
  },
  {
   "cell_type": "code",
   "execution_count": 1,
   "id": "549dbeb4",
   "metadata": {},
   "outputs": [
    {
     "name": "stdout",
     "output_type": "stream",
     "text": [
      "Employee: hary\n"
     ]
    }
   ],
   "source": [
    "class Employee:\n",
    "    companyname=\"ABC company\"\n",
    "    def __init__(self,name,salary):\n",
    "        self.name=name\n",
    "        self.salary=salary\n",
    "    def show(self):\n",
    "        print(\"Employee:\",self.name)\n",
    "p1=Employee(\"hary\",20000)\n",
    "p1.show()"
   ]
  },
  {
   "cell_type": "code",
   "execution_count": 9,
   "id": "a4babb42",
   "metadata": {},
   "outputs": [
    {
     "name": "stdout",
     "output_type": "stream",
     "text": [
      "9\n"
     ]
    }
   ],
   "source": [
    "class a:\n",
    "    x=9\n",
    "p1=a()\n",
    "print(p1.x)"
   ]
  },
  {
   "cell_type": "code",
   "execution_count": 11,
   "id": "f50591a8",
   "metadata": {},
   "outputs": [
    {
     "name": "stdout",
     "output_type": "stream",
     "text": [
      "30000\n"
     ]
    },
    {
     "ename": "AttributeError",
     "evalue": "'Employee' object has no attribute 'name'",
     "output_type": "error",
     "traceback": [
      "\u001b[1;31m---------------------------------------------------------------------------\u001b[0m",
      "\u001b[1;31mAttributeError\u001b[0m                            Traceback (most recent call last)",
      "Input \u001b[1;32mIn [11]\u001b[0m, in \u001b[0;36m<cell line: 9>\u001b[1;34m()\u001b[0m\n\u001b[0;32m      7\u001b[0m p1\u001b[38;5;241m=\u001b[39mEmployee(\u001b[38;5;124m\"\u001b[39m\u001b[38;5;124mharry\u001b[39m\u001b[38;5;124m\"\u001b[39m,\u001b[38;5;241m30000\u001b[39m)\n\u001b[0;32m      8\u001b[0m \u001b[38;5;28mprint\u001b[39m(p1\u001b[38;5;241m.\u001b[39msalary)\n\u001b[1;32m----> 9\u001b[0m \u001b[43mp1\u001b[49m\u001b[38;5;241;43m.\u001b[39;49m\u001b[43mshow\u001b[49m\u001b[43m(\u001b[49m\u001b[43m)\u001b[49m\n",
      "Input \u001b[1;32mIn [11]\u001b[0m, in \u001b[0;36mEmployee.show\u001b[1;34m(self)\u001b[0m\n\u001b[0;32m      5\u001b[0m \u001b[38;5;28;01mdef\u001b[39;00m \u001b[38;5;21mshow\u001b[39m(\u001b[38;5;28mself\u001b[39m):\n\u001b[1;32m----> 6\u001b[0m     \u001b[38;5;28mprint\u001b[39m(\u001b[38;5;124m\"\u001b[39m\u001b[38;5;124mname is\u001b[39m\u001b[38;5;124m\"\u001b[39m,\u001b[38;5;28;43mself\u001b[39;49m\u001b[38;5;241;43m.\u001b[39;49m\u001b[43mname\u001b[49m, \u001b[38;5;124m\"\u001b[39m\u001b[38;5;124mand salary is\u001b[39m\u001b[38;5;124m\"\u001b[39m,\u001b[38;5;28mself\u001b[39m\u001b[38;5;241m.\u001b[39msalary)\n",
      "\u001b[1;31mAttributeError\u001b[0m: 'Employee' object has no attribute 'name'"
     ]
    }
   ],
   "source": [
    "class Employee:\n",
    "    def __init__(self,name,salary):\n",
    "        self.a=name\n",
    "        self.salary=salary\n",
    "    def show(self):\n",
    "        print(\"name is\",self.name, \"and salary is\",self.salary)\n",
    "p1=Employee(\"harry\",30000)\n",
    "print(p1.salary)\n",
    "p1.show()\n"
   ]
  },
  {
   "cell_type": "code",
   "execution_count": 5,
   "id": "d0e303a2",
   "metadata": {},
   "outputs": [
    {
     "name": "stdout",
     "output_type": "stream",
     "text": [
      "6\n"
     ]
    }
   ],
   "source": [
    "str=\"python\"\n",
    "print(len(str))"
   ]
  },
  {
   "cell_type": "code",
   "execution_count": 6,
   "id": "aceb8c5c",
   "metadata": {},
   "outputs": [
    {
     "name": "stdout",
     "output_type": "stream",
     "text": [
      "3\n"
     ]
    }
   ],
   "source": [
    "lst=[1,2,3]\n",
    "print(len(lst))"
   ]
  },
  {
   "cell_type": "code",
   "execution_count": 3,
   "id": "1fa86c47",
   "metadata": {},
   "outputs": [
    {
     "name": "stdout",
     "output_type": "stream",
     "text": [
      "30000\n",
      "name is harry and salary is 30000\n"
     ]
    }
   ],
   "source": [
    "#private encapsulation within the class , not sub class access\n",
    "class Employee:\n",
    "    def __init__(self,name,salary):\n",
    "        self.name=name\n",
    "        self.__salary=salary\n",
    "    def show(self):\n",
    "        print(\"name is\",self.name, \"and salary is\",self.__salary)\n",
    "p1=Employee(\"harry\",30000)\n",
    "print(p1._Employee__salary)\n",
    "p1.show()"
   ]
  },
  {
   "cell_type": "code",
   "execution_count": 11,
   "id": "1007f746",
   "metadata": {},
   "outputs": [
    {
     "name": "stdout",
     "output_type": "stream",
     "text": [
      "30000\n"
     ]
    }
   ],
   "source": [
    "#protected encapsulation, sub class and wiothin class access\n",
    "class Employee:\n",
    "    def __init__(self,name,salary):\n",
    "        self.name=name\n",
    "        self._salary=salary\n",
    "    def show(self):\n",
    "        print(\"name is\",self.name, \"and salary is\",self._salary)\n",
    "p1=Employee(\"harry\",30000)\n",
    "print(p1._salary)"
   ]
  },
  {
   "cell_type": "code",
   "execution_count": 10,
   "id": "82d353cc",
   "metadata": {},
   "outputs": [
    {
     "name": "stdout",
     "output_type": "stream",
     "text": [
      "name sam 30000\n",
      "name sam 15000\n"
     ]
    }
   ],
   "source": [
    "# getter setter only private mmebers  \n",
    "class Student:\n",
    "    def __init__(self,name,salary,age):\n",
    "        self.name=name\n",
    "        self.__salary=salary\n",
    "        self.__age=age\n",
    "    def show(self):\n",
    "        print(\"student details:\",self.name,self.__salary)\n",
    "    def getsalary(self):\n",
    "        return self.__salary\n",
    "    def setsalary(self,rrrr):\n",
    "        self.__salary=rrrr\n",
    "p1=Student(\"sam\",30000,14)\n",
    "print(\"name\",p1.name,p1.getsalary())\n",
    "p1.setsalary(15000)\n",
    "print(\"name\",p1.name,p1.getsalary())"
   ]
  },
  {
   "cell_type": "code",
   "execution_count": 8,
   "id": "b8805096",
   "metadata": {},
   "outputs": [
    {
     "name": "stdout",
     "output_type": "stream",
     "text": [
      "Employee name: sam\n",
      "working on project: a\n",
      "project: a\n"
     ]
    }
   ],
   "source": [
    "class Company:\n",
    "    def __init__(self):\n",
    "        self._project=\"a\"\n",
    "class Employee(Company):\n",
    "    def __init__(self,name):\n",
    "        self.name=name\n",
    "        Company.__init__(self)\n",
    "    def show(self):\n",
    "        print(\"Employee name:\",self.name)\n",
    "        print(\"working on project:\",self._project)\n",
    "c=Employee(\"sam\")\n",
    "c.show()\n",
    "print(\"project:\",c._project)"
   ]
  },
  {
   "cell_type": "code",
   "execution_count": 13,
   "id": "d4aa0ddc",
   "metadata": {},
   "outputs": [],
   "source": [
    "class Student:\n",
    "    def __init__(self,name,rollno,age):\n",
    "        self.name=name\n",
    "        self.__rollno=rollno\n",
    "        self.__age=age\n",
    "    def show(self):\n",
    "        print(\"Student:\",self.name,self.__rollno)\n",
    "    def getrollno(self):\n",
    "        \n",
    "        "
   ]
  },
  {
   "cell_type": "code",
   "execution_count": 19,
   "id": "5a1be268",
   "metadata": {},
   "outputs": [
    {
     "name": "stdout",
     "output_type": "stream",
     "text": [
      "sam\n"
     ]
    }
   ],
   "source": [
    "class student:\n",
    "    def __init__(self,name):\n",
    "        self.a=name\n",
    "s1=student(\"sam\")\n",
    "print(s1.a)"
   ]
  },
  {
   "cell_type": "code",
   "execution_count": 6,
   "id": "3652f335",
   "metadata": {},
   "outputs": [
    {
     "ename": "SyntaxError",
     "evalue": "invalid syntax (3354708841.py, line 13)",
     "output_type": "error",
     "traceback": [
      "\u001b[1;36m  Input \u001b[1;32mIn [6]\u001b[1;36m\u001b[0m\n\u001b[1;33m    pass s1\u001b[0m\n\u001b[1;37m         ^\u001b[0m\n\u001b[1;31mSyntaxError\u001b[0m\u001b[1;31m:\u001b[0m invalid syntax\n"
     ]
    }
   ],
   "source": [
    "class student:\n",
    "    def __init__(self,name):\n",
    "        self.name=name\n",
    "        \n",
    "    def show(self):\n",
    "        print(\"hellildhcjf\")\n",
    "    def __del__(self):\n",
    "        print(\"hugi\")\n",
    "s1=student(\"a\")\n",
    "s1.show()\n",
    "del s1\n",
    "s1.show()\n",
    "pass s1\n",
    "s1.show()"
   ]
  },
  {
   "cell_type": "code",
   "execution_count": 19,
   "id": "0f294f21",
   "metadata": {},
   "outputs": [
    {
     "name": "stdout",
     "output_type": "stream",
     "text": [
      "2 sam 3\n",
      "<class 'tuple'>\n"
     ]
    }
   ],
   "source": [
    "#unpack tuple\n",
    "a=(2,\"sam\",3)\n",
    "x,y,z=a\n",
    "print(x,y,z)\n",
    "print(type(a))"
   ]
  },
  {
   "cell_type": "code",
   "execution_count": 18,
   "id": "86a1aa56",
   "metadata": {},
   "outputs": [
    {
     "name": "stdout",
     "output_type": "stream",
     "text": [
      "(2, 'sam', 3)\n",
      "<class 'tuple'>\n"
     ]
    }
   ],
   "source": [
    "a=2\n",
    "b=\"sam\"\n",
    "c=3\n",
    "y=a,b,c\n",
    "print(y)\n",
    "print(type(y))"
   ]
  },
  {
   "cell_type": "code",
   "execution_count": 22,
   "id": "d99c6d05",
   "metadata": {},
   "outputs": [
    {
     "name": "stdout",
     "output_type": "stream",
     "text": [
      "3\n",
      "6\n"
     ]
    }
   ],
   "source": [
    "#polymorphism example\n",
    "a=[\"sam\",\"ham\",\"gam\"]\n",
    "b=\"abfjvn\"\n",
    "print(len(a))\n",
    "print(len(b))"
   ]
  },
  {
   "cell_type": "code",
   "execution_count": 2,
   "id": "52290c96",
   "metadata": {},
   "outputs": [
    {
     "name": "stdout",
     "output_type": "stream",
     "text": [
      "11\n",
      "56\n"
     ]
    }
   ],
   "source": [
    "#polymorphism\n",
    "print(5+6)\n",
    "print(\"5\"+\"6\")"
   ]
  },
  {
   "cell_type": "code",
   "execution_count": 12,
   "id": "1bf83c43",
   "metadata": {},
   "outputs": [
    {
     "name": "stdout",
     "output_type": "stream",
     "text": [
      "car 1 red 30000\n",
      "max speed is 230\n",
      "car 1 red 30000\n"
     ]
    }
   ],
   "source": [
    "#polymorphism method over riding\n",
    "class Vehicle:\n",
    "    def __init__(self,name,color,price):\n",
    "        self.name=name\n",
    "        self.color=color\n",
    "        self.price=price\n",
    "    def show(self):\n",
    "        print(self.name,self.color,self.price)\n",
    "    def maxspeed(self):\n",
    "        print(\"max speed is 150\")\n",
    "    def changegear(self):\n",
    "        print(\"change 6 gear\")\n",
    "class Car(Vehicle):\n",
    "    def maxspeed(self):\n",
    "        print(\"max speed is 230\")\n",
    "    def changegear(self):\n",
    "        print(\"change 7 gear\")\n",
    "car=Car(\"car 1\",\"red\",30000)\n",
    "car.show()\n",
    "car.maxspeed()\n",
    "# b=Vehicle(\"car2\",\"yellow\",40000)\n",
    "car.show()\n",
    "# b.maxspeed()\n",
    "# b.changegear()\n",
    "# car.changegear()"
   ]
  },
  {
   "cell_type": "code",
   "execution_count": 31,
   "id": "53ac42b6",
   "metadata": {},
   "outputs": [
    {
     "name": "stdout",
     "output_type": "stream",
     "text": [
      "petrol\n",
      "330\n",
      "diesel\n",
      "220\n"
     ]
    }
   ],
   "source": [
    "#Python allows different classes to have methods with the same name.\n",
    "\n",
    "class a:\n",
    "    def fuel(self):\n",
    "        print(\"petrol\")\n",
    "    def speed(self):\n",
    "        print(\"330\")\n",
    "class b:\n",
    "    def fuel(self):\n",
    "        print(\"diesel\")\n",
    "    def speed(self):\n",
    "        print(\"220\")\n",
    "c=a()\n",
    "d=b()\n",
    "for i in (c,d):\n",
    "    i.fuel()\n",
    "    i.speed()"
   ]
  },
  {
   "cell_type": "code",
   "execution_count": 32,
   "id": "826d985c",
   "metadata": {},
   "outputs": [
    {
     "data": {
      "text/plain": [
       "('school name:', 'abp school', 'rollno.:', 55, 'subject:', 'Maths', None)"
      ]
     },
     "execution_count": 32,
     "metadata": {},
     "output_type": "execute_result"
    }
   ],
   "source": [
    "#dought \n",
    "class student:\n",
    "    \n",
    "    def __init__(self,name,rollno):\n",
    "        self.name=name\n",
    "        self.rollno=rollno\n",
    "    def show(self):\n",
    "        return \"Name of the student:\",self.name,\"Roll no of the student:\",self.rollno\n",
    "class school(student):\n",
    "    def __init__(self, name, rollno,age):\n",
    "        super().__init__(name, rollno)\n",
    "        \n",
    "        self.age = age\n",
    "        zikra = super().show()\n",
    "    def show(self):\n",
    "        self.school=\"abp school\"\n",
    "        \"school name:\",self.school, \"rollno.:\",self.rollno, \"age:\", self.age  \n",
    "class home(school):\n",
    "    def __init__(self, name, rollno,age, subject):\n",
    "        super().__init__(name, rollno, age)\n",
    "        self.subject = subject\n",
    "       \n",
    "   \n",
    "       \n",
    "    def show(self):\n",
    "        zikra = super().show()\n",
    "        self.school=\"abp school\"\n",
    "        return \"school name:\",self.school, \"rollno.:\",self.rollno, \"subject:\", self.subject,zikra\n",
    "        \n",
    "\n",
    "s1=home('iram',55,33,\"Maths\")\n",
    "s1.show()"
   ]
  },
  {
   "cell_type": "code",
   "execution_count": 5,
   "id": "2f6a6649",
   "metadata": {},
   "outputs": [
    {
     "name": "stdout",
     "output_type": "stream",
     "text": [
      "petrol\n",
      "330\n",
      "diesel\n",
      "440\n"
     ]
    }
   ],
   "source": [
    "# polymorphism with function and objects\n",
    "class A:\n",
    "    def fuel(self):\n",
    "        print(\"petrol\")\n",
    "    def max(self):\n",
    "        print(\"330\")\n",
    "class B:\n",
    "    def fuel(self):\n",
    "        print(\"diesel\")\n",
    "    def max(self):\n",
    "        print(\"440\")\n",
    "def car(obj):\n",
    "    obj.fuel()\n",
    "    obj.max()\n",
    "x=A()\n",
    "y=B()\n",
    "car(x)\n",
    "car(y)\n",
    "        "
   ]
  },
  {
   "cell_type": "code",
   "execution_count": 8,
   "id": "506ff621",
   "metadata": {},
   "outputs": [
    {
     "name": "stdout",
     "output_type": "stream",
     "text": [
      "9\n"
     ]
    }
   ],
   "source": [
    "#method overloading\n",
    "def addition(a,b):\n",
    "    c=a+b\n",
    "    print(c)\n",
    "def addition(a,b,c):\n",
    "    d=a+b+c\n",
    "    print(d)\n",
    "     \n",
    "addition(3,3,3)"
   ]
  },
  {
   "cell_type": "code",
   "execution_count": 14,
   "id": "39981796",
   "metadata": {},
   "outputs": [
    {
     "name": "stdout",
     "output_type": "stream",
     "text": [
      "s\n"
     ]
    }
   ],
   "source": [
    "class a:\n",
    "    def __init__(self):\n",
    "        print(\"show\")\n",
    "    def show(self):\n",
    "        print(\"s\")\n",
    "\n",
    "p1.show()"
   ]
  },
  {
   "cell_type": "code",
   "execution_count": 3,
   "id": "f9d48feb",
   "metadata": {},
   "outputs": [
    {
     "ename": "TypeError",
     "evalue": "a.__init__() missing 1 required positional argument: 'saud'",
     "output_type": "error",
     "traceback": [
      "\u001b[1;31m---------------------------------------------------------------------------\u001b[0m",
      "\u001b[1;31mTypeError\u001b[0m                                 Traceback (most recent call last)",
      "Input \u001b[1;32mIn [3]\u001b[0m, in \u001b[0;36m<cell line: 6>\u001b[1;34m()\u001b[0m\n\u001b[0;32m      4\u001b[0m     \u001b[38;5;28;01mdef\u001b[39;00m \u001b[38;5;21mshow\u001b[39m(\u001b[38;5;28mself\u001b[39m):\n\u001b[0;32m      5\u001b[0m         \u001b[38;5;28mprint\u001b[39m(\u001b[38;5;28mself\u001b[39m\u001b[38;5;241m.\u001b[39mname)\n\u001b[1;32m----> 6\u001b[0m p1\u001b[38;5;241m=\u001b[39m\u001b[43ma\u001b[49m\u001b[43m(\u001b[49m\u001b[43m)\u001b[49m\n\u001b[0;32m      7\u001b[0m p1\u001b[38;5;241m.\u001b[39mshow()\n",
      "\u001b[1;31mTypeError\u001b[0m: a.__init__() missing 1 required positional argument: 'saud'"
     ]
    }
   ],
   "source": [
    "class a:\n",
    "    def __init__(self,saud):\n",
    "        self.name=name\n",
    "    def show(self):\n",
    "        print(self.name)\n",
    "p1=a()\n",
    "p1.show()"
   ]
  },
  {
   "cell_type": "code",
   "execution_count": 2,
   "id": "48e3162e",
   "metadata": {},
   "outputs": [
    {
     "name": "stdout",
     "output_type": "stream",
     "text": [
      "Name: Jessa 14\n",
      "Name: Jessa 16\n"
     ]
    }
   ],
   "source": [
    "class Student:\n",
    "    def __init__(self, name, age):\n",
    "        # private member\n",
    "        self.name = name\n",
    "        self.__age = age\n",
    "\n",
    "    # getter method\n",
    "    def getage(self):\n",
    "        return self.__age\n",
    "\n",
    "    # setter method\n",
    "    def setage(self, age):\n",
    "        self.__age = age\n",
    "\n",
    "stud = Student('Jessa', 14)\n",
    "\n",
    "# retrieving age using getter\n",
    "print('Name:', stud.name, stud.getage())\n",
    "\n",
    "# changing age using setter\n",
    "stud.setage(16)\n",
    "\n",
    "# retrieving age using getter\n",
    "print('Name:', stud.name, stud.getage())"
   ]
  },
  {
   "cell_type": "code",
   "execution_count": 2,
   "id": "f79bbc59",
   "metadata": {},
   "outputs": [
    {
     "name": "stdout",
     "output_type": "stream",
     "text": [
      "2\n"
     ]
    }
   ],
   "source": [
    "class A:\n",
    "    def __init__(self):\n",
    "        print(1)\n",
    "    def __init__(self):\n",
    "        print(2)\n",
    "p1=A()\n",
    "\n",
    "        "
   ]
  },
  {
   "cell_type": "code",
   "execution_count": 16,
   "id": "7ea649d1",
   "metadata": {},
   "outputs": [
    {
     "name": "stdout",
     "output_type": "stream",
     "text": [
      "My name is shanawaz 25 www www\n"
     ]
    }
   ],
   "source": [
    "class Student:\n",
    "    school_name=\"xyz\"\n",
    "    def __init__(self,name,age):\n",
    "        self.name=name\n",
    "        self.age=age\n",
    "    def show(self):\n",
    "        print(f\"My name is {self.name} {self.age} {self.school_name} {Student.school_name}\")\n",
    "    @classmethod\n",
    "    def work(cls,new_school_name):\n",
    "              cls.school_name=new_school_name\n",
    "obj=Student(\"shanawaz\",25)\n",
    "Student.work(\"www\")\n",
    "obj.show()"
   ]
  },
  {
   "cell_type": "code",
   "execution_count": null,
   "id": "203dbe04",
   "metadata": {},
   "outputs": [],
   "source": []
  }
 ],
 "metadata": {
  "kernelspec": {
   "display_name": "Python 3 (ipykernel)",
   "language": "python",
   "name": "python3"
  },
  "language_info": {
   "codemirror_mode": {
    "name": "ipython",
    "version": 3
   },
   "file_extension": ".py",
   "mimetype": "text/x-python",
   "name": "python",
   "nbconvert_exporter": "python",
   "pygments_lexer": "ipython3",
   "version": "3.10.4"
  }
 },
 "nbformat": 4,
 "nbformat_minor": 5
}
