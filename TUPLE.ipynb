{
 "cells": [
  {
   "cell_type": "markdown",
   "id": "91645676",
   "metadata": {},
   "source": [
    " # to create a tuple"
   ]
  },
  {
   "cell_type": "code",
   "execution_count": 5,
   "id": "be225f9f",
   "metadata": {},
   "outputs": [
    {
     "name": "stdout",
     "output_type": "stream",
     "text": [
      "('hello', 'world')\n"
     ]
    }
   ],
   "source": [
    "a=(\"hello\", \"world\")\n",
    "print(a)"
   ]
  },
  {
   "cell_type": "markdown",
   "id": "642c7e90",
   "metadata": {},
   "source": [
    "# tuple() length\n",
    "- to determine how many items a tuple has, use the len() function"
   ]
  },
  {
   "cell_type": "code",
   "execution_count": 6,
   "id": "f1bab5f0",
   "metadata": {},
   "outputs": [
    {
     "name": "stdout",
     "output_type": "stream",
     "text": [
      "3\n"
     ]
    }
   ],
   "source": [
    "thistuple=(\"apple\",\"banana\",\"cherry\")\n",
    "print(len(thistuple))"
   ]
  },
  {
   "cell_type": "markdown",
   "id": "94b0630b",
   "metadata": {},
   "source": [
    " # to create a tuple with one item\n",
    " - remember comma after the item"
   ]
  },
  {
   "cell_type": "code",
   "execution_count": 2,
   "id": "8b5cc32c",
   "metadata": {},
   "outputs": [
    {
     "name": "stdout",
     "output_type": "stream",
     "text": [
      "<class 'tuple'>\n"
     ]
    }
   ],
   "source": [
    "a =(\"apple\",)\n",
    "print(type(a))"
   ]
  },
  {
   "cell_type": "markdown",
   "id": "466f978b",
   "metadata": {},
   "source": [
    "# tuples data types can be of any data types, string ,int and boolean types"
   ]
  },
  {
   "cell_type": "code",
   "execution_count": 5,
   "id": "e8b4395c",
   "metadata": {},
   "outputs": [
    {
     "name": "stdout",
     "output_type": "stream",
     "text": [
      "('apple', 'banana', 'cherry')\n",
      "(1, 2, 3, 45)\n",
      "(True, False, True)\n"
     ]
    }
   ],
   "source": [
    "tuple1=(\"apple\", \"banana\",\"cherry\")\n",
    "tuple2=(1,2,3,45)\n",
    "tuple3=(True, False , True)\n",
    "print(tuple1)\n",
    "print(tuple2)\n",
    "print(tuple3)"
   ]
  },
  {
   "cell_type": "markdown",
   "id": "0fc7edc7",
   "metadata": {},
   "source": [
    "# a tuple can contain different data types \n",
    "- tuple with strings integers and boolean value"
   ]
  },
  {
   "cell_type": "code",
   "execution_count": 8,
   "id": "cca4ac48",
   "metadata": {},
   "outputs": [
    {
     "name": "stdout",
     "output_type": "stream",
     "text": [
      "('abc', 34, True, 40, 'male')\n"
     ]
    }
   ],
   "source": [
    "tuple1=(\"abc\", 34, True,40,\"male\")\n",
    "print(tuple1)"
   ]
  },
  {
   "cell_type": "markdown",
   "id": "2c71e807",
   "metadata": {},
   "source": [
    "# type() , < class 'tuple> "
   ]
  },
  {
   "cell_type": "code",
   "execution_count": 9,
   "id": "d9315266",
   "metadata": {},
   "outputs": [
    {
     "name": "stdout",
     "output_type": "stream",
     "text": [
      "<class 'tuple'>\n"
     ]
    }
   ],
   "source": [
    "mytuple=(\"apple\", \"banana\",\"cherry\")\n",
    "print(type(mytuple))"
   ]
  },
  {
   "cell_type": "markdown",
   "id": "399e5987",
   "metadata": {},
   "source": [
    "# tuple constructor \n",
    "- possible to make a tuple constructor to make a tuple \n",
    "- using the tuple method to make a tuple"
   ]
  },
  {
   "cell_type": "code",
   "execution_count": 10,
   "id": "dd406f10",
   "metadata": {},
   "outputs": [
    {
     "name": "stdout",
     "output_type": "stream",
     "text": [
      "('apple', 'banana', 'cherry')\n"
     ]
    }
   ],
   "source": [
    "thistuple=tuple((\"apple\",\"banana\",\"cherry\"))\n",
    "print(thistuple)"
   ]
  },
  {
   "cell_type": "markdown",
   "id": "b023e57c",
   "metadata": {},
   "source": [
    "# negative indexing means start from the end\n",
    "-   -1 refers to the last item, -2 refers to the last item "
   ]
  },
  {
   "cell_type": "code",
   "execution_count": 13,
   "id": "544341a8",
   "metadata": {},
   "outputs": [
    {
     "name": "stdout",
     "output_type": "stream",
     "text": [
      "banana\n",
      "cherry\n",
      "banana\n"
     ]
    }
   ],
   "source": [
    "a =(\"apple\",\"banana\",\"cherry\")\n",
    "print(a[1])\n",
    "print(a[-1])\n",
    "print(a[-2])"
   ]
  },
  {
   "cell_type": "markdown",
   "id": "589b82eb",
   "metadata": {},
   "source": [
    "# Range of Indexes\n",
    "- You can specify a range of indexes by specifying where to start and where to end the range.\n",
    "\n",
    " - When specifying a range, the return value will be a new tuple with the specified items.\n",
    "\n"
   ]
  },
  {
   "cell_type": "code",
   "execution_count": 18,
   "id": "82502bb3",
   "metadata": {},
   "outputs": [
    {
     "name": "stdout",
     "output_type": "stream",
     "text": [
      "('cherry', 'kiwi')\n",
      "('cherry', 'kiwi', 'fig')\n",
      "('cherry', 'kiwi', 'fig', 'pine')\n",
      "('apple', 'banana')\n"
     ]
    }
   ],
   "source": [
    "a = (\"apple\", \"banana\", \"cherry\", \"kiwi\", \"fig\", \"pine\")\n",
    "print(a[2:4])\n",
    "print(a[2:5])\n",
    "print(a[2:])\n",
    "print(a[:2])"
   ]
  },
  {
   "cell_type": "markdown",
   "id": "6ce711ff",
   "metadata": {},
   "source": [
    "# Range of Negative Indexes\n",
    "- Specify negative indexes if you want to start the search from the end of the tuple:\n",
    "- This example returns the items from index -4 (included) to index -1 (excluded)\n"
   ]
  },
  {
   "cell_type": "code",
   "execution_count": 19,
   "id": "da08e95d",
   "metadata": {},
   "outputs": [
    {
     "name": "stdout",
     "output_type": "stream",
     "text": [
      "('banana', 'cherry', 'kiwi')\n"
     ]
    }
   ],
   "source": [
    "a =(\"apple\", \"banana\", \"cherry\", \"kiwi\", \"fig\", \"pine\")\n",
    "print(a[-5:-2])"
   ]
  },
  {
   "cell_type": "markdown",
   "id": "e705f215",
   "metadata": {},
   "source": [
    "# Check if Item Exists\n",
    "- To determine if a specified item is present in a tuple use the in keyword:\n",
    "\n"
   ]
  },
  {
   "cell_type": "code",
   "execution_count": 24,
   "id": "980429dd",
   "metadata": {},
   "outputs": [
    {
     "name": "stdout",
     "output_type": "stream",
     "text": [
      "yes,'apple' is in a\n"
     ]
    }
   ],
   "source": [
    "a =(\"apple\", \"banana\", \"cherry\")\n",
    "if \"fig\" in a:\n",
    "    print(\"yes, 'fig' is in  a\")\n",
    "if \"apple\" in a:\n",
    "    print(\"yes,'apple' is in a\")"
   ]
  },
  {
   "cell_type": "markdown",
   "id": "625f817b",
   "metadata": {},
   "source": [
    "# Change Tuple Values\n",
    "- Once a tuple is created, you cannot change its values. Tuples are unchangeable, or immutable as it also is called.\n",
    "\n",
    " - But there is a workaround. You can convert the tuple into a list, change the list, and convert the list back into a tuple."
   ]
  },
  {
   "cell_type": "code",
   "execution_count": 27,
   "id": "4d744399",
   "metadata": {},
   "outputs": [
    {
     "name": "stdout",
     "output_type": "stream",
     "text": [
      "('apple', 'kiwi', 'banana')\n"
     ]
    }
   ],
   "source": [
    "x=(\"apple\", \"cherry\", \"banana\")\n",
    "y =list(x)\n",
    "y[1]=\"kiwi\"\n",
    "x =tuple(y)\n",
    "print(x)"
   ]
  },
  {
   "cell_type": "markdown",
   "id": "600f5876",
   "metadata": {},
   "source": [
    "# Add Items\n",
    "- Since tuples are immutable, they do not have a build-in append() method, but there are other ways to add items to a tuple.\n",
    "\n",
    "1. Convert into a list: Just like the workaround for changing a tuple, you can convert it into a list, add your item(s), and convert it back into a tuple."
   ]
  },
  {
   "cell_type": "code",
   "execution_count": 30,
   "id": "68a63825",
   "metadata": {},
   "outputs": [
    {
     "name": "stdout",
     "output_type": "stream",
     "text": [
      "('apple', 'bnana', 'cherry', 'orange')\n"
     ]
    }
   ],
   "source": [
    "a =(\"apple\",\"bnana\",\"cherry\")\n",
    "y=list(a)\n",
    "y.append(\"orange\")\n",
    "a=tuple(y)\n",
    "print(a)"
   ]
  },
  {
   "cell_type": "markdown",
   "id": "400d4e39",
   "metadata": {},
   "source": [
    "#  Add tuple to a tuple\n",
    "- You are allowed to add tuples to tuples, so if you want to add one item, (or many), create a new tuple with the item(s), and add it to the existing tuple:"
   ]
  },
  {
   "cell_type": "code",
   "execution_count": 31,
   "id": "c3b87ed3",
   "metadata": {},
   "outputs": [
    {
     "name": "stdout",
     "output_type": "stream",
     "text": [
      "('apple', 'banana', 'cherry', 'orange')\n"
     ]
    }
   ],
   "source": [
    "a= (\"apple\",\"banana\",\"cherry\")\n",
    "y=(\"orange\",)\n",
    "a+=y\n",
    "print(a)"
   ]
  },
  {
   "cell_type": "markdown",
   "id": "844969ac",
   "metadata": {},
   "source": [
    "# Remove Items\n",
    "- Tuples are unchangeable, so you cannot remove items from it, but you can use the same workaround as we used for changing and adding tuple items:"
   ]
  },
  {
   "cell_type": "code",
   "execution_count": 32,
   "id": "6d955207",
   "metadata": {},
   "outputs": [
    {
     "name": "stdout",
     "output_type": "stream",
     "text": [
      "('banana', 'cherry')\n"
     ]
    }
   ],
   "source": [
    "a=(\"apple\",\"banana\",\"cherry\")\n",
    "y = list(a)\n",
    "y.remove(\"apple\")\n",
    "a=tuple(y)\n",
    "print(a)"
   ]
  },
  {
   "cell_type": "markdown",
   "id": "a64fd420",
   "metadata": {},
   "source": [
    "# Or you can delete the tuple completely:\n",
    "- The del keyword can delete the tuple completely:\n",
    "\n",
    "\n"
   ]
  },
  {
   "cell_type": "code",
   "execution_count": 33,
   "id": "3593e8cf",
   "metadata": {},
   "outputs": [
    {
     "ename": "NameError",
     "evalue": "name 'a' is not defined",
     "output_type": "error",
     "traceback": [
      "\u001b[1;31m---------------------------------------------------------------------------\u001b[0m",
      "\u001b[1;31mNameError\u001b[0m                                 Traceback (most recent call last)",
      "Input \u001b[1;32mIn [33]\u001b[0m, in \u001b[0;36m<cell line: 3>\u001b[1;34m()\u001b[0m\n\u001b[0;32m      1\u001b[0m a\u001b[38;5;241m=\u001b[39m(\u001b[38;5;124m\"\u001b[39m\u001b[38;5;124maplle\u001b[39m\u001b[38;5;124m\"\u001b[39m,\u001b[38;5;124m\"\u001b[39m\u001b[38;5;124mcherry\u001b[39m\u001b[38;5;124m\"\u001b[39m,\u001b[38;5;124m\"\u001b[39m\u001b[38;5;124mbanana\u001b[39m\u001b[38;5;124m\"\u001b[39m)\n\u001b[0;32m      2\u001b[0m \u001b[38;5;28;01mdel\u001b[39;00m a\n\u001b[1;32m----> 3\u001b[0m \u001b[38;5;28mprint\u001b[39m(\u001b[43ma\u001b[49m)\n",
      "\u001b[1;31mNameError\u001b[0m: name 'a' is not defined"
     ]
    }
   ],
   "source": [
    "a=(\"aplle\",\"cherry\",\"banana\")\n",
    "del a\n",
    "print(a)"
   ]
  },
  {
   "cell_type": "markdown",
   "id": "c8884219",
   "metadata": {},
   "source": [
    "# Python - Unpack Tuples\n",
    "- When we create a tuple, we normally assign values to it. This is called \"packing\" a tuple:\n",
    "\n",
    "\n"
   ]
  },
  {
   "cell_type": "code",
   "execution_count": 34,
   "id": "a537cf4d",
   "metadata": {},
   "outputs": [
    {
     "name": "stdout",
     "output_type": "stream",
     "text": [
      "('apple', 'banana', 'cherry')\n"
     ]
    }
   ],
   "source": [
    "fruits=(\"apple\", \"banana\",\"cherry\")\n",
    "print(fruits)"
   ]
  },
  {
   "cell_type": "markdown",
   "id": "19053c2a",
   "metadata": {},
   "source": [
    "# But, in Python, we are also allowed to extract the values back into variables. This is called \"unpacking\":\n",
    "\n"
   ]
  },
  {
   "cell_type": "code",
   "execution_count": 35,
   "id": "a21695de",
   "metadata": {},
   "outputs": [
    {
     "name": "stdout",
     "output_type": "stream",
     "text": [
      "apple\n",
      "cherry\n",
      "banana\n"
     ]
    }
   ],
   "source": [
    "a =(\"apple\",\"cherry\",\"banana\")\n",
    "(green,yellow,red)=a\n",
    "print(green)\n",
    "print(yellow)\n",
    "print(red)"
   ]
  },
  {
   "cell_type": "markdown",
   "id": "a9cf732a",
   "metadata": {},
   "source": [
    "# Using Asterisk*\n",
    "- If the number of variables is less than the number of values, you can add an * to the variable name and the values will be assigned to the variable as a list:"
   ]
  },
  {
   "cell_type": "code",
   "execution_count": 36,
   "id": "57cad57f",
   "metadata": {},
   "outputs": [
    {
     "name": "stdout",
     "output_type": "stream",
     "text": [
      "apple\n",
      "banana\n",
      "['cherry', 'fig', 'orange']\n"
     ]
    }
   ],
   "source": [
    "fruits=(\"apple\",\"banana\",\"cherry\",\"fig\",\"orange\")\n",
    "(green,yellow,*white)=fruits\n",
    "print(green)\n",
    "print(yellow)\n",
    "print(white)"
   ]
  },
  {
   "cell_type": "markdown",
   "id": "8336873e",
   "metadata": {},
   "source": [
    "# Loop Through a Tuple\n",
    "- You can loop through the tuple items by using a for loop.\n",
    "\n"
   ]
  },
  {
   "cell_type": "code",
   "execution_count": 37,
   "id": "b11d246b",
   "metadata": {},
   "outputs": [
    {
     "name": "stdout",
     "output_type": "stream",
     "text": [
      "apple\n",
      "banana\n",
      "cherry\n"
     ]
    }
   ],
   "source": [
    "a=(\"apple\",\"banana\",\"cherry\")\n",
    "for b in a:\n",
    "    print(b)"
   ]
  },
  {
   "cell_type": "markdown",
   "id": "6d231709",
   "metadata": {},
   "source": [
    "# Loop Through the Index Numbers\n",
    "- You can also loop through the tuple items by referring to their index number.\n",
    "\n",
    " - Use the range() and len() functions to create a suitable iterable."
   ]
  },
  {
   "cell_type": "code",
   "execution_count": 38,
   "id": "c1e43e08",
   "metadata": {},
   "outputs": [
    {
     "name": "stdout",
     "output_type": "stream",
     "text": [
      "apple\n",
      "banana\n",
      "cherry\n"
     ]
    }
   ],
   "source": [
    "a =(\"apple\",\"banana\",\"cherry\")\n",
    "for i in range(len(a)):\n",
    "    print(a[i])"
   ]
  },
  {
   "cell_type": "markdown",
   "id": "ae62bd3c",
   "metadata": {},
   "source": [
    "# Using a While Loop\n",
    "- ou can loop through the list items by using a while loop.\n",
    "\n",
    " - Use the len() function to determine the length of the tuple, then start at 0 and loop your way through the tuple items by refering to their indexes.\n",
    "\n",
    " - Remember to increase the index by 1 after each iteration."
   ]
  },
  {
   "cell_type": "code",
   "execution_count": 5,
   "id": "35f97458",
   "metadata": {},
   "outputs": [
    {
     "name": "stdout",
     "output_type": "stream",
     "text": [
      "apple\n",
      "banana\n",
      "cherry\n"
     ]
    }
   ],
   "source": [
    "a=(\"apple\",\"banana\",\"cherry\")\n",
    "i=0\n",
    "while i<len(a):\n",
    "    print(a[i])\n",
    "    i=i+1"
   ]
  },
  {
   "cell_type": "markdown",
   "id": "d4e83b38",
   "metadata": {},
   "source": [
    "# Join Two Tuples\n",
    "- To join two or more tuples you can use the + operator:\n",
    "\n"
   ]
  },
  {
   "cell_type": "code",
   "execution_count": 6,
   "id": "a0756a9a",
   "metadata": {},
   "outputs": [
    {
     "name": "stdout",
     "output_type": "stream",
     "text": [
      "('apple', 'banana', 'fig', 2, 3, 5, 7, 7)\n"
     ]
    }
   ],
   "source": [
    "a=(\"apple\",\"banana\",\"fig\")\n",
    "b=(2,3,5,7,7,)\n",
    "c=a+b\n",
    "print(c)"
   ]
  },
  {
   "cell_type": "markdown",
   "id": "465ebbde",
   "metadata": {},
   "source": [
    "# Multiply Tuples\n",
    "- If you want to multiply the content of a tuple a given number of times, you can use the * operator:\n",
    "\n"
   ]
  },
  {
   "cell_type": "code",
   "execution_count": 10,
   "id": "78db0cd9",
   "metadata": {},
   "outputs": [
    {
     "name": "stdout",
     "output_type": "stream",
     "text": [
      "('apple', 'banana', 'cherry', 'apple', 'banana', 'cherry')\n"
     ]
    }
   ],
   "source": [
    "a=(\"apple\",\"banana\",\"cherry\")\n",
    "c=a*2\n",
    "print(c)"
   ]
  },
  {
   "cell_type": "code",
   "execution_count": 6,
   "id": "80bc5bf5",
   "metadata": {},
   "outputs": [
    {
     "name": "stdout",
     "output_type": "stream",
     "text": [
      "<class 'set'>\n"
     ]
    }
   ],
   "source": [
    "a={()}\n",
    "print(type(a))"
   ]
  },
  {
   "cell_type": "code",
   "execution_count": null,
   "id": "1dfbe56b",
   "metadata": {},
   "outputs": [],
   "source": []
  }
 ],
 "metadata": {
  "kernelspec": {
   "display_name": "Python 3 (ipykernel)",
   "language": "python",
   "name": "python3"
  },
  "language_info": {
   "codemirror_mode": {
    "name": "ipython",
    "version": 3
   },
   "file_extension": ".py",
   "mimetype": "text/x-python",
   "name": "python",
   "nbconvert_exporter": "python",
   "pygments_lexer": "ipython3",
   "version": "3.10.4"
  }
 },
 "nbformat": 4,
 "nbformat_minor": 5
}
