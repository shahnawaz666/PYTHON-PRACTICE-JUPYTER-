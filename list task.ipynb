{
 "cells": [
  {
   "cell_type": "code",
   "execution_count": 1,
   "id": "7354289b",
   "metadata": {},
   "outputs": [],
   "source": [
    "# .To create 5 different list using list comprehension method.\n",
    "#.Create list , add random 10 numbers in list and print largest number\n",
    "# of list.\n",
    "# 3.To check whether a given number is present in list or not?\n",
    "# 4.To demonstrate any 10 methods of List\n",
    "# 5.To add two list [ adding elements of list ]\n",
    "# 6.To implement a stack using a list\n",
    "# 7.To sort a given number list in ascending order using functions.\n",
    "# this should be complete by EOD"
   ]
  },
  {
   "cell_type": "code",
   "execution_count": 9,
   "id": "7a36563c",
   "metadata": {},
   "outputs": [
    {
     "name": "stdout",
     "output_type": "stream",
     "text": [
      "300\n"
     ]
    }
   ],
   "source": [
    "#.Create list , add random 10 numbers in list and print largest number\n",
    "a=[10,200,45,60,40,300,70,100,89,155]\n",
    "x=max(a)\n",
    "print(x)"
   ]
  },
  {
   "cell_type": "code",
   "execution_count": 10,
   "id": "3ce028fa",
   "metadata": {},
   "outputs": [
    {
     "name": "stdout",
     "output_type": "stream",
     "text": [
      "yes, '12' is present\n"
     ]
    }
   ],
   "source": [
    "# 3.To check whether a given number is present in list or not?\n",
    "txt=[12,45,67,87]\n",
    "if 12 in txt:\n",
    "    print(\"yes, '12' is present\")\n",
    "    "
   ]
  },
  {
   "cell_type": "code",
   "execution_count": 11,
   "id": "2f2a8d2d",
   "metadata": {},
   "outputs": [
    {
     "name": "stdout",
     "output_type": "stream",
     "text": [
      "['apple', 'cherry', 'banana', 'mango', 'kiwi', 'fig']\n"
     ]
    }
   ],
   "source": [
    "# 5.To add two list [ adding elements of list ]\n",
    "a=[\"apple\",\"cherry\",\"banana\"]\n",
    "b=[\"mango\",\"kiwi\",\"fig\"]\n",
    "x=a+b\n",
    "print(x)\n"
   ]
  },
  {
   "cell_type": "code",
   "execution_count": 31,
   "id": "2ed201ac",
   "metadata": {},
   "outputs": [
    {
     "name": "stdout",
     "output_type": "stream",
     "text": [
      "[]\n"
     ]
    }
   ],
   "source": [
    "# 6.To implement a stack using a list\n",
    "a=[]\n",
    "a.append(\"cherry\")\n",
    "a.append(\"banana\")\n",
    "a.append(\"mango\")\n",
    "a.pop()\n",
    "a.pop()\n",
    "a.pop()\n",
    "print(a)"
   ]
  },
  {
   "cell_type": "code",
   "execution_count": 43,
   "id": "9a21b56f",
   "metadata": {},
   "outputs": [
    {
     "name": "stdout",
     "output_type": "stream",
     "text": [
      "[45, 67, 89, 2222]\n"
     ]
    }
   ],
   "source": [
    "a=[2222,45,89,67,]\n",
    "a.sort(reverse=False)\n",
    "print(a)"
   ]
  },
  {
   "cell_type": "code",
   "execution_count": 44,
   "id": "52676618",
   "metadata": {},
   "outputs": [
    {
     "data": {
      "text/plain": [
       "[1, 4, 9, 16, 3136]"
      ]
     },
     "execution_count": 44,
     "metadata": {},
     "output_type": "execute_result"
    }
   ],
   "source": [
    "lst=[1,2,3,4,56]\n",
    "[i*i for i in lst]"
   ]
  },
  {
   "cell_type": "code",
   "execution_count": null,
   "id": "3a68c15e",
   "metadata": {},
   "outputs": [],
   "source": []
  }
 ],
 "metadata": {
  "kernelspec": {
   "display_name": "Python 3 (ipykernel)",
   "language": "python",
   "name": "python3"
  },
  "language_info": {
   "codemirror_mode": {
    "name": "ipython",
    "version": 3
   },
   "file_extension": ".py",
   "mimetype": "text/x-python",
   "name": "python",
   "nbconvert_exporter": "python",
   "pygments_lexer": "ipython3",
   "version": "3.10.4"
  }
 },
 "nbformat": 4,
 "nbformat_minor": 5
}
