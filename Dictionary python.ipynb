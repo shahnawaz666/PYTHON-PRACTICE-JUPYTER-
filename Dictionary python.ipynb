{
 "cells": [
  {
   "cell_type": "markdown",
   "id": "a61bfcc9",
   "metadata": {},
   "source": [
    "# DICTIONARY\n",
    "- Dictionaries are used to store data values in key:value pairs.\n",
    "\n",
    "- A dictionary is a collection which is ordered*, changeable and do not allow duplicates.\n",
    "\n",
    "- As of Python version 3.7, dictionaries are ordered. In Python 3.6 and earlier, dictionaries are unordered.\n",
    "\n",
    "- Dictionaries are written with curly brackets, and have keys and values:\n",
    "# CREATE AND PRINT DICTIONARY"
   ]
  },
  {
   "cell_type": "code",
   "execution_count": 6,
   "id": "c644b913",
   "metadata": {},
   "outputs": [
    {
     "name": "stdout",
     "output_type": "stream",
     "text": [
      "{'brand': 'ford', 'model': 'mustang', 'year': 1964}\n"
     ]
    }
   ],
   "source": [
    "thisdict ={\n",
    "    \"brand\":\"ford\",\n",
    "    \"model\":\"mustang\",\n",
    "    \"year\":1964\n",
    "\n",
    "}\n",
    "print(thisdict)"
   ]
  },
  {
   "cell_type": "markdown",
   "id": "56a7cd8b",
   "metadata": {},
   "source": [
    "# Print the \"brand\" value of the dictionary:\n",
    "\n"
   ]
  },
  {
   "cell_type": "code",
   "execution_count": 5,
   "id": "f482ba3c",
   "metadata": {},
   "outputs": [
    {
     "name": "stdout",
     "output_type": "stream",
     "text": [
      "ford\n",
      "mustang\n",
      "1964\n"
     ]
    }
   ],
   "source": [
    "thisdict={\n",
    "    \"brand\":\"ford\",\n",
    "    \"model\":\"mustang\",\n",
    "    \"year\": 1964\n",
    "}\n",
    "print(thisdict[\"brand\"])\n",
    "print(thisdict[\"model\"])\n",
    "print(thisdict[\"year\"])"
   ]
  },
  {
   "cell_type": "markdown",
   "id": "ab053dbe",
   "metadata": {},
   "source": [
    "# \n",
    "- When we say that dictionaries are ordered, it means that the items have a defined order, and that order will not change.\n",
    "\n",
    "- Unordered means that the items does not have a defined order, you cannot refer to an item by using an index.\n",
    "\n",
    "- Changeable\n",
    "- Dictionaries are changeable, meaning that we can change, add or remove items after the dictionary has been created.\n",
    "\n",
    "- Duplicates Not Allowed\n",
    "- Dictionaries cannot have two items with the same key:"
   ]
  },
  {
   "cell_type": "code",
   "execution_count": 7,
   "id": "e5337e8f",
   "metadata": {},
   "outputs": [
    {
     "name": "stdout",
     "output_type": "stream",
     "text": [
      "{'brand': 'ford', 'model': 'mustang', 'year': 2020}\n"
     ]
    }
   ],
   "source": [
    "a={\n",
    "    \"brand\":\"ford\",\n",
    "    \"model\":\"mustang\",\n",
    "    \"year\":1964,\n",
    "    \"year\":2020\n",
    "}\n",
    "print(a)"
   ]
  },
  {
   "cell_type": "markdown",
   "id": "7653caeb",
   "metadata": {},
   "source": [
    "# Dictionary Length\n",
    "- To determine how many items a dictionary has, use the len() function:\n",
    "\n"
   ]
  },
  {
   "cell_type": "code",
   "execution_count": 8,
   "id": "e2a0a258",
   "metadata": {},
   "outputs": [
    {
     "name": "stdout",
     "output_type": "stream",
     "text": [
      "3\n"
     ]
    }
   ],
   "source": [
    "a={\n",
    "    \"brand\":\"ford\",\n",
    "    \"model\":\"mustang\",\n",
    "    \"year\":2020\n",
    "}\n",
    "print(len(a))"
   ]
  },
  {
   "cell_type": "code",
   "execution_count": 11,
   "id": "3406777c",
   "metadata": {},
   "outputs": [
    {
     "name": "stdout",
     "output_type": "stream",
     "text": [
      "3\n"
     ]
    }
   ],
   "source": [
    "a={\n",
    "    \"brand\":\"ford\",\n",
    "    \"model\":\"mustang\",\n",
    "    \"year\":2020,\n",
    "    \"year\":2021,\n",
    "}\n",
    "print(len(a))"
   ]
  },
  {
   "cell_type": "markdown",
   "id": "db78a311",
   "metadata": {},
   "source": [
    "##  Dictionary Items - Data Types\n",
    "- The values in dictionary items can be of any data type:"
   ]
  },
  {
   "cell_type": "code",
   "execution_count": 12,
   "id": "a3d28a69",
   "metadata": {},
   "outputs": [
    {
     "name": "stdout",
     "output_type": "stream",
     "text": [
      "{'brand': 'ford', 'elctric': False, 'year': 1964, 'colors': ['red', 'white', 'blue']}\n"
     ]
    }
   ],
   "source": [
    "a={\n",
    "    \"brand\":\"ford\",\n",
    "    \"elctric\":False,\n",
    "    \"year\":1964,\n",
    "    \"colors\":[\"red\",\"white\",\"blue\"]\n",
    "}\n",
    "print(a)"
   ]
  },
  {
   "cell_type": "markdown",
   "id": "d5382401",
   "metadata": {},
   "source": [
    "# type"
   ]
  },
  {
   "cell_type": "code",
   "execution_count": 13,
   "id": "34535f80",
   "metadata": {},
   "outputs": [
    {
     "name": "stdout",
     "output_type": "stream",
     "text": [
      "<class 'dict'>\n"
     ]
    }
   ],
   "source": [
    "a={\n",
    "    \"brand\":\"ford\",\n",
    "    \"model\":\"mustang\",\n",
    "    \"colors\":\"red\"\n",
    "}\n",
    "print(type(a))"
   ]
  },
  {
   "cell_type": "markdown",
   "id": "534b79f1",
   "metadata": {},
   "source": [
    "# Accessing Items\n",
    "- You can access the items of a dictionary by referring to its key name, inside square brackets:"
   ]
  },
  {
   "cell_type": "code",
   "execution_count": 6,
   "id": "1fe738f5",
   "metadata": {},
   "outputs": [
    {
     "name": "stdout",
     "output_type": "stream",
     "text": [
      "mustang\n"
     ]
    }
   ],
   "source": [
    "b={\n",
    "    \"brand\":\"ford\",\n",
    "    \"model\":\"mustang\",\n",
    "    \"colors\":\"red\"\n",
    "}\n",
    "x=b[\"model\"]\n",
    "x=b.get(\"model\")\n",
    "print(x)"
   ]
  },
  {
   "cell_type": "markdown",
   "id": "7b23125d",
   "metadata": {},
   "source": [
    "# Get Keys\n",
    "- The keys() method will return a list of all the keys in the dictionary."
   ]
  },
  {
   "cell_type": "code",
   "execution_count": 12,
   "id": "12969ca4",
   "metadata": {},
   "outputs": [
    {
     "name": "stdout",
     "output_type": "stream",
     "text": [
      "{'colors': 'red', 'model': 'yellow'}\n"
     ]
    }
   ],
   "source": [
    "c={\n",
    "    \"colors\":\"orange\",\n",
    "    \"model\":\"yellow\",\n",
    "    \"colors\":\"red\"\n",
    "}\n",
    "# x=a.keys()\n",
    "print(c)"
   ]
  },
  {
   "cell_type": "markdown",
   "id": "7981645c",
   "metadata": {},
   "source": [
    "# The list of the keys is a view of the dictionary, meaning that any changes done to the dictionary will be reflected in the keys list.\n",
    "\n"
   ]
  },
  {
   "cell_type": "code",
   "execution_count": 24,
   "id": "0b705d52",
   "metadata": {},
   "outputs": [
    {
     "name": "stdout",
     "output_type": "stream",
     "text": [
      "dict_keys(['brand', 'model', 'year'])\n",
      "dict_keys(['brand', 'model', 'year', 'color'])\n"
     ]
    }
   ],
   "source": [
    "car ={\n",
    "    \"brand\":\"ford\",\n",
    "    \"model\":\"mustang\",\n",
    "    \"year\":1964\n",
    "}\n",
    "x=car.keys()\n",
    "print(x)\n",
    "car[\"color\"]=\"white\"\n",
    "print(x)"
   ]
  },
  {
   "cell_type": "markdown",
   "id": "565edbc1",
   "metadata": {},
   "source": [
    "# Get Values\n",
    "- The values() method will return a list of all the values in the dictionary.\n",
    "\n"
   ]
  },
  {
   "cell_type": "code",
   "execution_count": 26,
   "id": "05ac0f32",
   "metadata": {},
   "outputs": [
    {
     "name": "stdout",
     "output_type": "stream",
     "text": [
      "dict_values(['ford', 'mustang', 1964])\n"
     ]
    }
   ],
   "source": [
    "a={\n",
    "    \"brand\":\"ford\",\n",
    "    \"model\":\"mustang\",\n",
    "    \"year\":1964\n",
    "}\n",
    "x=a.values()\n",
    "print(x)"
   ]
  },
  {
   "cell_type": "markdown",
   "id": "2fa95c04",
   "metadata": {},
   "source": [
    "# Make a change in the original dictionary, and see that the values list gets updated as well:\n",
    "\n"
   ]
  },
  {
   "cell_type": "code",
   "execution_count": 28,
   "id": "11f8912b",
   "metadata": {},
   "outputs": [
    {
     "name": "stdout",
     "output_type": "stream",
     "text": [
      "dict_values(['ford', 'mustang', 2020])\n",
      "dict_values(['ford', 'mustang', '2022'])\n"
     ]
    }
   ],
   "source": [
    "a={\n",
    "    \"brand\":\"ford\",\n",
    "    \"model\":\"mustang\",\n",
    "    \"year\":2020\n",
    "}\n",
    "x=a.values()\n",
    "print(x)\n",
    "a[\"year\"]=\"2022\"\n",
    "print(x)"
   ]
  },
  {
   "cell_type": "markdown",
   "id": "64fbd375",
   "metadata": {},
   "source": [
    "# Get Items\n",
    "- The items() method will return each item in a dictionary, as tuples in a list.\n",
    "\n"
   ]
  },
  {
   "cell_type": "code",
   "execution_count": 29,
   "id": "3569044b",
   "metadata": {},
   "outputs": [
    {
     "name": "stdout",
     "output_type": "stream",
     "text": [
      "dict_items([('brand', 'ford'), ('model', 'mustang'), ('year', 2020)])\n"
     ]
    }
   ],
   "source": [
    "thisdict={\n",
    "    \"brand\":\"ford\",\n",
    "    \"model\":\"mustang\",\n",
    "    \"year\":2020\n",
    "}\n",
    "x=thisdict.items()\n",
    "print(x)"
   ]
  },
  {
   "cell_type": "markdown",
   "id": "70909399",
   "metadata": {},
   "source": [
    "# Check if Key Exists\n",
    "- To determine if a specified key is present in a dictionary use the in keyword:"
   ]
  },
  {
   "cell_type": "code",
   "execution_count": 30,
   "id": "de845b50",
   "metadata": {},
   "outputs": [
    {
     "name": "stdout",
     "output_type": "stream",
     "text": [
      "Yes, 'model' is the one of the keys in the a dictionary\n"
     ]
    }
   ],
   "source": [
    "a={\n",
    "    \"brand\":\"ford\",\n",
    "    \"model\":\"mustang\",\n",
    "    \"year\":1920\n",
    "}\n",
    "if \"model\" in a:\n",
    "    print(\"Yes, 'model' is the one of the keys in the a dictionary\")\n",
    "    "
   ]
  },
  {
   "cell_type": "markdown",
   "id": "1d135e71",
   "metadata": {},
   "source": [
    "# Change Values\n",
    "- You can change the value of a specific item by referring to its key name:\n",
    "\n"
   ]
  },
  {
   "cell_type": "code",
   "execution_count": 32,
   "id": "6a27b2c8",
   "metadata": {},
   "outputs": [
    {
     "ename": "SyntaxError",
     "evalue": "invalid syntax (3122185571.py, line 4)",
     "output_type": "error",
     "traceback": [
      "\u001b[1;36m  Input \u001b[1;32mIn [32]\u001b[1;36m\u001b[0m\n\u001b[1;33m    \"year\":1920\u001b[0m\n\u001b[1;37m          ^\u001b[0m\n\u001b[1;31mSyntaxError\u001b[0m\u001b[1;31m:\u001b[0m invalid syntax\n"
     ]
    }
   ],
   "source": [
    "a={\n",
    "    \"brand\":\"ford\",\n",
    "    \"model\":\"mustang\"\n",
    "    \"year\":1920\n",
    "}\n",
    "a[\"year\"]=2018\n",
    "print(a)"
   ]
  },
  {
   "cell_type": "code",
   "execution_count": 34,
   "id": "c1478149",
   "metadata": {},
   "outputs": [
    {
     "name": "stdout",
     "output_type": "stream",
     "text": [
      "{'brand': 'ford', 'model': 'mustang', 'year': 2018}\n"
     ]
    }
   ],
   "source": [
    "a={\n",
    "    \"brand\":\"ford\",\n",
    "    \"model\":\"mustang\",\n",
    "    \"year\":1920\n",
    "}\n",
    "a[\"year\"]=2018\n",
    "print(a)"
   ]
  },
  {
   "cell_type": "markdown",
   "id": "dc4f76df",
   "metadata": {},
   "source": [
    "# Update Dictionary\n",
    "- The update() method will update the dictionary with the items from the given argument.\n",
    "\n",
    "- The argument must be a dictionary, or an iterable object with key:value pairs."
   ]
  },
  {
   "cell_type": "code",
   "execution_count": 40,
   "id": "be1d70e9",
   "metadata": {},
   "outputs": [
    {
     "name": "stdout",
     "output_type": "stream",
     "text": [
      "{'brand': 'ford', 'model': 'mustang', 'year': 2020}\n"
     ]
    }
   ],
   "source": [
    "a={\n",
    "    \"brand\":\"ford\",\n",
    "    \"model\":\"mustang\",\n",
    "    \"year\":1920\n",
    "}\n",
    "a.update({\"year\":2020})\n",
    "print(a)"
   ]
  },
  {
   "cell_type": "markdown",
   "id": "10b61bc5",
   "metadata": {},
   "source": [
    "# Adding Items\n",
    "- Adding an item to the dictionary is done by using a new index key and assigning a value to it:\n",
    "\n"
   ]
  },
  {
   "cell_type": "code",
   "execution_count": 41,
   "id": "c6dcded7",
   "metadata": {},
   "outputs": [
    {
     "name": "stdout",
     "output_type": "stream",
     "text": [
      "{'brand': 'ford', 'model': 'mustang', 'year': 1920, 'color': 'red'}\n"
     ]
    }
   ],
   "source": [
    "a={\n",
    "    \"brand\":\"ford\",\n",
    "    \"model\":\"mustang\",\n",
    "    \"year\":1920\n",
    "}\n",
    "a[\"color\"]=\"red\"\n",
    "print(a)"
   ]
  },
  {
   "cell_type": "markdown",
   "id": "b8290adb",
   "metadata": {},
   "source": [
    "# Update Dictionary\n",
    "- The update() method will update the dictionary with the items from a given argument. If the item does not exist, the item will be added.\n",
    "\n",
    "- The argument must be a dictionary, or an iterable object with key:value pairs."
   ]
  },
  {
   "cell_type": "code",
   "execution_count": 42,
   "id": "90a4ac8c",
   "metadata": {},
   "outputs": [
    {
     "name": "stdout",
     "output_type": "stream",
     "text": [
      "{'brand': 'ford', 'model': 'mustang', 'year': 1920, 'color': 'red'}\n"
     ]
    }
   ],
   "source": [
    "a={\n",
    "    \"brand\":\"ford\",\n",
    "    \"model\":\"mustang\",\n",
    "    \"year\":1920\n",
    "}\n",
    "a.update({\"color\":\"red\"})\n",
    "print(a)"
   ]
  },
  {
   "cell_type": "markdown",
   "id": "7cc05610",
   "metadata": {},
   "source": [
    "# Removing Items\n",
    "- There are several methods to remove items from a dictionary:"
   ]
  },
  {
   "cell_type": "code",
   "execution_count": 43,
   "id": "b6928809",
   "metadata": {},
   "outputs": [
    {
     "name": "stdout",
     "output_type": "stream",
     "text": [
      "{'brand': 'kia', 'year': 1920}\n"
     ]
    }
   ],
   "source": [
    "d={\n",
    "    \"brand\":\"kia\",\n",
    "    \"model\":\"mustang\",\n",
    "    \"year\":1920\n",
    "}\n",
    "d.pop(\"model\")\n",
    "print(d)"
   ]
  },
  {
   "cell_type": "code",
   "execution_count": 44,
   "id": "7e2dbbae",
   "metadata": {},
   "outputs": [
    {
     "name": "stdout",
     "output_type": "stream",
     "text": [
      "{'brand': 'kia', 'model': 'mustang'}\n"
     ]
    }
   ],
   "source": [
    "a={\n",
    "    \"brand\":\"kia\",\n",
    "    \"model\":\"mustang\",\n",
    "    \"year\":2020\n",
    "}\n",
    "a.popitem()\n",
    "print(a)"
   ]
  },
  {
   "cell_type": "markdown",
   "id": "d588ac5b",
   "metadata": {},
   "source": [
    "# The del keyword removes the item with the specified key name:"
   ]
  },
  {
   "cell_type": "code",
   "execution_count": 46,
   "id": "a02c77b3",
   "metadata": {},
   "outputs": [
    {
     "name": "stdout",
     "output_type": "stream",
     "text": [
      "{'brand': 'ford', 'year': 1999}\n"
     ]
    }
   ],
   "source": [
    "a={\n",
    "    \"brand\":\"ford\",\n",
    "    \"model\":\"mustang\",\n",
    "    \"year\":1999\n",
    "}\n",
    "del a[\"model\"]\n",
    "print(a)"
   ]
  },
  {
   "cell_type": "code",
   "execution_count": 47,
   "id": "dd99473f",
   "metadata": {},
   "outputs": [
    {
     "name": "stdout",
     "output_type": "stream",
     "text": [
      "{}\n"
     ]
    }
   ],
   "source": [
    "# The clear() method empties the dictionary:\n",
    "a={\n",
    "    \"model\":\"mustang\",\n",
    "    \"brand\":\"ford\",\n",
    "    \"year\":1978\n",
    "}\n",
    "a.clear()\n",
    "print(a)"
   ]
  },
  {
   "cell_type": "markdown",
   "id": "65836856",
   "metadata": {},
   "source": [
    "# Loop Through a Dictionary\n",
    "- You can loop through a dictionary by using a for loop.\n",
    "\n",
    "- When looping through a dictionary, the return value are the keys of the dictionary, but there are methods to return the values as well."
   ]
  },
  {
   "cell_type": "code",
   "execution_count": 1,
   "id": "e6867c4b",
   "metadata": {},
   "outputs": [
    {
     "name": "stdout",
     "output_type": "stream",
     "text": [
      "brand\n",
      "model\n",
      "year\n"
     ]
    }
   ],
   "source": [
    "a={\n",
    "    \"brand\":\"ford\",\n",
    "    \"model\":\"mustang\",\n",
    "    \"year\":1940\n",
    "}\n",
    "for x in a:\n",
    "    print(x)"
   ]
  },
  {
   "cell_type": "markdown",
   "id": "ed53f350",
   "metadata": {},
   "source": [
    "# Print all values in the dictionary, one by one:"
   ]
  },
  {
   "cell_type": "code",
   "execution_count": 3,
   "id": "3a74d797",
   "metadata": {},
   "outputs": [
    {
     "name": "stdout",
     "output_type": "stream",
     "text": [
      "ford\n",
      "mustang\n",
      "1940\n"
     ]
    }
   ],
   "source": [
    "a={\n",
    "    \"brand\":\"ford\",\n",
    "    \"model\":\"mustang\",\n",
    "    \"year\":1940\n",
    "}\n",
    "for x in a:\n",
    "    print(a[x])"
   ]
  },
  {
   "cell_type": "markdown",
   "id": "1609ba0d",
   "metadata": {},
   "source": [
    "# You can also use the values() method to return values of a dictionary:"
   ]
  },
  {
   "cell_type": "code",
   "execution_count": 21,
   "id": "0161df70",
   "metadata": {},
   "outputs": [
    {
     "name": "stdout",
     "output_type": "stream",
     "text": [
      "ford\n",
      "mustang\n",
      "1940\n"
     ]
    }
   ],
   "source": [
    "a={\n",
    "    \"brand\":\"ford\",\n",
    "    \"model\":\"mustang\",\n",
    "    \"year\":1940\n",
    "}\n",
    "for x in a.values():\n",
    "    print(x)"
   ]
  },
  {
   "cell_type": "markdown",
   "id": "a53d102d",
   "metadata": {},
   "source": [
    "# You can use the keys() method to return the keys of a dictionary:\n",
    "\n"
   ]
  },
  {
   "cell_type": "code",
   "execution_count": 22,
   "id": "b2e7e823",
   "metadata": {},
   "outputs": [
    {
     "name": "stdout",
     "output_type": "stream",
     "text": [
      "brand ford\n",
      "model mustang\n",
      "year 1940\n"
     ]
    }
   ],
   "source": [
    "a={\n",
    "    \"brand\":\"ford\",\n",
    "    \"model\":\"mustang\",\n",
    "    \"year\":1940\n",
    "}\n",
    "for x, y in a.items():\n",
    "    print(x,y) "
   ]
  },
  {
   "cell_type": "markdown",
   "id": "ce7f26fd",
   "metadata": {},
   "source": [
    "# Copy a Dictionary\n",
    "- You cannot copy a dictionary simply by typing dict2 = dict1, because: dict2 will only be a reference to dict1, and changes made in dict1 will automatically also be made in dict2.\n",
    "\n",
    "- There are ways to make a copy, one way is to use the built-in Dictionary method copy()."
   ]
  },
  {
   "cell_type": "code",
   "execution_count": 23,
   "id": "ce10030d",
   "metadata": {},
   "outputs": [
    {
     "name": "stdout",
     "output_type": "stream",
     "text": [
      "{'brand': 'ford', 'model': 'mustang', 'year': 1940}\n"
     ]
    }
   ],
   "source": [
    "a={\n",
    "    \"brand\":\"ford\",\n",
    "    \"model\":\"mustang\",\n",
    "    \"year\":1940\n",
    "}\n",
    "a=a.copy()\n",
    "print(a)"
   ]
  },
  {
   "cell_type": "code",
   "execution_count": 24,
   "id": "d93fb9cd",
   "metadata": {},
   "outputs": [
    {
     "name": "stdout",
     "output_type": "stream",
     "text": [
      "{'brand': 'ford', 'model': 'mustang', 'year': 1940}\n"
     ]
    }
   ],
   "source": [
    "# Make a copy of a dictionary with the dict() function:\n",
    "a={\n",
    "    \"brand\":\"ford\",\n",
    "    \"model\":\"mustang\",\n",
    "    \"year\":1940\n",
    "}\n",
    "a=dict(a)\n",
    "print(a)"
   ]
  },
  {
   "cell_type": "code",
   "execution_count": 25,
   "id": "ba67b608",
   "metadata": {},
   "outputs": [
    {
     "ename": "NameError",
     "evalue": "name 'family' is not defined",
     "output_type": "error",
     "traceback": [
      "\u001b[1;31m---------------------------------------------------------------------------\u001b[0m",
      "\u001b[1;31mNameError\u001b[0m                                 Traceback (most recent call last)",
      "Input \u001b[1;32mIn [25]\u001b[0m, in \u001b[0;36m<cell line: 15>\u001b[1;34m()\u001b[0m\n\u001b[0;32m      1\u001b[0m myfamily \u001b[38;5;241m=\u001b[39m {\n\u001b[0;32m      2\u001b[0m   \u001b[38;5;124m\"\u001b[39m\u001b[38;5;124mchild1\u001b[39m\u001b[38;5;124m\"\u001b[39m : {\n\u001b[0;32m      3\u001b[0m     \u001b[38;5;124m\"\u001b[39m\u001b[38;5;124mname\u001b[39m\u001b[38;5;124m\"\u001b[39m : \u001b[38;5;124m\"\u001b[39m\u001b[38;5;124mEmil\u001b[39m\u001b[38;5;124m\"\u001b[39m,\n\u001b[1;32m   (...)\u001b[0m\n\u001b[0;32m     13\u001b[0m   }\n\u001b[0;32m     14\u001b[0m }\n\u001b[1;32m---> 15\u001b[0m \u001b[38;5;28mprint\u001b[39m(\u001b[43mfamily\u001b[49m)\n",
      "\u001b[1;31mNameError\u001b[0m: name 'family' is not defined"
     ]
    }
   ],
   "source": [
    "myfamily = {\n",
    "  \"child1\" : {\n",
    "    \"name\" : \"Emil\",\n",
    "    \"year\" : 2004\n",
    "  },\n",
    "  \"child2\" : {\n",
    "    \"name\" : \"Tobias\",\n",
    "    \"year\" : 2007\n",
    "  },\n",
    "  \"child3\" : {\n",
    "    \"name\" : \"Linus\",\n",
    "    \"year\" : 2011\n",
    "  }\n",
    "}\n",
    "print(family)"
   ]
  },
  {
   "cell_type": "code",
   "execution_count": 26,
   "id": "0df33675",
   "metadata": {},
   "outputs": [
    {
     "name": "stdout",
     "output_type": "stream",
     "text": [
      "{'child1': {'name': 'Emil', 'year': 2004}, 'child2': {'name': 'Tobias', 'year': 2007}, 'child3': {'name': 'Linus', 'year': 2011}}\n"
     ]
    }
   ],
   "source": [
    "myfamily = {\n",
    "  \"child1\" : {\n",
    "    \"name\" : \"Emil\",\n",
    "    \"year\" : 2004\n",
    "  },\n",
    "  \"child2\" : {\n",
    "    \"name\" : \"Tobias\",\n",
    "    \"year\" : 2007\n",
    "  },\n",
    "  \"child3\" : {\n",
    "    \"name\" : \"Linus\",\n",
    "    \"year\" : 2011\n",
    "  }\n",
    "}\n",
    "print(myfamily)"
   ]
  },
  {
   "cell_type": "code",
   "execution_count": 27,
   "id": "bcf62b14",
   "metadata": {},
   "outputs": [
    {
     "name": "stdout",
     "output_type": "stream",
     "text": [
      "{'child1': {'name': 'Emil', 'year': 2004}, 'child2': {'name': 'Tobias', 'year': 2007}, 'child3': {'name': 'Linus', 'year': 2011}}\n"
     ]
    }
   ],
   "source": [
    "child1 = {\n",
    "  \"name\" : \"Emil\",\n",
    "  \"year\" : 2004\n",
    "}\n",
    "child2 = {\n",
    "  \"name\" : \"Tobias\",\n",
    "  \"year\" : 2007\n",
    "}\n",
    "child3 = {\n",
    "  \"name\" : \"Linus\",\n",
    "  \"year\" : 2011\n",
    "}\n",
    "\n",
    "myfamily = {\n",
    "  \"child1\" : child1,\n",
    "  \"child2\" : child2,\n",
    "  \"child3\" : child3\n",
    "}\n",
    "print(myfamily)"
   ]
  },
  {
   "cell_type": "code",
   "execution_count": 28,
   "id": "52676502",
   "metadata": {},
   "outputs": [
    {
     "name": "stdout",
     "output_type": "stream",
     "text": [
      "{}\n"
     ]
    }
   ],
   "source": [
    "a={\n",
    "    \"brand\":\"ford\",\n",
    "    \"model\":\"mustang\",\n",
    "    \"year\":1940\n",
    "}\n",
    "a.clear()\n",
    "print(a)"
   ]
  },
  {
   "cell_type": "code",
   "execution_count": 31,
   "id": "cc725c95",
   "metadata": {},
   "outputs": [
    {
     "name": "stdout",
     "output_type": "stream",
     "text": [
      "{'brand': 'ford', 'model': 'mustang', 'year': 1940}\n"
     ]
    }
   ],
   "source": [
    "a={\n",
    "    \"brand\":\"ford\",\n",
    "    \"model\":\"mustang\",\n",
    "    \"year\":1940\n",
    "}\n",
    "a.copy()\n",
    "print(a)"
   ]
  },
  {
   "cell_type": "code",
   "execution_count": 32,
   "id": "8b70c7c0",
   "metadata": {},
   "outputs": [
    {
     "name": "stdout",
     "output_type": "stream",
     "text": [
      "{'child1': {'name': 'Emil', 'year': 2004}, 'child2': {'name': 'Tobias', 'year': 2007}, 'child3': {'name': 'Linus', 'year': 2011}}\n"
     ]
    }
   ],
   "source": [
    "myfamily = {\n",
    "  \"child1\" : {\n",
    "    \"name\" : \"Emil\",\n",
    "    \"year\" : 2004\n",
    "  },\n",
    "  \"child2\" : {\n",
    "    \"name\" : \"Tobias\",\n",
    "    \"year\" : 2007\n",
    "  },\n",
    "  \"child3\" : {\n",
    "    \"name\" : \"Linus\",\n",
    "    \"year\" : 2011\n",
    "  }\n",
    "}\n",
    "print(myfamily)"
   ]
  },
  {
   "cell_type": "code",
   "execution_count": 34,
   "id": "e7519630",
   "metadata": {},
   "outputs": [
    {
     "name": "stdout",
     "output_type": "stream",
     "text": [
      "{'child1': {'name': 'emil', 'year': 2004}, 'child2': {'name': 'tofi', 'year': 2006}, 'child3': {'name': 'sofi', 'year': 2007}}\n"
     ]
    }
   ],
   "source": [
    "child1={\n",
    "    \"name\":\"emil\",\n",
    "    \"year\":2004\n",
    "}\n",
    "child2={\n",
    "    \"name\":\"tofi\",\n",
    "    \"year\":2006\n",
    "}\n",
    "child3={\n",
    "    \"name\":\"sofi\",\n",
    "    \"year\":2007\n",
    "}\n",
    "\n",
    "myfamily={\n",
    "    \"child1\":child1,\n",
    "    \"child2\":child2,\n",
    "    \"child3\":child3\n",
    "}\n",
    "print(myfamily)"
   ]
  },
  {
   "cell_type": "code",
   "execution_count": null,
   "id": "22a7c84c",
   "metadata": {},
   "outputs": [],
   "source": []
  }
 ],
 "metadata": {
  "kernelspec": {
   "display_name": "Python 3 (ipykernel)",
   "language": "python",
   "name": "python3"
  },
  "language_info": {
   "codemirror_mode": {
    "name": "ipython",
    "version": 3
   },
   "file_extension": ".py",
   "mimetype": "text/x-python",
   "name": "python",
   "nbconvert_exporter": "python",
   "pygments_lexer": "ipython3",
   "version": "3.10.4"
  }
 },
 "nbformat": 4,
 "nbformat_minor": 5
}
