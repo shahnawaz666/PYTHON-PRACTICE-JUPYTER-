{
 "cells": [
  {
   "cell_type": "code",
   "execution_count": 3,
   "id": "afd3c9dd",
   "metadata": {},
   "outputs": [
    {
     "name": "stdout",
     "output_type": "stream",
     "text": [
      "<class 'tuple'>\n"
     ]
    }
   ],
   "source": [
    "a=('apple',)\n",
    "print(type(a))"
   ]
  },
  {
   "cell_type": "code",
   "execution_count": 4,
   "id": "308b38a1",
   "metadata": {},
   "outputs": [
    {
     "name": "stdout",
     "output_type": "stream",
     "text": [
      "('apple', 'cherry', 'banana')\n"
     ]
    }
   ],
   "source": [
    "a=('apple','cherry','banana')\n",
    "print(a)"
   ]
  },
  {
   "cell_type": "code",
   "execution_count": 8,
   "id": "3130b5d7",
   "metadata": {},
   "outputs": [
    {
     "ename": "AttributeError",
     "evalue": "'tuple' object has no attribute 'insert'",
     "output_type": "error",
     "traceback": [
      "\u001b[1;31m---------------------------------------------------------------------------\u001b[0m",
      "\u001b[1;31mAttributeError\u001b[0m                            Traceback (most recent call last)",
      "Input \u001b[1;32mIn [8]\u001b[0m, in \u001b[0;36m<cell line: 2>\u001b[1;34m()\u001b[0m\n\u001b[0;32m      1\u001b[0m a\u001b[38;5;241m=\u001b[39m(\u001b[38;5;241m1\u001b[39m,\u001b[38;5;241m2\u001b[39m,\u001b[38;5;241m3\u001b[39m,\u001b[38;5;241m4\u001b[39m,\u001b[38;5;241m5\u001b[39m)\n\u001b[1;32m----> 2\u001b[0m x\u001b[38;5;241m=\u001b[39m\u001b[43ma\u001b[49m\u001b[38;5;241;43m.\u001b[39;49m\u001b[43minsert\u001b[49m()\n\u001b[0;32m      3\u001b[0m \u001b[38;5;28mprint\u001b[39m(x)\n",
      "\u001b[1;31mAttributeError\u001b[0m: 'tuple' object has no attribute 'insert'"
     ]
    }
   ],
   "source": [
    "a=(1,2,3,4,5)\n",
    "x=a.insert()\n",
    "print(x)"
   ]
  },
  {
   "cell_type": "code",
   "execution_count": 10,
   "id": "a67f7abd",
   "metadata": {},
   "outputs": [
    {
     "name": "stdout",
     "output_type": "stream",
     "text": [
      "('apple', 'cherry', 'banana')\n"
     ]
    }
   ],
   "source": [
    "a=tuple((\"apple\",\"cherry\",\"banana\"))\n",
    "print(a)"
   ]
  },
  {
   "cell_type": "code",
   "execution_count": 14,
   "id": "40b622e4",
   "metadata": {},
   "outputs": [
    {
     "name": "stdout",
     "output_type": "stream",
     "text": [
      "banana\n"
     ]
    }
   ],
   "source": [
    "a=(\"apple\",\"banana\",\"cherry\")\n",
    "x=a[1]\n",
    "print(x)"
   ]
  },
  {
   "cell_type": "code",
   "execution_count": 7,
   "id": "5e8c4d6e",
   "metadata": {},
   "outputs": [
    {
     "name": "stdout",
     "output_type": "stream",
     "text": [
      "mango\n",
      "anaar\n",
      "('cherry', 'fig')\n",
      "('cherry', 'fig')\n",
      "('anaar', 'mango')\n",
      "('apple', 'banana', 'cherry', 'fig')\n"
     ]
    }
   ],
   "source": [
    "a=(\"apple\",\"banana\",\"cherry\",\"fig\",\"anaar\",\"mango\")\n",
    "print(a[-1])\n",
    "print(a[-2])\n",
    "print(a[-4:-2])\n",
    "print(a[2:4])\n",
    "print(a[4:])\n",
    "print(a[:4])"
   ]
  },
  {
   "cell_type": "code",
   "execution_count": 10,
   "id": "068c7560",
   "metadata": {},
   "outputs": [],
   "source": [
    "a=(\"apple\",\"cherrry\",\"hfdb\",\"jhbv\")\n",
    "if \"mango\" in a:\n",
    "    print(\"yes, mango is present\")"
   ]
  },
  {
   "cell_type": "code",
   "execution_count": 43,
   "id": "c6449dc4",
   "metadata": {},
   "outputs": [
    {
     "ename": "TypeError",
     "evalue": "list indices must be integers or slices, not tuple",
     "output_type": "error",
     "traceback": [
      "\u001b[1;31m---------------------------------------------------------------------------\u001b[0m",
      "\u001b[1;31mTypeError\u001b[0m                                 Traceback (most recent call last)",
      "Input \u001b[1;32mIn [43]\u001b[0m, in \u001b[0;36m<cell line: 3>\u001b[1;34m()\u001b[0m\n\u001b[0;32m      1\u001b[0m a\u001b[38;5;241m=\u001b[39m(\u001b[38;5;124m\"\u001b[39m\u001b[38;5;124mapple\u001b[39m\u001b[38;5;124m\"\u001b[39m,\u001b[38;5;124m\"\u001b[39m\u001b[38;5;124mcherry\u001b[39m\u001b[38;5;124m\"\u001b[39m,\u001b[38;5;124m\"\u001b[39m\u001b[38;5;124mbanana\u001b[39m\u001b[38;5;124m\"\u001b[39m)\n\u001b[0;32m      2\u001b[0m x\u001b[38;5;241m=\u001b[39m\u001b[38;5;28mlist\u001b[39m(a)\n\u001b[1;32m----> 3\u001b[0m x[\u001b[38;5;241m2\u001b[39m,\u001b[38;5;241m3\u001b[39m,\u001b[38;5;241m4\u001b[39m]\u001b[38;5;241m=\u001b[39m[\u001b[38;5;124m\"\u001b[39m\u001b[38;5;124mkiwi\u001b[39m\u001b[38;5;124m\"\u001b[39m,\u001b[38;5;124m\"\u001b[39m\u001b[38;5;124manaar\u001b[39m\u001b[38;5;124m\"\u001b[39m,\u001b[38;5;124m\"\u001b[39m\u001b[38;5;124mmango\u001b[39m\u001b[38;5;124m\"\u001b[39m]\n\u001b[0;32m      4\u001b[0m a\u001b[38;5;241m=\u001b[39m\u001b[38;5;28mtuple\u001b[39m(x)\n\u001b[0;32m      5\u001b[0m \u001b[38;5;28mprint\u001b[39m(a)\n",
      "\u001b[1;31mTypeError\u001b[0m: list indices must be integers or slices, not tuple"
     ]
    }
   ],
   "source": [
    "a=(\"apple\",\"cherry\",\"banana\")\n",
    "x=list(a)\n",
    "x[2,3,4]=[\"kiwi\",\"anaar\",\"mango\"]\n",
    "a=tuple(x)\n",
    "print(a)"
   ]
  },
  {
   "cell_type": "code",
   "execution_count": 15,
   "id": "84075477",
   "metadata": {},
   "outputs": [
    {
     "name": "stdout",
     "output_type": "stream",
     "text": [
      "first\n",
      "second\n",
      "third\n"
     ]
    }
   ],
   "source": [
    "def firstfunc():\n",
    "    print(\"first\")\n",
    "    secondfunc()\n",
    "def secondfunc():\n",
    "    print(\"second\")\n",
    "    thirdfunc()\n",
    "def thirdfunc():\n",
    "    print(\"third\")\n",
    "firstfunc()"
   ]
  },
  {
   "cell_type": "code",
   "execution_count": 29,
   "id": "7421192c",
   "metadata": {},
   "outputs": [
    {
     "name": "stdout",
     "output_type": "stream",
     "text": [
      "('apple', 1, 'cherry', 'banana', 'lollipop')\n"
     ]
    }
   ],
   "source": [
    "a=(\"apple\",1,\"cherry\",\"banana\")\n",
    "x=list(a)\n",
    "x.append(\"lollipop\")\n",
    "a=tuple(x)\n",
    "print(a)"
   ]
  },
  {
   "cell_type": "code",
   "execution_count": 47,
   "id": "2e77744e",
   "metadata": {},
   "outputs": [
    {
     "name": "stdout",
     "output_type": "stream",
     "text": [
      "('f', 'i', 'g', 'apple', 'cherry', 'banana')\n"
     ]
    }
   ],
   "source": [
    "a=(\"apple\",\"cherry\",\"banana\")\n",
    "x=list(\"fig\")\n",
    "x.extend(a)\n",
    "a=tuple(x)\n",
    "print(a)"
   ]
  },
  {
   "cell_type": "code",
   "execution_count": 50,
   "id": "5512ae79",
   "metadata": {},
   "outputs": [
    {
     "name": "stdout",
     "output_type": "stream",
     "text": [
      "('apple', 'cherry', 'banana', 'fig')\n"
     ]
    }
   ],
   "source": [
    "a=(\"apple\",\"cherry\",\"banana\")\n",
    "x=(\"fig\",)\n",
    "a+=x\n",
    "print(a)"
   ]
  },
  {
   "cell_type": "code",
   "execution_count": 53,
   "id": "f3e86381",
   "metadata": {},
   "outputs": [
    {
     "name": "stdout",
     "output_type": "stream",
     "text": [
      "6\n"
     ]
    }
   ],
   "source": [
    "a=(1,2,3,4,3,3,3,3,3,4,2,5,6,7)\n",
    "x=a.count(3)\n",
    "print(x)"
   ]
  },
  {
   "cell_type": "code",
   "execution_count": 55,
   "id": "14a3998a",
   "metadata": {},
   "outputs": [
    {
     "name": "stdout",
     "output_type": "stream",
     "text": [
      "13\n"
     ]
    }
   ],
   "source": [
    "a=(1,2,3,4,3,3,3,3,3,4,2,5,6,7)\n",
    "x=a.index(7)\n",
    "print(x)"
   ]
  },
  {
   "cell_type": "code",
   "execution_count": 60,
   "id": "37fa8c0c",
   "metadata": {},
   "outputs": [
    {
     "name": "stdout",
     "output_type": "stream",
     "text": [
      "banana\n",
      "cherry\n",
      "apple\n"
     ]
    }
   ],
   "source": [
    "a={\"apple\",\"cherry\",\"banana\"}\n",
    "for x in a:\n",
    "    print(x)"
   ]
  },
  {
   "cell_type": "code",
   "execution_count": 62,
   "id": "926f06c9",
   "metadata": {},
   "outputs": [
    {
     "name": "stdout",
     "output_type": "stream",
     "text": [
      "True\n",
      "False\n"
     ]
    }
   ],
   "source": [
    "a={\"apple\",\"cherry\",\"banana\"}\n",
    "print(\"cherry\" in a)\n",
    "print(\"mango\" in a)"
   ]
  },
  {
   "cell_type": "code",
   "execution_count": 63,
   "id": "1e98f5d9",
   "metadata": {},
   "outputs": [
    {
     "name": "stdout",
     "output_type": "stream",
     "text": [
      "{'banana', 'cherry', 'apple', 'mango'}\n"
     ]
    }
   ],
   "source": [
    "a={\"apple\",\"cherry\",\"banana\"}\n",
    "a.add(\"mango\")\n",
    "print(a)"
   ]
  },
  {
   "cell_type": "code",
   "execution_count": 66,
   "id": "8038cab1",
   "metadata": {},
   "outputs": [
    {
     "name": "stdout",
     "output_type": "stream",
     "text": [
      "['apple', 'cherry', 'banana', 'mango']\n"
     ]
    }
   ],
   "source": [
    "a=[\"apple\",\"cherry\",\"banana\"]\n",
    "a.append(\"mango\")\n",
    "print(a)"
   ]
  },
  {
   "cell_type": "code",
   "execution_count": 69,
   "id": "cbc9d06a",
   "metadata": {},
   "outputs": [
    {
     "name": "stdout",
     "output_type": "stream",
     "text": [
      "{'banana', 'apple', 'mango', 'fig', 'cherry', 'anar'}\n"
     ]
    }
   ],
   "source": [
    "a={\"apple\",\"cherry\",\"banana\"}\n",
    "b={\"mango\",\"fig\",\"anar\"}\n",
    "a.update(b)\n",
    "print(a)"
   ]
  },
  {
   "cell_type": "code",
   "execution_count": 77,
   "id": "3cb01c82",
   "metadata": {},
   "outputs": [
    {
     "ename": "KeyError",
     "evalue": "'mango'",
     "output_type": "error",
     "traceback": [
      "\u001b[1;31m---------------------------------------------------------------------------\u001b[0m",
      "\u001b[1;31mKeyError\u001b[0m                                  Traceback (most recent call last)",
      "Input \u001b[1;32mIn [77]\u001b[0m, in \u001b[0;36m<cell line: 2>\u001b[1;34m()\u001b[0m\n\u001b[0;32m      1\u001b[0m a\u001b[38;5;241m=\u001b[39m{\u001b[38;5;124m\"\u001b[39m\u001b[38;5;124mapple\u001b[39m\u001b[38;5;124m\"\u001b[39m,\u001b[38;5;124m\"\u001b[39m\u001b[38;5;124mcherry\u001b[39m\u001b[38;5;124m\"\u001b[39m,\u001b[38;5;124m\"\u001b[39m\u001b[38;5;124mbanana\u001b[39m\u001b[38;5;124m\"\u001b[39m}\n\u001b[1;32m----> 2\u001b[0m \u001b[43ma\u001b[49m\u001b[38;5;241;43m.\u001b[39;49m\u001b[43mremove\u001b[49m\u001b[43m(\u001b[49m\u001b[38;5;124;43m\"\u001b[39;49m\u001b[38;5;124;43mmango\u001b[39;49m\u001b[38;5;124;43m\"\u001b[39;49m\u001b[43m)\u001b[49m\n\u001b[0;32m      3\u001b[0m \u001b[38;5;28mprint\u001b[39m(a)\n",
      "\u001b[1;31mKeyError\u001b[0m: 'mango'"
     ]
    }
   ],
   "source": [
    "a={\"apple\",\"cherry\",\"banana\"}\n",
    "a.remove(\"mango\")\n",
    "print(a)"
   ]
  },
  {
   "cell_type": "code",
   "execution_count": 76,
   "id": "954565b8",
   "metadata": {},
   "outputs": [
    {
     "name": "stdout",
     "output_type": "stream",
     "text": [
      "{'banana', 'cherry', 'apple'}\n"
     ]
    }
   ],
   "source": [
    "a={\"apple\",\"cherry\",\"banana\"}\n",
    "a.discard(\"mango\")\n",
    "print(a)"
   ]
  },
  {
   "cell_type": "code",
   "execution_count": 84,
   "id": "5658c1c6",
   "metadata": {},
   "outputs": [
    {
     "ename": "AttributeError",
     "evalue": "'list' object has no attribute 'discard'",
     "output_type": "error",
     "traceback": [
      "\u001b[1;31m---------------------------------------------------------------------------\u001b[0m",
      "\u001b[1;31mAttributeError\u001b[0m                            Traceback (most recent call last)",
      "Input \u001b[1;32mIn [84]\u001b[0m, in \u001b[0;36m<cell line: 2>\u001b[1;34m()\u001b[0m\n\u001b[0;32m      1\u001b[0m a\u001b[38;5;241m=\u001b[39m[\u001b[38;5;124m\"\u001b[39m\u001b[38;5;124mapple\u001b[39m\u001b[38;5;124m\"\u001b[39m,\u001b[38;5;124m\"\u001b[39m\u001b[38;5;124mcherry\u001b[39m\u001b[38;5;124m\"\u001b[39m,\u001b[38;5;124m\"\u001b[39m\u001b[38;5;124mbanana\u001b[39m\u001b[38;5;124m\"\u001b[39m]\n\u001b[1;32m----> 2\u001b[0m \u001b[43ma\u001b[49m\u001b[38;5;241;43m.\u001b[39;49m\u001b[43mdiscard\u001b[49m(\u001b[38;5;124m\"\u001b[39m\u001b[38;5;124mcherry\u001b[39m\u001b[38;5;124m\"\u001b[39m)\n\u001b[0;32m      3\u001b[0m \u001b[38;5;28mprint\u001b[39m(a)\n",
      "\u001b[1;31mAttributeError\u001b[0m: 'list' object has no attribute 'discard'"
     ]
    }
   ],
   "source": [
    "a=[\"apple\",\"cherry\",\"banana\"]\n",
    "a.discard(\"cherry\")\n",
    "print(a)"
   ]
  },
  {
   "cell_type": "code",
   "execution_count": 91,
   "id": "041b419e",
   "metadata": {},
   "outputs": [
    {
     "name": "stdout",
     "output_type": "stream",
     "text": [
      "{'apple'}\n"
     ]
    }
   ],
   "source": [
    "a={\"apple\",\"cherry\",\"banana\"}\n",
    "x=a.pop()\n",
    "x=a.pop()\n",
    "print(a)"
   ]
  },
  {
   "cell_type": "code",
   "execution_count": 92,
   "id": "7263e6bb",
   "metadata": {},
   "outputs": [
    {
     "name": "stdout",
     "output_type": "stream",
     "text": [
      "set()\n"
     ]
    }
   ],
   "source": [
    "a={\"apple\",\"cherry\",\"banana\"}\n",
    "a.clear()\n",
    "print(a)"
   ]
  },
  {
   "cell_type": "code",
   "execution_count": 93,
   "id": "be35aaff",
   "metadata": {},
   "outputs": [
    {
     "ename": "NameError",
     "evalue": "name 'a' is not defined",
     "output_type": "error",
     "traceback": [
      "\u001b[1;31m---------------------------------------------------------------------------\u001b[0m",
      "\u001b[1;31mNameError\u001b[0m                                 Traceback (most recent call last)",
      "Input \u001b[1;32mIn [93]\u001b[0m, in \u001b[0;36m<cell line: 3>\u001b[1;34m()\u001b[0m\n\u001b[0;32m      1\u001b[0m a\u001b[38;5;241m=\u001b[39m{\u001b[38;5;124m\"\u001b[39m\u001b[38;5;124mapple\u001b[39m\u001b[38;5;124m\"\u001b[39m,\u001b[38;5;124m\"\u001b[39m\u001b[38;5;124mcherry\u001b[39m\u001b[38;5;124m\"\u001b[39m,\u001b[38;5;124m\"\u001b[39m\u001b[38;5;124mbanana\u001b[39m\u001b[38;5;124m\"\u001b[39m}\n\u001b[0;32m      2\u001b[0m \u001b[38;5;28;01mdel\u001b[39;00m a\n\u001b[1;32m----> 3\u001b[0m \u001b[38;5;28mprint\u001b[39m(\u001b[43ma\u001b[49m)\n",
      "\u001b[1;31mNameError\u001b[0m: name 'a' is not defined"
     ]
    }
   ],
   "source": [
    "a={\"apple\",\"cherry\",\"banana\"}\n",
    "del a\n",
    "print(a)"
   ]
  },
  {
   "cell_type": "code",
   "execution_count": 100,
   "id": "436cb504",
   "metadata": {},
   "outputs": [
    {
     "name": "stdout",
     "output_type": "stream",
     "text": [
      "{'banana', 1, 'apple', 2, 3, 4, 'cherry'}\n"
     ]
    }
   ],
   "source": [
    "a={\"apple\",\"cherry\",\"banana\"}\n",
    "b={1,2,3,4}\n",
    "c.union(b)\n",
    "print(c)"
   ]
  },
  {
   "cell_type": "code",
   "execution_count": 98,
   "id": "40254683",
   "metadata": {},
   "outputs": [
    {
     "name": "stdout",
     "output_type": "stream",
     "text": [
      "{'banana', 1, 'apple', 2, 3, 4, 5, 6, 'cherry'}\n"
     ]
    }
   ],
   "source": [
    "a={\"apple\",\"cherry\",\"banana\"}\n",
    "b={1,2,3,4,5,6}\n",
    "a.update(b)\n",
    "print(a)"
   ]
  },
  {
   "cell_type": "code",
   "execution_count": 103,
   "id": "eb775ebf",
   "metadata": {},
   "outputs": [
    {
     "name": "stdout",
     "output_type": "stream",
     "text": [
      "{'apple'}\n"
     ]
    }
   ],
   "source": [
    "a={\"apple\",\"cherry\",\"banana\"}\n",
    "y = {\"google\", \"microsoft\", \"apple\"}\n",
    "a.intersection_update(y)\n",
    "print(a)"
   ]
  },
  {
   "cell_type": "code",
   "execution_count": 106,
   "id": "38eaae14",
   "metadata": {},
   "outputs": [
    {
     "name": "stdout",
     "output_type": "stream",
     "text": [
      "{'cherry', 'apple'}\n"
     ]
    }
   ],
   "source": [
    "a={\"apple\",\"fig\",\"cherry\"}\n",
    "b={\"cherry\",\"anaar\",\"apple\"}\n",
    "c=a.intersection(b)\n",
    "print(c)"
   ]
  },
  {
   "cell_type": "code",
   "execution_count": 108,
   "id": "6efc184f",
   "metadata": {},
   "outputs": [
    {
     "name": "stdout",
     "output_type": "stream",
     "text": [
      "{'fig', 'anaar'}\n"
     ]
    }
   ],
   "source": [
    "a={\"apple\",\"fig\",\"cherry\"}\n",
    "b={\"cherry\",\"anaar\",\"apple\"}\n",
    "a.symmetric_difference_update(b)\n",
    "print(a)"
   ]
  },
  {
   "cell_type": "code",
   "execution_count": 109,
   "id": "e1288722",
   "metadata": {
    "scrolled": true
   },
   "outputs": [
    {
     "name": "stdout",
     "output_type": "stream",
     "text": [
      "{'cherry', 'apple', 'fig'}\n"
     ]
    }
   ],
   "source": [
    "a={\"apple\",\"fig\",\"cherry\"}\n",
    "b={\"cherry\",\"anaar\",\"apple\"}\n",
    "a.symmetric_difference(b)\n",
    "print(a)"
   ]
  },
  {
   "cell_type": "markdown",
   "id": "3ca51d08",
   "metadata": {},
   "source": [
    "\n"
   ]
  },
  {
   "cell_type": "markdown",
   "id": "4e1f0c80",
   "metadata": {},
   "source": [
    "Method\tDescription\n",
    "add()\tAdds an element to the set\n",
    "clear()\tRemoves all the elements from the set\n",
    "copy()\tReturns a copy of the set\n",
    "difference()\tReturns a set containing the difference between two or more sets\n",
    "difference_update()\tRemoves the items in this set that are also included in another, specified set\n",
    "discard()\tRemove the specified item\n",
    "intersection()\tReturns a set, that is the intersection of two other sets\n",
    "intersection_update()\tRemoves the items in this set that are not present in other, specified set(s)\n",
    "isdisjoint()\tReturns whether two sets have a intersection or not\n",
    "issubset()\tReturns whether another set contains this set or not\n",
    "issuperset()\tReturns whether this set contains another set or not\n",
    "pop()\tRemoves an element from the set\n",
    "remove()\tRemoves the specified element\n",
    "symmetric_difference()\tReturns a set with the symmetric differences of two sets\n",
    "symmetric_difference_update()\tinserts the symmetric differences from this set and another\n",
    "union()\tReturn a set containing the union of sets\n",
    "update()\tUpdate the set with the union of this set and others\n",
    "\n",
    "ADVERTISEMENT\n",
    "\n",
    "NEW\n",
    "We just"
   ]
  },
  {
   "cell_type": "code",
   "execution_count": 113,
   "id": "be1f1b28",
   "metadata": {},
   "outputs": [
    {
     "name": "stdout",
     "output_type": "stream",
     "text": [
      "True\n"
     ]
    }
   ],
   "source": [
    "a={\"cherry\",\"apple\",\"mango\"}\n",
    "b={\"fig\",\"anaar\"}\n",
    "z=a.isdisjoint(b)\n",
    "print(z)"
   ]
  },
  {
   "cell_type": "code",
   "execution_count": 2,
   "id": "35fd923f",
   "metadata": {},
   "outputs": [
    {
     "name": "stdout",
     "output_type": "stream",
     "text": [
      "False\n"
     ]
    }
   ],
   "source": [
    "a={\"a\",\"q\",\"e\",'r\",\"t\",\"y'\"\"}\n",
    "b={\"q\",\"r\",\"t\",\"f\",\"h\",\"b\",\"a\",\"e\",\"y\"}\n",
    "c=a.issubset(b)\n",
    "print(c)"
   ]
  },
  {
   "cell_type": "code",
   "execution_count": 5,
   "id": "6695aac7",
   "metadata": {},
   "outputs": [
    {
     "name": "stdout",
     "output_type": "stream",
     "text": [
      "True\n"
     ]
    }
   ],
   "source": [
    "a={\"a\",\"q\",\"e\",\"r\",\"t\",\"y\"}\n",
    "b={\"q\",\"r\",\"t\",\"f\",\"h\",\"b\",\"a\",\"e\",\"y\"}\n",
    "c=a.issubset(b)\n",
    "print(c)"
   ]
  },
  {
   "cell_type": "code",
   "execution_count": 7,
   "id": "19e6a172",
   "metadata": {},
   "outputs": [
    {
     "name": "stdout",
     "output_type": "stream",
     "text": [
      "{}\n"
     ]
    }
   ],
   "source": [
    "a={\n",
    "    \"model\":\"mustang\",\n",
    "    \"brand\":\"ford\",\n",
    "    \"year\":1940\n",
    "}\n",
    "a.clear()\n",
    "print(a)"
   ]
  },
  {
   "cell_type": "code",
   "execution_count": 8,
   "id": "91bc49d4",
   "metadata": {},
   "outputs": [
    {
     "name": "stdout",
     "output_type": "stream",
     "text": [
      "{'model': 'mustang', 'brand': 'ford', 'year': 1940}\n"
     ]
    }
   ],
   "source": [
    "a={\n",
    "    \"model\":\"mustang\",\n",
    "    \"brand\":\"ford\",\n",
    "    \"year\":1940\n",
    "}\n",
    "a.copy()\n",
    "print(a)"
   ]
  },
  {
   "cell_type": "code",
   "execution_count": 9,
   "id": "b09a3b1e",
   "metadata": {},
   "outputs": [
    {
     "name": "stdout",
     "output_type": "stream",
     "text": [
      "{'key1': 0, 'key2': 0, 'key3': 0}\n"
     ]
    }
   ],
   "source": [
    "x=(\"key1\",\"key2\",\"key3\")\n",
    "y=0\n",
    "c=dict.fromkeys(x,y)\n",
    "print(c)"
   ]
  },
  {
   "cell_type": "code",
   "execution_count": 17,
   "id": "dcb93c3b",
   "metadata": {},
   "outputs": [
    {
     "name": "stdout",
     "output_type": "stream",
     "text": [
      "{'model': 'mustang', 'brand': 'ford', 'year': 1940}\n"
     ]
    }
   ],
   "source": [
    "a={\n",
    "    \"model\":\"mustang\",\n",
    "    \"brand\":\"ford\",\n",
    "    \"year\":1940\n",
    "}\n",
    "x=a.get(\"model\")\n",
    "a.items()\n",
    "print(a)"
   ]
  },
  {
   "cell_type": "code",
   "execution_count": 19,
   "id": "b00fcfa2",
   "metadata": {},
   "outputs": [
    {
     "name": "stdout",
     "output_type": "stream",
     "text": [
      "dict_items([('model', 'mustang'), ('brand', 'ford'), ('year', 1940)])\n"
     ]
    }
   ],
   "source": [
    "a={\n",
    "    \"model\":\"mustang\",\n",
    "    \"brand\":\"ford\",\n",
    "    \"year\":1940\n",
    "}\n",
    "x=a.items()\n",
    "print(x)"
   ]
  },
  {
   "cell_type": "code",
   "execution_count": 20,
   "id": "1970fdd2",
   "metadata": {},
   "outputs": [
    {
     "name": "stdout",
     "output_type": "stream",
     "text": [
      "dict_items([('model', 'mustang'), ('brand', 'ford'), ('year', 2016)])\n"
     ]
    }
   ],
   "source": [
    "a={\n",
    "    \"model\":\"mustang\",\n",
    "    \"brand\":\"ford\",\n",
    "    \"year\":1940\n",
    "}\n",
    "x=a.items()\n",
    "a[\"year\"]=2016\n",
    "print(x)"
   ]
  },
  {
   "cell_type": "code",
   "execution_count": 21,
   "id": "39e7411c",
   "metadata": {},
   "outputs": [
    {
     "name": "stdout",
     "output_type": "stream",
     "text": [
      "dict_keys(['model', 'brand', 'year'])\n"
     ]
    }
   ],
   "source": [
    "a={\n",
    "    \"model\":\"mustang\",\n",
    "    \"brand\":\"ford\",\n",
    "    \"year\":1940\n",
    "}\n",
    "x=a.keys()\n",
    "print(x)"
   ]
  },
  {
   "cell_type": "code",
   "execution_count": 24,
   "id": "10414b85",
   "metadata": {},
   "outputs": [
    {
     "name": "stdout",
     "output_type": "stream",
     "text": [
      "dict_values(['mustang', 'ford', 1940])\n"
     ]
    }
   ],
   "source": [
    "a={\n",
    "    \"model\":\"mustang\",\n",
    "    \"brand\":\"ford\",\n",
    "    \"year\":1940\n",
    "}\n",
    "x=a.values()\n",
    "print(x)"
   ]
  },
  {
   "cell_type": "code",
   "execution_count": 26,
   "id": "239342d5",
   "metadata": {},
   "outputs": [
    {
     "name": "stdout",
     "output_type": "stream",
     "text": [
      "dict_values(['mustang', 'ford', 1940, 'red'])\n"
     ]
    }
   ],
   "source": [
    "a={\n",
    "    \"model\":\"mustang\",\n",
    "    \"brand\":\"ford\",\n",
    "    \"year\":1940\n",
    "}\n",
    "x=a.values()\n",
    "a[\"color\"]=\"red\"\n",
    "print(x)"
   ]
  },
  {
   "cell_type": "code",
   "execution_count": 30,
   "id": "1560ab5b",
   "metadata": {},
   "outputs": [
    {
     "name": "stdout",
     "output_type": "stream",
     "text": [
      "{'brand': 'ford', 'year': 1940}\n"
     ]
    }
   ],
   "source": [
    "a={\n",
    "    \"model\":\"mustang\",\n",
    "    \"brand\":\"ford\",\n",
    "    \"year\":1940\n",
    "}\n",
    "a.pop(\"model\")\n",
    "print(a)"
   ]
  },
  {
   "cell_type": "code",
   "execution_count": 31,
   "id": "fd652a91",
   "metadata": {},
   "outputs": [
    {
     "name": "stdout",
     "output_type": "stream",
     "text": [
      "mustang\n"
     ]
    }
   ],
   "source": [
    "a={\n",
    "    \"model\":\"mustang\",\n",
    "    \"brand\":\"ford\",\n",
    "    \"year\":1940\n",
    "}\n",
    "x=a.pop(\"model\")\n",
    "print(x)"
   ]
  },
  {
   "cell_type": "code",
   "execution_count": 32,
   "id": "fc66f2bc",
   "metadata": {},
   "outputs": [
    {
     "name": "stdout",
     "output_type": "stream",
     "text": [
      "{'model': 'mustang', 'brand': 'ford'}\n"
     ]
    }
   ],
   "source": [
    "a={\n",
    "    \"model\":\"mustang\",\n",
    "    \"brand\":\"ford\",\n",
    "    \"year\":1940\n",
    "}\n",
    "a.popitem()\n",
    "print(a)"
   ]
  },
  {
   "cell_type": "code",
   "execution_count": 33,
   "id": "1a1c134a",
   "metadata": {},
   "outputs": [
    {
     "name": "stdout",
     "output_type": "stream",
     "text": [
      "('year', 1940)\n"
     ]
    }
   ],
   "source": [
    "a={\n",
    "    \"model\":\"mustang\",\n",
    "    \"brand\":\"ford\",\n",
    "    \"year\":1940\n",
    "}\n",
    "x=a.popitem()\n",
    "print(x)"
   ]
  },
  {
   "cell_type": "code",
   "execution_count": 40,
   "id": "893bc701",
   "metadata": {},
   "outputs": [
    {
     "name": "stdout",
     "output_type": "stream",
     "text": [
      "white\n"
     ]
    }
   ],
   "source": [
    "a={\n",
    "    \"model\":\"mustang\",\n",
    "    \"brand\":\"ford\",\n",
    "    \"year\":1940\n",
    "}\n",
    "x=a.setdefault(\"color\",\"white\")\n",
    "print(x)"
   ]
  },
  {
   "cell_type": "code",
   "execution_count": 46,
   "id": "b28bfccf",
   "metadata": {},
   "outputs": [
    {
     "name": "stdout",
     "output_type": "stream",
     "text": [
      "a, is greater then b\n"
     ]
    }
   ],
   "source": [
    "a=300\n",
    "b=200\n",
    "if a>b:\n",
    "    print(\"a, is greater then b\")\n",
    "else:\n",
    "    print(\"a, is less then b\")"
   ]
  },
  {
   "cell_type": "code",
   "execution_count": 48,
   "id": "bda2fb0b",
   "metadata": {},
   "outputs": [
    {
     "name": "stdout",
     "output_type": "stream",
     "text": [
      "yes name is there\n"
     ]
    }
   ],
   "source": [
    "a=(\"my name is shahnawaz\")\n",
    "if \"name\" in a:\n",
    "    print(\"yes name is there\")\n",
    "else:\n",
    "    print(\"not exist\")"
   ]
  },
  {
   "cell_type": "code",
   "execution_count": 51,
   "id": "8a89d1bd",
   "metadata": {},
   "outputs": [
    {
     "name": "stdout",
     "output_type": "stream",
     "text": [
      "a and b are equal\n"
     ]
    }
   ],
   "source": [
    "a=4000\n",
    "b=400\n",
    "if b>a:\n",
    "    print(\"b is greater than a\")\n",
    "elif a>b:\n",
    "    print(\"a and b are equal\")\n"
   ]
  },
  {
   "cell_type": "code",
   "execution_count": 55,
   "id": "5aab7723",
   "metadata": {},
   "outputs": [
    {
     "name": "stdout",
     "output_type": "stream",
     "text": [
      "qqqqqqqqqqqqq\n"
     ]
    }
   ],
   "source": [
    "a=300\n",
    "b=50\n",
    "if b>a:\n",
    "    print(\"dfhvbjbejhbe\")\n",
    "elif a>b:\n",
    "    print('qqqqqqqqqqqqq')\n",
    "else:\n",
    "    print('tupac shakur')"
   ]
  },
  {
   "cell_type": "code",
   "execution_count": 56,
   "id": "5f5becb1",
   "metadata": {},
   "outputs": [
    {
     "name": "stdout",
     "output_type": "stream",
     "text": [
      "ghvgyfgdv\n"
     ]
    }
   ],
   "source": [
    "a=5\n",
    "b=40\n",
    "print(\"wwwww\") if a>b else print('ghvgyfgdv')"
   ]
  },
  {
   "cell_type": "code",
   "execution_count": 58,
   "id": "f695d35b",
   "metadata": {},
   "outputs": [
    {
     "name": "stdout",
     "output_type": "stream",
     "text": [
      "fffffffff\n"
     ]
    }
   ],
   "source": [
    "a=300\n",
    "b=300\n",
    "print(\"a\") if a<b else print('fffffffff') if a==b else print(\"sghcvsjhfvu\")"
   ]
  },
  {
   "cell_type": "code",
   "execution_count": 64,
   "id": "19fababb",
   "metadata": {},
   "outputs": [],
   "source": [
    "a=3\n",
    "b=500\n",
    "c=90\n",
    "if a<b and c<a:\n",
    "    print('REJHBVIBDFNKTRJ')"
   ]
  },
  {
   "cell_type": "code",
   "execution_count": 63,
   "id": "a863af50",
   "metadata": {},
   "outputs": [
    {
     "name": "stdout",
     "output_type": "stream",
     "text": [
      "erererererre\n"
     ]
    }
   ],
   "source": [
    "a=3\n",
    "b=500\n",
    "c=90\n",
    "if a>b or c>a:\n",
    "    print(\"erererererre\")"
   ]
  },
  {
   "cell_type": "code",
   "execution_count": 66,
   "id": "009039a3",
   "metadata": {},
   "outputs": [],
   "source": [
    "a=40\n",
    "b=60\n",
    "if a<b:\n",
    "    pass"
   ]
  },
  {
   "cell_type": "code",
   "execution_count": 71,
   "id": "585e3d62",
   "metadata": {},
   "outputs": [
    {
     "name": "stdout",
     "output_type": "stream",
     "text": [
      "['my', 'name', 'is', 'ssss']\n"
     ]
    }
   ],
   "source": [
    "a=\"my name is ssss\"\n",
    "x=a.split()\n",
    "print(x)"
   ]
  },
  {
   "cell_type": "code",
   "execution_count": 72,
   "id": "f378b393",
   "metadata": {},
   "outputs": [
    {
     "name": "stdout",
     "output_type": "stream",
     "text": [
      "1\n",
      "2\n",
      "3\n",
      "4\n",
      "5\n"
     ]
    }
   ],
   "source": [
    "i=1\n",
    "while i<6:\n",
    "    print(i)\n",
    "    i+=1"
   ]
  },
  {
   "cell_type": "code",
   "execution_count": 75,
   "id": "7f939731",
   "metadata": {},
   "outputs": [
    {
     "name": "stdout",
     "output_type": "stream",
     "text": [
      "0\n",
      "1\n",
      "2\n",
      "3\n",
      "4\n",
      "5\n",
      "6\n",
      "7\n",
      "8\n",
      "9\n"
     ]
    }
   ],
   "source": [
    "for num in range(10):\n",
    "    print(num)"
   ]
  },
  {
   "cell_type": "code",
   "execution_count": null,
   "id": "733625fe",
   "metadata": {},
   "outputs": [],
   "source": []
  }
 ],
 "metadata": {
  "kernelspec": {
   "display_name": "Python 3 (ipykernel)",
   "language": "python",
   "name": "python3"
  },
  "language_info": {
   "codemirror_mode": {
    "name": "ipython",
    "version": 3
   },
   "file_extension": ".py",
   "mimetype": "text/x-python",
   "name": "python",
   "nbconvert_exporter": "python",
   "pygments_lexer": "ipython3",
   "version": "3.10.4"
  }
 },
 "nbformat": 4,
 "nbformat_minor": 5
}
