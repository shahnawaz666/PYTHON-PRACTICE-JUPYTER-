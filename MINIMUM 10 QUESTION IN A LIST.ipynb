{
 "cells": [
  {
   "cell_type": "code",
   "execution_count": 71,
   "id": "128c4d62",
   "metadata": {},
   "outputs": [
    {
     "ename": "SyntaxError",
     "evalue": "incomplete input (1863796210.py, line 45)",
     "output_type": "error",
     "traceback": [
      "\u001b[1;36m  Input \u001b[1;32mIn [71]\u001b[1;36m\u001b[0m\n\u001b[1;33m    \u001b[0m\n\u001b[1;37m    ^\u001b[0m\n\u001b[1;31mSyntaxError\u001b[0m\u001b[1;31m:\u001b[0m incomplete input\n"
     ]
    }
   ],
   "source": [
    "q=[\n",
    "    {'question':'correct extension of python file',\n",
    "    'answer':'.py',\n",
    "    'explanation':'aaa'},\n",
    "    \n",
    "    {'question':'correct extension of python file',\n",
    "    'answer':'.py',\n",
    "    'explanation':''},\n",
    "    \n",
    "    {'question':'correct extension of python file',\n",
    "    'answer':'.py',\n",
    "    'explanation':'bbb'},\n",
    "    \n",
    "    {'question':'correct extension of python file',\n",
    "    'answer':'.py',\n",
    "    'explanation':''},\n",
    "    \n",
    "    {'question':'correct extension of python file',\n",
    "    'answer':'.py',\n",
    "    'explanation':'ccc'},\n",
    "    \n",
    "    {'question':'correct extension of python file',\n",
    "    'answer':'.py',\n",
    "    'explanation':''},\n",
    "    \n",
    "    {'question':'correct extension of python file',\n",
    "    'answer':'.py',\n",
    "    'explanation':'ddd'},\n",
    "    \n",
    "    {'question':'correct extension of python file',\n",
    "    'answer':'.py',\n",
    "    'explanation':''},\n",
    "    \n",
    "    {'question':'correct extension of python file',\n",
    "    'answer':'.py',\n",
    "    'explanation':'eee'},\n",
    "    \n",
    "    {'question':'correct extension of python file',\n",
    "    'answer':'.py',\n",
    "    'explanation':''}\n",
    "    \n",
    "]\n",
    "k=1\n",
    "for z in range(len(q)):\n",
    "    print(k,\" \")\n",
    "    ++"
   ]
  },
  {
   "cell_type": "code",
   "execution_count": 1,
   "id": "2b28c626",
   "metadata": {},
   "outputs": [
    {
     "name": "stdout",
     "output_type": "stream",
     "text": [
      "True\n"
     ]
    }
   ],
   "source": [
    "st=\"python\"\n",
    "if st:\n",
    "    print(\"True\")\n",
    "else:\n",
    "    print(\"False\")"
   ]
  },
  {
   "cell_type": "code",
   "execution_count": 2,
   "id": "c819e2c6",
   "metadata": {},
   "outputs": [
    {
     "name": "stdout",
     "output_type": "stream",
     "text": [
      "False\n"
     ]
    }
   ],
   "source": [
    "st=\"\"\n",
    "if st:\n",
    "    print(\"True\")\n",
    "else:\n",
    "    print(\"False\")"
   ]
  },
  {
   "cell_type": "code",
   "execution_count": 7,
   "id": "89790e27",
   "metadata": {},
   "outputs": [
    {
     "name": "stdout",
     "output_type": "stream",
     "text": [
      "True\n"
     ]
    }
   ],
   "source": [
    "i=1\n",
    "if i:\n",
    "    print(\"True\")\n",
    "else:\n",
    "    print(\"False\")"
   ]
  },
  {
   "cell_type": "code",
   "execution_count": null,
   "id": "5e4d81f0",
   "metadata": {},
   "outputs": [],
   "source": []
  }
 ],
 "metadata": {
  "kernelspec": {
   "display_name": "Python 3 (ipykernel)",
   "language": "python",
   "name": "python3"
  },
  "language_info": {
   "codemirror_mode": {
    "name": "ipython",
    "version": 3
   },
   "file_extension": ".py",
   "mimetype": "text/x-python",
   "name": "python",
   "nbconvert_exporter": "python",
   "pygments_lexer": "ipython3",
   "version": "3.10.4"
  }
 },
 "nbformat": 4,
 "nbformat_minor": 5
}
