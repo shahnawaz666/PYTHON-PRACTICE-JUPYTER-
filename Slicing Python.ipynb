{
 "cells": [
  {
   "cell_type": "code",
   "execution_count": 4,
   "id": "f197b460",
   "metadata": {},
   "outputs": [
    {
     "name": "stdout",
     "output_type": "stream",
     "text": [
      "hello worl\n",
      "l\n",
      "hello world\n",
      "\n"
     ]
    }
   ],
   "source": [
    "a=\"hello world\"\n",
    "print(a[:-1])\n",
    "print(a[2:3])\n",
    "print(a[0:])\n",
    "print(a[2:3:-1])"
   ]
  },
  {
   "cell_type": "code",
   "execution_count": 3,
   "id": "2d9179ee",
   "metadata": {},
   "outputs": [
    {
     "name": "stdout",
     "output_type": "stream",
     "text": [
      "o wor\n"
     ]
    }
   ],
   "source": [
    "print(a[4:-2])"
   ]
  },
  {
   "cell_type": "code",
   "execution_count": null,
   "id": "1cc8888c",
   "metadata": {},
   "outputs": [],
   "source": []
  }
 ],
 "metadata": {
  "kernelspec": {
   "display_name": "Python 3 (ipykernel)",
   "language": "python",
   "name": "python3"
  },
  "language_info": {
   "codemirror_mode": {
    "name": "ipython",
    "version": 3
   },
   "file_extension": ".py",
   "mimetype": "text/x-python",
   "name": "python",
   "nbconvert_exporter": "python",
   "pygments_lexer": "ipython3",
   "version": "3.10.4"
  }
 },
 "nbformat": 4,
 "nbformat_minor": 5
}
