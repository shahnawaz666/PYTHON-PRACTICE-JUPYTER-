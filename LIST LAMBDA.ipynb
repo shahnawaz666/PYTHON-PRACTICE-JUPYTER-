{
 "cells": [
  {
   "cell_type": "code",
   "execution_count": 7,
   "id": "6f5236c9",
   "metadata": {},
   "outputs": [
    {
     "name": "stdout",
     "output_type": "stream",
     "text": [
      "5\n"
     ]
    }
   ],
   "source": [
    "def add(a=4):\n",
    "    a=5\n",
    "    print(a)\n",
    "add(6)"
   ]
  },
  {
   "cell_type": "code",
   "execution_count": null,
   "id": "049aa96c",
   "metadata": {},
   "outputs": [],
   "source": [
    "input =[1,2,3,4]\n",
    "output=[2,8,18,32]"
   ]
  },
  {
   "cell_type": "code",
   "execution_count": 8,
   "id": "b9abe019",
   "metadata": {},
   "outputs": [
    {
     "name": "stdout",
     "output_type": "stream",
     "text": [
      "5 8 15 19\n",
      "[50, 128, 450, 722]\n"
     ]
    }
   ],
   "source": [
    "# list lambda \n",
    "a=list(map(int,input().split(\" \")))\n",
    "b = map(lambda x: x*x+x*x,a)\n",
    "print(list(b))"
   ]
  },
  {
   "cell_type": "code",
   "execution_count": 5,
   "id": "8de4dd2c",
   "metadata": {},
   "outputs": [
    {
     "ename": "NameError",
     "evalue": "name 'InfIter' is not defined",
     "output_type": "error",
     "traceback": [
      "\u001b[1;31m---------------------------------------------------------------------------\u001b[0m",
      "\u001b[1;31mNameError\u001b[0m                                 Traceback (most recent call last)",
      "Input \u001b[1;32mIn [5]\u001b[0m, in \u001b[0;36m<cell line: 1>\u001b[1;34m()\u001b[0m\n\u001b[1;32m----> 1\u001b[0m \u001b[38;5;28;01mclass\u001b[39;00m \u001b[38;5;21;01mInfIter\u001b[39;00m:\n\u001b[0;32m      2\u001b[0m     \u001b[38;5;124;03m\"\"\"Infinite iterator to return all\u001b[39;00m\n\u001b[0;32m      3\u001b[0m \u001b[38;5;124;03m        odd numbers\"\"\"\u001b[39;00m\n\u001b[0;32m      5\u001b[0m     \u001b[38;5;28;01mdef\u001b[39;00m \u001b[38;5;21m__iter__\u001b[39m(\u001b[38;5;28mself\u001b[39m):\n",
      "Input \u001b[1;32mIn [5]\u001b[0m, in \u001b[0;36mInfIter\u001b[1;34m()\u001b[0m\n\u001b[0;32m     11\u001b[0m     \u001b[38;5;28mself\u001b[39m\u001b[38;5;241m.\u001b[39mnum \u001b[38;5;241m+\u001b[39m\u001b[38;5;241m=\u001b[39m \u001b[38;5;241m2\u001b[39m\n\u001b[0;32m     12\u001b[0m     \u001b[38;5;28;01mreturn\u001b[39;00m num\n\u001b[1;32m---> 14\u001b[0m obj\u001b[38;5;241m=\u001b[39m\u001b[43mInfIter\u001b[49m()\n\u001b[0;32m     15\u001b[0m var\u001b[38;5;241m=\u001b[39m\u001b[38;5;28miter\u001b[39m(obj)\n\u001b[0;32m     16\u001b[0m \u001b[38;5;28mprint\u001b[39m(\u001b[38;5;28mnext\u001b[39m(var))\n",
      "\u001b[1;31mNameError\u001b[0m: name 'InfIter' is not defined"
     ]
    }
   ],
   "source": [
    "class InfIter:\n",
    "    \"\"\"Infinite iterator to return all\n",
    "        odd numbers\"\"\"\n",
    "\n",
    "    def __iter__(self):\n",
    "        self.num = 1\n",
    "        return self\n",
    "\n",
    "    def __next__(self):\n",
    "        num = self.num\n",
    "        self.num += 2\n",
    "        return num\n",
    "        \n",
    "    obj=InfIter()\n",
    "    var=iter(obj)\n",
    "    print(next(var))"
   ]
  },
  {
   "cell_type": "code",
   "execution_count": null,
   "id": "b4ee8b10",
   "metadata": {},
   "outputs": [],
   "source": []
  },
  {
   "cell_type": "code",
   "execution_count": null,
   "id": "59c5dc4e",
   "metadata": {},
   "outputs": [],
   "source": []
  },
  {
   "cell_type": "code",
   "execution_count": null,
   "id": "4ea70a8a",
   "metadata": {},
   "outputs": [],
   "source": []
  },
  {
   "cell_type": "code",
   "execution_count": null,
   "id": "ef6fdf90",
   "metadata": {},
   "outputs": [],
   "source": []
  },
  {
   "cell_type": "code",
   "execution_count": null,
   "id": "023ea704",
   "metadata": {},
   "outputs": [],
   "source": []
  },
  {
   "cell_type": "markdown",
   "id": "c37f2dd7",
   "metadata": {},
   "source": [
    "## "
   ]
  },
  {
   "cell_type": "code",
   "execution_count": 3,
   "id": "95fef041",
   "metadata": {},
   "outputs": [
    {
     "ename": "TypeError",
     "evalue": "'int' object is not iterable",
     "output_type": "error",
     "traceback": [
      "\u001b[1;31m---------------------------------------------------------------------------\u001b[0m",
      "\u001b[1;31mTypeError\u001b[0m                                 Traceback (most recent call last)",
      "Input \u001b[1;32mIn [3]\u001b[0m, in \u001b[0;36m<cell line: 2>\u001b[1;34m()\u001b[0m\n\u001b[0;32m      1\u001b[0m numbers \u001b[38;5;241m=\u001b[39m [\u001b[38;5;241m1\u001b[39m, \u001b[38;5;241m2\u001b[39m, \u001b[38;5;241m3\u001b[39m, \u001b[38;5;241m4\u001b[39m]\n\u001b[1;32m----> 2\u001b[0m result \u001b[38;5;241m=\u001b[39m \u001b[38;5;28;43mmap\u001b[39;49m\u001b[43m(\u001b[49m\u001b[38;5;28;43;01mlambda\u001b[39;49;00m\u001b[43m \u001b[49m\u001b[43mx\u001b[49m\u001b[43m:\u001b[49m\u001b[43m \u001b[49m\u001b[43mx\u001b[49m\u001b[38;5;241;43m*\u001b[39;49m\u001b[38;5;241;43m2\u001b[39;49m\u001b[43m \u001b[49m\u001b[38;5;241;43m*\u001b[39;49m\u001b[43m \u001b[49m\u001b[38;5;241;43m1\u001b[39;49m\u001b[43m,\u001b[49m\u001b[38;5;241;43m2\u001b[39;49m\u001b[43m,\u001b[49m\u001b[38;5;241;43m3\u001b[39;49m\u001b[43m,\u001b[49m\u001b[38;5;241;43m4\u001b[39;49m\u001b[43m,\u001b[49m\u001b[43m \u001b[49m\u001b[43mnumbers\u001b[49m\u001b[43m)\u001b[49m\n\u001b[0;32m      3\u001b[0m \u001b[38;5;28mprint\u001b[39m(\u001b[38;5;28mlist\u001b[39m(result))\n",
      "\u001b[1;31mTypeError\u001b[0m: 'int' object is not iterable"
     ]
    }
   ],
   "source": []
  },
  {
   "cell_type": "code",
   "execution_count": 11,
   "id": "e9a32af1",
   "metadata": {},
   "outputs": [
    {
     "name": "stdout",
     "output_type": "stream",
     "text": [
      "5 8\n"
     ]
    },
    {
     "ename": "ValueError",
     "evalue": "invalid literal for int() with base 10: '5 8'",
     "output_type": "error",
     "traceback": [
      "\u001b[1;31m---------------------------------------------------------------------------\u001b[0m",
      "\u001b[1;31mValueError\u001b[0m                                Traceback (most recent call last)",
      "Input \u001b[1;32mIn [11]\u001b[0m, in \u001b[0;36m<cell line: 1>\u001b[1;34m()\u001b[0m\n\u001b[1;32m----> 1\u001b[0m n \u001b[38;5;241m=\u001b[39m \u001b[38;5;28;43mint\u001b[39;49m\u001b[43m(\u001b[49m\u001b[38;5;28;43minput\u001b[39;49m\u001b[43m(\u001b[49m\u001b[43m)\u001b[49m\u001b[43m)\u001b[49m\n\u001b[0;32m      3\u001b[0m \u001b[38;5;66;03m# input the array\u001b[39;00m\n\u001b[0;32m      4\u001b[0m arr \u001b[38;5;241m=\u001b[39m [\u001b[38;5;28mint\u001b[39m(x) \u001b[38;5;28;01mfor\u001b[39;00m x \u001b[38;5;129;01min\u001b[39;00m \u001b[38;5;28minput\u001b[39m()\u001b[38;5;241m.\u001b[39msplit()]\n",
      "\u001b[1;31mValueError\u001b[0m: invalid literal for int() with base 10: '5 8'"
     ]
    }
   ],
   "source": [
    "n = int(input())\n",
    " \n",
    "# input the array\n",
    "arr = [int(x) for x in input().split()]\n",
    " \n",
    "# initialize variable\n",
    "subtraction = 5\n",
    " \n",
    "# calculate sum\n",
    "for x in arr:\n",
    "    subtraction -= x\n",
    "     \n",
    "# print answer\n",
    "print(subtraction)"
   ]
  },
  {
   "cell_type": "code",
   "execution_count": 12,
   "id": "7868a006",
   "metadata": {},
   "outputs": [],
   "source": [
    "a={\n",
    "    \"a\":45,\n",
    "    \"b\":65,\n",
    "    \"A\":5\n",
    "}\n",
    "b={\n",
    "    \"a\":50,\n",
    "    \"b\":65\n",
    "}\n"
   ]
  },
  {
   "cell_type": "code",
   "execution_count": 3,
   "id": "12ed3789",
   "metadata": {},
   "outputs": [
    {
     "name": "stdout",
     "output_type": "stream",
     "text": [
      "5 8 15 19\n",
      "[5, 3, 7, 4]\n"
     ]
    }
   ],
   "source": [
    "a=[int(item)for item in input().split()]\n",
    "b=[a[i]-a[i-1] if i>0 else a[i] for i in range (len(a))]\n",
    "print(b)"
   ]
  },
  {
   "cell_type": "code",
   "execution_count": 4,
   "id": "3f955028",
   "metadata": {},
   "outputs": [
    {
     "name": "stdout",
     "output_type": "stream",
     "text": [
      "[5, 3, 7, 4]\n"
     ]
    }
   ],
   "source": [
    "z=[5,8,15,19]\n",
    "z=[z[0]]+|[x-y for x, y in (zip(z[1:],z[:-1]))]"
   ]
  },
  {
   "cell_type": "code",
   "execution_count": 4,
   "id": "ffccc6d3",
   "metadata": {},
   "outputs": [
    {
     "name": "stdout",
     "output_type": "stream",
     "text": [
      "{'a': 50, 'b': 65}\n"
     ]
    }
   ],
   "source": [
    "d={\"a\":45,\"b\":65,\"A\":5}\n",
    "a={i.lower():d.get(i.lower(),)+d.get(i.upper(),0)for i in d}\n",
    "print(a)"
   ]
  },
  {
   "cell_type": "code",
   "execution_count": 7,
   "id": "6b00174d",
   "metadata": {},
   "outputs": [
    {
     "name": "stdout",
     "output_type": "stream",
     "text": [
      "15\n"
     ]
    }
   ],
   "source": [
    "l=[1,10,7,15,3]\n",
    "a=0\n",
    "for i in l:\n",
    "    while i>a:\n",
    "        a=i\n",
    "print(a)"
   ]
  },
  {
   "cell_type": "code",
   "execution_count": 1,
   "id": "e97e1e70",
   "metadata": {},
   "outputs": [
    {
     "name": "stdout",
     "output_type": "stream",
     "text": [
      "[1, 3, 7, 10, 15]\n"
     ]
    }
   ],
   "source": [
    "# rearrange in a list sort() method in built\n",
    "l=[1,10,7,15,3]\n",
    "l.sort()\n",
    "print(l)\n",
    " "
   ]
  },
  {
   "cell_type": "code",
   "execution_count": 1,
   "id": "c20f12ae",
   "metadata": {},
   "outputs": [],
   "source": [
    "def insertionSort(arr):\n",
    " \n",
    "    # Traverse through 1 to len(arr)\n",
    "    for i in range(1, len(arr)):\n",
    " \n",
    "        key = arr[i]\n",
    " \n",
    "        # Move elements of arr[0..i-1], that are\n",
    "        # greater than key, to one position ahead\n",
    "        # of their current position\n",
    "        j = i-1\n",
    "        while j >=0 and key < arr[j] :\n",
    "                arr[j+1] = arr[j]\n",
    "                j -= 1\n",
    "        arr[j+1] = key\n",
    "    print(i)"
   ]
  },
  {
   "cell_type": "code",
   "execution_count": 3,
   "id": "b9442f42",
   "metadata": {},
   "outputs": [
    {
     "name": "stdout",
     "output_type": "stream",
     "text": [
      "Sorted Array in Ascending Order:\n",
      "[5, 6, 11, 12, 13]\n"
     ]
    }
   ],
   "source": [
    "# Insertion sort in Python\n",
    "\n",
    "\n",
    "def insertionSort(array):\n",
    "\n",
    "    for step in range(1, len(array)):\n",
    "        key = array[step]\n",
    "        j = step - 1\n",
    "        \n",
    "        # Compare key with each element on the left of it until an element smaller than it is found\n",
    "        # For descending order, change key<array[j] to key>array[j].        \n",
    "        while j >= 0 and key < array[j]:\n",
    "            array[j + 1] = array[j]\n",
    "            j = j - 1\n",
    "         n \n",
    "        # Place key at after the element just smaller than it.\n",
    "        array[j + 1] = key\n",
    "\n",
    "\n",
    "data = [12,11,13,5,6]\n",
    "insertionSort(data)\n",
    "print('Sorted Array in Ascending Order:')\n",
    "print(data)"
   ]
  },
  {
   "cell_type": "code",
   "execution_count": 5,
   "id": "90508480",
   "metadata": {},
   "outputs": [
    {
     "name": "stdout",
     "output_type": "stream",
     "text": [
      "[5, 6, 11, 12, 13]\n"
     ]
    }
   ],
   "source": [
    "a=[12,11,13,6,5]\n",
    "insertionSort(a)\n",
    "#print(\"sorted\")\n",
    "print(a)"
   ]
  },
  {
   "cell_type": "code",
   "execution_count": 4,
   "id": "60107bf7",
   "metadata": {},
   "outputs": [
    {
     "name": "stdout",
     "output_type": "stream",
     "text": [
      "[5, 6, 11, 12, 13]\n"
     ]
    }
   ],
   "source": [
    "a=[12,11,13,5,6]\n",
    "for j in range(1,len(a)):\n",
    "    while a[j-1]>a[j] and j>0:\n",
    "        a[j-1],a[j]=a[j],a[j-1]\n",
    "        j-=1\n",
    "print(a)"
   ]
  },
  {
   "cell_type": "code",
   "execution_count": null,
   "id": "75dc7e85",
   "metadata": {},
   "outputs": [],
   "source": [
    "  "
   ]
  }
 ],
 "metadata": {
  "kernelspec": {
   "display_name": "Python 3 (ipykernel)",
   "language": "python",
   "name": "python3"
  },
  "language_info": {
   "codemirror_mode": {
    "name": "ipython",
    "version": 3
   },
   "file_extension": ".py",
   "mimetype": "text/x-python",
   "name": "python",
   "nbconvert_exporter": "python",
   "pygments_lexer": "ipython3",
   "version": "3.10.4"
  }
 },
 "nbformat": 4,
 "nbformat_minor": 5
}
