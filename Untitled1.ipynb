{
 "cells": [
  {
   "cell_type": "markdown",
   "id": "4568e05d",
   "metadata": {},
   "source": [
    "# python loop statement"
   ]
  },
  {
   "cell_type": "code",
   "execution_count": null,
   "id": "a61daa32",
   "metadata": {},
   "outputs": [],
   "source": [
    "i=1\n",
    "while i<6:\n",
    "    print(i)\n",
    "    if (i ==3):\n",
    "        break\n",
    "        i += 1"
   ]
  },
  {
   "cell_type": "code",
   "execution_count": null,
   "id": "e0b4c87a",
   "metadata": {},
   "outputs": [],
   "source": []
  }
 ],
 "metadata": {
  "kernelspec": {
   "display_name": "Python 3 (ipykernel)",
   "language": "python",
   "name": "python3"
  },
  "language_info": {
   "codemirror_mode": {
    "name": "ipython",
    "version": 3
   },
   "file_extension": ".py",
   "mimetype": "text/x-python",
   "name": "python",
   "nbconvert_exporter": "python",
   "pygments_lexer": "ipython3",
   "version": "3.10.4"
  }
 },
 "nbformat": 4,
 "nbformat_minor": 5
}
