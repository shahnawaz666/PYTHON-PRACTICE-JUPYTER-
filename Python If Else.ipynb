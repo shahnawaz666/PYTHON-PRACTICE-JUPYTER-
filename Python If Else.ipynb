{
 "cells": [
  {
   "cell_type": "markdown",
   "id": "cb2c1fd3",
   "metadata": {},
   "source": [
    "# Python Conditions and If statements\n",
    "- Python supports the usual logical conditions from mathematics:\n",
    "\n",
    "- Equals: a == b\n",
    "- Not Equals: a != b\n",
    "- Less than: a < b\n",
    "- Less than or equal to: a <= b\n",
    "- Greater than: a > b\n",
    "- Greater than or equal to: a >= b\n",
    "- These conditions can be used in several ways, most commonly in \"if statements\" and loops.\n",
    "\n",
    "- An \"if statement\" is written by using the if keyword."
   ]
  },
  {
   "cell_type": "code",
   "execution_count": 3,
   "id": "6ada29c3",
   "metadata": {},
   "outputs": [
    {
     "name": "stdout",
     "output_type": "stream",
     "text": [
      "b is greater than a\n"
     ]
    }
   ],
   "source": [
    "a=300\n",
    "b=333\n",
    "if b>a:\n",
    "    print(\"b is greater than a\")"
   ]
  },
  {
   "cell_type": "markdown",
   "id": "8752f26a",
   "metadata": {},
   "source": [
    "# Indentation\n",
    "- If statement, without indentation (will raise an error):"
   ]
  },
  {
   "cell_type": "code",
   "execution_count": 4,
   "id": "194c8c31",
   "metadata": {},
   "outputs": [
    {
     "ename": "IndentationError",
     "evalue": "expected an indented block after 'if' statement on line 3 (1443227691.py, line 4)",
     "output_type": "error",
     "traceback": [
      "\u001b[1;36m  Input \u001b[1;32mIn [4]\u001b[1;36m\u001b[0m\n\u001b[1;33m    print(\"b is greater than a\") # you will get an error\u001b[0m\n\u001b[1;37m    ^\u001b[0m\n\u001b[1;31mIndentationError\u001b[0m\u001b[1;31m:\u001b[0m expected an indented block after 'if' statement on line 3\n"
     ]
    }
   ],
   "source": [
    "a = 33\n",
    "b = 200\n",
    "if b > a:\n",
    "print(\"b is greater than a\") # you will get an error"
   ]
  },
  {
   "cell_type": "markdown",
   "id": "64205f93",
   "metadata": {},
   "source": [
    "# Elif\n",
    "- The elif keyword is pythons way of saying \"if the previous conditions were not true, then try this condition\"."
   ]
  },
  {
   "cell_type": "code",
   "execution_count": 7,
   "id": "ad85c978",
   "metadata": {},
   "outputs": [
    {
     "name": "stdout",
     "output_type": "stream",
     "text": [
      "a and b are equal\n"
     ]
    }
   ],
   "source": [
    "a=30\n",
    "b=30\n",
    "if b>a:\n",
    "    print(\"b is greater than a\")\n",
    "elif a==b:\n",
    "    print(\"a and b are equal\")"
   ]
  },
  {
   "cell_type": "markdown",
   "id": "696dcc01",
   "metadata": {},
   "source": [
    "# Else\n",
    "- The else keyword catches anything which isn't caught by the preceding conditions."
   ]
  },
  {
   "cell_type": "code",
   "execution_count": 8,
   "id": "fed5628d",
   "metadata": {},
   "outputs": [
    {
     "name": "stdout",
     "output_type": "stream",
     "text": [
      "a is greater than b\n"
     ]
    }
   ],
   "source": [
    "a=200\n",
    "b=30\n",
    "if b>a :\n",
    "    print(\"b is greater than a\")\n",
    "elif a==b:\n",
    "    print(\"a and b are equal\")\n",
    "else:\n",
    "    print(\"a is greater than b\")"
   ]
  },
  {
   "cell_type": "markdown",
   "id": "be14bf3f",
   "metadata": {},
   "source": [
    "# In this example a is greater than b, so the first condition is not true, also the elif condition is not true, so we go to the else condition and print to screen that \"a is greater than b\".\n",
    "\n",
    "- You can also have an else without the elif:"
   ]
  },
  {
   "cell_type": "code",
   "execution_count": 9,
   "id": "d5af387b",
   "metadata": {},
   "outputs": [
    {
     "name": "stdout",
     "output_type": "stream",
     "text": [
      "b is not greater a\n"
     ]
    }
   ],
   "source": [
    "a=300\n",
    "b=30\n",
    "if b>a:\n",
    "    print(\"b is greater than a\")\n",
    "else:\n",
    "    print(\"b is not greater a\")"
   ]
  },
  {
   "cell_type": "markdown",
   "id": "228958c0",
   "metadata": {},
   "source": [
    "# Short Hand If\n",
    "- If you have only one statement to execute, you can put it on the same line as the if statement."
   ]
  },
  {
   "cell_type": "code",
   "execution_count": 10,
   "id": "ce0df540",
   "metadata": {},
   "outputs": [
    {
     "name": "stdout",
     "output_type": "stream",
     "text": [
      "a is greater than b\n"
     ]
    }
   ],
   "source": [
    "a=300\n",
    "b=30\n",
    "if a>b: print(\"a is greater than b\")"
   ]
  },
  {
   "cell_type": "markdown",
   "id": "cb9701a0",
   "metadata": {},
   "source": [
    "# Short Hand If ... Else\n",
    "- If you have only one statement to execute, one for if, and one for else, you can put it all on the same line:"
   ]
  },
  {
   "cell_type": "code",
   "execution_count": 13,
   "id": "bcb6b971",
   "metadata": {},
   "outputs": [
    {
     "name": "stdout",
     "output_type": "stream",
     "text": [
      "A\n"
     ]
    }
   ],
   "source": [
    "a=300\n",
    "b=30\n",
    "print(\"A\") if a>b else print(\"B\")"
   ]
  },
  {
   "cell_type": "markdown",
   "id": "136a6187",
   "metadata": {},
   "source": [
    "# And\n",
    "- The and keyword is a logical operator, and is used to combine conditional statements:"
   ]
  },
  {
   "cell_type": "code",
   "execution_count": 14,
   "id": "cb2e2597",
   "metadata": {},
   "outputs": [
    {
     "name": "stdout",
     "output_type": "stream",
     "text": [
      "both conditions are true\n"
     ]
    }
   ],
   "source": [
    "a=200\n",
    "b=33\n",
    "c=500\n",
    "if a>b and c>a:\n",
    "    print(\"both conditions are true\")"
   ]
  },
  {
   "cell_type": "markdown",
   "id": "3df1a6b2",
   "metadata": {},
   "source": [
    "# Or\n",
    "- The or keyword is a logical operator, and is used to combine conditional statements:"
   ]
  },
  {
   "cell_type": "code",
   "execution_count": 15,
   "id": "20fc74e3",
   "metadata": {},
   "outputs": [
    {
     "name": "stdout",
     "output_type": "stream",
     "text": [
      "atleast one of the conditons is True\n"
     ]
    }
   ],
   "source": [
    "a=200\n",
    "b=33\n",
    "c=500\n",
    "if a>b and c>a:\n",
    "    print(\"atleast one of the conditons is True\")"
   ]
  },
  {
   "cell_type": "code",
   "execution_count": 16,
   "id": "23d4eb03",
   "metadata": {},
   "outputs": [
    {
     "name": "stdout",
     "output_type": "stream",
     "text": [
      "above ten,\n",
      "and also above 20!\n"
     ]
    }
   ],
   "source": [
    "x=40\n",
    "if x>10:\n",
    "    print(\"above ten,\")\n",
    "    if x>20:\n",
    "        print(\"and also above 20!\")\n",
    "    else:\n",
    "        print(\"but not above 20.\")\n",
    "            "
   ]
  },
  {
   "cell_type": "markdown",
   "id": "f59c2d90",
   "metadata": {},
   "source": [
    "# The pass Statement\n",
    "-  if statements cannot be empty, but if you for some reason have an if statement with no content, put in the pass statement to avoid getting an error."
   ]
  },
  {
   "cell_type": "code",
   "execution_count": 1,
   "id": "5d6f0ec8",
   "metadata": {},
   "outputs": [],
   "source": [
    "a=30\n",
    "b=300\n",
    "if b>a:\n",
    "    pass"
   ]
  },
  {
   "cell_type": "markdown",
   "id": "00aea73d",
   "metadata": {},
   "source": [
    "# The continue Statement\n",
    "- With the continue statement we can stop the current iteration, and continue with the next:\n",
    "\n"
   ]
  },
  {
   "cell_type": "code",
   "execution_count": null,
   "id": "48a44bee",
   "metadata": {},
   "outputs": [],
   "source": []
  }
 ],
 "metadata": {
  "kernelspec": {
   "display_name": "Python 3 (ipykernel)",
   "language": "python",
   "name": "python3"
  },
  "language_info": {
   "codemirror_mode": {
    "name": "ipython",
    "version": 3
   },
   "file_extension": ".py",
   "mimetype": "text/x-python",
   "name": "python",
   "nbconvert_exporter": "python",
   "pygments_lexer": "ipython3",
   "version": "3.10.4"
  }
 },
 "nbformat": 4,
 "nbformat_minor": 5
}
