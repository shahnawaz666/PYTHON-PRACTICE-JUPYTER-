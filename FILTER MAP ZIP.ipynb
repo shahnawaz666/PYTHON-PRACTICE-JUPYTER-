{
 "cells": [
  {
   "cell_type": "code",
   "execution_count": 10,
   "id": "4135699a",
   "metadata": {},
   "outputs": [
    {
     "name": "stdout",
     "output_type": "stream",
     "text": [
      "12\n",
      "33\n",
      "55\n",
      "44\n"
     ]
    }
   ],
   "source": [
    "x=[5,12,33,55,44,6,5]\n",
    "def func(x):\n",
    "    if x<12:\n",
    "        return False\n",
    "    else:\n",
    "        return True\n",
    "y=filter(func,x)\n",
    "for x in y:\n",
    "    print(x)"
   ]
  },
  {
   "cell_type": "code",
   "execution_count": 1,
   "id": "5f1360e6",
   "metadata": {},
   "outputs": [
    {
     "name": "stdout",
     "output_type": "stream",
     "text": [
      "[6, 14, 36]\n"
     ]
    }
   ],
   "source": [
    "y=[5,12,33]\n",
    "x=[1,2,3,4]\n",
    "def func(y,x):\n",
    "    return y+x\n",
    "v=map(func,y,x)\n",
    "print(list(v))\n"
   ]
  },
  {
   "cell_type": "code",
   "execution_count": 2,
   "id": "21fbf6c1",
   "metadata": {},
   "outputs": [
    {
     "name": "stdout",
     "output_type": "stream",
     "text": [
      "[45, 48, 7, 14]\n"
     ]
    }
   ],
   "source": [
    "a=[5,6,7,7]\n",
    "b=[9,8,1,2,2]\n",
    "def func(a,b):\n",
    "    return a*b\n",
    "c=map(func,a,b)\n",
    "print(list(c))"
   ]
  },
  {
   "cell_type": "code",
   "execution_count": 5,
   "id": "27701432",
   "metadata": {},
   "outputs": [
    {
     "name": "stdout",
     "output_type": "stream",
     "text": [
      "[(2, 1), (3, 2), (4, 4), (5, 5), (6, 9)]\n"
     ]
    }
   ],
   "source": [
    "#zip\n",
    "a=[2,3,4,5,6]\n",
    "b=[1,2,4,5,9]\n",
    "c=zip(a,b)\n",
    "print(list(c))"
   ]
  },
  {
   "cell_type": "code",
   "execution_count": 7,
   "id": "f64cf8af",
   "metadata": {},
   "outputs": [
    {
     "name": "stdout",
     "output_type": "stream",
     "text": [
      "2022-08-12\n"
     ]
    }
   ],
   "source": [
    "import datetime\n",
    "date_time=datetime.date.today()\n",
    "print(date_time)"
   ]
  },
  {
   "cell_type": "code",
   "execution_count": 1,
   "id": "d4a6fc28",
   "metadata": {},
   "outputs": [
    {
     "name": "stdout",
     "output_type": "stream",
     "text": [
      "10:45:30.004556\n"
     ]
    }
   ],
   "source": [
    "import datetime\n",
    "time=datetime.time(10,45,30,4556)\n",
    "print(time)"
   ]
  },
  {
   "cell_type": "code",
   "execution_count": 5,
   "id": "0f9a5298",
   "metadata": {},
   "outputs": [
    {
     "name": "stdout",
     "output_type": "stream",
     "text": [
      "26\n"
     ]
    }
   ],
   "source": [
    "from functools import reduce\n",
    "a=[12,3,5,6]\n",
    "a=reduce(lambda x,y: x+y , a)\n",
    "#a=reduce(lambda x,y: x if x>y else y,a)\n",
    "print(a)"
   ]
  },
  {
   "cell_type": "code",
   "execution_count": 8,
   "id": "ab2f807c",
   "metadata": {},
   "outputs": [
    {
     "name": "stdout",
     "output_type": "stream",
     "text": [
      "[2, 4, 6, 8]\n"
     ]
    }
   ],
   "source": [
    "vb=[1,2,3,4,5,6,7,8,9]\n",
    "vb=list(filter(lambda x: x%2==0,vb))\n",
    "print(vb)"
   ]
  },
  {
   "cell_type": "code",
   "execution_count": 9,
   "id": "bcc7ee19",
   "metadata": {},
   "outputs": [
    {
     "name": "stdout",
     "output_type": "stream",
     "text": [
      "[(1, 1), (2, 4), (3, 3), (4, 5), (5, 6)]\n"
     ]
    }
   ],
   "source": [
    "d1=[1,2,3,4,5]\n",
    "d2=[1,4,3,5,6,7]\n",
    "v=list(zip(d1,d2))\n",
    "print(v)"
   ]
  },
  {
   "cell_type": "code",
   "execution_count": 11,
   "id": "4b54de3c",
   "metadata": {},
   "outputs": [
    {
     "name": "stdout",
     "output_type": "stream",
     "text": [
      "77\n"
     ]
    }
   ],
   "source": [
    "x=[11,77,5,3,70]\n",
    "print(max(x))\n"
   ]
  },
  {
   "cell_type": "code",
   "execution_count": 12,
   "id": "183e842d",
   "metadata": {},
   "outputs": [
    {
     "name": "stdout",
     "output_type": "stream",
     "text": [
      "3\n"
     ]
    }
   ],
   "source": [
    "print(min(x))"
   ]
  },
  {
   "cell_type": "code",
   "execution_count": 6,
   "id": "88d0a66d",
   "metadata": {},
   "outputs": [
    {
     "name": "stdout",
     "output_type": "stream",
     "text": [
      " teurt1\n"
     ]
    }
   ],
   "source": [
    "day=\" mon,tue,wed,thurs,fri,sat,sun \"\n",
    "print(day[::5])"
   ]
  },
  {
   "cell_type": "code",
   "execution_count": 9,
   "id": "a87358da",
   "metadata": {},
   "outputs": [
    {
     "name": "stdout",
     "output_type": "stream",
     "text": [
      "mai tiya hu\n"
     ]
    }
   ],
   "source": [
    "import base\n"
   ]
  },
  {
   "cell_type": "code",
   "execution_count": 1,
   "id": "7be3e8fd",
   "metadata": {},
   "outputs": [
    {
     "name": "stdout",
     "output_type": "stream",
     "text": [
      "hello world\n"
     ]
    }
   ],
   "source": [
    "import s"
   ]
  },
  {
   "cell_type": "code",
   "execution_count": 10,
   "id": "eb3fdef0",
   "metadata": {},
   "outputs": [
    {
     "name": "stdout",
     "output_type": "stream",
     "text": [
      "mai tiya hu\n"
     ]
    }
   ],
   "source": [
    "import base"
   ]
  },
  {
   "cell_type": "code",
   "execution_count": 1,
   "id": "f5ac87e5",
   "metadata": {},
   "outputs": [
    {
     "name": "stdout",
     "output_type": "stream",
     "text": [
      "mai tiya hu\n"
     ]
    }
   ],
   "source": [
    "import base\n"
   ]
  },
  {
   "cell_type": "code",
   "execution_count": 2,
   "id": "3b23a87b",
   "metadata": {},
   "outputs": [
    {
     "name": "stdout",
     "output_type": "stream",
     "text": [
      "excetionfff\n"
     ]
    }
   ],
   "source": [
    "try:\n",
    "    print(x)\n",
    "except:\n",
    "    print('excetionfff')"
   ]
  },
  {
   "cell_type": "code",
   "execution_count": 10,
   "id": "840b295b",
   "metadata": {},
   "outputs": [
    {
     "name": "stdout",
     "output_type": "stream",
     "text": [
      "[11, 13, 5, 7]\n"
     ]
    }
   ],
   "source": [
    "a=[3,4,5,6]\n",
    "b=[8,9,0,1]\n",
    "def func(a,b):\n",
    "    return a+b\n",
    "\n",
    "\n",
    "c=map(func,a,b)\n",
    "print(list(c))"
   ]
  },
  {
   "cell_type": "code",
   "execution_count": 15,
   "id": "86ed4406",
   "metadata": {},
   "outputs": [
    {
     "name": "stdout",
     "output_type": "stream",
     "text": [
      "[1, 3]\n"
     ]
    }
   ],
   "source": [
    "a=[1,2,3,4]\n",
    "# b=[5,6,7,8]\n",
    "def func(a):\n",
    "    if a % 2==0:\n",
    "        return False\n",
    "    else:\n",
    "        return True\n",
    "v=filter(func,a)\n",
    "print(list(v))\n",
    "        "
   ]
  },
  {
   "cell_type": "code",
   "execution_count": null,
   "id": "84da05b2",
   "metadata": {},
   "outputs": [],
   "source": []
  }
 ],
 "metadata": {
  "kernelspec": {
   "display_name": "Python 3 (ipykernel)",
   "language": "python",
   "name": "python3"
  },
  "language_info": {
   "codemirror_mode": {
    "name": "ipython",
    "version": 3
   },
   "file_extension": ".py",
   "mimetype": "text/x-python",
   "name": "python",
   "nbconvert_exporter": "python",
   "pygments_lexer": "ipython3",
   "version": "3.10.4"
  }
 },
 "nbformat": 4,
 "nbformat_minor": 5
}
