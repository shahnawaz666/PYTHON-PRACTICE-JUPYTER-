{
 "cells": [
  {
   "cell_type": "code",
   "execution_count": null,
   "id": "8208e4e4",
   "metadata": {},
   "outputs": [],
   "source": [
    "class Vehicle:\n",
    "    def __init__(self,maxspeed,mileage):\n",
    "        self.a=maxspeed\n",
    "        self.b=mileage\n",
    "obj=Vehicle(250,123)\n",
    "print(obj.mileage)"
   ]
  },
  {
   "cell_type": "code",
   "execution_count": 2,
   "id": "8084b35a",
   "metadata": {},
   "outputs": [
    {
     "ename": "AttributeError",
     "evalue": "'Vehicle' object has no attribute 'mileage'",
     "output_type": "error",
     "traceback": [
      "\u001b[1;31m---------------------------------------------------------------------------\u001b[0m",
      "\u001b[1;31mAttributeError\u001b[0m                            Traceback (most recent call last)",
      "Input \u001b[1;32mIn [2]\u001b[0m, in \u001b[0;36m<cell line: 7>\u001b[1;34m()\u001b[0m\n\u001b[0;32m      4\u001b[0m         \u001b[38;5;28mself\u001b[39m\u001b[38;5;241m.\u001b[39mb\u001b[38;5;241m=\u001b[39mmileage\n\u001b[0;32m      5\u001b[0m obj\u001b[38;5;241m=\u001b[39mVehicle(\u001b[38;5;241m250\u001b[39m,\u001b[38;5;241m123\u001b[39m)\n\u001b[1;32m----> 7\u001b[0m \u001b[38;5;28mprint\u001b[39m(\u001b[43mobj\u001b[49m\u001b[38;5;241;43m.\u001b[39;49m\u001b[43mmileage\u001b[49m)\n",
      "\u001b[1;31mAttributeError\u001b[0m: 'Vehicle' object has no attribute 'mileage'"
     ]
    }
   ],
   "source": [
    "class Vehicle:\n",
    "    def __init__(self,maxspeed,mileage):\n",
    "        self.a=maxspeed\n",
    "        self.b=mileage\n",
    "obj=Vehicle(250,123)\n",
    "\n",
    "print(obj.mileage)"
   ]
  },
  {
   "cell_type": "code",
   "execution_count": 4,
   "id": "a1d0e746",
   "metadata": {},
   "outputs": [],
   "source": [
    "#2: Create a Vehicle class without any variables and methods\n",
    "class Vehicle:\n",
    "    pass"
   ]
  },
  {
   "cell_type": "code",
   "execution_count": 13,
   "id": "9bd28226",
   "metadata": {},
   "outputs": [
    {
     "name": "stdout",
     "output_type": "stream",
     "text": [
      "adnan 12\n"
     ]
    }
   ],
   "source": [
    "#Create a child class Bus that will inherit all of the variables and methods of the Vehicle class\n",
    "class Vehicle:\n",
    "\n",
    "    def __init__(self, name, max_speed, mileage):\n",
    "        self.name = name\n",
    "        self.max_speed = max_speed\n",
    "        self.mileage = mileage\n",
    "class Bus(Vehicle):\n",
    "    pass\n",
    "obj=Bus(\"adnan\",233,12)\n",
    "print(obj.name,obj.mileage)"
   ]
  },
  {
   "cell_type": "code",
   "execution_count": 18,
   "id": "14106788",
   "metadata": {},
   "outputs": [
    {
     "name": "stdout",
     "output_type": "stream",
     "text": [
      "The seating capacity of a sam is 50 passengers\n"
     ]
    }
   ],
   "source": [
    "#Create a Bus class that inherits from the Vehicle class. Give the capacity argument of Bus.seating_capacity() a default value of 50.\n",
    "class Vehicle:\n",
    "    def __init__(self, name, max_speed, mileage):\n",
    "        self.name = name\n",
    "        self.max_speed = max_speed\n",
    "        self.mileage = mileage\n",
    "\n",
    "    def seating_capacity(self, capacity):\n",
    "        return f\"The seating capacity of a {self.name} is {capacity} passengers\"\n",
    "class Bus(Vehicle):\n",
    "    def seating_capacity(self,capacity=50):\n",
    "        return super().seating_capacity(capacity=50)\n",
    "o=Bus(\"sam\",250,30)\n",
    "print(o.seating_capacity())\n",
    "    "
   ]
  },
  {
   "cell_type": "code",
   "execution_count": 26,
   "id": "2600b385",
   "metadata": {},
   "outputs": [
    {
     "name": "stdout",
     "output_type": "stream",
     "text": [
      "white dean 300 40\n",
      "white brock 400 40\n"
     ]
    }
   ],
   "source": [
    "#Define a property that must have the same value for every class instance (object)\n",
    "class Vehicle:\n",
    "    color=\"white\"\n",
    "\n",
    "    def __init__(self, name, max_speed, mileage):\n",
    "        self.name = name\n",
    "        self.max_speed = max_speed\n",
    "        self.mileage = mileage\n",
    "\n",
    "class Bus(Vehicle):\n",
    "    pass\n",
    "\n",
    "class Car(Vehicle):\n",
    "    pass\n",
    "p1=Bus(\"dean\",300,40)\n",
    "print(p1.color,p1.name,p1.max_speed,p1.mileage)\n",
    "p2=Car(\"brock\",400,40)\n",
    "print(p2.color,p2.name,p2.max_speed,p2.mileage)"
   ]
  },
  {
   "cell_type": "code",
   "execution_count": 27,
   "id": "c3f7c859",
   "metadata": {},
   "outputs": [
    {
     "name": "stdout",
     "output_type": "stream",
     "text": [
      "HI, I AM CREATED BY A FUNCTION PASSED AS AN ARGUMENT.\n",
      "hi, i am created by a function passed as an argument.\n"
     ]
    }
   ],
   "source": [
    " # can be passed as arguments to other functions\n",
    "def shout(text):\n",
    "    return text.upper()         \n",
    "def whisper(text):\n",
    "    return text.lower()      \n",
    "def greet(func):\n",
    "    greeting = func(\"\"\"Hi, I am created by a function passed as an argument.\"\"\")\n",
    "    print (greeting)         \n",
    "greet(shout)\n",
    "greet(whisper)"
   ]
  },
  {
   "cell_type": "code",
   "execution_count": null,
   "id": "534af90b",
   "metadata": {},
   "outputs": [],
   "source": []
  }
 ],
 "metadata": {
  "kernelspec": {
   "display_name": "Python 3 (ipykernel)",
   "language": "python",
   "name": "python3"
  },
  "language_info": {
   "codemirror_mode": {
    "name": "ipython",
    "version": 3
   },
   "file_extension": ".py",
   "mimetype": "text/x-python",
   "name": "python",
   "nbconvert_exporter": "python",
   "pygments_lexer": "ipython3",
   "version": "3.10.4"
  }
 },
 "nbformat": 4,
 "nbformat_minor": 5
}
