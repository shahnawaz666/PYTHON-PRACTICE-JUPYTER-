{
 "cells": [
  {
   "cell_type": "code",
   "execution_count": 2,
   "id": "c7a9df1d",
   "metadata": {},
   "outputs": [
    {
     "name": "stdout",
     "output_type": "stream",
     "text": [
      "my name is shahnawaz\n"
     ]
    }
   ],
   "source": [
    "def myfunction():\n",
    "    print(\"my name is shahnawaz\")\n",
    "myfunction()"
   ]
  },
  {
   "cell_type": "code",
   "execution_count": 11,
   "id": "e91df94c",
   "metadata": {},
   "outputs": [
    {
     "name": "stdout",
     "output_type": "stream",
     "text": [
      "atik khan\n",
      "zeeshan khan\n",
      "sikandar khan\n"
     ]
    }
   ],
   "source": [
    "def myname(name):\n",
    "    print(name  +\" khan\")\n",
    "myname(\"atik\")\n",
    "myname(\"zeeshan\")\n",
    "myname(\"sikandar\")"
   ]
  },
  {
   "cell_type": "code",
   "execution_count": 15,
   "id": "4f4c2910",
   "metadata": {},
   "outputs": [
    {
     "name": "stdout",
     "output_type": "stream",
     "text": [
      "ezra  furman\n",
      "saud  shaikh\n"
     ]
    }
   ],
   "source": [
    "def mname(name,surname):\n",
    "    print(name+\"  \"+ surname)\n",
    "mname('ezra','furman')\n",
    "mname('saud','shaikh')"
   ]
  },
  {
   "cell_type": "code",
   "execution_count": 16,
   "id": "ffe7864e",
   "metadata": {},
   "outputs": [
    {
     "name": "stdout",
     "output_type": "stream",
     "text": [
      "15\n"
     ]
    }
   ],
   "source": [
    "def add():\n",
    "    x=10\n",
    "    y=5\n",
    "    c=x+y\n",
    "    print(c)\n",
    "add()"
   ]
  },
  {
   "cell_type": "code",
   "execution_count": 17,
   "id": "0dde116c",
   "metadata": {},
   "outputs": [
    {
     "name": "stdout",
     "output_type": "stream",
     "text": [
      "15\n"
     ]
    }
   ],
   "source": [
    "def add(a,b):\n",
    "    c=a+b\n",
    "    print(c)\n",
    "add(10,5)"
   ]
  },
  {
   "cell_type": "code",
   "execution_count": 25,
   "id": "803dbebc",
   "metadata": {},
   "outputs": [
    {
     "name": "stdout",
     "output_type": "stream",
     "text": [
      "5\n"
     ]
    }
   ],
   "source": [
    "def sub(b,c):\n",
    "    a=b-c\n",
    "    print(a)\n",
    "sub(15,10)"
   ]
  },
  {
   "cell_type": "code",
   "execution_count": 26,
   "id": "1fe76781",
   "metadata": {},
   "outputs": [
    {
     "name": "stdout",
     "output_type": "stream",
     "text": [
      "500\n"
     ]
    }
   ],
   "source": [
    "def mul(a,b):\n",
    "    c=a*b\n",
    "    print(c)\n",
    "mul(50,10)"
   ]
  },
  {
   "cell_type": "code",
   "execution_count": 33,
   "id": "aa960582",
   "metadata": {},
   "outputs": [
    {
     "name": "stdout",
     "output_type": "stream",
     "text": [
      "2.0\n"
     ]
    }
   ],
   "source": [
    "def div(x,y):\n",
    "    c=x/y\n",
    "    print(c)\n",
    "div(10,5)"
   ]
  },
  {
   "cell_type": "code",
   "execution_count": 38,
   "id": "4c691d99",
   "metadata": {},
   "outputs": [
    {
     "ename": "SyntaxError",
     "evalue": "invalid syntax (3458310121.py, line 1)",
     "output_type": "error",
     "traceback": [
      "\u001b[1;36m  Input \u001b[1;32mIn [38]\u001b[1;36m\u001b[0m\n\u001b[1;33m    def add(10,):\u001b[0m\n\u001b[1;37m            ^\u001b[0m\n\u001b[1;31mSyntaxError\u001b[0m\u001b[1;31m:\u001b[0m invalid syntax\n"
     ]
    }
   ],
   "source": [
    "def add(10):\n",
    "    print(a)\n",
    "add(a)"
   ]
  },
  {
   "cell_type": "code",
   "execution_count": 7,
   "id": "3d340e34",
   "metadata": {},
   "outputs": [
    {
     "name": "stdout",
     "output_type": "stream",
     "text": [
      "(10, 3, 4, 5, 6)\n"
     ]
    }
   ],
   "source": [
    "a=10,3,4,5,6\n",
    "def add(a):\n",
    "    print(a)\n",
    "add(a)"
   ]
  },
  {
   "cell_type": "code",
   "execution_count": 10,
   "id": "70214cab",
   "metadata": {},
   "outputs": [
    {
     "name": "stdout",
     "output_type": "stream",
     "text": [
      "my name is  sjhdghd\n",
      "my name is  sjhdghd\n"
     ]
    }
   ],
   "source": [
    "def disp():\n",
    "    name=\"sjhdghd\"\n",
    "    print(\"my name is \",name)\n",
    "disp()\n",
    "disp()"
   ]
  },
  {
   "cell_type": "code",
   "execution_count": 11,
   "id": "530b162b",
   "metadata": {},
   "outputs": [
    {
     "name": "stdout",
     "output_type": "stream",
     "text": [
      "th youngest child is kucy\n"
     ]
    }
   ],
   "source": [
    "def mykids(*kids):\n",
    "    print(\"th youngest child is \"+kids[2])\n",
    "mykids(\"sam\",\"dean\",\"kucy\")"
   ]
  },
  {
   "cell_type": "code",
   "execution_count": 17,
   "id": "715999e9",
   "metadata": {},
   "outputs": [
    {
     "name": "stdout",
     "output_type": "stream",
     "text": [
      "my child is  dean\n"
     ]
    }
   ],
   "source": [
    "def kids(child1,child2,child3):\n",
    "    print(\"my child is  \"+ child1)\n",
    "kids(child2=\"sam\",child1=\"dean\",child3=\"moses\")"
   ]
  },
  {
   "cell_type": "code",
   "execution_count": 18,
   "id": "bdbe4efd",
   "metadata": {},
   "outputs": [
    {
     "name": "stdout",
     "output_type": "stream",
     "text": [
      "his last name is dean\n"
     ]
    }
   ],
   "source": [
    "def child(**kid):\n",
    "    print(\"his last name is \"+kid[\"hhname\"])\n",
    "child(fname=\"sam\",hhname=\"dean\")"
   ]
  },
  {
   "cell_type": "code",
   "execution_count": 12,
   "id": "82453fc5",
   "metadata": {},
   "outputs": [
    {
     "name": "stdout",
     "output_type": "stream",
     "text": [
      "his last name is dean sam max\n"
     ]
    }
   ],
   "source": [
    "def child(**kid):\n",
    "    print(\"his last name is \"+kid[\"hhname\"] , kid[\"fname\"], kid[\"name\"])\n",
    "child(hhname=\"dean\",fname=\"sam\",name=\"max\")"
   ]
  },
  {
   "cell_type": "code",
   "execution_count": 23,
   "id": "50eda564",
   "metadata": {},
   "outputs": [
    {
     "name": "stdout",
     "output_type": "stream",
     "text": [
      "apple\n",
      "banana\n",
      "chiku\n"
     ]
    }
   ],
   "source": [
    "def function(food):\n",
    "    for x in food:\n",
    "        print(x)\n",
    "fruits=[\"apple\",\"banana\",\"chiku\"]\n",
    "function(fruits)"
   ]
  },
  {
   "cell_type": "code",
   "execution_count": 26,
   "id": "11b83583",
   "metadata": {},
   "outputs": [
    {
     "name": "stdout",
     "output_type": "stream",
     "text": [
      "banana\n",
      "apple\n",
      "cherry\n",
      "banana\n",
      "apple\n",
      "cherry\n"
     ]
    }
   ],
   "source": [
    "def func(fruits):\n",
    "    for x in fruits:\n",
    "        print(x)\n",
    "foods={\"apple\",\"cherry\",\"banana\"}\n",
    "func(foods)\n",
    "func(foods)"
   ]
  },
  {
   "cell_type": "code",
   "execution_count": 33,
   "id": "8cc1be0c",
   "metadata": {},
   "outputs": [
    {
     "name": "stdout",
     "output_type": "stream",
     "text": [
      "brand\n",
      "model\n",
      "year\n"
     ]
    }
   ],
   "source": [
    "def func(x):\n",
    "    for i in x:\n",
    "        print(i)\n",
    "y={\n",
    "    \"brand\":\"ford\",\n",
    "    \"model\":\"mustang\",\n",
    "    \"year\":1940\n",
    "}\n",
    "func(y)"
   ]
  },
  {
   "cell_type": "code",
   "execution_count": 36,
   "id": "b6b7d378",
   "metadata": {},
   "outputs": [
    {
     "name": "stdout",
     "output_type": "stream",
     "text": [
      "15\n",
      "165\n",
      "1665\n",
      "166666666665\n"
     ]
    }
   ],
   "source": [
    "def f(y):\n",
    "    return 5*y\n",
    "print(f(3))\n",
    "print(f(33))\n",
    "print(f(333))\n",
    "print(f(33333333333))"
   ]
  },
  {
   "cell_type": "code",
   "execution_count": 37,
   "id": "3d741c28",
   "metadata": {},
   "outputs": [
    {
     "data": {
      "text/plain": [
       "150"
      ]
     },
     "execution_count": 37,
     "metadata": {},
     "output_type": "execute_result"
    }
   ],
   "source": [
    "def sub(e):\n",
    "    return 10%e\n",
    "f(30)"
   ]
  },
  {
   "cell_type": "code",
   "execution_count": 49,
   "id": "c5727afa",
   "metadata": {},
   "outputs": [
    {
     "data": {
      "text/plain": [
       "15"
      ]
     },
     "execution_count": 49,
     "metadata": {},
     "output_type": "execute_result"
    }
   ],
   "source": [
    " def add():\n",
    "        a=10\n",
    "        b=5\n",
    "        c=a+b\n",
    "        return c\n",
    "add()"
   ]
  },
  {
   "cell_type": "code",
   "execution_count": 3,
   "id": "a2aed22b",
   "metadata": {},
   "outputs": [
    {
     "name": "stdout",
     "output_type": "stream",
     "text": [
      "enter number5\n",
      "enter number5\n",
      "addtion= 10\n"
     ]
    }
   ],
   "source": [
    "def add():\n",
    "    a=int(input(\"enter number\"))\n",
    "    b=int(input(\"enter number\"))\n",
    "    c=a+b\n",
    "    print(\"addtion=\",c)\n",
    "add()"
   ]
  },
  {
   "cell_type": "code",
   "execution_count": 6,
   "id": "c6b989d8",
   "metadata": {},
   "outputs": [
    {
     "name": "stdout",
     "output_type": "stream",
     "text": [
      "enter the number3\n",
      "odd\n"
     ]
    }
   ],
   "source": [
    "def oddeve():\n",
    "    a=int(input(\"enter the number\"))\n",
    "    if a%2==0:\n",
    "        print(\"even\")\n",
    "    else:\n",
    "        print(\"odd\")\n",
    "oddeve()"
   ]
  },
  {
   "cell_type": "code",
   "execution_count": 9,
   "id": "af65e32f",
   "metadata": {},
   "outputs": [
    {
     "name": "stdout",
     "output_type": "stream",
     "text": [
      "enter number4\n"
     ]
    },
    {
     "ename": "TypeError",
     "evalue": "odeve() takes 0 positional arguments but 1 was given",
     "output_type": "error",
     "traceback": [
      "\u001b[1;31m---------------------------------------------------------------------------\u001b[0m",
      "\u001b[1;31mTypeError\u001b[0m                                 Traceback (most recent call last)",
      "Input \u001b[1;32mIn [9]\u001b[0m, in \u001b[0;36m<cell line: 7>\u001b[1;34m()\u001b[0m\n\u001b[0;32m      5\u001b[0m         \u001b[38;5;28mprint\u001b[39m(\u001b[38;5;124m\"\u001b[39m\u001b[38;5;124modds\u001b[39m\u001b[38;5;124m\"\u001b[39m)\n\u001b[0;32m      6\u001b[0m m\u001b[38;5;241m=\u001b[39m\u001b[38;5;28mint\u001b[39m(\u001b[38;5;28minput\u001b[39m(\u001b[38;5;124m\"\u001b[39m\u001b[38;5;124menter number\u001b[39m\u001b[38;5;124m\"\u001b[39m))\n\u001b[1;32m----> 7\u001b[0m \u001b[43modeve\u001b[49m\u001b[43m(\u001b[49m\u001b[43mm\u001b[49m\u001b[43m)\u001b[49m\n",
      "\u001b[1;31mTypeError\u001b[0m: odeve() takes 0 positional arguments but 1 was given"
     ]
    }
   ],
   "source": [
    "def odeve():\n",
    "    if a%2==0:\n",
    "        print(\"even\")\n",
    "    else:\n",
    "        print(\"odds\")\n",
    "m=int(input(\"enter number\"))\n",
    "odeve(m)"
   ]
  },
  {
   "cell_type": "code",
   "execution_count": 15,
   "id": "754d9353",
   "metadata": {},
   "outputs": [
    {
     "name": "stdout",
     "output_type": "stream",
     "text": [
      "15\n"
     ]
    }
   ],
   "source": [
    "x = lambda a: a+10 \n",
    "print(x(5))"
   ]
  },
  {
   "cell_type": "code",
   "execution_count": 16,
   "id": "707b7fc0",
   "metadata": {},
   "outputs": [
    {
     "name": "stdout",
     "output_type": "stream",
     "text": [
      "145\n"
     ]
    }
   ],
   "source": [
    "a=lambda b: b+100\n",
    "print(a(45))"
   ]
  },
  {
   "cell_type": "code",
   "execution_count": 17,
   "id": "9b8051dd",
   "metadata": {},
   "outputs": [
    {
     "name": "stdout",
     "output_type": "stream",
     "text": [
      "100\n"
     ]
    }
   ],
   "source": [
    "x=lambda a: a*10\n",
    "print(x(10))"
   ]
  },
  {
   "cell_type": "code",
   "execution_count": 18,
   "id": "daf89445",
   "metadata": {},
   "outputs": [
    {
     "name": "stdout",
     "output_type": "stream",
     "text": [
      "9\n"
     ]
    }
   ],
   "source": [
    "x=lambda a,b : a*b\n",
    "print(x(3,3))"
   ]
  },
  {
   "cell_type": "code",
   "execution_count": 19,
   "id": "57922989",
   "metadata": {},
   "outputs": [
    {
     "name": "stdout",
     "output_type": "stream",
     "text": [
      "150\n"
     ]
    }
   ],
   "source": [
    "x=lambda a,b,c: a*b*c\n",
    "print(x(5,6,5))"
   ]
  },
  {
   "cell_type": "code",
   "execution_count": 20,
   "id": "cc41662c",
   "metadata": {},
   "outputs": [
    {
     "name": "stdout",
     "output_type": "stream",
     "text": [
      "15\n"
     ]
    }
   ],
   "source": [
    "x=lambda a,b,c: a+b+c\n",
    "print(x(5,5,5))"
   ]
  },
  {
   "cell_type": "code",
   "execution_count": 24,
   "id": "0a002d4d",
   "metadata": {},
   "outputs": [
    {
     "name": "stdout",
     "output_type": "stream",
     "text": [
      "33\n"
     ]
    }
   ],
   "source": [
    "def myfunc(n):\n",
    "  return lambda k : k * n\n",
    "\n",
    "mytripler = myfunc(3)\n",
    "\n",
    "print(mytripler(11))"
   ]
  },
  {
   "cell_type": "code",
   "execution_count": 35,
   "id": "ef2ee5de",
   "metadata": {},
   "outputs": [
    {
     "name": "stdout",
     "output_type": "stream",
     "text": [
      "33\n"
     ]
    }
   ],
   "source": [
    "def myfunc(n):\n",
    "  return lambda a : a*  n\n",
    "\n",
    "a=myfunc(3)\n",
    "print(a(11))"
   ]
  },
  {
   "cell_type": "code",
   "execution_count": null,
   "id": "c25f12ef",
   "metadata": {},
   "outputs": [],
   "source": []
  }
 ],
 "metadata": {
  "kernelspec": {
   "display_name": "Python 3 (ipykernel)",
   "language": "python",
   "name": "python3"
  },
  "language_info": {
   "codemirror_mode": {
    "name": "ipython",
    "version": 3
   },
   "file_extension": ".py",
   "mimetype": "text/x-python",
   "name": "python",
   "nbconvert_exporter": "python",
   "pygments_lexer": "ipython3",
   "version": "3.10.4"
  }
 },
 "nbformat": 4,
 "nbformat_minor": 5
}
