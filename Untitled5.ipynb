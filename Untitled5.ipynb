{
 "cells": [
  {
   "cell_type": "code",
   "execution_count": 2,
   "id": "74053732",
   "metadata": {},
   "outputs": [
    {
     "name": "stdout",
     "output_type": "stream",
     "text": [
      "[1, 2]\n"
     ]
    }
   ],
   "source": [
    "import itertools\n",
    "nums=[2,7,11,15]\n",
    "target=18\n",
    "for numbers in itertools.combinations(nums,2):\n",
    "    if sum(numbers)==target:\n",
    "        print([nums.index(number) for number in numbers])"
   ]
  },
  {
   "cell_type": "code",
   "execution_count": 4,
   "id": "7baa7848",
   "metadata": {},
   "outputs": [
    {
     "name": "stdout",
     "output_type": "stream",
     "text": [
      "[0, 2]\n",
      "[5, 6]\n"
     ]
    }
   ],
   "source": [
    "import itertools\n",
    "integer_array = [2, 8, 4, 7, 9, 5, 1]\n",
    "target = 6\n",
    "for numbers in itertools.combinations(integer_array,2):\n",
    "    if sum(numbers) == target:\n",
    "        print([integer_array.index(number) for number in numbers])"
   ]
  },
  {
   "cell_type": "code",
   "execution_count": 46,
   "id": "55066e7d",
   "metadata": {},
   "outputs": [
    {
     "name": "stdout",
     "output_type": "stream",
     "text": [
      "[2, 3]\n"
     ]
    }
   ],
   "source": [
    "nums=[11,15,2,7]\n",
    "target=9\n",
    "def indices_sum(nums,target):\n",
    "    for i in range(4):\n",
    "        for j in range(4):\n",
    "            if nums[i]+nums[j] == target:\n",
    "                return(i,j)\n",
    "print(list(indices_sum(nums,target)))"
   ]
  },
  {
   "cell_type": "code",
   "execution_count": 2,
   "id": "9ca0bd43",
   "metadata": {},
   "outputs": [
    {
     "name": "stdout",
     "output_type": "stream",
     "text": [
      "<generator object <genexpr> at 0x000002406ACE5B60>\n"
     ]
    }
   ],
   "source": [
    "#Using itertools.combinations\n",
    "\n",
    "#itertools.combinations(iterable, r)\n",
    "\n",
    "#This approach combines the list items into unique groups of r (here 2), and check if the sum matches the target.\n",
    "a=[2,7,11,15]\n",
    "target=17\n",
    "import itertools\n",
    "for i in itertools.combinations(a,2):\n",
    "    if sum(i) == target:\n",
    "        print(a.index(number) for number in i)"
   ]
  },
  {
   "cell_type": "code",
   "execution_count": null,
   "id": "f5efc255",
   "metadata": {},
   "outputs": [],
   "source": []
  }
 ],
 "metadata": {
  "kernelspec": {
   "display_name": "Python 3 (ipykernel)",
   "language": "python",
   "name": "python3"
  },
  "language_info": {
   "codemirror_mode": {
    "name": "ipython",
    "version": 3
   },
   "file_extension": ".py",
   "mimetype": "text/x-python",
   "name": "python",
   "nbconvert_exporter": "python",
   "pygments_lexer": "ipython3",
   "version": "3.10.4"
  }
 },
 "nbformat": 4,
 "nbformat_minor": 5
}
